{
 "cells": [
  {
   "cell_type": "markdown",
   "metadata": {},
   "source": [
    "# Introduction"
   ]
  },
  {
   "cell_type": "markdown",
   "metadata": {},
   "source": [
    "Baseline experiment - linear regression."
   ]
  },
  {
   "cell_type": "markdown",
   "metadata": {
    "hide_input": true
   },
   "source": [
    "# Set up Environment"
   ]
  },
  {
   "cell_type": "code",
   "execution_count": 34,
   "metadata": {
    "ExecuteTime": {
     "end_time": "2020-06-01T04:06:33.000337Z",
     "start_time": "2020-06-01T04:06:32.993390Z"
    },
    "hide_input": false
   },
   "outputs": [],
   "source": [
    "# handle datasets\n",
    "import pandas as pd\n",
    "import numpy as np\n",
    "\n",
    "# divide training and validation datasets\n",
    "from sklearn.model_selection import train_test_split\n",
    "\n",
    "# feature scaling\n",
    "from sklearn.preprocessing import StandardScaler\n",
    "\n",
    "# model building\n",
    "from sklearn.linear_model import Ridge\n",
    "\n",
    "# model evaluation\n",
    "from sklearn.metrics import mean_squared_error, mean_absolute_error, r2_score\n",
    "from math import sqrt\n",
    "\n",
    "# to persist the model and the scaler\n",
    "import joblib\n",
    "\n",
    "# display all columns of dataframes in the notebook\n",
    "pd.pandas.set_option('display.max_columns', None)\n",
    "\n",
    "# ignore warnings\n",
    "import warnings\n",
    "warnings.simplefilter(action='ignore')\n",
    "\n",
    "# set up random seed for reproducibility\n",
    "RANDOM_SEED = 42"
   ]
  },
  {
   "cell_type": "markdown",
   "metadata": {},
   "source": [
    "# Load Data"
   ]
  },
  {
   "cell_type": "code",
   "execution_count": 3,
   "metadata": {
    "ExecuteTime": {
     "end_time": "2020-06-01T03:14:28.316779Z",
     "start_time": "2020-06-01T03:14:26.768742Z"
    }
   },
   "outputs": [],
   "source": [
    "file_path = '../data/interim/'\n",
    "df_train_val = pd.read_csv(file_path + 'train_val_data.csv')\n",
    "df_test = pd.read_csv(file_path + 'test_data.csv')"
   ]
  },
  {
   "cell_type": "markdown",
   "metadata": {},
   "source": [
    "# Separate Train and Validation Datasets"
   ]
  },
  {
   "cell_type": "code",
   "execution_count": 4,
   "metadata": {
    "ExecuteTime": {
     "end_time": "2020-06-01T03:14:28.544013Z",
     "start_time": "2020-06-01T03:14:28.380452Z"
    }
   },
   "outputs": [
    {
     "data": {
      "text/plain": [
       "((734965, 40), (10000, 40), (10000, 40))"
      ]
     },
     "execution_count": 4,
     "metadata": {},
     "output_type": "execute_result"
    }
   ],
   "source": [
    "# the last 10000 flights are set as validation dataset\n",
    "X_train, X_val, y_train, y_val = train_test_split(df_train_val,\n",
    "                                                  df_train_val['AOBTtoAIBT'],\n",
    "                                                  shuffle=False,\n",
    "                                                  test_size=10000)\n",
    "\n",
    "X_test = df_test.copy()\n",
    "y_test = df_test['AOBTtoAIBT']\n",
    "\n",
    "X_train.shape, X_val.shape, X_test.shape"
   ]
  },
  {
   "cell_type": "code",
   "execution_count": 5,
   "metadata": {
    "ExecuteTime": {
     "end_time": "2020-06-01T03:14:29.527001Z",
     "start_time": "2020-06-01T03:14:29.507051Z"
    }
   },
   "outputs": [
    {
     "data": {
      "text/html": [
       "<div>\n",
       "<style scoped>\n",
       "    .dataframe tbody tr th:only-of-type {\n",
       "        vertical-align: middle;\n",
       "    }\n",
       "\n",
       "    .dataframe tbody tr th {\n",
       "        vertical-align: top;\n",
       "    }\n",
       "\n",
       "    .dataframe thead th {\n",
       "        text-align: right;\n",
       "    }\n",
       "</style>\n",
       "<table border=\"1\" class=\"dataframe\">\n",
       "  <thead>\n",
       "    <tr style=\"text-align: right;\">\n",
       "      <th></th>\n",
       "      <th>AOBTtoAIBT</th>\n",
       "      <th>UniqueCarrierCode</th>\n",
       "      <th>OriginAirportID</th>\n",
       "      <th>OriginCityMarketID</th>\n",
       "      <th>OriginState</th>\n",
       "      <th>OBTDelay</th>\n",
       "      <th>OBTDel15</th>\n",
       "      <th>OBTDelayGroups</th>\n",
       "      <th>SOBTtoSIBT</th>\n",
       "      <th>Distance</th>\n",
       "      <th>DistanceGroup</th>\n",
       "      <th>Num_Arr_SIBT-30</th>\n",
       "      <th>Num_Arr_SIBT-25</th>\n",
       "      <th>Num_Arr_SIBT-20</th>\n",
       "      <th>Num_Arr_SIBT-15</th>\n",
       "      <th>Num_Arr_SIBT-10</th>\n",
       "      <th>Num_Arr_SIBT-5</th>\n",
       "      <th>Num_Arr_SIBT-0</th>\n",
       "      <th>Num_Arr_SIBT+5</th>\n",
       "      <th>Num_Arr_SIBT+10</th>\n",
       "      <th>Num_Arr_SIBT+15</th>\n",
       "      <th>Num_Arr_SIBT+20</th>\n",
       "      <th>Num_Arr_SIBT+25</th>\n",
       "      <th>Num_Dep_SIBT-30</th>\n",
       "      <th>Num_Dep_SIBT-25</th>\n",
       "      <th>Num_Dep_SIBT-20</th>\n",
       "      <th>Num_Dep_SIBT-15</th>\n",
       "      <th>Num_Dep_SIBT-10</th>\n",
       "      <th>Num_Dep_SIBT-5</th>\n",
       "      <th>Num_Dep_SIBT-0</th>\n",
       "      <th>Num_Dep_SIBT+5</th>\n",
       "      <th>Num_Dep_SIBT+10</th>\n",
       "      <th>Num_Dep_SIBT+15</th>\n",
       "      <th>Num_Dep_SIBT+20</th>\n",
       "      <th>Num_Dep_SIBT+25</th>\n",
       "      <th>SIBTQuarter</th>\n",
       "      <th>SIBTMonth</th>\n",
       "      <th>SIBTDayOfMonth</th>\n",
       "      <th>SIBTDayOfWeek</th>\n",
       "      <th>SIBTHour</th>\n",
       "    </tr>\n",
       "  </thead>\n",
       "  <tbody>\n",
       "    <tr>\n",
       "      <th>0</th>\n",
       "      <td>218</td>\n",
       "      <td>DL</td>\n",
       "      <td>14869</td>\n",
       "      <td>34614</td>\n",
       "      <td>UT</td>\n",
       "      <td>-2</td>\n",
       "      <td>0</td>\n",
       "      <td>-1</td>\n",
       "      <td>223</td>\n",
       "      <td>1590</td>\n",
       "      <td>7</td>\n",
       "      <td>0</td>\n",
       "      <td>0</td>\n",
       "      <td>0</td>\n",
       "      <td>0</td>\n",
       "      <td>1</td>\n",
       "      <td>0</td>\n",
       "      <td>0</td>\n",
       "      <td>2</td>\n",
       "      <td>0</td>\n",
       "      <td>0</td>\n",
       "      <td>0</td>\n",
       "      <td>0</td>\n",
       "      <td>2</td>\n",
       "      <td>1</td>\n",
       "      <td>1</td>\n",
       "      <td>0</td>\n",
       "      <td>1</td>\n",
       "      <td>0</td>\n",
       "      <td>0</td>\n",
       "      <td>3</td>\n",
       "      <td>1</td>\n",
       "      <td>0</td>\n",
       "      <td>3</td>\n",
       "      <td>1</td>\n",
       "      <td>1</td>\n",
       "      <td>1</td>\n",
       "      <td>1</td>\n",
       "      <td>7</td>\n",
       "      <td>6</td>\n",
       "    </tr>\n",
       "    <tr>\n",
       "      <th>1</th>\n",
       "      <td>81</td>\n",
       "      <td>F9</td>\n",
       "      <td>13204</td>\n",
       "      <td>31454</td>\n",
       "      <td>FL</td>\n",
       "      <td>-4</td>\n",
       "      <td>0</td>\n",
       "      <td>-1</td>\n",
       "      <td>88</td>\n",
       "      <td>404</td>\n",
       "      <td>2</td>\n",
       "      <td>0</td>\n",
       "      <td>0</td>\n",
       "      <td>0</td>\n",
       "      <td>0</td>\n",
       "      <td>3</td>\n",
       "      <td>0</td>\n",
       "      <td>1</td>\n",
       "      <td>0</td>\n",
       "      <td>0</td>\n",
       "      <td>0</td>\n",
       "      <td>0</td>\n",
       "      <td>1</td>\n",
       "      <td>1</td>\n",
       "      <td>1</td>\n",
       "      <td>0</td>\n",
       "      <td>1</td>\n",
       "      <td>3</td>\n",
       "      <td>0</td>\n",
       "      <td>3</td>\n",
       "      <td>1</td>\n",
       "      <td>0</td>\n",
       "      <td>3</td>\n",
       "      <td>1</td>\n",
       "      <td>0</td>\n",
       "      <td>1</td>\n",
       "      <td>1</td>\n",
       "      <td>1</td>\n",
       "      <td>7</td>\n",
       "      <td>6</td>\n",
       "    </tr>\n",
       "    <tr>\n",
       "      <th>2</th>\n",
       "      <td>88</td>\n",
       "      <td>EV</td>\n",
       "      <td>10980</td>\n",
       "      <td>30980</td>\n",
       "      <td>TN</td>\n",
       "      <td>302</td>\n",
       "      <td>1</td>\n",
       "      <td>12</td>\n",
       "      <td>57</td>\n",
       "      <td>106</td>\n",
       "      <td>1</td>\n",
       "      <td>0</td>\n",
       "      <td>0</td>\n",
       "      <td>0</td>\n",
       "      <td>0</td>\n",
       "      <td>3</td>\n",
       "      <td>0</td>\n",
       "      <td>0</td>\n",
       "      <td>0</td>\n",
       "      <td>0</td>\n",
       "      <td>0</td>\n",
       "      <td>1</td>\n",
       "      <td>0</td>\n",
       "      <td>1</td>\n",
       "      <td>0</td>\n",
       "      <td>1</td>\n",
       "      <td>0</td>\n",
       "      <td>4</td>\n",
       "      <td>0</td>\n",
       "      <td>2</td>\n",
       "      <td>0</td>\n",
       "      <td>3</td>\n",
       "      <td>1</td>\n",
       "      <td>0</td>\n",
       "      <td>0</td>\n",
       "      <td>1</td>\n",
       "      <td>1</td>\n",
       "      <td>1</td>\n",
       "      <td>7</td>\n",
       "      <td>6</td>\n",
       "    </tr>\n",
       "  </tbody>\n",
       "</table>\n",
       "</div>"
      ],
      "text/plain": [
       "   AOBTtoAIBT UniqueCarrierCode  OriginAirportID  OriginCityMarketID  \\\n",
       "0         218                DL            14869               34614   \n",
       "1          81                F9            13204               31454   \n",
       "2          88                EV            10980               30980   \n",
       "\n",
       "  OriginState  OBTDelay  OBTDel15  OBTDelayGroups  SOBTtoSIBT  Distance  \\\n",
       "0          UT        -2         0              -1         223      1590   \n",
       "1          FL        -4         0              -1          88       404   \n",
       "2          TN       302         1              12          57       106   \n",
       "\n",
       "   DistanceGroup  Num_Arr_SIBT-30  Num_Arr_SIBT-25  Num_Arr_SIBT-20  \\\n",
       "0              7                0                0                0   \n",
       "1              2                0                0                0   \n",
       "2              1                0                0                0   \n",
       "\n",
       "   Num_Arr_SIBT-15  Num_Arr_SIBT-10  Num_Arr_SIBT-5  Num_Arr_SIBT-0  \\\n",
       "0                0                1               0               0   \n",
       "1                0                3               0               1   \n",
       "2                0                3               0               0   \n",
       "\n",
       "   Num_Arr_SIBT+5  Num_Arr_SIBT+10  Num_Arr_SIBT+15  Num_Arr_SIBT+20  \\\n",
       "0               2                0                0                0   \n",
       "1               0                0                0                0   \n",
       "2               0                0                0                1   \n",
       "\n",
       "   Num_Arr_SIBT+25  Num_Dep_SIBT-30  Num_Dep_SIBT-25  Num_Dep_SIBT-20  \\\n",
       "0                0                2                1                1   \n",
       "1                1                1                1                0   \n",
       "2                0                1                0                1   \n",
       "\n",
       "   Num_Dep_SIBT-15  Num_Dep_SIBT-10  Num_Dep_SIBT-5  Num_Dep_SIBT-0  \\\n",
       "0                0                1               0               0   \n",
       "1                1                3               0               3   \n",
       "2                0                4               0               2   \n",
       "\n",
       "   Num_Dep_SIBT+5  Num_Dep_SIBT+10  Num_Dep_SIBT+15  Num_Dep_SIBT+20  \\\n",
       "0               3                1                0                3   \n",
       "1               1                0                3                1   \n",
       "2               0                3                1                0   \n",
       "\n",
       "   Num_Dep_SIBT+25  SIBTQuarter  SIBTMonth  SIBTDayOfMonth  SIBTDayOfWeek  \\\n",
       "0                1            1          1               1              7   \n",
       "1                0            1          1               1              7   \n",
       "2                0            1          1               1              7   \n",
       "\n",
       "   SIBTHour  \n",
       "0         6  \n",
       "1         6  \n",
       "2         6  "
      ]
     },
     "execution_count": 5,
     "metadata": {},
     "output_type": "execute_result"
    }
   ],
   "source": [
    "X_train.head(3)"
   ]
  },
  {
   "cell_type": "markdown",
   "metadata": {
    "heading_collapsed": true
   },
   "source": [
    "# Selected Features"
   ]
  },
  {
   "cell_type": "code",
   "execution_count": 25,
   "metadata": {
    "ExecuteTime": {
     "end_time": "2020-06-01T03:29:56.861354Z",
     "start_time": "2020-06-01T03:29:56.850385Z"
    },
    "hidden": true
   },
   "outputs": [
    {
     "name": "stdout",
     "output_type": "stream",
     "text": [
      "Number of features:  36\n"
     ]
    }
   ],
   "source": [
    "# load selected features\n",
    "features = pd.read_csv(file_path + 'selected_features.csv').iloc[:, 0].to_list()\n",
    "\n",
    "# note that there is no header in this csv. Hence, +1\n",
    "print('Number of features: ', len(features))"
   ]
  },
  {
   "cell_type": "code",
   "execution_count": 26,
   "metadata": {
    "ExecuteTime": {
     "end_time": "2020-06-01T03:29:58.280666Z",
     "start_time": "2020-06-01T03:29:58.275674Z"
    },
    "hidden": true
   },
   "outputs": [
    {
     "name": "stdout",
     "output_type": "stream",
     "text": [
      "['UniqueCarrierCode', 'OriginAirportID', 'OriginCityMarketID', 'OriginState', 'OBTDelay', 'OBTDel15', 'OBTDelayGroups', 'SOBTtoSIBT', 'Distance', 'DistanceGroup', 'Num_Arr_SIBT-30', 'Num_Arr_SIBT-25', 'Num_Arr_SIBT-20', 'Num_Arr_SIBT-15', 'Num_Arr_SIBT-10', 'Num_Arr_SIBT-0', 'Num_Arr_SIBT+5', 'Num_Arr_SIBT+10', 'Num_Arr_SIBT+20', 'Num_Arr_SIBT+25', 'Num_Dep_SIBT-30', 'Num_Dep_SIBT-25', 'Num_Dep_SIBT-20', 'Num_Dep_SIBT-15', 'Num_Dep_SIBT-10', 'Num_Dep_SIBT-0', 'Num_Dep_SIBT+5', 'Num_Dep_SIBT+10', 'Num_Dep_SIBT+15', 'Num_Dep_SIBT+20', 'Num_Dep_SIBT+25', 'SIBTQuarter', 'SIBTMonth', 'SIBTDayOfMonth', 'SIBTDayOfWeek', 'SIBTHour']\n"
     ]
    }
   ],
   "source": [
    "print(features)"
   ]
  },
  {
   "cell_type": "markdown",
   "metadata": {},
   "source": [
    "# Categorical Variables"
   ]
  },
  {
   "cell_type": "markdown",
   "metadata": {},
   "source": [
    "## Group Rare Labels"
   ]
  },
  {
   "cell_type": "code",
   "execution_count": 10,
   "metadata": {
    "ExecuteTime": {
     "end_time": "2020-06-01T03:21:08.878384Z",
     "start_time": "2020-06-01T03:21:08.874392Z"
    }
   },
   "outputs": [],
   "source": [
    "# capture categorical variables in a list\n",
    "cat_vars = ['UniqueCarrierCode', 'OriginAirportID', 'OriginCityMarketID', 'OriginState']"
   ]
  },
  {
   "cell_type": "markdown",
   "metadata": {},
   "source": [
    "Labels that are under-represented in the dataset tend to cause over-fitting of models. They will be replaced by 'Rare'."
   ]
  },
  {
   "cell_type": "code",
   "execution_count": 11,
   "metadata": {
    "ExecuteTime": {
     "end_time": "2020-06-01T03:21:11.858226Z",
     "start_time": "2020-06-01T03:21:10.281403Z"
    },
    "code_folding": []
   },
   "outputs": [
    {
     "name": "stdout",
     "output_type": "stream",
     "text": [
      "UniqueCarrierCode\n",
      "Index(['9E', 'AA', 'DL', 'EV', 'NK', 'OO', 'UA', 'WN'], dtype='object', name='UniqueCarrierCode')\n",
      "\n",
      "OriginAirportID\n",
      "Int64Index([10693, 10721, 10821, 11057, 11066, 11278, 11292, 11298, 11433,\n",
      "            11618, 11697, 12191, 12266, 12339, 12451, 12889, 12892, 12953,\n",
      "            13198, 13204, 13232, 13303, 13487, 13495, 13930, 14027, 14100,\n",
      "            14492, 14524, 15016, 15304],\n",
      "           dtype='int64', name='OriginAirportID')\n",
      "\n",
      "OriginCityMarketID\n",
      "Int64Index([30194, 30325, 30647, 30693, 30721, 30852, 30977, 31057, 31066,\n",
      "            31123, 31136, 31295, 31453, 31454, 31650, 31703, 32211, 32337,\n",
      "            32457, 32467, 32575, 33195, 33198, 33495, 33667, 34027, 34100,\n",
      "            34492, 34524],\n",
      "           dtype='int64', name='OriginCityMarketID')\n",
      "\n",
      "OriginState\n",
      "Index(['AL', 'AR', 'AZ', 'CA', 'CO', 'FL', 'GA', 'IL', 'IN', 'KY', 'LA', 'MA',\n",
      "       'MD', 'MI', 'MN', 'MO', 'MS', 'NC', 'NJ', 'NV', 'NY', 'OH', 'PA', 'SC',\n",
      "       'TN', 'TX', 'VA', 'WI'],\n",
      "      dtype='object', name='OriginState')\n",
      "\n"
     ]
    }
   ],
   "source": [
    "rare_perc = 0.01\n",
    "\n",
    "def find_frequent_labels(df, var, rare_perc):\n",
    "    # function finds the labels that are shared by more than\n",
    "    # a certain % of the houses in the dataset\n",
    "    temp = df.groupby(var)['AOBTtoAIBT'].count() / len(df)\n",
    "    return temp[temp >= rare_perc].index\n",
    "\n",
    "\n",
    "for var in cat_vars:\n",
    "\n",
    "    # find the frequent categories\n",
    "    frequent_ls = find_frequent_labels(X_train, var, rare_perc)\n",
    "    print(var)\n",
    "    print(frequent_ls)\n",
    "    print()\n",
    "\n",
    "    # replace rare categories by the string \"Rare\"\n",
    "    X_train[var] = np.where(X_train[var].isin(\n",
    "        frequent_ls), X_train[var], 'Rare')\n",
    "\n",
    "    X_test[var] = np.where(X_test[var].isin(\n",
    "        frequent_ls), X_test[var], 'Rare')"
   ]
  },
  {
   "cell_type": "markdown",
   "metadata": {},
   "source": [
    "## Encode Categorical Variables"
   ]
  },
  {
   "cell_type": "markdown",
   "metadata": {},
   "source": [
    "Next, transform the strings of the categorical variables into numbers, so that we capture the monotonic relationship between the label and the target."
   ]
  },
  {
   "cell_type": "code",
   "execution_count": 12,
   "metadata": {
    "ExecuteTime": {
     "end_time": "2020-06-01T03:23:32.723755Z",
     "start_time": "2020-06-01T03:23:31.482910Z"
    }
   },
   "outputs": [],
   "source": [
    "# this function will assign discrete values to the strings of the variables,\n",
    "# so that the smaller value corresponds to the category that shows the smaller\n",
    "# mean AOBTtoAIBT\n",
    "\n",
    "\n",
    "def replace_categories(train, test, var, target):\n",
    "\n",
    "    # order the categories in a variable from that with the lowest\n",
    "    # house sale price, to that with the highest\n",
    "    ordered_labels = train.groupby([var])[target].mean().sort_values().index\n",
    "\n",
    "    # create a dictionary of ordered categories to integer values\n",
    "    ordinal_label = {k: i for i, k in enumerate(ordered_labels, 0)}\n",
    "\n",
    "    # use the dictionary to replace the categorical strings by integers\n",
    "    train[var] = train[var].map(ordinal_label)\n",
    "    test[var] = test[var].map(ordinal_label)\n",
    "\n",
    "\n",
    "for var in cat_vars:\n",
    "    replace_categories(X_train, X_test, var, 'AOBTtoAIBT')"
   ]
  },
  {
   "cell_type": "code",
   "execution_count": 13,
   "metadata": {
    "ExecuteTime": {
     "end_time": "2020-06-01T03:23:54.768840Z",
     "start_time": "2020-06-01T03:23:54.761822Z"
    }
   },
   "outputs": [
    {
     "data": {
      "text/plain": [
       "[]"
      ]
     },
     "execution_count": 13,
     "metadata": {},
     "output_type": "execute_result"
    }
   ],
   "source": [
    "# check absence of na\n",
    "[var for var in features if X_train[var].isnull().sum() > 0]"
   ]
  },
  {
   "cell_type": "code",
   "execution_count": 14,
   "metadata": {
    "ExecuteTime": {
     "end_time": "2020-06-01T03:24:01.591424Z",
     "start_time": "2020-06-01T03:24:01.583444Z"
    }
   },
   "outputs": [
    {
     "data": {
      "text/plain": [
       "[]"
      ]
     },
     "execution_count": 14,
     "metadata": {},
     "output_type": "execute_result"
    }
   ],
   "source": [
    "# check absence of na\n",
    "[var for var in features if X_test[var].isnull().sum() > 0]"
   ]
  },
  {
   "cell_type": "markdown",
   "metadata": {
    "heading_collapsed": true
   },
   "source": [
    "# Feature Scaling"
   ]
  },
  {
   "cell_type": "markdown",
   "metadata": {
    "hidden": true
   },
   "source": [
    "For use in linear models, features need to be either scaled or normalised."
   ]
  },
  {
   "cell_type": "code",
   "execution_count": 28,
   "metadata": {
    "ExecuteTime": {
     "end_time": "2020-06-01T03:30:10.046607Z",
     "start_time": "2020-06-01T03:30:09.190879Z"
    },
    "hidden": true
   },
   "outputs": [
    {
     "data": {
      "text/plain": [
       "StandardScaler(copy=True, with_mean=True, with_std=True)"
      ]
     },
     "execution_count": 28,
     "metadata": {},
     "output_type": "execute_result"
    }
   ],
   "source": [
    "# set up and train the scaler\n",
    "scaler = StandardScaler()\n",
    "scaler.fit(X_train[features])"
   ]
  },
  {
   "cell_type": "code",
   "execution_count": 30,
   "metadata": {
    "ExecuteTime": {
     "end_time": "2020-06-01T03:30:18.836299Z",
     "start_time": "2020-06-01T03:30:18.546913Z"
    },
    "hidden": true
   },
   "outputs": [],
   "source": [
    "# transform the train and test set, and add on the Id and SalePrice variables\n",
    "X_train = scaler.transform(X_train[features])\n",
    "X_test = scaler.transform(X_test[features])"
   ]
  },
  {
   "cell_type": "markdown",
   "metadata": {},
   "source": [
    "# Train the Linear Regressor: Ridge"
   ]
  },
  {
   "cell_type": "code",
   "execution_count": 32,
   "metadata": {
    "ExecuteTime": {
     "end_time": "2020-06-01T04:00:58.183141Z",
     "start_time": "2020-06-01T04:00:57.857064Z"
    }
   },
   "outputs": [
    {
     "data": {
      "text/plain": [
       "Ridge(alpha=0.005, copy_X=True, fit_intercept=True, max_iter=None,\n",
       "      normalize=False, random_state=42, solver='auto', tol=0.001)"
      ]
     },
     "execution_count": 32,
     "metadata": {},
     "output_type": "execute_result"
    }
   ],
   "source": [
    "# set up the model\n",
    "ridge = Ridge(alpha=0.005, random_state=RANDOM_SEED)\n",
    "\n",
    "# train the model\n",
    "ridge.fit(X_train, y_train)"
   ]
  },
  {
   "cell_type": "code",
   "execution_count": 33,
   "metadata": {
    "ExecuteTime": {
     "end_time": "2020-06-01T04:04:13.251462Z",
     "start_time": "2020-06-01T04:04:13.244482Z"
    }
   },
   "outputs": [],
   "source": [
    "model_path = '..\\\\models\\\\'\n",
    "pkl_filename = 'ridge_regressor.pkl'\n",
    "\n",
    "# Save to file in the current working directory\n",
    "with open(model_path + pkl_filename, 'wb') as file:\n",
    "    joblib.dump(ridge, file)"
   ]
  },
  {
   "cell_type": "code",
   "execution_count": 35,
   "metadata": {
    "ExecuteTime": {
     "end_time": "2020-06-01T04:08:27.873027Z",
     "start_time": "2020-06-01T04:08:27.738393Z"
    }
   },
   "outputs": [
    {
     "name": "stdout",
     "output_type": "stream",
     "text": [
      "train rmse: 12.856\n",
      "train mae: 8.669\n",
      "train r2: 0.939\n",
      "\n",
      "test rmse: 12.794\n",
      "test mae: 8.826\n",
      "test r2: 0.941\n",
      "\n",
      "Median OBTtoIBT in training set:  106\n"
     ]
    }
   ],
   "source": [
    "# evaluate the model:\n",
    "# ====================\n",
    "\n",
    "# make predictions for train set\n",
    "pred_train = ridge.predict(X_train)\n",
    "\n",
    "# determine metrics\n",
    "print('train rmse: {:.3f}'.format(sqrt(mean_squared_error(y_train, pred_train))))\n",
    "print('train mae: {:.3f}'.format(mean_absolute_error(y_train, pred_train)))\n",
    "print('train r2: {:.3f}'.format(r2_score(y_train, pred_train)))\n",
    "print()\n",
    "\n",
    "# make predictions for test set\n",
    "pred_test = ridge.predict(X_test)\n",
    "\n",
    "# determine metrics\n",
    "print('test rmse: {:.3f}'.format(sqrt(mean_squared_error(y_test, pred_test))))\n",
    "print('test mae: {:.3f}'.format(mean_absolute_error(y_test, pred_test)))\n",
    "print('test r2: {:.3f}'.format(r2_score(y_test, pred_test)))\n",
    "print()\n",
    "\n",
    "print('Median OBTtoIBT in training set: ', int(y_train.median()))"
   ]
  }
 ],
 "metadata": {
  "kernelspec": {
   "display_name": "Python 3",
   "language": "python",
   "name": "python3"
  },
  "language_info": {
   "codemirror_mode": {
    "name": "ipython",
    "version": 3
   },
   "file_extension": ".py",
   "mimetype": "text/x-python",
   "name": "python",
   "nbconvert_exporter": "python",
   "pygments_lexer": "ipython3",
   "version": "3.7.3"
  },
  "notify_time": "30",
  "toc": {
   "base_numbering": 1,
   "nav_menu": {},
   "number_sections": true,
   "sideBar": true,
   "skip_h1_title": false,
   "title_cell": "Table of Contents",
   "title_sidebar": "Contents",
   "toc_cell": false,
   "toc_position": {
    "height": "calc(100% - 180px)",
    "left": "10px",
    "top": "150px",
    "width": "256px"
   },
   "toc_section_display": true,
   "toc_window_display": true
  },
  "varInspector": {
   "cols": {
    "lenName": 16,
    "lenType": 16,
    "lenVar": 40
   },
   "kernels_config": {
    "python": {
     "delete_cmd_postfix": "",
     "delete_cmd_prefix": "del ",
     "library": "var_list.py",
     "varRefreshCmd": "print(var_dic_list())"
    },
    "r": {
     "delete_cmd_postfix": ") ",
     "delete_cmd_prefix": "rm(",
     "library": "var_list.r",
     "varRefreshCmd": "cat(var_dic_list()) "
    }
   },
   "types_to_exclude": [
    "module",
    "function",
    "builtin_function_or_method",
    "instance",
    "_Feature"
   ],
   "window_display": false
  }
 },
 "nbformat": 4,
 "nbformat_minor": 2
}
