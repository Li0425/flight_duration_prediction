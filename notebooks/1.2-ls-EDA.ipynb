{
 "cells": [
  {
   "cell_type": "markdown",
   "metadata": {},
   "source": [
    "# Introduction"
   ]
  },
  {
   "cell_type": "markdown",
   "metadata": {},
   "source": [
    "EDA of flights scheduled to arrive at ATL airport in 2017 and 2018."
   ]
  },
  {
   "cell_type": "markdown",
   "metadata": {
    "hide_input": true
   },
   "source": [
    "# Set up Environment"
   ]
  },
  {
   "cell_type": "code",
   "execution_count": 229,
   "metadata": {
    "ExecuteTime": {
     "end_time": "2020-05-19T09:53:30.463376Z",
     "start_time": "2020-05-19T09:53:29.730331Z"
    },
    "hide_input": false,
    "init_cell": true
   },
   "outputs": [],
   "source": [
    "import seaborn as sns\n",
    "import networkx as nx\n",
    "import plotly.graph_objects as go\n",
    "from scipy.stats import pearsonr\n",
    "import warnings\n",
    "import pandas as pd\n",
    "import matplotlib.pyplot as plt\n",
    "\n",
    "# be able to view all columns of dataframes\n",
    "pd.options.display.max_columns = None\n",
    "\n",
    "# ignore warnings\n",
    "warnings.filterwarnings('ignore')"
   ]
  },
  {
   "cell_type": "markdown",
   "metadata": {
    "heading_collapsed": true
   },
   "source": [
    "# Load Data"
   ]
  },
  {
   "cell_type": "code",
   "execution_count": 2,
   "metadata": {
    "ExecuteTime": {
     "end_time": "2020-05-19T02:16:25.846815Z",
     "start_time": "2020-05-19T02:16:19.505763Z"
    },
    "hidden": true
   },
   "outputs": [],
   "source": [
    "data_folder = '../data/raw/training_data/'\n",
    "df = pd.read_csv(data_folder + 'training_data_ATL.zip')"
   ]
  },
  {
   "cell_type": "markdown",
   "metadata": {
    "heading_collapsed": true
   },
   "source": [
    "# Process"
   ]
  },
  {
   "cell_type": "code",
   "execution_count": 3,
   "metadata": {
    "ExecuteTime": {
     "end_time": "2020-05-19T02:16:51.833134Z",
     "start_time": "2020-05-19T02:16:43.673912Z"
    },
    "hidden": true
   },
   "outputs": [],
   "source": [
    "# remove the Unnamed column\n",
    "df.drop(df.columns[df.columns.str.contains(\n",
    "    'unnamed', case=False)], axis=1, inplace=True)\n",
    "\n",
    "# ignore airport traffic data as of now\n",
    "feature_list = ['Num_Arr_SLDT-30', 'Num_Arr_SLDT-25', 'Num_Arr_SLDT-20', 'Num_Arr_SLDT-15', 'Num_Arr_SLDT-10',\n",
    "                'Num_Arr_SLDT-5', 'Num_Arr_SLDT-0', 'Num_Arr_SLDT+5', 'Num_Arr_SLDT+10', 'Num_Arr_SLDT+15',\n",
    "                'Num_Arr_SLDT+20', 'Num_Arr_SLDT+25', 'Num_Dep_SLDT-30', 'Num_Dep_SLDT-25', 'Num_Dep_SLDT-20',\n",
    "                'Num_Dep_SLDT-15', 'Num_Dep_SLDT-10', 'Num_Dep_SLDT-5', 'Num_Dep_SLDT-0', 'Num_Dep_SLDT+5',\n",
    "                'Num_Dep_SLDT+10', 'Num_Dep_SLDT+15', 'Num_Dep_SLDT+20', 'Num_Dep_SLDT+25']\n",
    "\n",
    "arrivals = df.copy()\n",
    "for feature in feature_list:\n",
    "    arrivals = arrivals.drop(labels=feature, axis=1)"
   ]
  },
  {
   "cell_type": "code",
   "execution_count": 4,
   "metadata": {
    "ExecuteTime": {
     "end_time": "2020-05-19T02:17:34.200227Z",
     "start_time": "2020-05-19T02:17:33.653693Z"
    },
    "hidden": true
   },
   "outputs": [
    {
     "name": "stdout",
     "output_type": "stream",
     "text": [
      "<class 'pandas.core.frame.DataFrame'>\n",
      "RangeIndex: 744979 entries, 0 to 744978\n",
      "Data columns (total 60 columns):\n",
      "Year                               744979 non-null int64\n",
      "Quarter                            744979 non-null int64\n",
      "Month                              744979 non-null int64\n",
      "DayofMonth                         744979 non-null int64\n",
      "DayOfWeek                          744979 non-null int64\n",
      "FlightDate                         744979 non-null object\n",
      "Reporting_Airline                  744979 non-null object\n",
      "DOT_ID_Reporting_Airline           744979 non-null int64\n",
      "IATA_CODE_Reporting_Airline        744979 non-null object\n",
      "Tail_Number                        744979 non-null object\n",
      "Flight_Number_Reporting_Airline    744979 non-null int64\n",
      "OriginAirportID                    744979 non-null int64\n",
      "OriginAirportSeqID                 744979 non-null int64\n",
      "OriginCityMarketID                 744979 non-null int64\n",
      "Origin                             744979 non-null object\n",
      "OriginCityName                     744979 non-null object\n",
      "OriginState                        744979 non-null object\n",
      "OriginStateFips                    744979 non-null int64\n",
      "OriginStateName                    744979 non-null object\n",
      "OriginWac                          744979 non-null int64\n",
      "DestAirportID                      744979 non-null int64\n",
      "DestAirportSeqID                   744979 non-null int64\n",
      "DestCityMarketID                   744979 non-null int64\n",
      "Dest                               744979 non-null object\n",
      "DestCityName                       744979 non-null object\n",
      "DestState                          744979 non-null object\n",
      "DestStateFips                      744979 non-null int64\n",
      "DestStateName                      744979 non-null object\n",
      "DestWac                            744979 non-null int64\n",
      "CRSDepTime                         744979 non-null object\n",
      "DepTime                            744979 non-null float64\n",
      "DepDelay                           744519 non-null float64\n",
      "DepDelayMinutes                    744519 non-null float64\n",
      "DepDel15                           744519 non-null float64\n",
      "DepartureDelayGroups               744519 non-null float64\n",
      "DepTimeBlk                         744979 non-null object\n",
      "TaxiOut                            744979 non-null float64\n",
      "WheelsOff                          744979 non-null float64\n",
      "WheelsOn                           744979 non-null float64\n",
      "TaxiIn                             744979 non-null float64\n",
      "CRSArrTime                         744979 non-null object\n",
      "ArrTime                            744979 non-null float64\n",
      "ArrDelay                           744653 non-null float64\n",
      "ArrDelayMinutes                    744653 non-null float64\n",
      "ArrDel15                           744653 non-null float64\n",
      "ArrivalDelayGroups                 744653 non-null float64\n",
      "ArrTimeBlk                         744979 non-null object\n",
      "CRSElapsedTime                     744979 non-null float64\n",
      "ActualElapsedTime                  744979 non-null float64\n",
      "AirTime                            744979 non-null float64\n",
      "Flights                            744979 non-null float64\n",
      "Distance                           744979 non-null float64\n",
      "DistanceGroup                      744979 non-null int64\n",
      "CarrierDelay                       110716 non-null float64\n",
      "WeatherDelay                       110716 non-null float64\n",
      "NASDelay                           110716 non-null float64\n",
      "SecurityDelay                      110716 non-null float64\n",
      "LateAircraftDelay                  110716 non-null float64\n",
      "ArrivalDate                        744979 non-null object\n",
      "ARR_Flight_SLDT                    744979 non-null object\n",
      "dtypes: float64(24), int64(18), object(18)\n",
      "memory usage: 341.0+ MB\n"
     ]
    }
   ],
   "source": [
    "arrivals.info()"
   ]
  },
  {
   "cell_type": "code",
   "execution_count": 7,
   "metadata": {
    "ExecuteTime": {
     "end_time": "2020-05-19T02:21:03.456852Z",
     "start_time": "2020-05-19T02:21:03.328052Z"
    },
    "code_folding": [
     1
    ],
    "hidden": true
   },
   "outputs": [],
   "source": [
    "# obtain a segment of arrivals (intersted columns)\n",
    "segment = arrivals[['Year', 'Quarter', 'Month', 'DayofMonth', 'DayOfWeek', 'FlightDate', 'ArrivalDate',\n",
    "                    'Reporting_Airline', 'OriginAirportID', 'OriginCityName', 'OriginStateName',\n",
    "                    'CRSDepTime', 'DepTime', 'DepDelay', 'DepDel15', 'DepartureDelayGroups', 'DepTimeBlk', 'TaxiOut',\n",
    "                    'WheelsOff', 'WheelsOn', 'TaxiIn', 'CRSArrTime', 'ArrTime', 'ArrDelay', 'ArrDel15',\n",
    "                    'ArrivalDelayGroups', 'ArrTimeBlk', 'CRSElapsedTime', 'ActualElapsedTime', 'AirTime',\n",
    "                    'Distance', 'DistanceGroup', 'CarrierDelay', 'WeatherDelay', 'NASDelay', 'SecurityDelay',\n",
    "                    'LateAircraftDelay']]"
   ]
  },
  {
   "cell_type": "code",
   "execution_count": 8,
   "metadata": {
    "ExecuteTime": {
     "end_time": "2020-05-19T02:21:05.399536Z",
     "start_time": "2020-05-19T02:21:05.368618Z"
    },
    "hidden": true
   },
   "outputs": [
    {
     "data": {
      "text/html": [
       "<div>\n",
       "<style scoped>\n",
       "    .dataframe tbody tr th:only-of-type {\n",
       "        vertical-align: middle;\n",
       "    }\n",
       "\n",
       "    .dataframe tbody tr th {\n",
       "        vertical-align: top;\n",
       "    }\n",
       "\n",
       "    .dataframe thead th {\n",
       "        text-align: right;\n",
       "    }\n",
       "</style>\n",
       "<table border=\"1\" class=\"dataframe\">\n",
       "  <thead>\n",
       "    <tr style=\"text-align: right;\">\n",
       "      <th></th>\n",
       "      <th>Year</th>\n",
       "      <th>Quarter</th>\n",
       "      <th>Month</th>\n",
       "      <th>DayofMonth</th>\n",
       "      <th>DayOfWeek</th>\n",
       "      <th>FlightDate</th>\n",
       "      <th>ArrivalDate</th>\n",
       "      <th>Reporting_Airline</th>\n",
       "      <th>OriginAirportID</th>\n",
       "      <th>OriginCityName</th>\n",
       "      <th>OriginStateName</th>\n",
       "      <th>CRSDepTime</th>\n",
       "      <th>DepTime</th>\n",
       "      <th>DepDelay</th>\n",
       "      <th>DepDel15</th>\n",
       "      <th>DepartureDelayGroups</th>\n",
       "      <th>DepTimeBlk</th>\n",
       "      <th>TaxiOut</th>\n",
       "      <th>WheelsOff</th>\n",
       "      <th>WheelsOn</th>\n",
       "      <th>TaxiIn</th>\n",
       "      <th>CRSArrTime</th>\n",
       "      <th>ArrTime</th>\n",
       "      <th>ArrDelay</th>\n",
       "      <th>ArrDel15</th>\n",
       "      <th>ArrivalDelayGroups</th>\n",
       "      <th>ArrTimeBlk</th>\n",
       "      <th>CRSElapsedTime</th>\n",
       "      <th>ActualElapsedTime</th>\n",
       "      <th>AirTime</th>\n",
       "      <th>Distance</th>\n",
       "      <th>DistanceGroup</th>\n",
       "      <th>CarrierDelay</th>\n",
       "      <th>WeatherDelay</th>\n",
       "      <th>NASDelay</th>\n",
       "      <th>SecurityDelay</th>\n",
       "      <th>LateAircraftDelay</th>\n",
       "    </tr>\n",
       "  </thead>\n",
       "  <tbody>\n",
       "    <tr>\n",
       "      <th>0</th>\n",
       "      <td>2017</td>\n",
       "      <td>1</td>\n",
       "      <td>1</td>\n",
       "      <td>1</td>\n",
       "      <td>7</td>\n",
       "      <td>2017-01-01 00:00:00</td>\n",
       "      <td>2017-01-01 00:00:00</td>\n",
       "      <td>AA</td>\n",
       "      <td>11298</td>\n",
       "      <td>Dallas/Fort Worth, TX</td>\n",
       "      <td>Texas</td>\n",
       "      <td>14:25:00</td>\n",
       "      <td>1430.0</td>\n",
       "      <td>5.0</td>\n",
       "      <td>0.0</td>\n",
       "      <td>0.0</td>\n",
       "      <td>1400-1459</td>\n",
       "      <td>12.0</td>\n",
       "      <td>1442.0</td>\n",
       "      <td>1717.0</td>\n",
       "      <td>10.0</td>\n",
       "      <td>17:26:00</td>\n",
       "      <td>1727.0</td>\n",
       "      <td>1.0</td>\n",
       "      <td>0.0</td>\n",
       "      <td>0.0</td>\n",
       "      <td>1700-1759</td>\n",
       "      <td>121.0</td>\n",
       "      <td>117.0</td>\n",
       "      <td>95.0</td>\n",
       "      <td>731.0</td>\n",
       "      <td>3</td>\n",
       "      <td>NaN</td>\n",
       "      <td>NaN</td>\n",
       "      <td>NaN</td>\n",
       "      <td>NaN</td>\n",
       "      <td>NaN</td>\n",
       "    </tr>\n",
       "    <tr>\n",
       "      <th>1</th>\n",
       "      <td>2017</td>\n",
       "      <td>1</td>\n",
       "      <td>1</td>\n",
       "      <td>2</td>\n",
       "      <td>1</td>\n",
       "      <td>2017-01-02 00:00:00</td>\n",
       "      <td>2017-01-02 00:00:00</td>\n",
       "      <td>AA</td>\n",
       "      <td>11298</td>\n",
       "      <td>Dallas/Fort Worth, TX</td>\n",
       "      <td>Texas</td>\n",
       "      <td>14:25:00</td>\n",
       "      <td>1420.0</td>\n",
       "      <td>-5.0</td>\n",
       "      <td>0.0</td>\n",
       "      <td>-1.0</td>\n",
       "      <td>1400-1459</td>\n",
       "      <td>13.0</td>\n",
       "      <td>1433.0</td>\n",
       "      <td>1723.0</td>\n",
       "      <td>11.0</td>\n",
       "      <td>17:26:00</td>\n",
       "      <td>1734.0</td>\n",
       "      <td>8.0</td>\n",
       "      <td>0.0</td>\n",
       "      <td>0.0</td>\n",
       "      <td>1700-1759</td>\n",
       "      <td>121.0</td>\n",
       "      <td>134.0</td>\n",
       "      <td>110.0</td>\n",
       "      <td>731.0</td>\n",
       "      <td>3</td>\n",
       "      <td>NaN</td>\n",
       "      <td>NaN</td>\n",
       "      <td>NaN</td>\n",
       "      <td>NaN</td>\n",
       "      <td>NaN</td>\n",
       "    </tr>\n",
       "    <tr>\n",
       "      <th>2</th>\n",
       "      <td>2017</td>\n",
       "      <td>1</td>\n",
       "      <td>1</td>\n",
       "      <td>3</td>\n",
       "      <td>2</td>\n",
       "      <td>2017-01-03 00:00:00</td>\n",
       "      <td>2017-01-03 00:00:00</td>\n",
       "      <td>AA</td>\n",
       "      <td>11298</td>\n",
       "      <td>Dallas/Fort Worth, TX</td>\n",
       "      <td>Texas</td>\n",
       "      <td>14:25:00</td>\n",
       "      <td>1426.0</td>\n",
       "      <td>1.0</td>\n",
       "      <td>0.0</td>\n",
       "      <td>0.0</td>\n",
       "      <td>1400-1459</td>\n",
       "      <td>14.0</td>\n",
       "      <td>1440.0</td>\n",
       "      <td>1718.0</td>\n",
       "      <td>5.0</td>\n",
       "      <td>17:26:00</td>\n",
       "      <td>1723.0</td>\n",
       "      <td>-3.0</td>\n",
       "      <td>0.0</td>\n",
       "      <td>-1.0</td>\n",
       "      <td>1700-1759</td>\n",
       "      <td>121.0</td>\n",
       "      <td>117.0</td>\n",
       "      <td>98.0</td>\n",
       "      <td>731.0</td>\n",
       "      <td>3</td>\n",
       "      <td>NaN</td>\n",
       "      <td>NaN</td>\n",
       "      <td>NaN</td>\n",
       "      <td>NaN</td>\n",
       "      <td>NaN</td>\n",
       "    </tr>\n",
       "  </tbody>\n",
       "</table>\n",
       "</div>"
      ],
      "text/plain": [
       "   Year  Quarter  Month  DayofMonth  DayOfWeek           FlightDate  \\\n",
       "0  2017        1      1           1          7  2017-01-01 00:00:00   \n",
       "1  2017        1      1           2          1  2017-01-02 00:00:00   \n",
       "2  2017        1      1           3          2  2017-01-03 00:00:00   \n",
       "\n",
       "           ArrivalDate Reporting_Airline  OriginAirportID  \\\n",
       "0  2017-01-01 00:00:00                AA            11298   \n",
       "1  2017-01-02 00:00:00                AA            11298   \n",
       "2  2017-01-03 00:00:00                AA            11298   \n",
       "\n",
       "          OriginCityName OriginStateName CRSDepTime  DepTime  DepDelay  \\\n",
       "0  Dallas/Fort Worth, TX           Texas   14:25:00   1430.0       5.0   \n",
       "1  Dallas/Fort Worth, TX           Texas   14:25:00   1420.0      -5.0   \n",
       "2  Dallas/Fort Worth, TX           Texas   14:25:00   1426.0       1.0   \n",
       "\n",
       "   DepDel15  DepartureDelayGroups DepTimeBlk  TaxiOut  WheelsOff  WheelsOn  \\\n",
       "0       0.0                   0.0  1400-1459     12.0     1442.0    1717.0   \n",
       "1       0.0                  -1.0  1400-1459     13.0     1433.0    1723.0   \n",
       "2       0.0                   0.0  1400-1459     14.0     1440.0    1718.0   \n",
       "\n",
       "   TaxiIn CRSArrTime  ArrTime  ArrDelay  ArrDel15  ArrivalDelayGroups  \\\n",
       "0    10.0   17:26:00   1727.0       1.0       0.0                 0.0   \n",
       "1    11.0   17:26:00   1734.0       8.0       0.0                 0.0   \n",
       "2     5.0   17:26:00   1723.0      -3.0       0.0                -1.0   \n",
       "\n",
       "  ArrTimeBlk  CRSElapsedTime  ActualElapsedTime  AirTime  Distance  \\\n",
       "0  1700-1759           121.0              117.0     95.0     731.0   \n",
       "1  1700-1759           121.0              134.0    110.0     731.0   \n",
       "2  1700-1759           121.0              117.0     98.0     731.0   \n",
       "\n",
       "   DistanceGroup  CarrierDelay  WeatherDelay  NASDelay  SecurityDelay  \\\n",
       "0              3           NaN           NaN       NaN            NaN   \n",
       "1              3           NaN           NaN       NaN            NaN   \n",
       "2              3           NaN           NaN       NaN            NaN   \n",
       "\n",
       "   LateAircraftDelay  \n",
       "0                NaN  \n",
       "1                NaN  \n",
       "2                NaN  "
      ]
     },
     "execution_count": 8,
     "metadata": {},
     "output_type": "execute_result"
    }
   ],
   "source": [
    "segment.head(3)"
   ]
  },
  {
   "cell_type": "code",
   "execution_count": 12,
   "metadata": {
    "ExecuteTime": {
     "end_time": "2020-05-19T02:45:39.908381Z",
     "start_time": "2020-05-19T02:45:39.616989Z"
    },
    "code_folding": [],
    "hidden": true
   },
   "outputs": [],
   "source": [
    "# rename some column names\n",
    "segment = segment.rename(columns={'DayOfWeek': 'DayofWeek',\n",
    "                                  'FlightDate': 'SOBTDate',\n",
    "                                  'ArrivalDate': 'SIBTDate',\n",
    "                                  'Reporting_Airline': 'UniqueCarrierCode',\n",
    "                                  'CRSDepTime': 'SOBTTime',\n",
    "                                  'DepTime': 'AOBTTime',\n",
    "                                  'DepDelay': 'OBTDelay',\n",
    "                                  'DepDel15': 'OBTDel15',\n",
    "                                  'DepartureDelayGroups': 'OBTDelayGroups',\n",
    "                                  'DepTimeBlk': 'OBTTimeBlk',\n",
    "                                  'TaxiOut': 'AXOT',\n",
    "                                  'WheelsOff': 'ATOTTime',\n",
    "                                  'WheelsOn': 'ALDTTime',\n",
    "                                  'TaxiIn': 'AXIT',\n",
    "                                  'CRSArrTime': 'SIBTTime',\n",
    "                                  'ArrTime': 'AIBTTime',\n",
    "                                  'ArrDelay': 'IBTDelay',\n",
    "                                  'ArrDel15': 'IBTDel15',\n",
    "                                  'ArrivalDelayGroups': 'IBTDelayGroups',\n",
    "                                  'ArrTimeBlk': 'IBTTimeBlk',\n",
    "                                  'CRSElapsedTime': 'SOBTtoSIBT',\n",
    "                                  'ActualElapsedTime': 'AOBTtoAIBT',\n",
    "                                  'AirTime': 'AirborneTime'})"
   ]
  },
  {
   "cell_type": "code",
   "execution_count": 13,
   "metadata": {
    "ExecuteTime": {
     "end_time": "2020-05-19T02:50:52.325500Z",
     "start_time": "2020-05-19T02:45:58.845408Z"
    },
    "hidden": true
   },
   "outputs": [],
   "source": [
    "# convert scheduled times to datetime objects\n",
    "date_list = ['SOBTDate', 'SIBTDate']\n",
    "for date in date_list:\n",
    "    segment[date] = segment[date].apply(lambda x: pd.to_datetime(x)).dt.date\n",
    "\n",
    "timing_list = ['SOBTTime', 'SIBTTime']\n",
    "for timing in timing_list:\n",
    "    segment[timing] = segment[timing].apply(\n",
    "        lambda x: pd.to_datetime(x, format='%H:%M:%S')).dt.time"
   ]
  },
  {
   "cell_type": "code",
   "execution_count": 15,
   "metadata": {
    "ExecuteTime": {
     "end_time": "2020-05-19T02:51:45.601202Z",
     "start_time": "2020-05-19T02:51:43.842920Z"
    },
    "hidden": true
   },
   "outputs": [
    {
     "data": {
      "text/plain": [
       "'2400'"
      ]
     },
     "execution_count": 15,
     "metadata": {},
     "output_type": "execute_result"
    }
   ],
   "source": [
    "timing_list = ['AOBTTime', 'ATOTTime', 'ALDTTime', 'AIBTTime']\n",
    "\n",
    "for timing in timing_list:\n",
    "    segment[timing] = segment[timing].apply(lambda x: str(int(x)).zfill(4))\n",
    "\n",
    "max(segment['AOBTTime'])\n",
    "# '2400'cannot be handled by pd.to_datetime()"
   ]
  },
  {
   "cell_type": "code",
   "execution_count": 17,
   "metadata": {
    "ExecuteTime": {
     "end_time": "2020-05-19T02:53:41.467572Z",
     "start_time": "2020-05-19T02:53:41.400723Z"
    },
    "hidden": true
   },
   "outputs": [
    {
     "data": {
      "text/html": [
       "<div>\n",
       "<style scoped>\n",
       "    .dataframe tbody tr th:only-of-type {\n",
       "        vertical-align: middle;\n",
       "    }\n",
       "\n",
       "    .dataframe tbody tr th {\n",
       "        vertical-align: top;\n",
       "    }\n",
       "\n",
       "    .dataframe thead th {\n",
       "        text-align: right;\n",
       "    }\n",
       "</style>\n",
       "<table border=\"1\" class=\"dataframe\">\n",
       "  <thead>\n",
       "    <tr style=\"text-align: right;\">\n",
       "      <th></th>\n",
       "      <th>Year</th>\n",
       "      <th>Quarter</th>\n",
       "      <th>Month</th>\n",
       "      <th>DayofMonth</th>\n",
       "      <th>DayofWeek</th>\n",
       "      <th>SOBTDate</th>\n",
       "      <th>SIBTDate</th>\n",
       "      <th>UniqueCarrierCode</th>\n",
       "      <th>OriginAirportID</th>\n",
       "      <th>OriginCityName</th>\n",
       "      <th>OriginStateName</th>\n",
       "      <th>SOBTTime</th>\n",
       "      <th>AOBTTime</th>\n",
       "      <th>OBTDelay</th>\n",
       "      <th>OBTDel15</th>\n",
       "      <th>OBTDelayGroups</th>\n",
       "      <th>OBTTimeBlk</th>\n",
       "      <th>AXOT</th>\n",
       "      <th>ATOTTime</th>\n",
       "      <th>ALDTTime</th>\n",
       "      <th>AXIT</th>\n",
       "      <th>SIBTTime</th>\n",
       "      <th>AIBTTime</th>\n",
       "      <th>IBTDelay</th>\n",
       "      <th>IBTDel15</th>\n",
       "      <th>IBTDelayGroups</th>\n",
       "      <th>IBTTimeBlk</th>\n",
       "      <th>SOBTtoSIBT</th>\n",
       "      <th>AOBTtoAIBT</th>\n",
       "      <th>AirborneTime</th>\n",
       "      <th>Distance</th>\n",
       "      <th>DistanceGroup</th>\n",
       "      <th>CarrierDelay</th>\n",
       "      <th>WeatherDelay</th>\n",
       "      <th>NASDelay</th>\n",
       "      <th>SecurityDelay</th>\n",
       "      <th>LateAircraftDelay</th>\n",
       "    </tr>\n",
       "  </thead>\n",
       "  <tbody>\n",
       "    <tr>\n",
       "      <th>33760</th>\n",
       "      <td>2017</td>\n",
       "      <td>4</td>\n",
       "      <td>10</td>\n",
       "      <td>2</td>\n",
       "      <td>1</td>\n",
       "      <td>2017-10-02</td>\n",
       "      <td>2017-10-03</td>\n",
       "      <td>DL</td>\n",
       "      <td>14771</td>\n",
       "      <td>San Francisco, CA</td>\n",
       "      <td>California</td>\n",
       "      <td>23:55:00</td>\n",
       "      <td>2400</td>\n",
       "      <td>5.0</td>\n",
       "      <td>0.0</td>\n",
       "      <td>0.0</td>\n",
       "      <td>2300-2359</td>\n",
       "      <td>17.0</td>\n",
       "      <td>0017</td>\n",
       "      <td>0703</td>\n",
       "      <td>10.0</td>\n",
       "      <td>07:21:00</td>\n",
       "      <td>0713</td>\n",
       "      <td>-8.0</td>\n",
       "      <td>0.0</td>\n",
       "      <td>-1.0</td>\n",
       "      <td>0700-0759</td>\n",
       "      <td>266.0</td>\n",
       "      <td>253.0</td>\n",
       "      <td>226.0</td>\n",
       "      <td>2139.0</td>\n",
       "      <td>9</td>\n",
       "      <td>NaN</td>\n",
       "      <td>NaN</td>\n",
       "      <td>NaN</td>\n",
       "      <td>NaN</td>\n",
       "      <td>NaN</td>\n",
       "    </tr>\n",
       "    <tr>\n",
       "      <th>48345</th>\n",
       "      <td>2017</td>\n",
       "      <td>4</td>\n",
       "      <td>10</td>\n",
       "      <td>20</td>\n",
       "      <td>5</td>\n",
       "      <td>2017-10-20</td>\n",
       "      <td>2017-10-21</td>\n",
       "      <td>DL</td>\n",
       "      <td>12889</td>\n",
       "      <td>Las Vegas, NV</td>\n",
       "      <td>Nevada</td>\n",
       "      <td>23:56:00</td>\n",
       "      <td>2400</td>\n",
       "      <td>4.0</td>\n",
       "      <td>0.0</td>\n",
       "      <td>0.0</td>\n",
       "      <td>2300-2359</td>\n",
       "      <td>16.0</td>\n",
       "      <td>0016</td>\n",
       "      <td>0629</td>\n",
       "      <td>7.0</td>\n",
       "      <td>06:35:00</td>\n",
       "      <td>0636</td>\n",
       "      <td>1.0</td>\n",
       "      <td>0.0</td>\n",
       "      <td>0.0</td>\n",
       "      <td>0600-0659</td>\n",
       "      <td>219.0</td>\n",
       "      <td>216.0</td>\n",
       "      <td>193.0</td>\n",
       "      <td>1747.0</td>\n",
       "      <td>7</td>\n",
       "      <td>NaN</td>\n",
       "      <td>NaN</td>\n",
       "      <td>NaN</td>\n",
       "      <td>NaN</td>\n",
       "      <td>NaN</td>\n",
       "    </tr>\n",
       "    <tr>\n",
       "      <th>65078</th>\n",
       "      <td>2017</td>\n",
       "      <td>4</td>\n",
       "      <td>11</td>\n",
       "      <td>23</td>\n",
       "      <td>4</td>\n",
       "      <td>2017-11-23</td>\n",
       "      <td>2017-11-24</td>\n",
       "      <td>DL</td>\n",
       "      <td>14869</td>\n",
       "      <td>Salt Lake City, UT</td>\n",
       "      <td>Utah</td>\n",
       "      <td>23:59:00</td>\n",
       "      <td>2400</td>\n",
       "      <td>1.0</td>\n",
       "      <td>0.0</td>\n",
       "      <td>0.0</td>\n",
       "      <td>2300-2359</td>\n",
       "      <td>48.0</td>\n",
       "      <td>0048</td>\n",
       "      <td>0544</td>\n",
       "      <td>7.0</td>\n",
       "      <td>05:36:00</td>\n",
       "      <td>0551</td>\n",
       "      <td>15.0</td>\n",
       "      <td>1.0</td>\n",
       "      <td>1.0</td>\n",
       "      <td>0001-0559</td>\n",
       "      <td>217.0</td>\n",
       "      <td>231.0</td>\n",
       "      <td>176.0</td>\n",
       "      <td>1590.0</td>\n",
       "      <td>7</td>\n",
       "      <td>0.0</td>\n",
       "      <td>0.0</td>\n",
       "      <td>15.0</td>\n",
       "      <td>0.0</td>\n",
       "      <td>0.0</td>\n",
       "    </tr>\n",
       "  </tbody>\n",
       "</table>\n",
       "</div>"
      ],
      "text/plain": [
       "       Year  Quarter  Month  DayofMonth  DayofWeek    SOBTDate    SIBTDate  \\\n",
       "33760  2017        4     10           2          1  2017-10-02  2017-10-03   \n",
       "48345  2017        4     10          20          5  2017-10-20  2017-10-21   \n",
       "65078  2017        4     11          23          4  2017-11-23  2017-11-24   \n",
       "\n",
       "      UniqueCarrierCode  OriginAirportID      OriginCityName OriginStateName  \\\n",
       "33760                DL            14771   San Francisco, CA      California   \n",
       "48345                DL            12889       Las Vegas, NV          Nevada   \n",
       "65078                DL            14869  Salt Lake City, UT            Utah   \n",
       "\n",
       "       SOBTTime AOBTTime  OBTDelay  OBTDel15  OBTDelayGroups OBTTimeBlk  AXOT  \\\n",
       "33760  23:55:00     2400       5.0       0.0             0.0  2300-2359  17.0   \n",
       "48345  23:56:00     2400       4.0       0.0             0.0  2300-2359  16.0   \n",
       "65078  23:59:00     2400       1.0       0.0             0.0  2300-2359  48.0   \n",
       "\n",
       "      ATOTTime ALDTTime  AXIT  SIBTTime AIBTTime  IBTDelay  IBTDel15  \\\n",
       "33760     0017     0703  10.0  07:21:00     0713      -8.0       0.0   \n",
       "48345     0016     0629   7.0  06:35:00     0636       1.0       0.0   \n",
       "65078     0048     0544   7.0  05:36:00     0551      15.0       1.0   \n",
       "\n",
       "       IBTDelayGroups IBTTimeBlk  SOBTtoSIBT  AOBTtoAIBT  AirborneTime  \\\n",
       "33760            -1.0  0700-0759       266.0       253.0         226.0   \n",
       "48345             0.0  0600-0659       219.0       216.0         193.0   \n",
       "65078             1.0  0001-0559       217.0       231.0         176.0   \n",
       "\n",
       "       Distance  DistanceGroup  CarrierDelay  WeatherDelay  NASDelay  \\\n",
       "33760    2139.0              9           NaN           NaN       NaN   \n",
       "48345    1747.0              7           NaN           NaN       NaN   \n",
       "65078    1590.0              7           0.0           0.0      15.0   \n",
       "\n",
       "       SecurityDelay  LateAircraftDelay  \n",
       "33760            NaN                NaN  \n",
       "48345            NaN                NaN  \n",
       "65078            0.0                0.0  "
      ]
     },
     "execution_count": 17,
     "metadata": {},
     "output_type": "execute_result"
    }
   ],
   "source": [
    "# analyze why '2400' were produced\n",
    "segment[segment['AOBTTime'] == '2400'].head(3)\n",
    "\n",
    "# '2400' was produced only for actual timings. Scheduled timings will not have this issue\n",
    "# when the actual timings is 2400, the date change to the next day, but wasn't reflected in the row\n",
    "# for e.g. 2400 1 Jan == 0000 2 Jan"
   ]
  },
  {
   "cell_type": "code",
   "execution_count": 19,
   "metadata": {
    "ExecuteTime": {
     "end_time": "2020-05-19T02:55:08.876172Z",
     "start_time": "2020-05-19T02:55:07.014854Z"
    },
    "hidden": true
   },
   "outputs": [],
   "source": [
    "one_day = pd.Timedelta('1 days')\n",
    "\n",
    "# Initialize AOBTDate\n",
    "segment['AOBTDate'] = segment['SOBTDate']\n",
    "\n",
    "# if 2400 occurs, add 1 day to AOBTDate\n",
    "segment.loc[segment.AOBTTime == '2400', \"AOBTDate\"] = segment['AOBTDate'] + one_day\n",
    "\n",
    "# update AOBTTime from '2400' to '0000'\n",
    "segment.loc[segment.AOBTTime == '2400', \"AOBTTime\"] = '0000'"
   ]
  },
  {
   "cell_type": "code",
   "execution_count": 20,
   "metadata": {
    "ExecuteTime": {
     "end_time": "2020-05-19T02:55:41.877555Z",
     "start_time": "2020-05-19T02:55:41.805730Z"
    },
    "hidden": true
   },
   "outputs": [
    {
     "data": {
      "text/html": [
       "<div>\n",
       "<style scoped>\n",
       "    .dataframe tbody tr th:only-of-type {\n",
       "        vertical-align: middle;\n",
       "    }\n",
       "\n",
       "    .dataframe tbody tr th {\n",
       "        vertical-align: top;\n",
       "    }\n",
       "\n",
       "    .dataframe thead th {\n",
       "        text-align: right;\n",
       "    }\n",
       "</style>\n",
       "<table border=\"1\" class=\"dataframe\">\n",
       "  <thead>\n",
       "    <tr style=\"text-align: right;\">\n",
       "      <th></th>\n",
       "      <th>Year</th>\n",
       "      <th>Quarter</th>\n",
       "      <th>Month</th>\n",
       "      <th>DayofMonth</th>\n",
       "      <th>DayofWeek</th>\n",
       "      <th>SOBTDate</th>\n",
       "      <th>SIBTDate</th>\n",
       "      <th>UniqueCarrierCode</th>\n",
       "      <th>OriginAirportID</th>\n",
       "      <th>OriginCityName</th>\n",
       "      <th>OriginStateName</th>\n",
       "      <th>SOBTTime</th>\n",
       "      <th>AOBTTime</th>\n",
       "      <th>OBTDelay</th>\n",
       "      <th>OBTDel15</th>\n",
       "      <th>OBTDelayGroups</th>\n",
       "      <th>OBTTimeBlk</th>\n",
       "      <th>AXOT</th>\n",
       "      <th>ATOTTime</th>\n",
       "      <th>ALDTTime</th>\n",
       "      <th>AXIT</th>\n",
       "      <th>SIBTTime</th>\n",
       "      <th>AIBTTime</th>\n",
       "      <th>IBTDelay</th>\n",
       "      <th>IBTDel15</th>\n",
       "      <th>IBTDelayGroups</th>\n",
       "      <th>IBTTimeBlk</th>\n",
       "      <th>SOBTtoSIBT</th>\n",
       "      <th>AOBTtoAIBT</th>\n",
       "      <th>AirborneTime</th>\n",
       "      <th>Distance</th>\n",
       "      <th>DistanceGroup</th>\n",
       "      <th>CarrierDelay</th>\n",
       "      <th>WeatherDelay</th>\n",
       "      <th>NASDelay</th>\n",
       "      <th>SecurityDelay</th>\n",
       "      <th>LateAircraftDelay</th>\n",
       "      <th>AOBTDate</th>\n",
       "    </tr>\n",
       "  </thead>\n",
       "  <tbody>\n",
       "    <tr>\n",
       "      <th>4734</th>\n",
       "      <td>2017</td>\n",
       "      <td>1</td>\n",
       "      <td>1</td>\n",
       "      <td>29</td>\n",
       "      <td>7</td>\n",
       "      <td>2017-01-29</td>\n",
       "      <td>2017-01-29</td>\n",
       "      <td>DL</td>\n",
       "      <td>11057</td>\n",
       "      <td>Charlotte, NC</td>\n",
       "      <td>North Carolina</td>\n",
       "      <td>19:45:00</td>\n",
       "      <td>2341</td>\n",
       "      <td>236.0</td>\n",
       "      <td>1.0</td>\n",
       "      <td>12.0</td>\n",
       "      <td>1900-1959</td>\n",
       "      <td>19.0</td>\n",
       "      <td>2400</td>\n",
       "      <td>0041</td>\n",
       "      <td>10.0</td>\n",
       "      <td>21:11:00</td>\n",
       "      <td>0051</td>\n",
       "      <td>220.0</td>\n",
       "      <td>1.0</td>\n",
       "      <td>12.0</td>\n",
       "      <td>2100-2159</td>\n",
       "      <td>86.0</td>\n",
       "      <td>70.0</td>\n",
       "      <td>41.0</td>\n",
       "      <td>226.0</td>\n",
       "      <td>1</td>\n",
       "      <td>217.0</td>\n",
       "      <td>0.0</td>\n",
       "      <td>0.0</td>\n",
       "      <td>0.0</td>\n",
       "      <td>3.0</td>\n",
       "      <td>2017-01-29</td>\n",
       "    </tr>\n",
       "    <tr>\n",
       "      <th>4749</th>\n",
       "      <td>2017</td>\n",
       "      <td>1</td>\n",
       "      <td>1</td>\n",
       "      <td>29</td>\n",
       "      <td>7</td>\n",
       "      <td>2017-01-29</td>\n",
       "      <td>2017-01-29</td>\n",
       "      <td>DL</td>\n",
       "      <td>15412</td>\n",
       "      <td>Knoxville, TN</td>\n",
       "      <td>Tennessee</td>\n",
       "      <td>19:16:00</td>\n",
       "      <td>2350</td>\n",
       "      <td>274.0</td>\n",
       "      <td>1.0</td>\n",
       "      <td>12.0</td>\n",
       "      <td>1900-1959</td>\n",
       "      <td>10.0</td>\n",
       "      <td>2400</td>\n",
       "      <td>0029</td>\n",
       "      <td>11.0</td>\n",
       "      <td>20:30:00</td>\n",
       "      <td>0040</td>\n",
       "      <td>250.0</td>\n",
       "      <td>1.0</td>\n",
       "      <td>12.0</td>\n",
       "      <td>2000-2059</td>\n",
       "      <td>74.0</td>\n",
       "      <td>50.0</td>\n",
       "      <td>29.0</td>\n",
       "      <td>152.0</td>\n",
       "      <td>1</td>\n",
       "      <td>250.0</td>\n",
       "      <td>0.0</td>\n",
       "      <td>0.0</td>\n",
       "      <td>0.0</td>\n",
       "      <td>0.0</td>\n",
       "      <td>2017-01-29</td>\n",
       "    </tr>\n",
       "    <tr>\n",
       "      <th>7270</th>\n",
       "      <td>2017</td>\n",
       "      <td>1</td>\n",
       "      <td>1</td>\n",
       "      <td>8</td>\n",
       "      <td>7</td>\n",
       "      <td>2017-01-08</td>\n",
       "      <td>2017-01-09</td>\n",
       "      <td>DL</td>\n",
       "      <td>12892</td>\n",
       "      <td>Los Angeles, CA</td>\n",
       "      <td>California</td>\n",
       "      <td>23:35:00</td>\n",
       "      <td>2341</td>\n",
       "      <td>6.0</td>\n",
       "      <td>0.0</td>\n",
       "      <td>0.0</td>\n",
       "      <td>2300-2359</td>\n",
       "      <td>19.0</td>\n",
       "      <td>2400</td>\n",
       "      <td>0631</td>\n",
       "      <td>10.0</td>\n",
       "      <td>06:47:00</td>\n",
       "      <td>0641</td>\n",
       "      <td>-6.0</td>\n",
       "      <td>0.0</td>\n",
       "      <td>-1.0</td>\n",
       "      <td>0600-0659</td>\n",
       "      <td>252.0</td>\n",
       "      <td>240.0</td>\n",
       "      <td>211.0</td>\n",
       "      <td>1946.0</td>\n",
       "      <td>8</td>\n",
       "      <td>NaN</td>\n",
       "      <td>NaN</td>\n",
       "      <td>NaN</td>\n",
       "      <td>NaN</td>\n",
       "      <td>NaN</td>\n",
       "      <td>2017-01-08</td>\n",
       "    </tr>\n",
       "  </tbody>\n",
       "</table>\n",
       "</div>"
      ],
      "text/plain": [
       "      Year  Quarter  Month  DayofMonth  DayofWeek    SOBTDate    SIBTDate  \\\n",
       "4734  2017        1      1          29          7  2017-01-29  2017-01-29   \n",
       "4749  2017        1      1          29          7  2017-01-29  2017-01-29   \n",
       "7270  2017        1      1           8          7  2017-01-08  2017-01-09   \n",
       "\n",
       "     UniqueCarrierCode  OriginAirportID   OriginCityName OriginStateName  \\\n",
       "4734                DL            11057    Charlotte, NC  North Carolina   \n",
       "4749                DL            15412    Knoxville, TN       Tennessee   \n",
       "7270                DL            12892  Los Angeles, CA      California   \n",
       "\n",
       "      SOBTTime AOBTTime  OBTDelay  OBTDel15  OBTDelayGroups OBTTimeBlk  AXOT  \\\n",
       "4734  19:45:00     2341     236.0       1.0            12.0  1900-1959  19.0   \n",
       "4749  19:16:00     2350     274.0       1.0            12.0  1900-1959  10.0   \n",
       "7270  23:35:00     2341       6.0       0.0             0.0  2300-2359  19.0   \n",
       "\n",
       "     ATOTTime ALDTTime  AXIT  SIBTTime AIBTTime  IBTDelay  IBTDel15  \\\n",
       "4734     2400     0041  10.0  21:11:00     0051     220.0       1.0   \n",
       "4749     2400     0029  11.0  20:30:00     0040     250.0       1.0   \n",
       "7270     2400     0631  10.0  06:47:00     0641      -6.0       0.0   \n",
       "\n",
       "      IBTDelayGroups IBTTimeBlk  SOBTtoSIBT  AOBTtoAIBT  AirborneTime  \\\n",
       "4734            12.0  2100-2159        86.0        70.0          41.0   \n",
       "4749            12.0  2000-2059        74.0        50.0          29.0   \n",
       "7270            -1.0  0600-0659       252.0       240.0         211.0   \n",
       "\n",
       "      Distance  DistanceGroup  CarrierDelay  WeatherDelay  NASDelay  \\\n",
       "4734     226.0              1         217.0           0.0       0.0   \n",
       "4749     152.0              1         250.0           0.0       0.0   \n",
       "7270    1946.0              8           NaN           NaN       NaN   \n",
       "\n",
       "      SecurityDelay  LateAircraftDelay    AOBTDate  \n",
       "4734            0.0                3.0  2017-01-29  \n",
       "4749            0.0                0.0  2017-01-29  \n",
       "7270            NaN                NaN  2017-01-08  "
      ]
     },
     "execution_count": 20,
     "metadata": {},
     "output_type": "execute_result"
    }
   ],
   "source": [
    "segment[segment['ATOTTime'] == '2400'].head(3)"
   ]
  },
  {
   "cell_type": "code",
   "execution_count": 21,
   "metadata": {
    "ExecuteTime": {
     "end_time": "2020-05-19T02:55:55.635950Z",
     "start_time": "2020-05-19T02:55:53.776764Z"
    },
    "hidden": true
   },
   "outputs": [],
   "source": [
    "segment['ATOTDate'] = segment['SOBTDate']\n",
    "segment.loc[segment.ATOTTime == '2400', \"ATOTDate\"] = segment['ATOTDate'] + one_day\n",
    "segment.loc[segment.ATOTTime == '2400', \"ATOTTime\"] = '0000'"
   ]
  },
  {
   "cell_type": "code",
   "execution_count": 23,
   "metadata": {
    "ExecuteTime": {
     "end_time": "2020-05-19T02:56:00.635864Z",
     "start_time": "2020-05-19T02:56:00.563025Z"
    },
    "hidden": true
   },
   "outputs": [
    {
     "data": {
      "text/html": [
       "<div>\n",
       "<style scoped>\n",
       "    .dataframe tbody tr th:only-of-type {\n",
       "        vertical-align: middle;\n",
       "    }\n",
       "\n",
       "    .dataframe tbody tr th {\n",
       "        vertical-align: top;\n",
       "    }\n",
       "\n",
       "    .dataframe thead th {\n",
       "        text-align: right;\n",
       "    }\n",
       "</style>\n",
       "<table border=\"1\" class=\"dataframe\">\n",
       "  <thead>\n",
       "    <tr style=\"text-align: right;\">\n",
       "      <th></th>\n",
       "      <th>Year</th>\n",
       "      <th>Quarter</th>\n",
       "      <th>Month</th>\n",
       "      <th>DayofMonth</th>\n",
       "      <th>DayofWeek</th>\n",
       "      <th>SOBTDate</th>\n",
       "      <th>SIBTDate</th>\n",
       "      <th>UniqueCarrierCode</th>\n",
       "      <th>OriginAirportID</th>\n",
       "      <th>OriginCityName</th>\n",
       "      <th>OriginStateName</th>\n",
       "      <th>SOBTTime</th>\n",
       "      <th>AOBTTime</th>\n",
       "      <th>OBTDelay</th>\n",
       "      <th>OBTDel15</th>\n",
       "      <th>OBTDelayGroups</th>\n",
       "      <th>OBTTimeBlk</th>\n",
       "      <th>AXOT</th>\n",
       "      <th>ATOTTime</th>\n",
       "      <th>ALDTTime</th>\n",
       "      <th>AXIT</th>\n",
       "      <th>SIBTTime</th>\n",
       "      <th>AIBTTime</th>\n",
       "      <th>IBTDelay</th>\n",
       "      <th>IBTDel15</th>\n",
       "      <th>IBTDelayGroups</th>\n",
       "      <th>IBTTimeBlk</th>\n",
       "      <th>SOBTtoSIBT</th>\n",
       "      <th>AOBTtoAIBT</th>\n",
       "      <th>AirborneTime</th>\n",
       "      <th>Distance</th>\n",
       "      <th>DistanceGroup</th>\n",
       "      <th>CarrierDelay</th>\n",
       "      <th>WeatherDelay</th>\n",
       "      <th>NASDelay</th>\n",
       "      <th>SecurityDelay</th>\n",
       "      <th>LateAircraftDelay</th>\n",
       "      <th>AOBTDate</th>\n",
       "      <th>ATOTDate</th>\n",
       "    </tr>\n",
       "  </thead>\n",
       "  <tbody>\n",
       "    <tr>\n",
       "      <th>149</th>\n",
       "      <td>2017</td>\n",
       "      <td>1</td>\n",
       "      <td>1</td>\n",
       "      <td>16</td>\n",
       "      <td>1</td>\n",
       "      <td>2017-01-16</td>\n",
       "      <td>2017-01-16</td>\n",
       "      <td>AS</td>\n",
       "      <td>14747</td>\n",
       "      <td>Seattle, WA</td>\n",
       "      <td>Washington</td>\n",
       "      <td>16:15:00</td>\n",
       "      <td>1618</td>\n",
       "      <td>3.0</td>\n",
       "      <td>0.0</td>\n",
       "      <td>0.0</td>\n",
       "      <td>1600-1659</td>\n",
       "      <td>18.0</td>\n",
       "      <td>1636</td>\n",
       "      <td>2400</td>\n",
       "      <td>7.0</td>\n",
       "      <td>23:59:00</td>\n",
       "      <td>0007</td>\n",
       "      <td>8.0</td>\n",
       "      <td>0.0</td>\n",
       "      <td>0.0</td>\n",
       "      <td>2300-2359</td>\n",
       "      <td>284.0</td>\n",
       "      <td>289.0</td>\n",
       "      <td>264.0</td>\n",
       "      <td>2182.0</td>\n",
       "      <td>9</td>\n",
       "      <td>NaN</td>\n",
       "      <td>NaN</td>\n",
       "      <td>NaN</td>\n",
       "      <td>NaN</td>\n",
       "      <td>NaN</td>\n",
       "      <td>2017-01-16</td>\n",
       "      <td>2017-01-16</td>\n",
       "    </tr>\n",
       "    <tr>\n",
       "      <th>6753</th>\n",
       "      <td>2017</td>\n",
       "      <td>1</td>\n",
       "      <td>1</td>\n",
       "      <td>23</td>\n",
       "      <td>1</td>\n",
       "      <td>2017-01-23</td>\n",
       "      <td>2017-01-23</td>\n",
       "      <td>WN</td>\n",
       "      <td>11278</td>\n",
       "      <td>Washington, DC</td>\n",
       "      <td>Virginia</td>\n",
       "      <td>20:55:00</td>\n",
       "      <td>2230</td>\n",
       "      <td>95.0</td>\n",
       "      <td>1.0</td>\n",
       "      <td>6.0</td>\n",
       "      <td>2000-2059</td>\n",
       "      <td>14.0</td>\n",
       "      <td>2244</td>\n",
       "      <td>2400</td>\n",
       "      <td>8.0</td>\n",
       "      <td>22:55:00</td>\n",
       "      <td>0008</td>\n",
       "      <td>73.0</td>\n",
       "      <td>1.0</td>\n",
       "      <td>4.0</td>\n",
       "      <td>2200-2259</td>\n",
       "      <td>120.0</td>\n",
       "      <td>98.0</td>\n",
       "      <td>76.0</td>\n",
       "      <td>547.0</td>\n",
       "      <td>3</td>\n",
       "      <td>0.0</td>\n",
       "      <td>0.0</td>\n",
       "      <td>0.0</td>\n",
       "      <td>0.0</td>\n",
       "      <td>73.0</td>\n",
       "      <td>2017-01-23</td>\n",
       "      <td>2017-01-23</td>\n",
       "    </tr>\n",
       "    <tr>\n",
       "      <th>13357</th>\n",
       "      <td>2017</td>\n",
       "      <td>1</td>\n",
       "      <td>1</td>\n",
       "      <td>7</td>\n",
       "      <td>6</td>\n",
       "      <td>2017-01-07</td>\n",
       "      <td>2017-01-07</td>\n",
       "      <td>DL</td>\n",
       "      <td>11618</td>\n",
       "      <td>Newark, NJ</td>\n",
       "      <td>New Jersey</td>\n",
       "      <td>16:45:00</td>\n",
       "      <td>2037</td>\n",
       "      <td>232.0</td>\n",
       "      <td>1.0</td>\n",
       "      <td>12.0</td>\n",
       "      <td>1600-1659</td>\n",
       "      <td>87.0</td>\n",
       "      <td>2204</td>\n",
       "      <td>2400</td>\n",
       "      <td>12.0</td>\n",
       "      <td>19:23:00</td>\n",
       "      <td>0012</td>\n",
       "      <td>289.0</td>\n",
       "      <td>1.0</td>\n",
       "      <td>12.0</td>\n",
       "      <td>1900-1959</td>\n",
       "      <td>158.0</td>\n",
       "      <td>215.0</td>\n",
       "      <td>116.0</td>\n",
       "      <td>746.0</td>\n",
       "      <td>3</td>\n",
       "      <td>0.0</td>\n",
       "      <td>15.0</td>\n",
       "      <td>57.0</td>\n",
       "      <td>0.0</td>\n",
       "      <td>217.0</td>\n",
       "      <td>2017-01-07</td>\n",
       "      <td>2017-01-07</td>\n",
       "    </tr>\n",
       "  </tbody>\n",
       "</table>\n",
       "</div>"
      ],
      "text/plain": [
       "       Year  Quarter  Month  DayofMonth  DayofWeek    SOBTDate    SIBTDate  \\\n",
       "149    2017        1      1          16          1  2017-01-16  2017-01-16   \n",
       "6753   2017        1      1          23          1  2017-01-23  2017-01-23   \n",
       "13357  2017        1      1           7          6  2017-01-07  2017-01-07   \n",
       "\n",
       "      UniqueCarrierCode  OriginAirportID  OriginCityName OriginStateName  \\\n",
       "149                  AS            14747     Seattle, WA      Washington   \n",
       "6753                 WN            11278  Washington, DC        Virginia   \n",
       "13357                DL            11618      Newark, NJ      New Jersey   \n",
       "\n",
       "       SOBTTime AOBTTime  OBTDelay  OBTDel15  OBTDelayGroups OBTTimeBlk  AXOT  \\\n",
       "149    16:15:00     1618       3.0       0.0             0.0  1600-1659  18.0   \n",
       "6753   20:55:00     2230      95.0       1.0             6.0  2000-2059  14.0   \n",
       "13357  16:45:00     2037     232.0       1.0            12.0  1600-1659  87.0   \n",
       "\n",
       "      ATOTTime ALDTTime  AXIT  SIBTTime AIBTTime  IBTDelay  IBTDel15  \\\n",
       "149       1636     2400   7.0  23:59:00     0007       8.0       0.0   \n",
       "6753      2244     2400   8.0  22:55:00     0008      73.0       1.0   \n",
       "13357     2204     2400  12.0  19:23:00     0012     289.0       1.0   \n",
       "\n",
       "       IBTDelayGroups IBTTimeBlk  SOBTtoSIBT  AOBTtoAIBT  AirborneTime  \\\n",
       "149               0.0  2300-2359       284.0       289.0         264.0   \n",
       "6753              4.0  2200-2259       120.0        98.0          76.0   \n",
       "13357            12.0  1900-1959       158.0       215.0         116.0   \n",
       "\n",
       "       Distance  DistanceGroup  CarrierDelay  WeatherDelay  NASDelay  \\\n",
       "149      2182.0              9           NaN           NaN       NaN   \n",
       "6753      547.0              3           0.0           0.0       0.0   \n",
       "13357     746.0              3           0.0          15.0      57.0   \n",
       "\n",
       "       SecurityDelay  LateAircraftDelay    AOBTDate    ATOTDate  \n",
       "149              NaN                NaN  2017-01-16  2017-01-16  \n",
       "6753             0.0               73.0  2017-01-23  2017-01-23  \n",
       "13357            0.0              217.0  2017-01-07  2017-01-07  "
      ]
     },
     "execution_count": 23,
     "metadata": {},
     "output_type": "execute_result"
    }
   ],
   "source": [
    "segment[segment['ALDTTime'] == '2400'].head(3)"
   ]
  },
  {
   "cell_type": "code",
   "execution_count": 24,
   "metadata": {
    "ExecuteTime": {
     "end_time": "2020-05-19T02:56:13.832249Z",
     "start_time": "2020-05-19T02:56:11.959192Z"
    },
    "hidden": true
   },
   "outputs": [],
   "source": [
    "segment['ALDTDate'] = segment['SIBTDate']\n",
    "segment.loc[segment.ALDTTime == '2400', \"ALDTDate\"] = segment['ALDTDate'] + one_day\n",
    "segment.loc[segment.ALDTTime == '2400', \"ALDTTime\"] = '0000'"
   ]
  },
  {
   "cell_type": "code",
   "execution_count": 25,
   "metadata": {
    "ExecuteTime": {
     "end_time": "2020-05-19T02:56:15.800035Z",
     "start_time": "2020-05-19T02:56:15.720247Z"
    },
    "hidden": true
   },
   "outputs": [
    {
     "data": {
      "text/html": [
       "<div>\n",
       "<style scoped>\n",
       "    .dataframe tbody tr th:only-of-type {\n",
       "        vertical-align: middle;\n",
       "    }\n",
       "\n",
       "    .dataframe tbody tr th {\n",
       "        vertical-align: top;\n",
       "    }\n",
       "\n",
       "    .dataframe thead th {\n",
       "        text-align: right;\n",
       "    }\n",
       "</style>\n",
       "<table border=\"1\" class=\"dataframe\">\n",
       "  <thead>\n",
       "    <tr style=\"text-align: right;\">\n",
       "      <th></th>\n",
       "      <th>Year</th>\n",
       "      <th>Quarter</th>\n",
       "      <th>Month</th>\n",
       "      <th>DayofMonth</th>\n",
       "      <th>DayofWeek</th>\n",
       "      <th>SOBTDate</th>\n",
       "      <th>SIBTDate</th>\n",
       "      <th>UniqueCarrierCode</th>\n",
       "      <th>OriginAirportID</th>\n",
       "      <th>OriginCityName</th>\n",
       "      <th>OriginStateName</th>\n",
       "      <th>SOBTTime</th>\n",
       "      <th>AOBTTime</th>\n",
       "      <th>OBTDelay</th>\n",
       "      <th>OBTDel15</th>\n",
       "      <th>OBTDelayGroups</th>\n",
       "      <th>OBTTimeBlk</th>\n",
       "      <th>AXOT</th>\n",
       "      <th>ATOTTime</th>\n",
       "      <th>ALDTTime</th>\n",
       "      <th>AXIT</th>\n",
       "      <th>SIBTTime</th>\n",
       "      <th>AIBTTime</th>\n",
       "      <th>IBTDelay</th>\n",
       "      <th>IBTDel15</th>\n",
       "      <th>IBTDelayGroups</th>\n",
       "      <th>IBTTimeBlk</th>\n",
       "      <th>SOBTtoSIBT</th>\n",
       "      <th>AOBTtoAIBT</th>\n",
       "      <th>AirborneTime</th>\n",
       "      <th>Distance</th>\n",
       "      <th>DistanceGroup</th>\n",
       "      <th>CarrierDelay</th>\n",
       "      <th>WeatherDelay</th>\n",
       "      <th>NASDelay</th>\n",
       "      <th>SecurityDelay</th>\n",
       "      <th>LateAircraftDelay</th>\n",
       "      <th>AOBTDate</th>\n",
       "      <th>ATOTDate</th>\n",
       "      <th>ALDTDate</th>\n",
       "    </tr>\n",
       "  </thead>\n",
       "  <tbody>\n",
       "    <tr>\n",
       "      <th>12257</th>\n",
       "      <td>2017</td>\n",
       "      <td>1</td>\n",
       "      <td>1</td>\n",
       "      <td>1</td>\n",
       "      <td>7</td>\n",
       "      <td>2017-01-01</td>\n",
       "      <td>2017-01-01</td>\n",
       "      <td>AA</td>\n",
       "      <td>13303</td>\n",
       "      <td>Miami, FL</td>\n",
       "      <td>Florida</td>\n",
       "      <td>21:43:00</td>\n",
       "      <td>2206</td>\n",
       "      <td>23.0</td>\n",
       "      <td>1.0</td>\n",
       "      <td>1.0</td>\n",
       "      <td>2100-2159</td>\n",
       "      <td>17.0</td>\n",
       "      <td>2223</td>\n",
       "      <td>2351</td>\n",
       "      <td>9.0</td>\n",
       "      <td>23:49:00</td>\n",
       "      <td>2400</td>\n",
       "      <td>11.0</td>\n",
       "      <td>0.0</td>\n",
       "      <td>0.0</td>\n",
       "      <td>2300-2359</td>\n",
       "      <td>126.0</td>\n",
       "      <td>114.0</td>\n",
       "      <td>88.0</td>\n",
       "      <td>594.0</td>\n",
       "      <td>3</td>\n",
       "      <td>NaN</td>\n",
       "      <td>NaN</td>\n",
       "      <td>NaN</td>\n",
       "      <td>NaN</td>\n",
       "      <td>NaN</td>\n",
       "      <td>2017-01-01</td>\n",
       "      <td>2017-01-01</td>\n",
       "      <td>2017-01-01</td>\n",
       "    </tr>\n",
       "    <tr>\n",
       "      <th>12268</th>\n",
       "      <td>2017</td>\n",
       "      <td>1</td>\n",
       "      <td>1</td>\n",
       "      <td>13</td>\n",
       "      <td>5</td>\n",
       "      <td>2017-01-13</td>\n",
       "      <td>2017-01-13</td>\n",
       "      <td>AA</td>\n",
       "      <td>13303</td>\n",
       "      <td>Miami, FL</td>\n",
       "      <td>Florida</td>\n",
       "      <td>21:41:00</td>\n",
       "      <td>2201</td>\n",
       "      <td>20.0</td>\n",
       "      <td>1.0</td>\n",
       "      <td>1.0</td>\n",
       "      <td>2100-2159</td>\n",
       "      <td>24.0</td>\n",
       "      <td>2225</td>\n",
       "      <td>2351</td>\n",
       "      <td>9.0</td>\n",
       "      <td>23:42:00</td>\n",
       "      <td>2400</td>\n",
       "      <td>18.0</td>\n",
       "      <td>1.0</td>\n",
       "      <td>1.0</td>\n",
       "      <td>2300-2359</td>\n",
       "      <td>121.0</td>\n",
       "      <td>119.0</td>\n",
       "      <td>86.0</td>\n",
       "      <td>594.0</td>\n",
       "      <td>3</td>\n",
       "      <td>18.0</td>\n",
       "      <td>0.0</td>\n",
       "      <td>0.0</td>\n",
       "      <td>0.0</td>\n",
       "      <td>0.0</td>\n",
       "      <td>2017-01-13</td>\n",
       "      <td>2017-01-13</td>\n",
       "      <td>2017-01-13</td>\n",
       "    </tr>\n",
       "    <tr>\n",
       "      <th>13264</th>\n",
       "      <td>2017</td>\n",
       "      <td>1</td>\n",
       "      <td>1</td>\n",
       "      <td>7</td>\n",
       "      <td>6</td>\n",
       "      <td>2017-01-07</td>\n",
       "      <td>2017-01-07</td>\n",
       "      <td>DL</td>\n",
       "      <td>11433</td>\n",
       "      <td>Detroit, MI</td>\n",
       "      <td>Michigan</td>\n",
       "      <td>20:18:00</td>\n",
       "      <td>2153</td>\n",
       "      <td>95.0</td>\n",
       "      <td>1.0</td>\n",
       "      <td>6.0</td>\n",
       "      <td>2000-2059</td>\n",
       "      <td>37.0</td>\n",
       "      <td>2230</td>\n",
       "      <td>2356</td>\n",
       "      <td>4.0</td>\n",
       "      <td>22:29:00</td>\n",
       "      <td>2400</td>\n",
       "      <td>91.0</td>\n",
       "      <td>1.0</td>\n",
       "      <td>6.0</td>\n",
       "      <td>2200-2259</td>\n",
       "      <td>131.0</td>\n",
       "      <td>127.0</td>\n",
       "      <td>86.0</td>\n",
       "      <td>594.0</td>\n",
       "      <td>3</td>\n",
       "      <td>86.0</td>\n",
       "      <td>0.0</td>\n",
       "      <td>0.0</td>\n",
       "      <td>0.0</td>\n",
       "      <td>5.0</td>\n",
       "      <td>2017-01-07</td>\n",
       "      <td>2017-01-07</td>\n",
       "      <td>2017-01-07</td>\n",
       "    </tr>\n",
       "  </tbody>\n",
       "</table>\n",
       "</div>"
      ],
      "text/plain": [
       "       Year  Quarter  Month  DayofMonth  DayofWeek    SOBTDate    SIBTDate  \\\n",
       "12257  2017        1      1           1          7  2017-01-01  2017-01-01   \n",
       "12268  2017        1      1          13          5  2017-01-13  2017-01-13   \n",
       "13264  2017        1      1           7          6  2017-01-07  2017-01-07   \n",
       "\n",
       "      UniqueCarrierCode  OriginAirportID OriginCityName OriginStateName  \\\n",
       "12257                AA            13303      Miami, FL         Florida   \n",
       "12268                AA            13303      Miami, FL         Florida   \n",
       "13264                DL            11433    Detroit, MI        Michigan   \n",
       "\n",
       "       SOBTTime AOBTTime  OBTDelay  OBTDel15  OBTDelayGroups OBTTimeBlk  AXOT  \\\n",
       "12257  21:43:00     2206      23.0       1.0             1.0  2100-2159  17.0   \n",
       "12268  21:41:00     2201      20.0       1.0             1.0  2100-2159  24.0   \n",
       "13264  20:18:00     2153      95.0       1.0             6.0  2000-2059  37.0   \n",
       "\n",
       "      ATOTTime ALDTTime  AXIT  SIBTTime AIBTTime  IBTDelay  IBTDel15  \\\n",
       "12257     2223     2351   9.0  23:49:00     2400      11.0       0.0   \n",
       "12268     2225     2351   9.0  23:42:00     2400      18.0       1.0   \n",
       "13264     2230     2356   4.0  22:29:00     2400      91.0       1.0   \n",
       "\n",
       "       IBTDelayGroups IBTTimeBlk  SOBTtoSIBT  AOBTtoAIBT  AirborneTime  \\\n",
       "12257             0.0  2300-2359       126.0       114.0          88.0   \n",
       "12268             1.0  2300-2359       121.0       119.0          86.0   \n",
       "13264             6.0  2200-2259       131.0       127.0          86.0   \n",
       "\n",
       "       Distance  DistanceGroup  CarrierDelay  WeatherDelay  NASDelay  \\\n",
       "12257     594.0              3           NaN           NaN       NaN   \n",
       "12268     594.0              3          18.0           0.0       0.0   \n",
       "13264     594.0              3          86.0           0.0       0.0   \n",
       "\n",
       "       SecurityDelay  LateAircraftDelay    AOBTDate    ATOTDate    ALDTDate  \n",
       "12257            NaN                NaN  2017-01-01  2017-01-01  2017-01-01  \n",
       "12268            0.0                0.0  2017-01-13  2017-01-13  2017-01-13  \n",
       "13264            0.0                5.0  2017-01-07  2017-01-07  2017-01-07  "
      ]
     },
     "execution_count": 25,
     "metadata": {},
     "output_type": "execute_result"
    }
   ],
   "source": [
    "segment[segment['AIBTTime'] == '2400'].head(3)"
   ]
  },
  {
   "cell_type": "code",
   "execution_count": 26,
   "metadata": {
    "ExecuteTime": {
     "end_time": "2020-05-19T02:56:24.935364Z",
     "start_time": "2020-05-19T02:56:23.031212Z"
    },
    "hidden": true
   },
   "outputs": [],
   "source": [
    "segment['AIBTDate'] = segment['SIBTDate']\n",
    "segment.loc[segment.AIBTTime == '2400', \"AIBTDate\"] = segment['AIBTDate'] + one_day\n",
    "segment.loc[segment.AIBTTime == '2400', \"AIBTTime\"] = '0000'"
   ]
  },
  {
   "cell_type": "code",
   "execution_count": 28,
   "metadata": {
    "ExecuteTime": {
     "end_time": "2020-05-19T03:08:53.892868Z",
     "start_time": "2020-05-19T03:03:12.616132Z"
    },
    "hidden": true
   },
   "outputs": [],
   "source": [
    "# now the issue of '2400' is resolved\n",
    "# update timings to time objects\n",
    "for timing in timing_list:\n",
    "    segment[timing] = segment[timing].apply(\n",
    "        lambda x: pd.to_datetime(x, format='%H%M')).dt.time"
   ]
  },
  {
   "cell_type": "code",
   "execution_count": 29,
   "metadata": {
    "ExecuteTime": {
     "end_time": "2020-05-19T03:08:54.082194Z",
     "start_time": "2020-05-19T03:08:54.056262Z"
    },
    "hidden": true
   },
   "outputs": [
    {
     "data": {
      "text/html": [
       "<div>\n",
       "<style scoped>\n",
       "    .dataframe tbody tr th:only-of-type {\n",
       "        vertical-align: middle;\n",
       "    }\n",
       "\n",
       "    .dataframe tbody tr th {\n",
       "        vertical-align: top;\n",
       "    }\n",
       "\n",
       "    .dataframe thead th {\n",
       "        text-align: right;\n",
       "    }\n",
       "</style>\n",
       "<table border=\"1\" class=\"dataframe\">\n",
       "  <thead>\n",
       "    <tr style=\"text-align: right;\">\n",
       "      <th></th>\n",
       "      <th>Year</th>\n",
       "      <th>Quarter</th>\n",
       "      <th>Month</th>\n",
       "      <th>DayofMonth</th>\n",
       "      <th>DayofWeek</th>\n",
       "      <th>SOBTDate</th>\n",
       "      <th>SIBTDate</th>\n",
       "      <th>UniqueCarrierCode</th>\n",
       "      <th>OriginAirportID</th>\n",
       "      <th>OriginCityName</th>\n",
       "      <th>OriginStateName</th>\n",
       "      <th>SOBTTime</th>\n",
       "      <th>AOBTTime</th>\n",
       "      <th>OBTDelay</th>\n",
       "      <th>OBTDel15</th>\n",
       "      <th>OBTDelayGroups</th>\n",
       "      <th>OBTTimeBlk</th>\n",
       "      <th>AXOT</th>\n",
       "      <th>ATOTTime</th>\n",
       "      <th>ALDTTime</th>\n",
       "      <th>AXIT</th>\n",
       "      <th>SIBTTime</th>\n",
       "      <th>AIBTTime</th>\n",
       "      <th>IBTDelay</th>\n",
       "      <th>IBTDel15</th>\n",
       "      <th>IBTDelayGroups</th>\n",
       "      <th>IBTTimeBlk</th>\n",
       "      <th>SOBTtoSIBT</th>\n",
       "      <th>AOBTtoAIBT</th>\n",
       "      <th>AirborneTime</th>\n",
       "      <th>Distance</th>\n",
       "      <th>DistanceGroup</th>\n",
       "      <th>CarrierDelay</th>\n",
       "      <th>WeatherDelay</th>\n",
       "      <th>NASDelay</th>\n",
       "      <th>SecurityDelay</th>\n",
       "      <th>LateAircraftDelay</th>\n",
       "      <th>AOBTDate</th>\n",
       "      <th>ATOTDate</th>\n",
       "      <th>ALDTDate</th>\n",
       "      <th>AIBTDate</th>\n",
       "    </tr>\n",
       "  </thead>\n",
       "  <tbody>\n",
       "    <tr>\n",
       "      <th>0</th>\n",
       "      <td>2017</td>\n",
       "      <td>1</td>\n",
       "      <td>1</td>\n",
       "      <td>1</td>\n",
       "      <td>7</td>\n",
       "      <td>2017-01-01</td>\n",
       "      <td>2017-01-01</td>\n",
       "      <td>AA</td>\n",
       "      <td>11298</td>\n",
       "      <td>Dallas/Fort Worth, TX</td>\n",
       "      <td>Texas</td>\n",
       "      <td>14:25:00</td>\n",
       "      <td>14:30:00</td>\n",
       "      <td>5.0</td>\n",
       "      <td>0.0</td>\n",
       "      <td>0.0</td>\n",
       "      <td>1400-1459</td>\n",
       "      <td>12.0</td>\n",
       "      <td>14:42:00</td>\n",
       "      <td>17:17:00</td>\n",
       "      <td>10.0</td>\n",
       "      <td>17:26:00</td>\n",
       "      <td>17:27:00</td>\n",
       "      <td>1.0</td>\n",
       "      <td>0.0</td>\n",
       "      <td>0.0</td>\n",
       "      <td>1700-1759</td>\n",
       "      <td>121.0</td>\n",
       "      <td>117.0</td>\n",
       "      <td>95.0</td>\n",
       "      <td>731.0</td>\n",
       "      <td>3</td>\n",
       "      <td>NaN</td>\n",
       "      <td>NaN</td>\n",
       "      <td>NaN</td>\n",
       "      <td>NaN</td>\n",
       "      <td>NaN</td>\n",
       "      <td>2017-01-01</td>\n",
       "      <td>2017-01-01</td>\n",
       "      <td>2017-01-01</td>\n",
       "      <td>2017-01-01</td>\n",
       "    </tr>\n",
       "    <tr>\n",
       "      <th>1</th>\n",
       "      <td>2017</td>\n",
       "      <td>1</td>\n",
       "      <td>1</td>\n",
       "      <td>2</td>\n",
       "      <td>1</td>\n",
       "      <td>2017-01-02</td>\n",
       "      <td>2017-01-02</td>\n",
       "      <td>AA</td>\n",
       "      <td>11298</td>\n",
       "      <td>Dallas/Fort Worth, TX</td>\n",
       "      <td>Texas</td>\n",
       "      <td>14:25:00</td>\n",
       "      <td>14:20:00</td>\n",
       "      <td>-5.0</td>\n",
       "      <td>0.0</td>\n",
       "      <td>-1.0</td>\n",
       "      <td>1400-1459</td>\n",
       "      <td>13.0</td>\n",
       "      <td>14:33:00</td>\n",
       "      <td>17:23:00</td>\n",
       "      <td>11.0</td>\n",
       "      <td>17:26:00</td>\n",
       "      <td>17:34:00</td>\n",
       "      <td>8.0</td>\n",
       "      <td>0.0</td>\n",
       "      <td>0.0</td>\n",
       "      <td>1700-1759</td>\n",
       "      <td>121.0</td>\n",
       "      <td>134.0</td>\n",
       "      <td>110.0</td>\n",
       "      <td>731.0</td>\n",
       "      <td>3</td>\n",
       "      <td>NaN</td>\n",
       "      <td>NaN</td>\n",
       "      <td>NaN</td>\n",
       "      <td>NaN</td>\n",
       "      <td>NaN</td>\n",
       "      <td>2017-01-02</td>\n",
       "      <td>2017-01-02</td>\n",
       "      <td>2017-01-02</td>\n",
       "      <td>2017-01-02</td>\n",
       "    </tr>\n",
       "    <tr>\n",
       "      <th>2</th>\n",
       "      <td>2017</td>\n",
       "      <td>1</td>\n",
       "      <td>1</td>\n",
       "      <td>3</td>\n",
       "      <td>2</td>\n",
       "      <td>2017-01-03</td>\n",
       "      <td>2017-01-03</td>\n",
       "      <td>AA</td>\n",
       "      <td>11298</td>\n",
       "      <td>Dallas/Fort Worth, TX</td>\n",
       "      <td>Texas</td>\n",
       "      <td>14:25:00</td>\n",
       "      <td>14:26:00</td>\n",
       "      <td>1.0</td>\n",
       "      <td>0.0</td>\n",
       "      <td>0.0</td>\n",
       "      <td>1400-1459</td>\n",
       "      <td>14.0</td>\n",
       "      <td>14:40:00</td>\n",
       "      <td>17:18:00</td>\n",
       "      <td>5.0</td>\n",
       "      <td>17:26:00</td>\n",
       "      <td>17:23:00</td>\n",
       "      <td>-3.0</td>\n",
       "      <td>0.0</td>\n",
       "      <td>-1.0</td>\n",
       "      <td>1700-1759</td>\n",
       "      <td>121.0</td>\n",
       "      <td>117.0</td>\n",
       "      <td>98.0</td>\n",
       "      <td>731.0</td>\n",
       "      <td>3</td>\n",
       "      <td>NaN</td>\n",
       "      <td>NaN</td>\n",
       "      <td>NaN</td>\n",
       "      <td>NaN</td>\n",
       "      <td>NaN</td>\n",
       "      <td>2017-01-03</td>\n",
       "      <td>2017-01-03</td>\n",
       "      <td>2017-01-03</td>\n",
       "      <td>2017-01-03</td>\n",
       "    </tr>\n",
       "  </tbody>\n",
       "</table>\n",
       "</div>"
      ],
      "text/plain": [
       "   Year  Quarter  Month  DayofMonth  DayofWeek    SOBTDate    SIBTDate  \\\n",
       "0  2017        1      1           1          7  2017-01-01  2017-01-01   \n",
       "1  2017        1      1           2          1  2017-01-02  2017-01-02   \n",
       "2  2017        1      1           3          2  2017-01-03  2017-01-03   \n",
       "\n",
       "  UniqueCarrierCode  OriginAirportID         OriginCityName OriginStateName  \\\n",
       "0                AA            11298  Dallas/Fort Worth, TX           Texas   \n",
       "1                AA            11298  Dallas/Fort Worth, TX           Texas   \n",
       "2                AA            11298  Dallas/Fort Worth, TX           Texas   \n",
       "\n",
       "   SOBTTime  AOBTTime  OBTDelay  OBTDel15  OBTDelayGroups OBTTimeBlk  AXOT  \\\n",
       "0  14:25:00  14:30:00       5.0       0.0             0.0  1400-1459  12.0   \n",
       "1  14:25:00  14:20:00      -5.0       0.0            -1.0  1400-1459  13.0   \n",
       "2  14:25:00  14:26:00       1.0       0.0             0.0  1400-1459  14.0   \n",
       "\n",
       "   ATOTTime  ALDTTime  AXIT  SIBTTime  AIBTTime  IBTDelay  IBTDel15  \\\n",
       "0  14:42:00  17:17:00  10.0  17:26:00  17:27:00       1.0       0.0   \n",
       "1  14:33:00  17:23:00  11.0  17:26:00  17:34:00       8.0       0.0   \n",
       "2  14:40:00  17:18:00   5.0  17:26:00  17:23:00      -3.0       0.0   \n",
       "\n",
       "   IBTDelayGroups IBTTimeBlk  SOBTtoSIBT  AOBTtoAIBT  AirborneTime  Distance  \\\n",
       "0             0.0  1700-1759       121.0       117.0          95.0     731.0   \n",
       "1             0.0  1700-1759       121.0       134.0         110.0     731.0   \n",
       "2            -1.0  1700-1759       121.0       117.0          98.0     731.0   \n",
       "\n",
       "   DistanceGroup  CarrierDelay  WeatherDelay  NASDelay  SecurityDelay  \\\n",
       "0              3           NaN           NaN       NaN            NaN   \n",
       "1              3           NaN           NaN       NaN            NaN   \n",
       "2              3           NaN           NaN       NaN            NaN   \n",
       "\n",
       "   LateAircraftDelay    AOBTDate    ATOTDate    ALDTDate    AIBTDate  \n",
       "0                NaN  2017-01-01  2017-01-01  2017-01-01  2017-01-01  \n",
       "1                NaN  2017-01-02  2017-01-02  2017-01-02  2017-01-02  \n",
       "2                NaN  2017-01-03  2017-01-03  2017-01-03  2017-01-03  "
      ]
     },
     "execution_count": 29,
     "metadata": {},
     "output_type": "execute_result"
    }
   ],
   "source": [
    "segment.head(3)"
   ]
  },
  {
   "cell_type": "code",
   "execution_count": 30,
   "metadata": {
    "ExecuteTime": {
     "end_time": "2020-05-19T03:11:01.148279Z",
     "start_time": "2020-05-19T03:08:54.318586Z"
    },
    "hidden": true
   },
   "outputs": [],
   "source": [
    "# merge date & time\n",
    "list_1 = ['SOBTDate', 'SIBTDate', 'AOBTDate',\n",
    "          'ATOTDate', 'ALDTDate', 'AIBTDate']\n",
    "list_2 = ['SOBTTime', 'SIBTTime', 'AOBTTime',\n",
    "          'ATOTTime', 'ALDTTime', 'AIBTTime']\n",
    "list_3 = ['SOBT', 'SIBT', 'AOBT', 'ATOT', 'ALDT', 'AIBT']\n",
    "\n",
    "for i in range(6):\n",
    "    segment[list_2[i]] = segment.apply(\n",
    "        lambda r: pd.datetime.combine(r[list_1[i]], r[list_2[i]]), 1)\n",
    "    segment = segment.drop(labels=list_1[i], axis=1)\n",
    "    segment = segment.rename(columns={list_2[i]: list_3[i]})"
   ]
  },
  {
   "cell_type": "code",
   "execution_count": 31,
   "metadata": {
    "ExecuteTime": {
     "end_time": "2020-05-19T03:11:12.590768Z",
     "start_time": "2020-05-19T03:11:01.340766Z"
    },
    "hidden": true
   },
   "outputs": [],
   "source": [
    "# convert float to int\n",
    "to_int = ['OBTDelay', 'OBTDel15', 'OBTDelayGroups', 'AXOT', 'AXIT', 'IBTDelay', 'IBTDel15', 'IBTDelayGroups',\n",
    "          'SOBTtoSIBT', 'AOBTtoAIBT', 'AirborneTime', 'Distance', 'DistanceGroup', 'CarrierDelay', 'WeatherDelay',\n",
    "          'NASDelay', 'SecurityDelay', 'LateAircraftDelay']\n",
    "\n",
    "for item in to_int:\n",
    "    segment[item] = segment[item].fillna(0).apply(lambda x: int(x))\n",
    "    segment[item] = segment[item].apply(lambda x: int(x))"
   ]
  },
  {
   "cell_type": "code",
   "execution_count": 35,
   "metadata": {
    "ExecuteTime": {
     "end_time": "2020-05-19T03:16:55.833464Z",
     "start_time": "2020-05-19T03:16:55.430538Z"
    },
    "hidden": true
   },
   "outputs": [],
   "source": [
    "# update Year, Quarter, Month, DayofMonth, DayofWeek based on SIBT (previously, SOBT)\n",
    "segment['Year'] = segment['SIBT'].dt.year\n",
    "segment['Quarter'] = segment['SIBT'].dt.quarter\n",
    "segment['Month'] = segment['SIBT'].dt.month\n",
    "segment['DayofMonth'] = segment['SIBT'].dt.day\n",
    "segment['DayofWeek'] = segment['SIBT'].dt.weekday + 1\n",
    "\n",
    "# update OBTTimeBlk and IBTTimeBlk based on SOBT and SIBT respectively\n",
    "segment['OBTTimeBlk'] = segment['SOBT'].dt.hour\n",
    "segment['IBTTimeBlk'] = segment['SIBT'].dt.hour"
   ]
  },
  {
   "cell_type": "code",
   "execution_count": 55,
   "metadata": {
    "ExecuteTime": {
     "end_time": "2020-05-19T03:25:55.352266Z",
     "start_time": "2020-05-19T03:25:55.343266Z"
    },
    "hidden": true
   },
   "outputs": [
    {
     "data": {
      "text/plain": [
       "14"
      ]
     },
     "execution_count": 55,
     "metadata": {},
     "output_type": "execute_result"
    }
   ],
   "source": [
    "# as Year was updated based on SIBT, there are flights scheduled to arrive at ATL in 2019\n",
    "# count how many such flights there are\n",
    "segment[segment['Year']==2019]['Year'].count()"
   ]
  },
  {
   "cell_type": "code",
   "execution_count": 58,
   "metadata": {
    "ExecuteTime": {
     "end_time": "2020-05-19T03:27:08.087762Z",
     "start_time": "2020-05-19T03:27:07.925235Z"
    },
    "hidden": true
   },
   "outputs": [],
   "source": [
    "# remove these 14 flights as only arrival flights scheduled in 2017 and 2018 are of concern\n",
    "segment = segment[segment['Year'] != 2019]"
   ]
  },
  {
   "cell_type": "code",
   "execution_count": 59,
   "metadata": {
    "ExecuteTime": {
     "end_time": "2020-05-19T03:27:09.627642Z",
     "start_time": "2020-05-19T03:27:09.523746Z"
    },
    "hidden": true
   },
   "outputs": [],
   "source": [
    "flights = segment.copy()"
   ]
  },
  {
   "cell_type": "markdown",
   "metadata": {},
   "source": [
    "# Explore"
   ]
  },
  {
   "cell_type": "code",
   "execution_count": 200,
   "metadata": {
    "ExecuteTime": {
     "end_time": "2020-05-19T07:52:48.723629Z",
     "start_time": "2020-05-19T07:52:48.557040Z"
    },
    "hide_input": true
   },
   "outputs": [
    {
     "name": "stdout",
     "output_type": "stream",
     "text": [
      "Total number of arrivals in 2017 and 2018: 744965\n",
      "Total number of arrivals in 2017: 358249\n",
      "Total number of arrivals in 2018: 386716\n"
     ]
    }
   ],
   "source": [
    "flights_2017 = flights[flights['Year'] == 2017]\n",
    "flights_2018 = flights[flights['Year'] == 2018]\n",
    "\n",
    "print('Total number of arrivals in 2017 and 2018:', flights.shape[0])\n",
    "print('Total number of arrivals in 2017:', flights_2017.shape[0])\n",
    "print('Total number of arrivals in 2018:', flights_2018.shape[0])"
   ]
  },
  {
   "cell_type": "markdown",
   "metadata": {},
   "source": [
    "## Airlines and origin airports"
   ]
  },
  {
   "cell_type": "code",
   "execution_count": 167,
   "metadata": {
    "ExecuteTime": {
     "end_time": "2020-05-19T06:28:44.892864Z",
     "start_time": "2020-05-19T06:28:44.848981Z"
    },
    "code_folding": [
     0
    ],
    "hide_input": true
   },
   "outputs": [
    {
     "name": "stdout",
     "output_type": "stream",
     "text": [
      "Arrival flights come from 168 different airports.\n",
      "And they belong to these airlines: \n",
      "['AA' 'AS' 'DL' 'F9' 'NK' 'OO' 'UA' 'WN' 'EV' 'B6' '9E' 'MQ' 'OH' 'YV'\n",
      " 'YX']\n"
     ]
    }
   ],
   "source": [
    "print('Arrival flights come from ' +\n",
    "      str(len(flights['OriginAirportID'].unique())) + ' different airports.')\n",
    "print('And they belong to these airlines: ')\n",
    "print(flights['UniqueCarrierCode'].unique())"
   ]
  },
  {
   "cell_type": "code",
   "execution_count": 107,
   "metadata": {
    "ExecuteTime": {
     "end_time": "2020-05-19T04:20:57.674297Z",
     "start_time": "2020-05-19T04:20:57.472842Z"
    },
    "code_folding": [],
    "hide_input": true
   },
   "outputs": [
    {
     "data": {
      "text/plain": [
       "Text(0.5, 1.0, 'Number of arrivals by airline')"
      ]
     },
     "execution_count": 107,
     "metadata": {},
     "output_type": "execute_result"
    },
    {
     "data": {
      "image/png": "[encoded data removed]",
      "text/plain": [
       "<Figure size 576x144 with 1 Axes>"
      ]
     },
     "metadata": {
      "needs_background": "light"
     },
     "output_type": "display_data"
    }
   ],
   "source": [
    "by_airline = flights.groupby(['UniqueCarrierCode'])[['Year']].count().rename(\n",
    "    columns={'Year': 'Number of Arrivals'})\n",
    "by_airline.plot.bar(y='Number of Arrivals', figsize=(8, 2))\n",
    "plt.title('Number of arrivals by airline')"
   ]
  },
  {
   "cell_type": "markdown",
   "metadata": {},
   "source": [
    "## Number of arrivals by state"
   ]
  },
  {
   "cell_type": "code",
   "execution_count": 108,
   "metadata": {
    "ExecuteTime": {
     "end_time": "2020-05-19T04:21:24.934853Z",
     "start_time": "2020-05-19T04:21:24.395265Z"
    },
    "code_folding": [
     0
    ],
    "hide_input": true
   },
   "outputs": [
    {
     "data": {
      "text/plain": [
       "Text(0.5, 1.0, 'Number of arrivals by state')"
      ]
     },
     "execution_count": 108,
     "metadata": {},
     "output_type": "execute_result"
    },
    {
     "data": {
      "image/png": "[encoded data removed]",
      "text/plain": [
       "<Figure size 720x288 with 1 Axes>"
      ]
     },
     "metadata": {
      "needs_background": "light"
     },
     "output_type": "display_data"
    }
   ],
   "source": [
    "state_flights = flights.groupby(['OriginStateName'])[['Year']].count().rename(\n",
    "    columns={'Year': 'Number of Arrivals'})\n",
    "state_flights.plot.bar(figsize=(10, 4))\n",
    "plt.title('Number of arrivals by state')"
   ]
  },
  {
   "cell_type": "markdown",
   "metadata": {},
   "source": [
    "## Number of arrivals by month"
   ]
  },
  {
   "cell_type": "code",
   "execution_count": 111,
   "metadata": {
    "ExecuteTime": {
     "end_time": "2020-05-19T04:21:52.117903Z",
     "start_time": "2020-05-19T04:21:51.817708Z"
    },
    "code_folding": [
     0
    ],
    "hide_input": true
   },
   "outputs": [
    {
     "data": {
      "text/plain": [
       "Text(0.5, 1.0, 'Number of arrivals by month')"
      ]
     },
     "execution_count": 111,
     "metadata": {},
     "output_type": "execute_result"
    },
    {
     "data": {
      "image/png": "[encoded data removed]",
      "text/plain": [
       "<Figure size 720x288 with 1 Axes>"
      ]
     },
     "metadata": {
      "needs_background": "light"
     },
     "output_type": "display_data"
    }
   ],
   "source": [
    "monthly_flights = flights.groupby(['Year', 'Month'])[['Year']].count().rename(\n",
    "    columns={'Year': 'Number of Arrivals'})\n",
    "monthly_flights.plot.bar(figsize=(10, 4))\n",
    "plt.title('Number of arrivals by month')"
   ]
  },
  {
   "cell_type": "markdown",
   "metadata": {},
   "source": [
    "## Number of arrivals by quarter"
   ]
  },
  {
   "cell_type": "code",
   "execution_count": 113,
   "metadata": {
    "ExecuteTime": {
     "end_time": "2020-05-19T04:22:10.803156Z",
     "start_time": "2020-05-19T04:22:10.589694Z"
    },
    "code_folding": [
     0
    ],
    "hide_input": true
   },
   "outputs": [
    {
     "data": {
      "text/plain": [
       "Text(0.5, 1.0, 'Number of arrivals by quarter')"
      ]
     },
     "execution_count": 113,
     "metadata": {},
     "output_type": "execute_result"
    },
    {
     "data": {
      "image/png": "[encoded data removed]",
      "text/plain": [
       "<Figure size 576x216 with 1 Axes>"
      ]
     },
     "metadata": {
      "needs_background": "light"
     },
     "output_type": "display_data"
    }
   ],
   "source": [
    "quarter_flights = flights.groupby(['Year', 'Quarter'])[['Year']].count().rename(\n",
    "    columns={'Year': 'Number of Arrivals'})\n",
    "quarter_flights.plot.bar(figsize=(8, 3))\n",
    "plt.title('Number of arrivals by quarter')"
   ]
  },
  {
   "cell_type": "markdown",
   "metadata": {},
   "source": [
    "## Number of arrivals by dayofmonth"
   ]
  },
  {
   "cell_type": "code",
   "execution_count": 115,
   "metadata": {
    "ExecuteTime": {
     "end_time": "2020-05-19T04:22:30.199421Z",
     "start_time": "2020-05-19T04:22:29.918139Z"
    },
    "code_folding": [
     0
    ],
    "hide_input": true
   },
   "outputs": [
    {
     "data": {
      "text/plain": [
       "Text(0.5, 1.0, 'Number of arrivals by dayofmonth')"
      ]
     },
     "execution_count": 115,
     "metadata": {},
     "output_type": "execute_result"
    },
    {
     "data": {
      "image/png": "[encoded data removed]",
      "text/plain": [
       "<Figure size 720x288 with 1 Axes>"
      ]
     },
     "metadata": {
      "needs_background": "light"
     },
     "output_type": "display_data"
    }
   ],
   "source": [
    "monthday_flights = flights.groupby(['DayofMonth'])[['Year']].count().rename(\n",
    "    columns={'Year': 'Number of Arrivals'})\n",
    "monthday_flights.plot.bar(figsize=(10, 4))\n",
    "plt.title('Number of arrivals by dayofmonth')"
   ]
  },
  {
   "cell_type": "markdown",
   "metadata": {},
   "source": [
    "## Number of arrivals by weekday"
   ]
  },
  {
   "cell_type": "code",
   "execution_count": 116,
   "metadata": {
    "ExecuteTime": {
     "end_time": "2020-05-19T04:22:39.712141Z",
     "start_time": "2020-05-19T04:22:39.522651Z"
    },
    "code_folding": [
     0
    ],
    "hide_input": true
   },
   "outputs": [
    {
     "data": {
      "text/plain": [
       "Text(0.5, 1.0, 'Number of arrivals by weekday')"
      ]
     },
     "execution_count": 116,
     "metadata": {},
     "output_type": "execute_result"
    },
    {
     "data": {
      "image/png": "[encoded data removed]",
      "text/plain": [
       "<Figure size 576x360 with 1 Axes>"
      ]
     },
     "metadata": {
      "needs_background": "light"
     },
     "output_type": "display_data"
    }
   ],
   "source": [
    "weekday_flights = flights.groupby(['DayofWeek'])[['Year']].count().rename(\n",
    "    columns={'Year': 'Number of Arrivals'})\n",
    "weekday_flights.plot.bar(figsize=(8, 5))\n",
    "plt.title('Number of arrivals by weekday')"
   ]
  },
  {
   "cell_type": "markdown",
   "metadata": {},
   "source": [
    "## Number of arrivals by IBTTimeBlk"
   ]
  },
  {
   "cell_type": "code",
   "execution_count": 204,
   "metadata": {
    "ExecuteTime": {
     "end_time": "2020-05-19T07:55:31.898221Z",
     "start_time": "2020-05-19T07:55:31.646894Z"
    },
    "hide_input": true
   },
   "outputs": [
    {
     "data": {
      "text/plain": [
       "Text(0.5, 1.0, 'Number of arrivals by IBTTimeBlk')"
      ]
     },
     "execution_count": 204,
     "metadata": {},
     "output_type": "execute_result"
    },
    {
     "data": {
      "image/png": "[encoded data removed]",
      "text/plain": [
       "<Figure size 576x360 with 1 Axes>"
      ]
     },
     "metadata": {
      "needs_background": "light"
     },
     "output_type": "display_data"
    }
   ],
   "source": [
    "hourly_flights = flights.groupby(['IBTTimeBlk'])[['Year']].count().rename(\n",
    "    columns={'Year': 'Number of Arrivals'})\n",
    "hourly_flights.plot.bar(figsize=(8, 5))\n",
    "plt.title('Number of arrivals by IBTTimeBlk')"
   ]
  },
  {
   "cell_type": "markdown",
   "metadata": {},
   "source": [
    "## Delayed flights"
   ]
  },
  {
   "cell_type": "code",
   "execution_count": 138,
   "metadata": {
    "ExecuteTime": {
     "end_time": "2020-05-19T05:43:20.445169Z",
     "start_time": "2020-05-19T05:43:19.350101Z"
    },
    "code_folding": [
     3,
     5,
     7,
     9,
     20,
     23
    ],
    "hide_input": true
   },
   "outputs": [
    {
     "data": {
      "image/png": "[encoded data removed]",
      "text/plain": [
       "<Figure size 1080x360 with 4 Axes>"
      ]
     },
     "metadata": {
      "needs_background": "light"
     },
     "output_type": "display_data"
    }
   ],
   "source": [
    "dep_del_count_2017 = flights_2017[flights_2017['OBTDelay'] > 0].groupby(['Month'])[['Year']].count().rename(\n",
    "    columns={'Year': 'Number of dep_del flights'})\n",
    "dep_del15_count_2017 = flights_2017[flights_2017['OBTDel15'] == 1].groupby(['Month'])[['Year']].count().rename(\n",
    "    columns={'Year': 'Number of dep_del15 flights'})\n",
    "dep_del_count_2018 = flights_2018[flights_2018['OBTDelay'] > 0].groupby(['Month'])[['Year']].count().rename(\n",
    "    columns={'Year': 'Number of dep_del flights'})\n",
    "dep_del15_count_2018 = flights_2018[flights_2018['OBTDel15'] == 1].groupby(['Month'])[['Year']].count().rename(\n",
    "    columns={'Year': 'Number of dep_del15 flights'})\n",
    "\n",
    "fig, axes = plt.subplots(nrows=2, ncols=2, sharex=True, sharey=True, figsize=(15, 5))\n",
    "fig.suptitle('Dep-Delayed Flights', fontsize=14)\n",
    "dep_del_count_2017.plot.bar(ax=axes[0, 0], subplots=True)\n",
    "dep_del15_count_2017.plot.bar(ax=axes[1, 0], subplots=True)\n",
    "dep_del_count_2018.plot.bar(ax=axes[0, 1], subplots=True)\n",
    "dep_del15_count_2018.plot.bar(ax=axes[1, 1], subplots=True)\n",
    "\n",
    "axes[0, 0].title.set_text('Number of dep-delayed flights by month in 2017')\n",
    "axes[1, 0].title.set_text(\n",
    "    'Number of dep-delayed >15min flights by month in 2017')\n",
    "axes[0, 1].title.set_text('Number of dep-delayed flights by month in 2018')\n",
    "axes[1, 1].title.set_text(\n",
    "    'Number of dep-delayed >15min flights by month in 2018')\n",
    "\n",
    "plt.tight_layout()"
   ]
  },
  {
   "cell_type": "code",
   "execution_count": 140,
   "metadata": {
    "ExecuteTime": {
     "end_time": "2020-05-19T05:46:39.378309Z",
     "start_time": "2020-05-19T05:46:38.464755Z"
    },
    "hide_input": true
   },
   "outputs": [
    {
     "data": {
      "image/png": "[encoded data removed]",
      "text/plain": [
       "<Figure size 1080x360 with 4 Axes>"
      ]
     },
     "metadata": {
      "needs_background": "light"
     },
     "output_type": "display_data"
    }
   ],
   "source": [
    "arr_del_count_2017 = flights_2017[flights_2017['IBTDelay'] > 0].groupby(['Month'])[['Year']].count().rename(\n",
    "    columns={'Year': 'Number of arr_del flights'})\n",
    "arr_del15_count_2017 = flights_2017[flights_2017['IBTDel15'] == 1].groupby(['Month'])[['Year']].count().rename(\n",
    "    columns={'Year': 'Number of arr_del15 flights'})\n",
    "arr_del_count_2018 = flights_2018[flights_2018['IBTDelay'] > 0].groupby(['Month'])[['Year']].count().rename(\n",
    "    columns={'Year': 'Number of arr_del flights'})\n",
    "arr_del15_count_2018 = flights_2018[flights_2018['IBTDel15'] == 1].groupby(['Month'])[['Year']].count().rename(\n",
    "    columns={'Year': 'Number of arr_del15 flights'})\n",
    "\n",
    "fig, axes = plt.subplots(nrows=2, ncols=2, sharex=True, sharey=True, figsize=(15, 5))\n",
    "fig.suptitle('Arr-Delayed Flights', fontsize=14)\n",
    "arr_del_count_2017.plot.bar(ax=axes[0, 0], subplots=True)\n",
    "arr_del15_count_2017.plot.bar(ax=axes[1, 0], subplots=True)\n",
    "arr_del_count_2018.plot.bar(ax=axes[0, 1], subplots=True)\n",
    "arr_del15_count_2018.plot.bar(ax=axes[1, 1], subplots=True)\n",
    "\n",
    "axes[0, 0].title.set_text('Number of arr-delayed flights by month in 2017')\n",
    "axes[1, 0].title.set_text(\n",
    "    'Number of arr-delayed >15min flights by month in 2017')\n",
    "axes[0, 1].title.set_text('Number of arr-delayed flights by month in 2018')\n",
    "axes[1, 1].title.set_text(\n",
    "    'Number of arr-delayed >15min flights by month in 2018')\n",
    "\n",
    "plt.tight_layout()"
   ]
  },
  {
   "cell_type": "code",
   "execution_count": 137,
   "metadata": {
    "ExecuteTime": {
     "end_time": "2020-05-19T05:42:54.891961Z",
     "start_time": "2020-05-19T05:42:54.129969Z"
    },
    "hide_input": true
   },
   "outputs": [
    {
     "data": {
      "image/png": "[encoded data removed]",
      "text/plain": [
       "<Figure size 1080x360 with 4 Axes>"
      ]
     },
     "metadata": {
      "needs_background": "light"
     },
     "output_type": "display_data"
    }
   ],
   "source": [
    "flights_2017_month = flights_2017.groupby(['Month'])[['Year']].count().rename(columns={'Year': 'Number of flights'})\n",
    "perc_del_2017_month = dep_del_count_2017['Number of dep_del flights'] / flights_2017_month['Number of flights']\n",
    "perc_del15_2017_month = dep_del15_count_2017['Number of dep_del15 flights'] / flights_2017_month['Number of flights']\n",
    "\n",
    "flights_2018_month = flights_2018.groupby(['Month'])[['Year']].count().rename(columns={'Year': 'Number of flights'})\n",
    "perc_del_2018_month = dep_del_count_2018['Number of dep_del flights'] / flights_2018_month['Number of flights']\n",
    "perc_del15_2018_month = dep_del15_count_2018['Number of dep_del15 flights'] / flights_2018_month['Number of flights']\n",
    "\n",
    "fig, axes = plt.subplots(nrows=2, ncols=2, sharex=True, sharey=True, figsize=(15, 5))\n",
    "fig.suptitle('% of Dep-Delayed Flights', fontsize=14)\n",
    "perc_del_2017_month.plot.bar(ax=axes[0, 0], subplots=True)\n",
    "perc_del15_2017_month.plot.bar(ax=axes[1, 0], subplots=True)\n",
    "perc_del_2018_month.plot.bar(ax=axes[0, 1], subplots=True)\n",
    "perc_del15_2018_month.plot.bar(ax=axes[1, 1], subplots=True)\n",
    "\n",
    "axes[0, 0].title.set_text('Percentage of dep-delayed flights by month in 2017')\n",
    "axes[1, 0].title.set_text(\n",
    "    'Percentage of dep-delayed >15min flights by month in 2017')\n",
    "axes[0, 1].title.set_text('Percentage of dep-delayed flights by month in 2018')\n",
    "axes[1, 1].title.set_text(\n",
    "    'Percentage of dep-delayed >15min flights by month in 2018')\n",
    "\n",
    "plt.tight_layout()"
   ]
  },
  {
   "cell_type": "code",
   "execution_count": 142,
   "metadata": {
    "ExecuteTime": {
     "end_time": "2020-05-19T05:49:04.119404Z",
     "start_time": "2020-05-19T05:49:03.177968Z"
    },
    "hide_input": true
   },
   "outputs": [
    {
     "data": {
      "image/png": "[encoded data removed]",
      "text/plain": [
       "<Figure size 1080x360 with 4 Axes>"
      ]
     },
     "metadata": {
      "needs_background": "light"
     },
     "output_type": "display_data"
    }
   ],
   "source": [
    "perc_arr_2017_month = arr_del_count_2017['Number of arr_del flights'] / flights_2017_month['Number of flights']\n",
    "perc_arr15_2017_month = arr_del15_count_2017['Number of arr_del15 flights'] / flights_2017_month['Number of flights']\n",
    "\n",
    "perc_arr_2018_month = arr_del_count_2018['Number of arr_del flights'] / flights_2018_month['Number of flights']\n",
    "perc_arr15_2018_month = arr_del15_count_2018['Number of arr_del15 flights'] / flights_2018_month['Number of flights']\n",
    "\n",
    "fig, axes = plt.subplots(nrows=2, ncols=2, sharex=True, sharey=True, figsize=(15, 5))\n",
    "fig.suptitle('% of Arr-Delayed Flights', fontsize=14)\n",
    "perc_arr_2017_month.plot.bar(ax=axes[0, 0], subplots=True)\n",
    "perc_arr15_2017_month.plot.bar(ax=axes[1, 0], subplots=True)\n",
    "perc_arr_2018_month.plot.bar(ax=axes[0, 1], subplots=True)\n",
    "perc_arr15_2018_month.plot.bar(ax=axes[1, 1], subplots=True)\n",
    "\n",
    "axes[0, 0].title.set_text('Percentage of arr-delayed flights by month in 2017')\n",
    "axes[1, 0].title.set_text(\n",
    "    'Percentage of arr-delayed >15min flights by month in 2017')\n",
    "axes[0, 1].title.set_text('Percentage of arr-delayed flights by month in 2018')\n",
    "axes[1, 1].title.set_text(\n",
    "    'Percentage of arr-delayed >15min flights by month in 2018')\n",
    "\n",
    "plt.tight_layout()"
   ]
  },
  {
   "cell_type": "markdown",
   "metadata": {},
   "source": [
    "Note that only when Arrival Delay is longer than 15 minutes there's data about what caused the delay. Arrival Delay is the sum of CarrierDelay, WeatherDelay, NASDelay and LateAircraftDelay. \n",
    "More often than not, airports and carriers allocate a CRSElapsedTime higher than the actual time spent in the Taxi In + Taxi out + Airtime operations (Actual Elapsed Time). This is the reason why, when planes take off on time, landing usually takes place before the expected time! It also allows to absorb delay by late aircraft down the lane of chained flights.\n",
    "(to verify statements)"
   ]
  },
  {
   "cell_type": "code",
   "execution_count": 164,
   "metadata": {
    "ExecuteTime": {
     "end_time": "2020-05-19T06:14:55.206229Z",
     "start_time": "2020-05-19T06:14:55.074614Z"
    },
    "hide_input": true
   },
   "outputs": [
    {
     "data": {
      "image/png": "[encoded data removed]",
      "text/plain": [
       "<Figure size 432x288 with 1 Axes>"
      ]
     },
     "metadata": {
      "needs_background": "light"
     },
     "output_type": "display_data"
    }
   ],
   "source": [
    "# construct df\n",
    "carrier_delay_2017 = flights_2017['CarrierDelay'].sum() / 60\n",
    "weather_delay_2017 = flights_2017['WeatherDelay'].sum() / 60\n",
    "NAS_delay_2017 = flights_2017['NASDelay'].sum() / 60\n",
    "security_delay_2017 = flights_2017['SecurityDelay'].sum() / 60\n",
    "late_aircraft_delay_2017 = flights_2017['LateAircraftDelay'].sum() / 60\n",
    "\n",
    "carrier_delay_2018 = flights_2018['CarrierDelay'].sum() / 60\n",
    "weather_delay_2018 = flights_2018['WeatherDelay'].sum() / 60\n",
    "NAS_delay_2018 = flights_2018['NASDelay'].sum() / 60\n",
    "security_delay_2018 = flights_2018['SecurityDelay'].sum() / 60\n",
    "late_aircraft_delay_2018 = flights_2018['LateAircraftDelay'].sum() / 60\n",
    "\n",
    "delays = {'DelayCause': ['Carrier', 'Weather', 'NAS', 'Security', 'LateAircraft'],\n",
    "          'TotalDelay2017_hr': [carrier_delay_2017, weather_delay_2017, NAS_delay_2017, security_delay_2017, late_aircraft_delay_2017],\n",
    "          'TotalDelay2018_hr': [carrier_delay_2018, weather_delay_2018, NAS_delay_2018, security_delay_2018, late_aircraft_delay_2018]\n",
    "          }\n",
    "\n",
    "delay_df = pd.DataFrame(\n",
    "    delays, columns=['DelayCause', 'TotalDelay2017_hr', 'TotalDelay2018_hr'])\n",
    "\n",
    "delay_df.set_index('DelayCause')\n",
    "\n",
    "# plot the graph\n",
    "\n",
    "# set width of bar\n",
    "barWidth = 0.25\n",
    "\n",
    "# set height of bar\n",
    "bars1 = delay_df['TotalDelay2017_hr']\n",
    "bars2 = delay_df['TotalDelay2018_hr']\n",
    "\n",
    "# Set position of bar on X axis\n",
    "r1 = np.arange(len(bars1))\n",
    "r2 = [x + barWidth for x in r1]\n",
    "\n",
    "# Make the plot\n",
    "plt.bar(r1, bars1, color='#7f6d5f', width=barWidth,\n",
    "        edgecolor='white', label='var1')\n",
    "plt.bar(r2, bars2, color='#557f2d', width=barWidth,\n",
    "        edgecolor='white', label='var2')\n",
    "\n",
    "# Add xticks on the middle of the group bars\n",
    "plt.xlabel('group', fontweight='bold')\n",
    "plt.xticks([r + barWidth for r in range(len(bars1))],\n",
    "           ['Carrier', 'Weather', 'NAS', 'Security', 'LateAircraft'])\n",
    "\n",
    "# Create legend & Show graphic\n",
    "plt.legend(['2017', '2018'])\n",
    "plt.title('Total delay duration (hrs) by cause in 2017 and 2018')\n",
    "plt.show()"
   ]
  },
  {
   "cell_type": "markdown",
   "metadata": {},
   "source": [
    "NAS stands for National Airspace System."
   ]
  },
  {
   "cell_type": "markdown",
   "metadata": {},
   "source": [
    "## Correlation between scheduled and actual flight duration"
   ]
  },
  {
   "cell_type": "code",
   "execution_count": 189,
   "metadata": {
    "ExecuteTime": {
     "end_time": "2020-05-19T06:52:53.950454Z",
     "start_time": "2020-05-19T06:52:48.550903Z"
    },
    "hide_input": true
   },
   "outputs": [
    {
     "data": {
      "text/plain": [
       "Text(0.5, 1.0, 'Actual flight duration VS scheduled flight duration')"
      ]
     },
     "execution_count": 189,
     "metadata": {},
     "output_type": "execute_result"
    },
    {
     "data": {
      "image/png": "[encoded data removed]",
      "text/plain": [
       "<Figure size 504x504 with 1 Axes>"
      ]
     },
     "metadata": {
      "needs_background": "light"
     },
     "output_type": "display_data"
    }
   ],
   "source": [
    "plt.rcParams[\"figure.figsize\"] = (7, 7)\n",
    "plt.scatter(flights['SOBTtoSIBT'], flights['AOBTtoAIBT'])\n",
    "plt.plot([1, 350, 700],[1, 350, 700], color='r')\n",
    "plt.xlabel('SOBTtoSIBT')\n",
    "plt.ylabel('AOBTtoAIBT')\n",
    "plt.title('Actual flight duration VS scheduled flight duration')"
   ]
  },
  {
   "cell_type": "code",
   "execution_count": 197,
   "metadata": {
    "ExecuteTime": {
     "end_time": "2020-05-19T07:25:35.854265Z",
     "start_time": "2020-05-19T07:25:35.821321Z"
    },
    "hide_input": true
   },
   "outputs": [
    {
     "name": "stdout",
     "output_type": "stream",
     "text": [
      "Pearsons correlation between SOBTtoSIBT and AOBTtoAIBT: 0.968\n"
     ]
    }
   ],
   "source": [
    "corr, _ = pearsonr(flights['SOBTtoSIBT'], flights['AOBTtoAIBT'])\n",
    "print('Pearsons correlation between SOBTtoSIBT and AOBTtoAIBT: %.3f' % corr)"
   ]
  },
  {
   "cell_type": "markdown",
   "metadata": {},
   "source": [
    "## Correlation between all features"
   ]
  },
  {
   "cell_type": "code",
   "execution_count": 231,
   "metadata": {
    "ExecuteTime": {
     "end_time": "2020-05-19T09:53:41.800108Z",
     "start_time": "2020-05-19T09:53:39.912161Z"
    },
    "hide_input": true
   },
   "outputs": [
    {
     "data": {
      "text/plain": [
       "<matplotlib.axes._subplots.AxesSubplot at 0x246109630f0>"
      ]
     },
     "execution_count": 231,
     "metadata": {},
     "output_type": "execute_result"
    },
    {
     "data": {
      "image/png": "[encoded data removed]",
      "text/plain": [
       "<Figure size 720x576 with 2 Axes>"
      ]
     },
     "metadata": {
      "needs_background": "light"
     },
     "output_type": "display_data"
    }
   ],
   "source": [
    "f, ax = plt.subplots(figsize=(10, 8))\n",
    "corr = flights.corr()\n",
    "sns.heatmap(corr,\n",
    "            xticklabels=corr.columns.values,\n",
    "            yticklabels=corr.columns.values)"
   ]
  },
  {
   "cell_type": "markdown",
   "metadata": {
    "ExecuteTime": {
     "end_time": "2020-05-19T09:30:27.291977Z",
     "start_time": "2020-05-19T09:30:27.287987Z"
    }
   },
   "source": [
    "## Correlation between scheduled flight duration and distance"
   ]
  },
  {
   "cell_type": "code",
   "execution_count": 196,
   "metadata": {
    "ExecuteTime": {
     "end_time": "2020-05-19T07:12:04.830401Z",
     "start_time": "2020-05-19T07:11:59.440852Z"
    },
    "hide_input": true
   },
   "outputs": [
    {
     "data": {
      "text/plain": [
       "Text(0.5, 1.0, 'Distance VS scheduled flight duration')"
      ]
     },
     "execution_count": 196,
     "metadata": {},
     "output_type": "execute_result"
    },
    {
     "data": {
      "image/png": "[encoded data removed]",
      "text/plain": [
       "<Figure size 504x504 with 1 Axes>"
      ]
     },
     "metadata": {
      "needs_background": "light"
     },
     "output_type": "display_data"
    }
   ],
   "source": [
    "plt.rcParams[\"figure.figsize\"] = (7, 7)\n",
    "plt.scatter(flights['SOBTtoSIBT'], flights['Distance'])\n",
    "plt.xlabel('SOBTtoSIBT')\n",
    "plt.ylabel('Distance')\n",
    "plt.title('Distance VS scheduled flight duration')"
   ]
  },
  {
   "cell_type": "code",
   "execution_count": 198,
   "metadata": {
    "ExecuteTime": {
     "end_time": "2020-05-19T07:25:58.380922Z",
     "start_time": "2020-05-19T07:25:58.346016Z"
    },
    "hide_input": true
   },
   "outputs": [
    {
     "name": "stdout",
     "output_type": "stream",
     "text": [
      "Pearsons correlation between SOBTtoSIBT and Flight Distance: 0.981\n"
     ]
    }
   ],
   "source": [
    "corr, _ = pearsonr(flights['SOBTtoSIBT'], flights['Distance'])\n",
    "print('Pearsons correlation between SOBTtoSIBT and Flight Distance: %.3f' % corr)"
   ]
  },
  {
   "cell_type": "markdown",
   "metadata": {},
   "source": [
    "## Number of arrivals by flight type\n",
    "* Short Haul - Distance < 800 miles\n",
    "* Medium Haul - Distance 800 and 2200 miles (inclusive)\n",
    "* Long Haul - Distance > 2200miles\n",
    "Source: wiki page of Flight length"
   ]
  },
  {
   "cell_type": "code",
   "execution_count": 233,
   "metadata": {
    "ExecuteTime": {
     "end_time": "2020-05-19T09:57:04.864506Z",
     "start_time": "2020-05-19T09:57:04.740805Z"
    },
    "code_folding": [
     1
    ],
    "hide_input": true
   },
   "outputs": [
    {
     "data": {
      "application/vnd.plotly.v1+json": {
       "config": {
        "plotlyServerURL": "https://plot.ly"
       },
       "data": [
        {
         "hole": 0.4,
         "hoverinfo": "label+percent",
         "labels": [
          "Short Haul",
          "Medium Haul",
          "Long Haul"
         ],
         "pull": [
          0,
          0,
          0.3
         ],
         "textfont": {
          "size": 10
         },
         "textinfo": "label+percent",
         "type": "pie",
         "values": [
          605736,
          138274,
          955
         ]
        }
       ],
       "layout": {
        "annotations": [
         {
          "font": {
           "size": 11
          },
          "showarrow": false,
          "text": "<b>Distance<b>",
          "x": 0.5,
          "y": 0.5
         }
        ],
        "font": {
         "size": 12
        },
        "legend": {
         "x": 0.75,
         "y": 0.55
        },
        "template": {
         "data": {
          "bar": [
           {
            "error_x": {
             "color": "#2a3f5f"
            },
            "error_y": {
             "color": "#2a3f5f"
            },
            "marker": {
             "line": {
              "color": "#E5ECF6",
              "width": 0.5
             }
            },
            "type": "bar"
           }
          ],
          "barpolar": [
           {
            "marker": {
             "line": {
              "color": "#E5ECF6",
              "width": 0.5
             }
            },
            "type": "barpolar"
           }
          ],
          "carpet": [
           {
            "aaxis": {
             "endlinecolor": "#2a3f5f",
             "gridcolor": "white",
             "linecolor": "white",
             "minorgridcolor": "white",
             "startlinecolor": "#2a3f5f"
            },
            "baxis": {
             "endlinecolor": "#2a3f5f",
             "gridcolor": "white",
             "linecolor": "white",
             "minorgridcolor": "white",
             "startlinecolor": "#2a3f5f"
            },
            "type": "carpet"
           }
          ],
          "choropleth": [
           {
            "colorbar": {
             "outlinewidth": 0,
             "ticks": ""
            },
            "type": "choropleth"
           }
          ],
          "contour": [
           {
            "colorbar": {
             "outlinewidth": 0,
             "ticks": ""
            },
            "colorscale": [
             [
              0,
              "#0d0887"
             ],
             [
              0.1111111111111111,
              "#46039f"
             ],
             [
              0.2222222222222222,
              "#7201a8"
             ],
             [
              0.3333333333333333,
              "#9c179e"
             ],
             [
              0.4444444444444444,
              "#bd3786"
             ],
             [
              0.5555555555555556,
              "#d8576b"
             ],
             [
              0.6666666666666666,
              "#ed7953"
             ],
             [
              0.7777777777777778,
              "#fb9f3a"
             ],
             [
              0.8888888888888888,
              "#fdca26"
             ],
             [
              1,
              "#f0f921"
             ]
            ],
            "type": "contour"
           }
          ],
          "contourcarpet": [
           {
            "colorbar": {
             "outlinewidth": 0,
             "ticks": ""
            },
            "type": "contourcarpet"
           }
          ],
          "heatmap": [
           {
            "colorbar": {
             "outlinewidth": 0,
             "ticks": ""
            },
            "colorscale": [
             [
              0,
              "#0d0887"
             ],
             [
              0.1111111111111111,
              "#46039f"
             ],
             [
              0.2222222222222222,
              "#7201a8"
             ],
             [
              0.3333333333333333,
              "#9c179e"
             ],
             [
              0.4444444444444444,
              "#bd3786"
             ],
             [
              0.5555555555555556,
              "#d8576b"
             ],
             [
              0.6666666666666666,
              "#ed7953"
             ],
             [
              0.7777777777777778,
              "#fb9f3a"
             ],
             [
              0.8888888888888888,
              "#fdca26"
             ],
             [
              1,
              "#f0f921"
             ]
            ],
            "type": "heatmap"
           }
          ],
          "heatmapgl": [
           {
            "colorbar": {
             "outlinewidth": 0,
             "ticks": ""
            },
            "colorscale": [
             [
              0,
              "#0d0887"
             ],
             [
              0.1111111111111111,
              "#46039f"
             ],
             [
              0.2222222222222222,
              "#7201a8"
             ],
             [
              0.3333333333333333,
              "#9c179e"
             ],
             [
              0.4444444444444444,
              "#bd3786"
             ],
             [
              0.5555555555555556,
              "#d8576b"
             ],
             [
              0.6666666666666666,
              "#ed7953"
             ],
             [
              0.7777777777777778,
              "#fb9f3a"
             ],
             [
              0.8888888888888888,
              "#fdca26"
             ],
             [
              1,
              "#f0f921"
             ]
            ],
            "type": "heatmapgl"
           }
          ],
          "histogram": [
           {
            "marker": {
             "colorbar": {
              "outlinewidth": 0,
              "ticks": ""
             }
            },
            "type": "histogram"
           }
          ],
          "histogram2d": [
           {
            "colorbar": {
             "outlinewidth": 0,
             "ticks": ""
            },
            "colorscale": [
             [
              0,
              "#0d0887"
             ],
             [
              0.1111111111111111,
              "#46039f"
             ],
             [
              0.2222222222222222,
              "#7201a8"
             ],
             [
              0.3333333333333333,
              "#9c179e"
             ],
             [
              0.4444444444444444,
              "#bd3786"
             ],
             [
              0.5555555555555556,
              "#d8576b"
             ],
             [
              0.6666666666666666,
              "#ed7953"
             ],
             [
              0.7777777777777778,
              "#fb9f3a"
             ],
             [
              0.8888888888888888,
              "#fdca26"
             ],
             [
              1,
              "#f0f921"
             ]
            ],
            "type": "histogram2d"
           }
          ],
          "histogram2dcontour": [
           {
            "colorbar": {
             "outlinewidth": 0,
             "ticks": ""
            },
            "colorscale": [
             [
              0,
              "#0d0887"
             ],
             [
              0.1111111111111111,
              "#46039f"
             ],
             [
              0.2222222222222222,
              "#7201a8"
             ],
             [
              0.3333333333333333,
              "#9c179e"
             ],
             [
              0.4444444444444444,
              "#bd3786"
             ],
             [
              0.5555555555555556,
              "#d8576b"
             ],
             [
              0.6666666666666666,
              "#ed7953"
             ],
             [
              0.7777777777777778,
              "#fb9f3a"
             ],
             [
              0.8888888888888888,
              "#fdca26"
             ],
             [
              1,
              "#f0f921"
             ]
            ],
            "type": "histogram2dcontour"
           }
          ],
          "mesh3d": [
           {
            "colorbar": {
             "outlinewidth": 0,
             "ticks": ""
            },
            "type": "mesh3d"
           }
          ],
          "parcoords": [
           {
            "line": {
             "colorbar": {
              "outlinewidth": 0,
              "ticks": ""
             }
            },
            "type": "parcoords"
           }
          ],
          "pie": [
           {
            "automargin": true,
            "type": "pie"
           }
          ],
          "scatter": [
           {
            "marker": {
             "colorbar": {
              "outlinewidth": 0,
              "ticks": ""
             }
            },
            "type": "scatter"
           }
          ],
          "scatter3d": [
           {
            "line": {
             "colorbar": {
              "outlinewidth": 0,
              "ticks": ""
             }
            },
            "marker": {
             "colorbar": {
              "outlinewidth": 0,
              "ticks": ""
             }
            },
            "type": "scatter3d"
           }
          ],
          "scattercarpet": [
           {
            "marker": {
             "colorbar": {
              "outlinewidth": 0,
              "ticks": ""
             }
            },
            "type": "scattercarpet"
           }
          ],
          "scattergeo": [
           {
            "marker": {
             "colorbar": {
              "outlinewidth": 0,
              "ticks": ""
             }
            },
            "type": "scattergeo"
           }
          ],
          "scattergl": [
           {
            "marker": {
             "colorbar": {
              "outlinewidth": 0,
              "ticks": ""
             }
            },
            "type": "scattergl"
           }
          ],
          "scattermapbox": [
           {
            "marker": {
             "colorbar": {
              "outlinewidth": 0,
              "ticks": ""
             }
            },
            "type": "scattermapbox"
           }
          ],
          "scatterpolar": [
           {
            "marker": {
             "colorbar": {
              "outlinewidth": 0,
              "ticks": ""
             }
            },
            "type": "scatterpolar"
           }
          ],
          "scatterpolargl": [
           {
            "marker": {
             "colorbar": {
              "outlinewidth": 0,
              "ticks": ""
             }
            },
            "type": "scatterpolargl"
           }
          ],
          "scatterternary": [
           {
            "marker": {
             "colorbar": {
              "outlinewidth": 0,
              "ticks": ""
             }
            },
            "type": "scatterternary"
           }
          ],
          "surface": [
           {
            "colorbar": {
             "outlinewidth": 0,
             "ticks": ""
            },
            "colorscale": [
             [
              0,
              "#0d0887"
             ],
             [
              0.1111111111111111,
              "#46039f"
             ],
             [
              0.2222222222222222,
              "#7201a8"
             ],
             [
              0.3333333333333333,
              "#9c179e"
             ],
             [
              0.4444444444444444,
              "#bd3786"
             ],
             [
              0.5555555555555556,
              "#d8576b"
             ],
             [
              0.6666666666666666,
              "#ed7953"
             ],
             [
              0.7777777777777778,
              "#fb9f3a"
             ],
             [
              0.8888888888888888,
              "#fdca26"
             ],
             [
              1,
              "#f0f921"
             ]
            ],
            "type": "surface"
           }
          ],
          "table": [
           {
            "cells": {
             "fill": {
              "color": "#EBF0F8"
             },
             "line": {
              "color": "white"
             }
            },
            "header": {
             "fill": {
              "color": "#C8D4E3"
             },
             "line": {
              "color": "white"
             }
            },
            "type": "table"
           }
          ]
         },
         "layout": {
          "annotationdefaults": {
           "arrowcolor": "#2a3f5f",
           "arrowhead": 0,
           "arrowwidth": 1
          },
          "coloraxis": {
           "colorbar": {
            "outlinewidth": 0,
            "ticks": ""
           }
          },
          "colorscale": {
           "diverging": [
            [
             0,
             "#8e0152"
            ],
            [
             0.1,
             "#c51b7d"
            ],
            [
             0.2,
             "#de77ae"
            ],
            [
             0.3,
             "#f1b6da"
            ],
            [
             0.4,
             "#fde0ef"
            ],
            [
             0.5,
             "#f7f7f7"
            ],
            [
             0.6,
             "#e6f5d0"
            ],
            [
             0.7,
             "#b8e186"
            ],
            [
             0.8,
             "#7fbc41"
            ],
            [
             0.9,
             "#4d9221"
            ],
            [
             1,
             "#276419"
            ]
           ],
           "sequential": [
            [
             0,
             "#0d0887"
            ],
            [
             0.1111111111111111,
             "#46039f"
            ],
            [
             0.2222222222222222,
             "#7201a8"
            ],
            [
             0.3333333333333333,
             "#9c179e"
            ],
            [
             0.4444444444444444,
             "#bd3786"
            ],
            [
             0.5555555555555556,
             "#d8576b"
            ],
            [
             0.6666666666666666,
             "#ed7953"
            ],
            [
             0.7777777777777778,
             "#fb9f3a"
            ],
            [
             0.8888888888888888,
             "#fdca26"
            ],
            [
             1,
             "#f0f921"
            ]
           ],
           "sequentialminus": [
            [
             0,
             "#0d0887"
            ],
            [
             0.1111111111111111,
             "#46039f"
            ],
            [
             0.2222222222222222,
             "#7201a8"
            ],
            [
             0.3333333333333333,
             "#9c179e"
            ],
            [
             0.4444444444444444,
             "#bd3786"
            ],
            [
             0.5555555555555556,
             "#d8576b"
            ],
            [
             0.6666666666666666,
             "#ed7953"
            ],
            [
             0.7777777777777778,
             "#fb9f3a"
            ],
            [
             0.8888888888888888,
             "#fdca26"
            ],
            [
             1,
             "#f0f921"
            ]
           ]
          },
          "colorway": [
           "#636efa",
           "#EF553B",
           "#00cc96",
           "#ab63fa",
           "#FFA15A",
           "#19d3f3",
           "#FF6692",
           "#B6E880",
           "#FF97FF",
           "#FECB52"
          ],
          "font": {
           "color": "#2a3f5f"
          },
          "geo": {
           "bgcolor": "white",
           "lakecolor": "white",
           "landcolor": "#E5ECF6",
           "showlakes": true,
           "showland": true,
           "subunitcolor": "white"
          },
          "hoverlabel": {
           "align": "left"
          },
          "hovermode": "closest",
          "mapbox": {
           "style": "light"
          },
          "paper_bgcolor": "white",
          "plot_bgcolor": "#E5ECF6",
          "polar": {
           "angularaxis": {
            "gridcolor": "white",
            "linecolor": "white",
            "ticks": ""
           },
           "bgcolor": "#E5ECF6",
           "radialaxis": {
            "gridcolor": "white",
            "linecolor": "white",
            "ticks": ""
           }
          },
          "scene": {
           "xaxis": {
            "backgroundcolor": "#E5ECF6",
            "gridcolor": "white",
            "gridwidth": 2,
            "linecolor": "white",
            "showbackground": true,
            "ticks": "",
            "zerolinecolor": "white"
           },
           "yaxis": {
            "backgroundcolor": "#E5ECF6",
            "gridcolor": "white",
            "gridwidth": 2,
            "linecolor": "white",
            "showbackground": true,
            "ticks": "",
            "zerolinecolor": "white"
           },
           "zaxis": {
            "backgroundcolor": "#E5ECF6",
            "gridcolor": "white",
            "gridwidth": 2,
            "linecolor": "white",
            "showbackground": true,
            "ticks": "",
            "zerolinecolor": "white"
           }
          },
          "shapedefaults": {
           "line": {
            "color": "#2a3f5f"
           }
          },
          "ternary": {
           "aaxis": {
            "gridcolor": "white",
            "linecolor": "white",
            "ticks": ""
           },
           "baxis": {
            "gridcolor": "white",
            "linecolor": "white",
            "ticks": ""
           },
           "bgcolor": "#E5ECF6",
           "caxis": {
            "gridcolor": "white",
            "linecolor": "white",
            "ticks": ""
           }
          },
          "title": {
           "x": 0.05
          },
          "xaxis": {
           "automargin": true,
           "gridcolor": "white",
           "linecolor": "white",
           "ticks": "",
           "title": {
            "standoff": 15
           },
           "zerolinecolor": "white",
           "zerolinewidth": 2
          },
          "yaxis": {
           "automargin": true,
           "gridcolor": "white",
           "linecolor": "white",
           "ticks": "",
           "title": {
            "standoff": 15
           },
           "zerolinecolor": "white",
           "zerolinewidth": 2
          }
         }
        },
        "title": {
         "text": "<b>Flights By Distance<b> <i>(in Miles)<i>",
         "x": 0.5
        }
       }
      },
      "text/html": [
       "<div>\n",
       "        \n",
       "        \n",
       "            <div id=\"eff7cde8-8b6e-43a2-8a0f-03d1f7727f8a\" class=\"plotly-graph-div\" style=\"height:525px; width:100%;\"></div>\n",
       "            <script type=\"text/javascript\">\n",
       "                require([\"plotly\"], function(Plotly) {\n",
       "                    window.PLOTLYENV=window.PLOTLYENV || {};\n",
       "                    \n",
       "                if (document.getElementById(\"eff7cde8-8b6e-43a2-8a0f-03d1f7727f8a\")) {\n",
       "                    Plotly.newPlot(\n",
       "                        'eff7cde8-8b6e-43a2-8a0f-03d1f7727f8a',\n",
       "                        [{\"hole\": 0.4, \"hoverinfo\": \"label+percent\", \"labels\": [\"Short Haul\", \"Medium Haul\", \"Long Haul\"], \"pull\": [0, 0, 0.3], \"textfont\": {\"size\": 10}, \"textinfo\": \"label+percent\", \"type\": \"pie\", \"values\": [605736, 138274, 955]}],\n",
       "                        {\"annotations\": [{\"font\": {\"size\": 11}, \"showarrow\": false, \"text\": \"<b>Distance<b>\", \"x\": 0.5, \"y\": 0.5}], \"font\": {\"size\": 12}, \"legend\": {\"x\": 0.75, \"y\": 0.55}, \"template\": {\"data\": {\"bar\": [{\"error_x\": {\"color\": \"#2a3f5f\"}, \"error_y\": {\"color\": \"#2a3f5f\"}, \"marker\": {\"line\": {\"color\": \"#E5ECF6\", \"width\": 0.5}}, \"type\": \"bar\"}], \"barpolar\": [{\"marker\": {\"line\": {\"color\": \"#E5ECF6\", \"width\": 0.5}}, \"type\": \"barpolar\"}], \"carpet\": [{\"aaxis\": {\"endlinecolor\": \"#2a3f5f\", \"gridcolor\": \"white\", \"linecolor\": \"white\", \"minorgridcolor\": \"white\", \"startlinecolor\": \"#2a3f5f\"}, \"baxis\": {\"endlinecolor\": \"#2a3f5f\", \"gridcolor\": \"white\", \"linecolor\": \"white\", \"minorgridcolor\": \"white\", \"startlinecolor\": \"#2a3f5f\"}, \"type\": \"carpet\"}], \"choropleth\": [{\"colorbar\": {\"outlinewidth\": 0, \"ticks\": \"\"}, \"type\": \"choropleth\"}], \"contour\": [{\"colorbar\": {\"outlinewidth\": 0, \"ticks\": \"\"}, \"colorscale\": [[0.0, \"#0d0887\"], [0.1111111111111111, \"#46039f\"], [0.2222222222222222, \"#7201a8\"], [0.3333333333333333, \"#9c179e\"], [0.4444444444444444, \"#bd3786\"], [0.5555555555555556, \"#d8576b\"], [0.6666666666666666, \"#ed7953\"], [0.7777777777777778, \"#fb9f3a\"], [0.8888888888888888, \"#fdca26\"], [1.0, \"#f0f921\"]], \"type\": \"contour\"}], \"contourcarpet\": [{\"colorbar\": {\"outlinewidth\": 0, \"ticks\": \"\"}, \"type\": \"contourcarpet\"}], \"heatmap\": [{\"colorbar\": {\"outlinewidth\": 0, \"ticks\": \"\"}, \"colorscale\": [[0.0, \"#0d0887\"], [0.1111111111111111, \"#46039f\"], [0.2222222222222222, \"#7201a8\"], [0.3333333333333333, \"#9c179e\"], [0.4444444444444444, \"#bd3786\"], [0.5555555555555556, \"#d8576b\"], [0.6666666666666666, \"#ed7953\"], [0.7777777777777778, \"#fb9f3a\"], [0.8888888888888888, \"#fdca26\"], [1.0, \"#f0f921\"]], \"type\": \"heatmap\"}], \"heatmapgl\": [{\"colorbar\": {\"outlinewidth\": 0, \"ticks\": \"\"}, \"colorscale\": [[0.0, \"#0d0887\"], [0.1111111111111111, \"#46039f\"], [0.2222222222222222, \"#7201a8\"], [0.3333333333333333, \"#9c179e\"], [0.4444444444444444, \"#bd3786\"], [0.5555555555555556, \"#d8576b\"], [0.6666666666666666, \"#ed7953\"], [0.7777777777777778, \"#fb9f3a\"], [0.8888888888888888, \"#fdca26\"], [1.0, \"#f0f921\"]], \"type\": \"heatmapgl\"}], \"histogram\": [{\"marker\": {\"colorbar\": {\"outlinewidth\": 0, \"ticks\": \"\"}}, \"type\": \"histogram\"}], \"histogram2d\": [{\"colorbar\": {\"outlinewidth\": 0, \"ticks\": \"\"}, \"colorscale\": [[0.0, \"#0d0887\"], [0.1111111111111111, \"#46039f\"], [0.2222222222222222, \"#7201a8\"], [0.3333333333333333, \"#9c179e\"], [0.4444444444444444, \"#bd3786\"], [0.5555555555555556, \"#d8576b\"], [0.6666666666666666, \"#ed7953\"], [0.7777777777777778, \"#fb9f3a\"], [0.8888888888888888, \"#fdca26\"], [1.0, \"#f0f921\"]], \"type\": \"histogram2d\"}], \"histogram2dcontour\": [{\"colorbar\": {\"outlinewidth\": 0, \"ticks\": \"\"}, \"colorscale\": [[0.0, \"#0d0887\"], [0.1111111111111111, \"#46039f\"], [0.2222222222222222, \"#7201a8\"], [0.3333333333333333, \"#9c179e\"], [0.4444444444444444, \"#bd3786\"], [0.5555555555555556, \"#d8576b\"], [0.6666666666666666, \"#ed7953\"], [0.7777777777777778, \"#fb9f3a\"], [0.8888888888888888, \"#fdca26\"], [1.0, \"#f0f921\"]], \"type\": \"histogram2dcontour\"}], \"mesh3d\": [{\"colorbar\": {\"outlinewidth\": 0, \"ticks\": \"\"}, \"type\": \"mesh3d\"}], \"parcoords\": [{\"line\": {\"colorbar\": {\"outlinewidth\": 0, \"ticks\": \"\"}}, \"type\": \"parcoords\"}], \"pie\": [{\"automargin\": true, \"type\": \"pie\"}], \"scatter\": [{\"marker\": {\"colorbar\": {\"outlinewidth\": 0, \"ticks\": \"\"}}, \"type\": \"scatter\"}], \"scatter3d\": [{\"line\": {\"colorbar\": {\"outlinewidth\": 0, \"ticks\": \"\"}}, \"marker\": {\"colorbar\": {\"outlinewidth\": 0, \"ticks\": \"\"}}, \"type\": \"scatter3d\"}], \"scattercarpet\": [{\"marker\": {\"colorbar\": {\"outlinewidth\": 0, \"ticks\": \"\"}}, \"type\": \"scattercarpet\"}], \"scattergeo\": [{\"marker\": {\"colorbar\": {\"outlinewidth\": 0, \"ticks\": \"\"}}, \"type\": \"scattergeo\"}], \"scattergl\": [{\"marker\": {\"colorbar\": {\"outlinewidth\": 0, \"ticks\": \"\"}}, \"type\": \"scattergl\"}], \"scattermapbox\": [{\"marker\": {\"colorbar\": {\"outlinewidth\": 0, \"ticks\": \"\"}}, \"type\": \"scattermapbox\"}], \"scatterpolar\": [{\"marker\": {\"colorbar\": {\"outlinewidth\": 0, \"ticks\": \"\"}}, \"type\": \"scatterpolar\"}], \"scatterpolargl\": [{\"marker\": {\"colorbar\": {\"outlinewidth\": 0, \"ticks\": \"\"}}, \"type\": \"scatterpolargl\"}], \"scatterternary\": [{\"marker\": {\"colorbar\": {\"outlinewidth\": 0, \"ticks\": \"\"}}, \"type\": \"scatterternary\"}], \"surface\": [{\"colorbar\": {\"outlinewidth\": 0, \"ticks\": \"\"}, \"colorscale\": [[0.0, \"#0d0887\"], [0.1111111111111111, \"#46039f\"], [0.2222222222222222, \"#7201a8\"], [0.3333333333333333, \"#9c179e\"], [0.4444444444444444, \"#bd3786\"], [0.5555555555555556, \"#d8576b\"], [0.6666666666666666, \"#ed7953\"], [0.7777777777777778, \"#fb9f3a\"], [0.8888888888888888, \"#fdca26\"], [1.0, \"#f0f921\"]], \"type\": \"surface\"}], \"table\": [{\"cells\": {\"fill\": {\"color\": \"#EBF0F8\"}, \"line\": {\"color\": \"white\"}}, \"header\": {\"fill\": {\"color\": \"#C8D4E3\"}, \"line\": {\"color\": \"white\"}}, \"type\": \"table\"}]}, \"layout\": {\"annotationdefaults\": {\"arrowcolor\": \"#2a3f5f\", \"arrowhead\": 0, \"arrowwidth\": 1}, \"coloraxis\": {\"colorbar\": {\"outlinewidth\": 0, \"ticks\": \"\"}}, \"colorscale\": {\"diverging\": [[0, \"#8e0152\"], [0.1, \"#c51b7d\"], [0.2, \"#de77ae\"], [0.3, \"#f1b6da\"], [0.4, \"#fde0ef\"], [0.5, \"#f7f7f7\"], [0.6, \"#e6f5d0\"], [0.7, \"#b8e186\"], [0.8, \"#7fbc41\"], [0.9, \"#4d9221\"], [1, \"#276419\"]], \"sequential\": [[0.0, \"#0d0887\"], [0.1111111111111111, \"#46039f\"], [0.2222222222222222, \"#7201a8\"], [0.3333333333333333, \"#9c179e\"], [0.4444444444444444, \"#bd3786\"], [0.5555555555555556, \"#d8576b\"], [0.6666666666666666, \"#ed7953\"], [0.7777777777777778, \"#fb9f3a\"], [0.8888888888888888, \"#fdca26\"], [1.0, \"#f0f921\"]], \"sequentialminus\": [[0.0, \"#0d0887\"], [0.1111111111111111, \"#46039f\"], [0.2222222222222222, \"#7201a8\"], [0.3333333333333333, \"#9c179e\"], [0.4444444444444444, \"#bd3786\"], [0.5555555555555556, \"#d8576b\"], [0.6666666666666666, \"#ed7953\"], [0.7777777777777778, \"#fb9f3a\"], [0.8888888888888888, \"#fdca26\"], [1.0, \"#f0f921\"]]}, \"colorway\": [\"#636efa\", \"#EF553B\", \"#00cc96\", \"#ab63fa\", \"#FFA15A\", \"#19d3f3\", \"#FF6692\", \"#B6E880\", \"#FF97FF\", \"#FECB52\"], \"font\": {\"color\": \"#2a3f5f\"}, \"geo\": {\"bgcolor\": \"white\", \"lakecolor\": \"white\", \"landcolor\": \"#E5ECF6\", \"showlakes\": true, \"showland\": true, \"subunitcolor\": \"white\"}, \"hoverlabel\": {\"align\": \"left\"}, \"hovermode\": \"closest\", \"mapbox\": {\"style\": \"light\"}, \"paper_bgcolor\": \"white\", \"plot_bgcolor\": \"#E5ECF6\", \"polar\": {\"angularaxis\": {\"gridcolor\": \"white\", \"linecolor\": \"white\", \"ticks\": \"\"}, \"bgcolor\": \"#E5ECF6\", \"radialaxis\": {\"gridcolor\": \"white\", \"linecolor\": \"white\", \"ticks\": \"\"}}, \"scene\": {\"xaxis\": {\"backgroundcolor\": \"#E5ECF6\", \"gridcolor\": \"white\", \"gridwidth\": 2, \"linecolor\": \"white\", \"showbackground\": true, \"ticks\": \"\", \"zerolinecolor\": \"white\"}, \"yaxis\": {\"backgroundcolor\": \"#E5ECF6\", \"gridcolor\": \"white\", \"gridwidth\": 2, \"linecolor\": \"white\", \"showbackground\": true, \"ticks\": \"\", \"zerolinecolor\": \"white\"}, \"zaxis\": {\"backgroundcolor\": \"#E5ECF6\", \"gridcolor\": \"white\", \"gridwidth\": 2, \"linecolor\": \"white\", \"showbackground\": true, \"ticks\": \"\", \"zerolinecolor\": \"white\"}}, \"shapedefaults\": {\"line\": {\"color\": \"#2a3f5f\"}}, \"ternary\": {\"aaxis\": {\"gridcolor\": \"white\", \"linecolor\": \"white\", \"ticks\": \"\"}, \"baxis\": {\"gridcolor\": \"white\", \"linecolor\": \"white\", \"ticks\": \"\"}, \"bgcolor\": \"#E5ECF6\", \"caxis\": {\"gridcolor\": \"white\", \"linecolor\": \"white\", \"ticks\": \"\"}}, \"title\": {\"x\": 0.05}, \"xaxis\": {\"automargin\": true, \"gridcolor\": \"white\", \"linecolor\": \"white\", \"ticks\": \"\", \"title\": {\"standoff\": 15}, \"zerolinecolor\": \"white\", \"zerolinewidth\": 2}, \"yaxis\": {\"automargin\": true, \"gridcolor\": \"white\", \"linecolor\": \"white\", \"ticks\": \"\", \"title\": {\"standoff\": 15}, \"zerolinecolor\": \"white\", \"zerolinewidth\": 2}}}, \"title\": {\"text\": \"<b>Flights By Distance<b> <i>(in Miles)<i>\", \"x\": 0.5}},\n",
       "                        {\"responsive\": true}\n",
       "                    ).then(function(){\n",
       "                            \n",
       "var gd = document.getElementById('eff7cde8-8b6e-43a2-8a0f-03d1f7727f8a');\n",
       "var x = new MutationObserver(function (mutations, observer) {{\n",
       "        var display = window.getComputedStyle(gd).display;\n",
       "        if (!display || display === 'none') {{\n",
       "            console.log([gd, 'removed!']);\n",
       "            Plotly.purge(gd);\n",
       "            observer.disconnect();\n",
       "        }}\n",
       "}});\n",
       "\n",
       "// Listen for the removal of the full notebook cells\n",
       "var notebookContainer = gd.closest('#notebook-container');\n",
       "if (notebookContainer) {{\n",
       "    x.observe(notebookContainer, {childList: true});\n",
       "}}\n",
       "\n",
       "// Listen for the clearing of the current output cell\n",
       "var outputEl = gd.closest('.output');\n",
       "if (outputEl) {{\n",
       "    x.observe(outputEl, {childList: true});\n",
       "}}\n",
       "\n",
       "                        })\n",
       "                };\n",
       "                });\n",
       "            </script>\n",
       "        </div>"
      ]
     },
     "metadata": {},
     "output_type": "display_data"
    }
   ],
   "source": [
    "flights['FlightType'] = 'ShortHaul'\n",
    "flights.loc[(flights['Distance'] >= 800) & (\n",
    "    flights['Distance'] <= 2200), 'FlightType'] = 'MediumHaul'\n",
    "flights.loc[(flights['Distance'] > 2200), 'FlightType'] = 'LongHaul'\n",
    "\n",
    "df_flight = pd.DataFrame(flights['FlightType'].value_counts().reset_index().values, \n",
    "                         columns=[\"FlightType\", \"Number of Arrivals\"])\n",
    "\n",
    "labels = [\"Short Haul\", \"Medium Haul\", \"Long Haul\"]\n",
    "value = [df_flight['Number of Arrivals'][0],\n",
    "         df_flight['Number of Arrivals'][1],\n",
    "         df_flight['Number of Arrivals'][2]]\n",
    "# colors=['lightcyan','cyan','royalblue']\n",
    "\n",
    "figs = go.Figure(data=[go.Pie(labels=labels, \n",
    "                              values=value, \n",
    "                              pull=[0, 0, 0.3], \n",
    "                              textinfo='label+percent', \n",
    "                              hole=0.4, \n",
    "                              hoverinfo=\"label+percent\")])\n",
    "figs.update_traces(textinfo='label+percent', textfont_size=10)\n",
    "figs.update_layout(\n",
    "    title_text=\"<b>Flights By Distance<b> <i>(in Miles)<i>\", \n",
    "    title_x=0.5, \n",
    "    font_size=12, \n",
    "    legend=dict(x=.75, y=0.55),\n",
    "    # Add annotations in the center of the donut pies.\n",
    "    annotations=[dict(text='<b>Distance<b>', x=0.5, y=0.5, font_size=11, showarrow=False)]\n",
    ")\n",
    "figs.show()"
   ]
  },
  {
   "cell_type": "markdown",
   "metadata": {},
   "source": [
    "## The 10 longest routes"
   ]
  },
  {
   "cell_type": "code",
   "execution_count": 227,
   "metadata": {
    "ExecuteTime": {
     "end_time": "2020-05-19T09:41:12.809062Z",
     "start_time": "2020-05-19T09:41:12.710331Z"
    },
    "hide_input": true
   },
   "outputs": [
    {
     "data": {
      "text/plain": [
       "[['Honolulu, HI', 4502, 'Atlanta'],\n",
       " ['Anchorage, AK', 3417, 'Atlanta'],\n",
       " ['Seattle, WA', 2182, 'Atlanta'],\n",
       " ['Portland, OR', 2172, 'Atlanta'],\n",
       " ['San Francisco, CA', 2139, 'Atlanta'],\n",
       " ['Oakland, CA', 2130, 'Atlanta'],\n",
       " ['San Jose, CA', 2116, 'Atlanta'],\n",
       " ['Sacramento, CA', 2092, 'Atlanta'],\n",
       " ['Reno, NV', 1993, 'Atlanta'],\n",
       " ['Los Angeles, CA', 1947, 'Atlanta']]"
      ]
     },
     "execution_count": 227,
     "metadata": {},
     "output_type": "execute_result"
    }
   ],
   "source": [
    "# longest air routes\n",
    "temp = flights[['OriginCityName', 'Distance']].drop_duplicates()\n",
    "temp = temp.sort_values('Distance', ascending=False)\n",
    "temp['DestCityName'] = 'Atlanta'\n",
    "longest_10_routes = temp.head(10).values.tolist()\n",
    "longest_10_routes"
   ]
  },
  {
   "cell_type": "markdown",
   "metadata": {},
   "source": [
    "## The 10 shortest routes"
   ]
  },
  {
   "cell_type": "code",
   "execution_count": 228,
   "metadata": {
    "ExecuteTime": {
     "end_time": "2020-05-19T09:41:17.180834Z",
     "start_time": "2020-05-19T09:41:17.172886Z"
    },
    "hide_input": true
   },
   "outputs": [
    {
     "data": {
      "text/plain": [
       "[['Columbus, GA', 'Atlanta'],\n",
       " ['Chattanooga, TN', 'Atlanta'],\n",
       " ['Birmingham, AL', 'Atlanta'],\n",
       " ['Augusta, GA', 'Atlanta'],\n",
       " ['Albany, GA', 'Atlanta'],\n",
       " ['Montgomery, AL', 'Atlanta'],\n",
       " ['Huntsville, AL', 'Atlanta'],\n",
       " ['Knoxville, TN', 'Atlanta'],\n",
       " ['Greer, SC', 'Atlanta'],\n",
       " ['Asheville, NC', 'Atlanta']]"
      ]
     },
     "execution_count": 228,
     "metadata": {},
     "output_type": "execute_result"
    }
   ],
   "source": [
    "# shortest Air Routes\n",
    "temp = temp.sort_values('Distance', ascending=True)\n",
    "temp = temp[['OriginCityName', 'DestCityName']]\n",
    "longest_10_routes = temp.head(10).values.tolist()\n",
    "longest_10_routes"
   ]
  },
  {
   "cell_type": "code",
   "execution_count": 83,
   "metadata": {
    "ExecuteTime": {
     "end_time": "2020-05-19T03:51:10.690726Z",
     "start_time": "2020-05-19T03:51:10.670780Z"
    }
   },
   "outputs": [
    {
     "data": {
      "text/html": [
       "<div>\n",
       "<style scoped>\n",
       "    .dataframe tbody tr th:only-of-type {\n",
       "        vertical-align: middle;\n",
       "    }\n",
       "\n",
       "    .dataframe tbody tr th {\n",
       "        vertical-align: top;\n",
       "    }\n",
       "\n",
       "    .dataframe thead th {\n",
       "        text-align: right;\n",
       "    }\n",
       "</style>\n",
       "<table border=\"1\" class=\"dataframe\">\n",
       "  <thead>\n",
       "    <tr style=\"text-align: right;\">\n",
       "      <th></th>\n",
       "      <th>Year</th>\n",
       "      <th>Quarter</th>\n",
       "      <th>Month</th>\n",
       "      <th>DayofMonth</th>\n",
       "      <th>DayofWeek</th>\n",
       "      <th>UniqueCarrierCode</th>\n",
       "      <th>OriginAirportID</th>\n",
       "      <th>OriginCityName</th>\n",
       "      <th>OriginStateName</th>\n",
       "      <th>SOBT</th>\n",
       "      <th>AOBT</th>\n",
       "      <th>OBTDelay</th>\n",
       "      <th>OBTDel15</th>\n",
       "      <th>OBTDelayGroups</th>\n",
       "      <th>OBTTimeBlk</th>\n",
       "      <th>AXOT</th>\n",
       "      <th>ATOT</th>\n",
       "      <th>ALDT</th>\n",
       "      <th>AXIT</th>\n",
       "      <th>SIBT</th>\n",
       "      <th>AIBT</th>\n",
       "      <th>IBTDelay</th>\n",
       "      <th>IBTDel15</th>\n",
       "      <th>IBTDelayGroups</th>\n",
       "      <th>IBTTimeBlk</th>\n",
       "      <th>SOBTtoSIBT</th>\n",
       "      <th>AOBTtoAIBT</th>\n",
       "      <th>AirborneTime</th>\n",
       "      <th>Distance</th>\n",
       "      <th>DistanceGroup</th>\n",
       "      <th>CarrierDelay</th>\n",
       "      <th>WeatherDelay</th>\n",
       "      <th>NASDelay</th>\n",
       "      <th>SecurityDelay</th>\n",
       "      <th>LateAircraftDelay</th>\n",
       "    </tr>\n",
       "  </thead>\n",
       "  <tbody>\n",
       "    <tr>\n",
       "      <th>0</th>\n",
       "      <td>2017</td>\n",
       "      <td>1</td>\n",
       "      <td>1</td>\n",
       "      <td>1</td>\n",
       "      <td>7</td>\n",
       "      <td>AA</td>\n",
       "      <td>11298</td>\n",
       "      <td>Dallas/Fort Worth, TX</td>\n",
       "      <td>Texas</td>\n",
       "      <td>2017-01-01 14:25:00</td>\n",
       "      <td>2017-01-01 14:30:00</td>\n",
       "      <td>5</td>\n",
       "      <td>0</td>\n",
       "      <td>0</td>\n",
       "      <td>14</td>\n",
       "      <td>12</td>\n",
       "      <td>2017-01-01 14:42:00</td>\n",
       "      <td>2017-01-01 17:17:00</td>\n",
       "      <td>10</td>\n",
       "      <td>2017-01-01 17:26:00</td>\n",
       "      <td>2017-01-01 17:27:00</td>\n",
       "      <td>1</td>\n",
       "      <td>0</td>\n",
       "      <td>0</td>\n",
       "      <td>17</td>\n",
       "      <td>121</td>\n",
       "      <td>117</td>\n",
       "      <td>95</td>\n",
       "      <td>731</td>\n",
       "      <td>3</td>\n",
       "      <td>0</td>\n",
       "      <td>0</td>\n",
       "      <td>0</td>\n",
       "      <td>0</td>\n",
       "      <td>0</td>\n",
       "    </tr>\n",
       "    <tr>\n",
       "      <th>1</th>\n",
       "      <td>2017</td>\n",
       "      <td>1</td>\n",
       "      <td>1</td>\n",
       "      <td>2</td>\n",
       "      <td>1</td>\n",
       "      <td>AA</td>\n",
       "      <td>11298</td>\n",
       "      <td>Dallas/Fort Worth, TX</td>\n",
       "      <td>Texas</td>\n",
       "      <td>2017-01-02 14:25:00</td>\n",
       "      <td>2017-01-02 14:20:00</td>\n",
       "      <td>-5</td>\n",
       "      <td>0</td>\n",
       "      <td>-1</td>\n",
       "      <td>14</td>\n",
       "      <td>13</td>\n",
       "      <td>2017-01-02 14:33:00</td>\n",
       "      <td>2017-01-02 17:23:00</td>\n",
       "      <td>11</td>\n",
       "      <td>2017-01-02 17:26:00</td>\n",
       "      <td>2017-01-02 17:34:00</td>\n",
       "      <td>8</td>\n",
       "      <td>0</td>\n",
       "      <td>0</td>\n",
       "      <td>17</td>\n",
       "      <td>121</td>\n",
       "      <td>134</td>\n",
       "      <td>110</td>\n",
       "      <td>731</td>\n",
       "      <td>3</td>\n",
       "      <td>0</td>\n",
       "      <td>0</td>\n",
       "      <td>0</td>\n",
       "      <td>0</td>\n",
       "      <td>0</td>\n",
       "    </tr>\n",
       "    <tr>\n",
       "      <th>2</th>\n",
       "      <td>2017</td>\n",
       "      <td>1</td>\n",
       "      <td>1</td>\n",
       "      <td>3</td>\n",
       "      <td>2</td>\n",
       "      <td>AA</td>\n",
       "      <td>11298</td>\n",
       "      <td>Dallas/Fort Worth, TX</td>\n",
       "      <td>Texas</td>\n",
       "      <td>2017-01-03 14:25:00</td>\n",
       "      <td>2017-01-03 14:26:00</td>\n",
       "      <td>1</td>\n",
       "      <td>0</td>\n",
       "      <td>0</td>\n",
       "      <td>14</td>\n",
       "      <td>14</td>\n",
       "      <td>2017-01-03 14:40:00</td>\n",
       "      <td>2017-01-03 17:18:00</td>\n",
       "      <td>5</td>\n",
       "      <td>2017-01-03 17:26:00</td>\n",
       "      <td>2017-01-03 17:23:00</td>\n",
       "      <td>-3</td>\n",
       "      <td>0</td>\n",
       "      <td>-1</td>\n",
       "      <td>17</td>\n",
       "      <td>121</td>\n",
       "      <td>117</td>\n",
       "      <td>98</td>\n",
       "      <td>731</td>\n",
       "      <td>3</td>\n",
       "      <td>0</td>\n",
       "      <td>0</td>\n",
       "      <td>0</td>\n",
       "      <td>0</td>\n",
       "      <td>0</td>\n",
       "    </tr>\n",
       "  </tbody>\n",
       "</table>\n",
       "</div>"
      ],
      "text/plain": [
       "   Year  Quarter  Month  DayofMonth  DayofWeek UniqueCarrierCode  \\\n",
       "0  2017        1      1           1          7                AA   \n",
       "1  2017        1      1           2          1                AA   \n",
       "2  2017        1      1           3          2                AA   \n",
       "\n",
       "   OriginAirportID         OriginCityName OriginStateName                SOBT  \\\n",
       "0            11298  Dallas/Fort Worth, TX           Texas 2017-01-01 14:25:00   \n",
       "1            11298  Dallas/Fort Worth, TX           Texas 2017-01-02 14:25:00   \n",
       "2            11298  Dallas/Fort Worth, TX           Texas 2017-01-03 14:25:00   \n",
       "\n",
       "                 AOBT  OBTDelay  OBTDel15  OBTDelayGroups  OBTTimeBlk  AXOT  \\\n",
       "0 2017-01-01 14:30:00         5         0               0          14    12   \n",
       "1 2017-01-02 14:20:00        -5         0              -1          14    13   \n",
       "2 2017-01-03 14:26:00         1         0               0          14    14   \n",
       "\n",
       "                 ATOT                ALDT  AXIT                SIBT  \\\n",
       "0 2017-01-01 14:42:00 2017-01-01 17:17:00    10 2017-01-01 17:26:00   \n",
       "1 2017-01-02 14:33:00 2017-01-02 17:23:00    11 2017-01-02 17:26:00   \n",
       "2 2017-01-03 14:40:00 2017-01-03 17:18:00     5 2017-01-03 17:26:00   \n",
       "\n",
       "                 AIBT  IBTDelay  IBTDel15  IBTDelayGroups  IBTTimeBlk  \\\n",
       "0 2017-01-01 17:27:00         1         0               0          17   \n",
       "1 2017-01-02 17:34:00         8         0               0          17   \n",
       "2 2017-01-03 17:23:00        -3         0              -1          17   \n",
       "\n",
       "   SOBTtoSIBT  AOBTtoAIBT  AirborneTime  Distance  DistanceGroup  \\\n",
       "0         121         117            95       731              3   \n",
       "1         121         134           110       731              3   \n",
       "2         121         117            98       731              3   \n",
       "\n",
       "   CarrierDelay  WeatherDelay  NASDelay  SecurityDelay  LateAircraftDelay  \n",
       "0             0             0         0              0                  0  \n",
       "1             0             0         0              0                  0  \n",
       "2             0             0         0              0                  0  "
      ]
     },
     "execution_count": 83,
     "metadata": {},
     "output_type": "execute_result"
    }
   ],
   "source": [
    "flights.head(3)"
   ]
  }
 ],
 "metadata": {
  "kernelspec": {
   "display_name": "Python 3",
   "language": "python",
   "name": "python3"
  },
  "language_info": {
   "codemirror_mode": {
    "name": "ipython",
    "version": 3
   },
   "file_extension": ".py",
   "mimetype": "text/x-python",
   "name": "python",
   "nbconvert_exporter": "python",
   "pygments_lexer": "ipython3",
   "version": "3.7.3"
  },
  "notify_time": "30",
  "toc": {
   "base_numbering": 1,
   "nav_menu": {},
   "number_sections": true,
   "sideBar": true,
   "skip_h1_title": false,
   "title_cell": "Table of Contents",
   "title_sidebar": "Contents",
   "toc_cell": false,
   "toc_position": {
    "height": "calc(100% - 180px)",
    "left": "10px",
    "top": "150px",
    "width": "256px"
   },
   "toc_section_display": true,
   "toc_window_display": false
  },
  "varInspector": {
   "cols": {
    "lenName": 16,
    "lenType": 16,
    "lenVar": 40
   },
   "kernels_config": {
    "python": {
     "delete_cmd_postfix": "",
     "delete_cmd_prefix": "del ",
     "library": "var_list.py",
     "varRefreshCmd": "print(var_dic_list())"
    },
    "r": {
     "delete_cmd_postfix": ") ",
     "delete_cmd_prefix": "rm(",
     "library": "var_list.r",
     "varRefreshCmd": "cat(var_dic_list()) "
    }
   },
   "types_to_exclude": [
    "module",
    "function",
    "builtin_function_or_method",
    "instance",
    "_Feature"
   ],
   "window_display": false
  }
 },
 "nbformat": 4,
 "nbformat_minor": 2
}
