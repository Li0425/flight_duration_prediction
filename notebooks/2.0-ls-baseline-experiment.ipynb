{
 "cells": [
  {
   "cell_type": "markdown",
   "metadata": {},
   "source": [
    "# Introduction"
   ]
  },
  {
   "cell_type": "markdown",
   "metadata": {},
   "source": [
    "Baseline experiment - linear regression."
   ]
  },
  {
   "cell_type": "markdown",
   "metadata": {
    "hide_input": true
   },
   "source": [
    "# Set up Environment"
   ]
  },
  {
   "cell_type": "code",
   "execution_count": 21,
   "metadata": {
    "ExecuteTime": {
     "end_time": "2020-06-01T07:29:09.020005Z",
     "start_time": "2020-06-01T07:29:09.014021Z"
    },
    "hide_input": false
   },
   "outputs": [],
   "source": [
    "import pandas as pd\n",
    "import numpy as np\n",
    "import matplotlib.pyplot as plt\n",
    "import warnings\n",
    "from sklearn.model_selection import train_test_split\n",
    "from sklearn.preprocessing import StandardScaler\n",
    "from sklearn.linear_model import Lasso, Ridge\n",
    "from sklearn.feature_selection import SelectFromModel\n",
    "from math import sqrt\n",
    "from sklearn.metrics import (mean_squared_error, mean_absolute_error, r2_score,\n",
    "                             explained_variance_score, max_error)\n",
    "\n",
    "# display all columns of dataframes in the notebook\n",
    "pd.options.display.max_columns = None\n",
    "\n",
    "# ignore warnings\n",
    "warnings.filterwarnings('ignore')\n",
    "\n",
    "# set up random seed for reproducibility\n",
    "RANDOM_SEED = 42"
   ]
  },
  {
   "cell_type": "markdown",
   "metadata": {},
   "source": [
    "# Load Data"
   ]
  },
  {
   "cell_type": "code",
   "execution_count": 22,
   "metadata": {
    "ExecuteTime": {
     "end_time": "2020-06-01T07:29:12.166862Z",
     "start_time": "2020-06-01T07:29:10.578952Z"
    }
   },
   "outputs": [],
   "source": [
    "file_path = '../data/interim/'\n",
    "df_train_val = pd.read_csv(file_path + 'train_val_data.csv')\n",
    "df_test = pd.read_csv(file_path + 'test_data.csv')"
   ]
  },
  {
   "cell_type": "markdown",
   "metadata": {},
   "source": [
    "# Separate Train and Validation Datasets"
   ]
  },
  {
   "cell_type": "code",
   "execution_count": 23,
   "metadata": {
    "ExecuteTime": {
     "end_time": "2020-06-01T07:29:12.848890Z",
     "start_time": "2020-06-01T07:29:12.686294Z"
    }
   },
   "outputs": [
    {
     "data": {
      "text/plain": [
       "((734965, 40), (10000, 40), (10000, 40))"
      ]
     },
     "execution_count": 23,
     "metadata": {},
     "output_type": "execute_result"
    }
   ],
   "source": [
    "# the last 10000 flights are set as validation dataset\n",
    "X_train, X_val, y_train, y_val = train_test_split(df_train_val,\n",
    "                                                  df_train_val['AOBTtoAIBT'],\n",
    "                                                  shuffle=False,\n",
    "                                                  test_size=10000)\n",
    "\n",
    "X_test = df_test.copy()\n",
    "y_test = df_test['AOBTtoAIBT']\n",
    "\n",
    "X_train.shape, X_val.shape, X_test.shape"
   ]
  },
  {
   "cell_type": "code",
   "execution_count": 24,
   "metadata": {
    "ExecuteTime": {
     "end_time": "2020-06-01T07:29:38.290131Z",
     "start_time": "2020-06-01T07:29:14.358207Z"
    }
   },
   "outputs": [],
   "source": [
    "# write train and val into two CSV files\n",
    "train_set_name = 'train_data.csv'\n",
    "\n",
    "with open(file_path + train_set_name, \"w\") as my_empty_csv:\n",
    "    pass\n",
    "\n",
    "X_train.to_csv(file_path + train_set_name, mode='w', header=True, index=False)"
   ]
  },
  {
   "cell_type": "code",
   "execution_count": 25,
   "metadata": {
    "ExecuteTime": {
     "end_time": "2020-06-01T07:29:38.811585Z",
     "start_time": "2020-06-01T07:29:38.440547Z"
    }
   },
   "outputs": [],
   "source": [
    "val_set_name = 'val_data.csv'\n",
    "\n",
    "with open(file_path + val_set_name, \"w\") as my_empty_csv:\n",
    "    pass\n",
    "\n",
    "X_val.to_csv(file_path + val_set_name, mode='w', header=True, index=False)"
   ]
  },
  {
   "cell_type": "code",
   "execution_count": 4,
   "metadata": {
    "ExecuteTime": {
     "end_time": "2020-06-01T03:07:53.678450Z",
     "start_time": "2020-06-01T03:07:53.659467Z"
    }
   },
   "outputs": [
    {
     "data": {
      "text/html": [
       "<div>\n",
       "<style scoped>\n",
       "    .dataframe tbody tr th:only-of-type {\n",
       "        vertical-align: middle;\n",
       "    }\n",
       "\n",
       "    .dataframe tbody tr th {\n",
       "        vertical-align: top;\n",
       "    }\n",
       "\n",
       "    .dataframe thead th {\n",
       "        text-align: right;\n",
       "    }\n",
       "</style>\n",
       "<table border=\"1\" class=\"dataframe\">\n",
       "  <thead>\n",
       "    <tr style=\"text-align: right;\">\n",
       "      <th></th>\n",
       "      <th>AOBTtoAIBT</th>\n",
       "      <th>UniqueCarrierCode</th>\n",
       "      <th>OriginAirportID</th>\n",
       "      <th>OriginCityMarketID</th>\n",
       "      <th>OriginState</th>\n",
       "      <th>OBTDelay</th>\n",
       "      <th>OBTDel15</th>\n",
       "      <th>OBTDelayGroups</th>\n",
       "      <th>SOBTtoSIBT</th>\n",
       "      <th>Distance</th>\n",
       "      <th>DistanceGroup</th>\n",
       "      <th>Num_Arr_SIBT-30</th>\n",
       "      <th>Num_Arr_SIBT-25</th>\n",
       "      <th>Num_Arr_SIBT-20</th>\n",
       "      <th>Num_Arr_SIBT-15</th>\n",
       "      <th>Num_Arr_SIBT-10</th>\n",
       "      <th>Num_Arr_SIBT-5</th>\n",
       "      <th>Num_Arr_SIBT-0</th>\n",
       "      <th>Num_Arr_SIBT+5</th>\n",
       "      <th>Num_Arr_SIBT+10</th>\n",
       "      <th>Num_Arr_SIBT+15</th>\n",
       "      <th>Num_Arr_SIBT+20</th>\n",
       "      <th>Num_Arr_SIBT+25</th>\n",
       "      <th>Num_Dep_SIBT-30</th>\n",
       "      <th>Num_Dep_SIBT-25</th>\n",
       "      <th>Num_Dep_SIBT-20</th>\n",
       "      <th>Num_Dep_SIBT-15</th>\n",
       "      <th>Num_Dep_SIBT-10</th>\n",
       "      <th>Num_Dep_SIBT-5</th>\n",
       "      <th>Num_Dep_SIBT-0</th>\n",
       "      <th>Num_Dep_SIBT+5</th>\n",
       "      <th>Num_Dep_SIBT+10</th>\n",
       "      <th>Num_Dep_SIBT+15</th>\n",
       "      <th>Num_Dep_SIBT+20</th>\n",
       "      <th>Num_Dep_SIBT+25</th>\n",
       "      <th>SIBTQuarter</th>\n",
       "      <th>SIBTMonth</th>\n",
       "      <th>SIBTDayOfMonth</th>\n",
       "      <th>SIBTDayOfWeek</th>\n",
       "      <th>SIBTHour</th>\n",
       "    </tr>\n",
       "  </thead>\n",
       "  <tbody>\n",
       "    <tr>\n",
       "      <th>734965</th>\n",
       "      <td>106</td>\n",
       "      <td>DL</td>\n",
       "      <td>14027</td>\n",
       "      <td>34027</td>\n",
       "      <td>FL</td>\n",
       "      <td>12</td>\n",
       "      <td>0</td>\n",
       "      <td>0</td>\n",
       "      <td>116</td>\n",
       "      <td>545</td>\n",
       "      <td>3</td>\n",
       "      <td>4</td>\n",
       "      <td>4</td>\n",
       "      <td>8</td>\n",
       "      <td>6</td>\n",
       "      <td>16</td>\n",
       "      <td>0</td>\n",
       "      <td>5</td>\n",
       "      <td>9</td>\n",
       "      <td>3</td>\n",
       "      <td>7</td>\n",
       "      <td>12</td>\n",
       "      <td>10</td>\n",
       "      <td>8</td>\n",
       "      <td>5</td>\n",
       "      <td>7</td>\n",
       "      <td>3</td>\n",
       "      <td>29</td>\n",
       "      <td>0</td>\n",
       "      <td>10</td>\n",
       "      <td>8</td>\n",
       "      <td>4</td>\n",
       "      <td>4</td>\n",
       "      <td>3</td>\n",
       "      <td>3</td>\n",
       "      <td>4</td>\n",
       "      <td>12</td>\n",
       "      <td>21</td>\n",
       "      <td>5</td>\n",
       "      <td>19</td>\n",
       "    </tr>\n",
       "    <tr>\n",
       "      <th>734966</th>\n",
       "      <td>110</td>\n",
       "      <td>DL</td>\n",
       "      <td>11697</td>\n",
       "      <td>32467</td>\n",
       "      <td>FL</td>\n",
       "      <td>53</td>\n",
       "      <td>1</td>\n",
       "      <td>3</td>\n",
       "      <td>119</td>\n",
       "      <td>581</td>\n",
       "      <td>3</td>\n",
       "      <td>4</td>\n",
       "      <td>4</td>\n",
       "      <td>8</td>\n",
       "      <td>6</td>\n",
       "      <td>17</td>\n",
       "      <td>0</td>\n",
       "      <td>5</td>\n",
       "      <td>9</td>\n",
       "      <td>4</td>\n",
       "      <td>6</td>\n",
       "      <td>11</td>\n",
       "      <td>11</td>\n",
       "      <td>9</td>\n",
       "      <td>5</td>\n",
       "      <td>6</td>\n",
       "      <td>3</td>\n",
       "      <td>30</td>\n",
       "      <td>0</td>\n",
       "      <td>10</td>\n",
       "      <td>7</td>\n",
       "      <td>4</td>\n",
       "      <td>4</td>\n",
       "      <td>3</td>\n",
       "      <td>4</td>\n",
       "      <td>4</td>\n",
       "      <td>12</td>\n",
       "      <td>21</td>\n",
       "      <td>5</td>\n",
       "      <td>19</td>\n",
       "    </tr>\n",
       "    <tr>\n",
       "      <th>734967</th>\n",
       "      <td>99</td>\n",
       "      <td>9E</td>\n",
       "      <td>12323</td>\n",
       "      <td>32323</td>\n",
       "      <td>NC</td>\n",
       "      <td>26</td>\n",
       "      <td>1</td>\n",
       "      <td>1</td>\n",
       "      <td>105</td>\n",
       "      <td>377</td>\n",
       "      <td>2</td>\n",
       "      <td>2</td>\n",
       "      <td>6</td>\n",
       "      <td>6</td>\n",
       "      <td>7</td>\n",
       "      <td>17</td>\n",
       "      <td>0</td>\n",
       "      <td>5</td>\n",
       "      <td>8</td>\n",
       "      <td>7</td>\n",
       "      <td>11</td>\n",
       "      <td>11</td>\n",
       "      <td>12</td>\n",
       "      <td>8</td>\n",
       "      <td>8</td>\n",
       "      <td>2</td>\n",
       "      <td>4</td>\n",
       "      <td>31</td>\n",
       "      <td>0</td>\n",
       "      <td>8</td>\n",
       "      <td>5</td>\n",
       "      <td>6</td>\n",
       "      <td>2</td>\n",
       "      <td>4</td>\n",
       "      <td>4</td>\n",
       "      <td>4</td>\n",
       "      <td>12</td>\n",
       "      <td>21</td>\n",
       "      <td>5</td>\n",
       "      <td>20</td>\n",
       "    </tr>\n",
       "  </tbody>\n",
       "</table>\n",
       "</div>"
      ],
      "text/plain": [
       "        AOBTtoAIBT UniqueCarrierCode  OriginAirportID  OriginCityMarketID  \\\n",
       "734965         106                DL            14027               34027   \n",
       "734966         110                DL            11697               32467   \n",
       "734967          99                9E            12323               32323   \n",
       "\n",
       "       OriginState  OBTDelay  OBTDel15  OBTDelayGroups  SOBTtoSIBT  Distance  \\\n",
       "734965          FL        12         0               0         116       545   \n",
       "734966          FL        53         1               3         119       581   \n",
       "734967          NC        26         1               1         105       377   \n",
       "\n",
       "        DistanceGroup  Num_Arr_SIBT-30  Num_Arr_SIBT-25  Num_Arr_SIBT-20  \\\n",
       "734965              3                4                4                8   \n",
       "734966              3                4                4                8   \n",
       "734967              2                2                6                6   \n",
       "\n",
       "        Num_Arr_SIBT-15  Num_Arr_SIBT-10  Num_Arr_SIBT-5  Num_Arr_SIBT-0  \\\n",
       "734965                6               16               0               5   \n",
       "734966                6               17               0               5   \n",
       "734967                7               17               0               5   \n",
       "\n",
       "        Num_Arr_SIBT+5  Num_Arr_SIBT+10  Num_Arr_SIBT+15  Num_Arr_SIBT+20  \\\n",
       "734965               9                3                7               12   \n",
       "734966               9                4                6               11   \n",
       "734967               8                7               11               11   \n",
       "\n",
       "        Num_Arr_SIBT+25  Num_Dep_SIBT-30  Num_Dep_SIBT-25  Num_Dep_SIBT-20  \\\n",
       "734965               10                8                5                7   \n",
       "734966               11                9                5                6   \n",
       "734967               12                8                8                2   \n",
       "\n",
       "        Num_Dep_SIBT-15  Num_Dep_SIBT-10  Num_Dep_SIBT-5  Num_Dep_SIBT-0  \\\n",
       "734965                3               29               0              10   \n",
       "734966                3               30               0              10   \n",
       "734967                4               31               0               8   \n",
       "\n",
       "        Num_Dep_SIBT+5  Num_Dep_SIBT+10  Num_Dep_SIBT+15  Num_Dep_SIBT+20  \\\n",
       "734965               8                4                4                3   \n",
       "734966               7                4                4                3   \n",
       "734967               5                6                2                4   \n",
       "\n",
       "        Num_Dep_SIBT+25  SIBTQuarter  SIBTMonth  SIBTDayOfMonth  \\\n",
       "734965                3            4         12              21   \n",
       "734966                4            4         12              21   \n",
       "734967                4            4         12              21   \n",
       "\n",
       "        SIBTDayOfWeek  SIBTHour  \n",
       "734965              5        19  \n",
       "734966              5        19  \n",
       "734967              5        20  "
      ]
     },
     "execution_count": 4,
     "metadata": {},
     "output_type": "execute_result"
    }
   ],
   "source": [
    "X_val.head(3)"
   ]
  },
  {
   "cell_type": "markdown",
   "metadata": {},
   "source": [
    "The validation set are flights after 2018-12-21 6pm."
   ]
  },
  {
   "cell_type": "markdown",
   "metadata": {},
   "source": [
    "# Feature Engineering"
   ]
  },
  {
   "cell_type": "markdown",
   "metadata": {},
   "source": [
    "## Categorical Variables"
   ]
  },
  {
   "cell_type": "code",
   "execution_count": 5,
   "metadata": {
    "ExecuteTime": {
     "end_time": "2020-06-01T03:08:32.474139Z",
     "start_time": "2020-06-01T03:08:32.448213Z"
    }
   },
   "outputs": [
    {
     "data": {
      "text/html": [
       "<div>\n",
       "<style scoped>\n",
       "    .dataframe tbody tr th:only-of-type {\n",
       "        vertical-align: middle;\n",
       "    }\n",
       "\n",
       "    .dataframe tbody tr th {\n",
       "        vertical-align: top;\n",
       "    }\n",
       "\n",
       "    .dataframe thead th {\n",
       "        text-align: right;\n",
       "    }\n",
       "</style>\n",
       "<table border=\"1\" class=\"dataframe\">\n",
       "  <thead>\n",
       "    <tr style=\"text-align: right;\">\n",
       "      <th></th>\n",
       "      <th>AOBTtoAIBT</th>\n",
       "      <th>UniqueCarrierCode</th>\n",
       "      <th>OriginAirportID</th>\n",
       "      <th>OriginCityMarketID</th>\n",
       "      <th>OriginState</th>\n",
       "      <th>OBTDelay</th>\n",
       "      <th>OBTDel15</th>\n",
       "      <th>OBTDelayGroups</th>\n",
       "      <th>SOBTtoSIBT</th>\n",
       "      <th>Distance</th>\n",
       "      <th>DistanceGroup</th>\n",
       "      <th>Num_Arr_SIBT-30</th>\n",
       "      <th>Num_Arr_SIBT-25</th>\n",
       "      <th>Num_Arr_SIBT-20</th>\n",
       "      <th>Num_Arr_SIBT-15</th>\n",
       "      <th>Num_Arr_SIBT-10</th>\n",
       "      <th>Num_Arr_SIBT-5</th>\n",
       "      <th>Num_Arr_SIBT-0</th>\n",
       "      <th>Num_Arr_SIBT+5</th>\n",
       "      <th>Num_Arr_SIBT+10</th>\n",
       "      <th>Num_Arr_SIBT+15</th>\n",
       "      <th>Num_Arr_SIBT+20</th>\n",
       "      <th>Num_Arr_SIBT+25</th>\n",
       "      <th>Num_Dep_SIBT-30</th>\n",
       "      <th>Num_Dep_SIBT-25</th>\n",
       "      <th>Num_Dep_SIBT-20</th>\n",
       "      <th>Num_Dep_SIBT-15</th>\n",
       "      <th>Num_Dep_SIBT-10</th>\n",
       "      <th>Num_Dep_SIBT-5</th>\n",
       "      <th>Num_Dep_SIBT-0</th>\n",
       "      <th>Num_Dep_SIBT+5</th>\n",
       "      <th>Num_Dep_SIBT+10</th>\n",
       "      <th>Num_Dep_SIBT+15</th>\n",
       "      <th>Num_Dep_SIBT+20</th>\n",
       "      <th>Num_Dep_SIBT+25</th>\n",
       "      <th>SIBTQuarter</th>\n",
       "      <th>SIBTMonth</th>\n",
       "      <th>SIBTDayOfMonth</th>\n",
       "      <th>SIBTDayOfWeek</th>\n",
       "      <th>SIBTHour</th>\n",
       "    </tr>\n",
       "  </thead>\n",
       "  <tbody>\n",
       "    <tr>\n",
       "      <th>0</th>\n",
       "      <td>218</td>\n",
       "      <td>DL</td>\n",
       "      <td>14869</td>\n",
       "      <td>34614</td>\n",
       "      <td>UT</td>\n",
       "      <td>-2</td>\n",
       "      <td>0</td>\n",
       "      <td>-1</td>\n",
       "      <td>223</td>\n",
       "      <td>1590</td>\n",
       "      <td>7</td>\n",
       "      <td>0</td>\n",
       "      <td>0</td>\n",
       "      <td>0</td>\n",
       "      <td>0</td>\n",
       "      <td>1</td>\n",
       "      <td>0</td>\n",
       "      <td>0</td>\n",
       "      <td>2</td>\n",
       "      <td>0</td>\n",
       "      <td>0</td>\n",
       "      <td>0</td>\n",
       "      <td>0</td>\n",
       "      <td>2</td>\n",
       "      <td>1</td>\n",
       "      <td>1</td>\n",
       "      <td>0</td>\n",
       "      <td>1</td>\n",
       "      <td>0</td>\n",
       "      <td>0</td>\n",
       "      <td>3</td>\n",
       "      <td>1</td>\n",
       "      <td>0</td>\n",
       "      <td>3</td>\n",
       "      <td>1</td>\n",
       "      <td>1</td>\n",
       "      <td>1</td>\n",
       "      <td>1</td>\n",
       "      <td>7</td>\n",
       "      <td>6</td>\n",
       "    </tr>\n",
       "    <tr>\n",
       "      <th>1</th>\n",
       "      <td>81</td>\n",
       "      <td>F9</td>\n",
       "      <td>13204</td>\n",
       "      <td>31454</td>\n",
       "      <td>FL</td>\n",
       "      <td>-4</td>\n",
       "      <td>0</td>\n",
       "      <td>-1</td>\n",
       "      <td>88</td>\n",
       "      <td>404</td>\n",
       "      <td>2</td>\n",
       "      <td>0</td>\n",
       "      <td>0</td>\n",
       "      <td>0</td>\n",
       "      <td>0</td>\n",
       "      <td>3</td>\n",
       "      <td>0</td>\n",
       "      <td>1</td>\n",
       "      <td>0</td>\n",
       "      <td>0</td>\n",
       "      <td>0</td>\n",
       "      <td>0</td>\n",
       "      <td>1</td>\n",
       "      <td>1</td>\n",
       "      <td>1</td>\n",
       "      <td>0</td>\n",
       "      <td>1</td>\n",
       "      <td>3</td>\n",
       "      <td>0</td>\n",
       "      <td>3</td>\n",
       "      <td>1</td>\n",
       "      <td>0</td>\n",
       "      <td>3</td>\n",
       "      <td>1</td>\n",
       "      <td>0</td>\n",
       "      <td>1</td>\n",
       "      <td>1</td>\n",
       "      <td>1</td>\n",
       "      <td>7</td>\n",
       "      <td>6</td>\n",
       "    </tr>\n",
       "    <tr>\n",
       "      <th>2</th>\n",
       "      <td>88</td>\n",
       "      <td>EV</td>\n",
       "      <td>10980</td>\n",
       "      <td>30980</td>\n",
       "      <td>TN</td>\n",
       "      <td>302</td>\n",
       "      <td>1</td>\n",
       "      <td>12</td>\n",
       "      <td>57</td>\n",
       "      <td>106</td>\n",
       "      <td>1</td>\n",
       "      <td>0</td>\n",
       "      <td>0</td>\n",
       "      <td>0</td>\n",
       "      <td>0</td>\n",
       "      <td>3</td>\n",
       "      <td>0</td>\n",
       "      <td>0</td>\n",
       "      <td>0</td>\n",
       "      <td>0</td>\n",
       "      <td>0</td>\n",
       "      <td>1</td>\n",
       "      <td>0</td>\n",
       "      <td>1</td>\n",
       "      <td>0</td>\n",
       "      <td>1</td>\n",
       "      <td>0</td>\n",
       "      <td>4</td>\n",
       "      <td>0</td>\n",
       "      <td>2</td>\n",
       "      <td>0</td>\n",
       "      <td>3</td>\n",
       "      <td>1</td>\n",
       "      <td>0</td>\n",
       "      <td>0</td>\n",
       "      <td>1</td>\n",
       "      <td>1</td>\n",
       "      <td>1</td>\n",
       "      <td>7</td>\n",
       "      <td>6</td>\n",
       "    </tr>\n",
       "  </tbody>\n",
       "</table>\n",
       "</div>"
      ],
      "text/plain": [
       "   AOBTtoAIBT UniqueCarrierCode  OriginAirportID  OriginCityMarketID  \\\n",
       "0         218                DL            14869               34614   \n",
       "1          81                F9            13204               31454   \n",
       "2          88                EV            10980               30980   \n",
       "\n",
       "  OriginState  OBTDelay  OBTDel15  OBTDelayGroups  SOBTtoSIBT  Distance  \\\n",
       "0          UT        -2         0              -1         223      1590   \n",
       "1          FL        -4         0              -1          88       404   \n",
       "2          TN       302         1              12          57       106   \n",
       "\n",
       "   DistanceGroup  Num_Arr_SIBT-30  Num_Arr_SIBT-25  Num_Arr_SIBT-20  \\\n",
       "0              7                0                0                0   \n",
       "1              2                0                0                0   \n",
       "2              1                0                0                0   \n",
       "\n",
       "   Num_Arr_SIBT-15  Num_Arr_SIBT-10  Num_Arr_SIBT-5  Num_Arr_SIBT-0  \\\n",
       "0                0                1               0               0   \n",
       "1                0                3               0               1   \n",
       "2                0                3               0               0   \n",
       "\n",
       "   Num_Arr_SIBT+5  Num_Arr_SIBT+10  Num_Arr_SIBT+15  Num_Arr_SIBT+20  \\\n",
       "0               2                0                0                0   \n",
       "1               0                0                0                0   \n",
       "2               0                0                0                1   \n",
       "\n",
       "   Num_Arr_SIBT+25  Num_Dep_SIBT-30  Num_Dep_SIBT-25  Num_Dep_SIBT-20  \\\n",
       "0                0                2                1                1   \n",
       "1                1                1                1                0   \n",
       "2                0                1                0                1   \n",
       "\n",
       "   Num_Dep_SIBT-15  Num_Dep_SIBT-10  Num_Dep_SIBT-5  Num_Dep_SIBT-0  \\\n",
       "0                0                1               0               0   \n",
       "1                1                3               0               3   \n",
       "2                0                4               0               2   \n",
       "\n",
       "   Num_Dep_SIBT+5  Num_Dep_SIBT+10  Num_Dep_SIBT+15  Num_Dep_SIBT+20  \\\n",
       "0               3                1                0                3   \n",
       "1               1                0                3                1   \n",
       "2               0                3                1                0   \n",
       "\n",
       "   Num_Dep_SIBT+25  SIBTQuarter  SIBTMonth  SIBTDayOfMonth  SIBTDayOfWeek  \\\n",
       "0                1            1          1               1              7   \n",
       "1                0            1          1               1              7   \n",
       "2                0            1          1               1              7   \n",
       "\n",
       "   SIBTHour  \n",
       "0         6  \n",
       "1         6  \n",
       "2         6  "
      ]
     },
     "execution_count": 5,
     "metadata": {},
     "output_type": "execute_result"
    }
   ],
   "source": [
    "X_train.head(3)"
   ]
  },
  {
   "cell_type": "code",
   "execution_count": 6,
   "metadata": {
    "ExecuteTime": {
     "end_time": "2020-06-01T03:08:33.950547Z",
     "start_time": "2020-06-01T03:08:33.945564Z"
    }
   },
   "outputs": [],
   "source": [
    "# capture categorical variables in a list\n",
    "cat_vars = ['UniqueCarrierCode', 'OriginAirportID', 'OriginCityMarketID', 'OriginState']"
   ]
  },
  {
   "cell_type": "markdown",
   "metadata": {},
   "source": [
    "### Cardinality"
   ]
  },
  {
   "cell_type": "code",
   "execution_count": 7,
   "metadata": {
    "ExecuteTime": {
     "end_time": "2020-06-01T03:08:39.560208Z",
     "start_time": "2020-06-01T03:08:39.319859Z"
    }
   },
   "outputs": [
    {
     "data": {
      "text/plain": [
       "UniqueCarrierCode      15\n",
       "OriginAirportID       168\n",
       "OriginCityMarketID    151\n",
       "OriginState            50\n",
       "dtype: int64"
      ]
     },
     "execution_count": 7,
     "metadata": {},
     "output_type": "execute_result"
    }
   ],
   "source": [
    "# cardinality\n",
    "X_train[cat_vars].nunique()"
   ]
  },
  {
   "cell_type": "markdown",
   "metadata": {},
   "source": [
    "UniqueCarrierCode shows low cardinality, but not the other three. Check how they affect the median target:"
   ]
  },
  {
   "cell_type": "code",
   "execution_count": 8,
   "metadata": {
    "ExecuteTime": {
     "end_time": "2020-06-01T03:08:44.393207Z",
     "start_time": "2020-06-01T03:08:40.543539Z"
    }
   },
   "outputs": [
    {
     "data": {
      "image/png": "[encoded data removed]",
      "text/plain": [
       "<Figure size 432x288 with 1 Axes>"
      ]
     },
     "metadata": {
      "needs_background": "light"
     },
     "output_type": "display_data"
    },
    {
     "data": {
      "image/png": "[encoded data removed]",
      "text/plain": [
       "<Figure size 432x288 with 1 Axes>"
      ]
     },
     "metadata": {
      "needs_background": "light"
     },
     "output_type": "display_data"
    },
    {
     "data": {
      "image/png": "[encoded data removed]",
      "text/plain": [
       "<Figure size 432x288 with 1 Axes>"
      ]
     },
     "metadata": {
      "needs_background": "light"
     },
     "output_type": "display_data"
    },
    {
     "data": {
      "image/png": "[encoded data removed]",
      "text/plain": [
       "<Figure size 432x288 with 1 Axes>"
      ]
     },
     "metadata": {
      "needs_background": "light"
     },
     "output_type": "display_data"
    }
   ],
   "source": [
    "def analyse_cat(df, var):\n",
    "    df_copy = df.copy()\n",
    "    df_copy.groupby(var)['AOBTtoAIBT'].median().plot.bar()\n",
    "    plt.title(var)\n",
    "    plt.ylabel('Median Flight Duration')\n",
    "    plt.show()\n",
    "    \n",
    "for var in cat_vars:\n",
    "    analyse_cat(X_train, var)"
   ]
  },
  {
   "cell_type": "markdown",
   "metadata": {},
   "source": [
    "### Rare Labels"
   ]
  },
  {
   "cell_type": "code",
   "execution_count": 9,
   "metadata": {
    "ExecuteTime": {
     "end_time": "2020-06-01T03:08:46.499240Z",
     "start_time": "2020-06-01T03:08:46.276842Z"
    }
   },
   "outputs": [
    {
     "name": "stdout",
     "output_type": "stream",
     "text": [
      "UniqueCarrierCode\n",
      "AS    0.001952\n",
      "B6    0.005856\n",
      "F9    0.008972\n",
      "MQ    0.000834\n",
      "OH    0.001497\n",
      "YV    0.002991\n",
      "YX    0.006464\n",
      "Name: UniqueCarrierCode, dtype: float64\n",
      "OriginAirportID\n",
      "10135    0.002493\n",
      "10140    0.002280\n",
      "10146    0.002177\n",
      "10158    0.000495\n",
      "10185    0.002403\n",
      "           ...   \n",
      "15380    0.000061\n",
      "15412    0.006438\n",
      "15607    0.002260\n",
      "15624    0.005949\n",
      "15919    0.004702\n",
      "Name: UniqueCarrierCode, Length: 137, dtype: float64\n",
      "OriginCityMarketID\n",
      "30135    0.002493\n",
      "30140    0.002280\n",
      "30146    0.002177\n",
      "30158    0.000495\n",
      "30185    0.002403\n",
      "           ...   \n",
      "35323    0.005101\n",
      "35356    0.000747\n",
      "35380    0.000061\n",
      "35412    0.006438\n",
      "35550    0.002260\n",
      "Name: UniqueCarrierCode, Length: 122, dtype: float64\n",
      "OriginState\n",
      "AK    0.000310\n",
      "CT    0.006027\n",
      "HI    0.000976\n",
      "IA    0.004887\n",
      "KS    0.002777\n",
      "ME    0.001797\n",
      "MT    0.000297\n",
      "ND    0.000035\n",
      "NE    0.005342\n",
      "NH    0.000954\n",
      "NM    0.002280\n",
      "OK    0.009351\n",
      "OR    0.003523\n",
      "PR    0.003612\n",
      "RI    0.002766\n",
      "SD    0.000834\n",
      "UT    0.008011\n",
      "VI    0.001562\n",
      "VT    0.001057\n",
      "WA    0.008259\n",
      "WV    0.003753\n",
      "WY    0.000271\n",
      "Name: UniqueCarrierCode, dtype: float64\n"
     ]
    }
   ],
   "source": [
    "def analyse_rare_labels(df, var, rare_perc):\n",
    "\n",
    "    # determine the % of observations per category\n",
    "    tmp = df.groupby(var)['UniqueCarrierCode'].count() / len(df)\n",
    "\n",
    "    # return categories that are rare\n",
    "    return tmp[tmp < rare_perc]\n",
    "\n",
    "\n",
    "# print categories that are present in less than\n",
    "# 1 % of the observations\n",
    "rare_perc = 0.01\n",
    "for var in cat_vars:\n",
    "    print(analyse_rare_labels(X_train, var, rare_perc))"
   ]
  },
  {
   "cell_type": "markdown",
   "metadata": {},
   "source": [
    "Labels that are under-represented in the dataset tend to cause over-fitting of models. They will be replaced by 'Rare'."
   ]
  },
  {
   "cell_type": "code",
   "execution_count": 10,
   "metadata": {
    "ExecuteTime": {
     "end_time": "2020-06-01T03:08:51.266614Z",
     "start_time": "2020-06-01T03:08:49.569012Z"
    },
    "code_folding": []
   },
   "outputs": [],
   "source": [
    "def find_frequent_labels(df, var, rare_perc):\n",
    "    # function finds the labels that are shared by more than\n",
    "    # a certain % of the houses in the dataset\n",
    "    tmp = df.groupby(var)['UniqueCarrierCode'].count() / len(df)\n",
    "    return tmp[tmp >= rare_perc].index\n",
    "\n",
    "\n",
    "for var in cat_vars:\n",
    "\n",
    "    # find the frequent categories\n",
    "    frequent_ls = find_frequent_labels(X_train, var, rare_perc)\n",
    "\n",
    "    # replace rare categories by the string \"Rare\"\n",
    "    X_train[var] = np.where(X_train[var].isin(\n",
    "        frequent_ls), X_train[var], 'Rare')\n",
    "    X_val[var] = np.where(X_val[var].isin(\n",
    "        frequent_ls), X_val[var], 'Rare')\n",
    "    X_test[var] = np.where(X_test[var].isin(\n",
    "        frequent_ls), X_test[var], 'Rare')"
   ]
  },
  {
   "cell_type": "markdown",
   "metadata": {},
   "source": [
    "### Encode"
   ]
  },
  {
   "cell_type": "markdown",
   "metadata": {},
   "source": [
    "Next, transform the strings of the categorical variables into numbers, so that we capture the monotonic relationship between the label and the target."
   ]
  },
  {
   "cell_type": "code",
   "execution_count": 11,
   "metadata": {
    "ExecuteTime": {
     "end_time": "2020-06-01T03:08:55.880914Z",
     "start_time": "2020-06-01T03:08:54.621146Z"
    }
   },
   "outputs": [],
   "source": [
    "# this function will assign discrete values to the strings of the variables,\n",
    "# so that the smaller value corresponds to the category that shows the smaller\n",
    "# mean AOBTtoAIBT\n",
    "\n",
    "\n",
    "def replace_categories(train, val, test, var, target):\n",
    "\n",
    "    # order the categories in a variable from that with the lowest\n",
    "    # house sale price, to that with the highest\n",
    "    ordered_labels = train.groupby([var])[target].mean().sort_values().index\n",
    "\n",
    "    # create a dictionary of ordered categories to integer values\n",
    "    ordinal_label = {k: i for i, k in enumerate(ordered_labels, 0)}\n",
    "\n",
    "    # use the dictionary to replace the categorical strings by integers\n",
    "    train[var] = train[var].map(ordinal_label)\n",
    "    val[var] = val[var].map(ordinal_label)\n",
    "    test[var] = test[var].map(ordinal_label)\n",
    "\n",
    "\n",
    "for var in cat_vars:\n",
    "    replace_categories(X_train, X_val, X_test, var, 'AOBTtoAIBT')"
   ]
  },
  {
   "cell_type": "code",
   "execution_count": 12,
   "metadata": {
    "ExecuteTime": {
     "end_time": "2020-06-01T03:08:56.910286Z",
     "start_time": "2020-06-01T03:08:56.567190Z"
    }
   },
   "outputs": [
    {
     "data": {
      "text/plain": [
       "UniqueCarrierCode      9\n",
       "OriginAirportID       32\n",
       "OriginCityMarketID    30\n",
       "OriginState           29\n",
       "dtype: int64"
      ]
     },
     "execution_count": 12,
     "metadata": {},
     "output_type": "execute_result"
    }
   ],
   "source": [
    "# cardinality\n",
    "X_train[cat_vars].nunique()"
   ]
  },
  {
   "cell_type": "code",
   "execution_count": 13,
   "metadata": {
    "ExecuteTime": {
     "end_time": "2020-06-01T03:08:59.291194Z",
     "start_time": "2020-06-01T03:08:57.927839Z"
    }
   },
   "outputs": [
    {
     "data": {
      "image/png": "[encoded data removed]",
      "text/plain": [
       "<Figure size 432x288 with 1 Axes>"
      ]
     },
     "metadata": {
      "needs_background": "light"
     },
     "output_type": "display_data"
    },
    {
     "data": {
      "image/png": "[encoded data removed]",
      "text/plain": [
       "<Figure size 432x288 with 1 Axes>"
      ]
     },
     "metadata": {
      "needs_background": "light"
     },
     "output_type": "display_data"
    },
    {
     "data": {
      "image/png": "[encoded data removed]",
      "text/plain": [
       "<Figure size 432x288 with 1 Axes>"
      ]
     },
     "metadata": {
      "needs_background": "light"
     },
     "output_type": "display_data"
    },
    {
     "data": {
      "image/png": "[encoded data removed]",
      "text/plain": [
       "<Figure size 432x288 with 1 Axes>"
      ]
     },
     "metadata": {
      "needs_background": "light"
     },
     "output_type": "display_data"
    }
   ],
   "source": [
    "def analyse_cat(df, var):\n",
    "    df_copy = df.copy()\n",
    "    df_copy.groupby(var)['AOBTtoAIBT'].median().plot.bar()\n",
    "    plt.title(var)\n",
    "    plt.ylabel('Median Flight Duration')\n",
    "    plt.show()\n",
    "    \n",
    "for var in cat_vars:\n",
    "    analyse_cat(X_train, var)"
   ]
  },
  {
   "cell_type": "markdown",
   "metadata": {
    "heading_collapsed": true
   },
   "source": [
    "## Feature Scaling"
   ]
  },
  {
   "cell_type": "markdown",
   "metadata": {
    "hidden": true
   },
   "source": [
    "For use in linear models, features need to be either scaled or normalised."
   ]
  },
  {
   "cell_type": "code",
   "execution_count": 14,
   "metadata": {
    "ExecuteTime": {
     "end_time": "2020-06-01T03:09:04.013544Z",
     "start_time": "2020-06-01T03:09:02.915371Z"
    },
    "hidden": true
   },
   "outputs": [],
   "source": [
    "X_train = X_train[X_train.columns[1:40]]\n",
    "X_val = X_val[X_val.columns[1:40]]\n",
    "X_test = X_test[X_test.columns[1:40]]\n",
    "\n",
    "scaler = StandardScaler()\n",
    "scaler.fit(X_train)\n",
    "X_train = scaler.transform(X_train)\n",
    "X_val = scaler.transform(X_val)\n",
    "X_test = scaler.transform(X_test)"
   ]
  },
  {
   "cell_type": "markdown",
   "metadata": {},
   "source": [
    "# Feature Selection"
   ]
  },
  {
   "cell_type": "code",
   "execution_count": 15,
   "metadata": {
    "ExecuteTime": {
     "end_time": "2020-06-01T03:09:19.718655Z",
     "start_time": "2020-06-01T03:09:12.318604Z"
    }
   },
   "outputs": [
    {
     "data": {
      "text/plain": [
       "SelectFromModel(estimator=Lasso(alpha=0.005, copy_X=True, fit_intercept=True,\n",
       "                                max_iter=1000, normalize=False, positive=False,\n",
       "                                precompute=False, random_state=42,\n",
       "                                selection='cyclic', tol=0.0001,\n",
       "                                warm_start=False),\n",
       "                max_features=None, norm_order=1, prefit=False, threshold=None)"
      ]
     },
     "execution_count": 15,
     "metadata": {},
     "output_type": "execute_result"
    }
   ],
   "source": [
    "sel_ = SelectFromModel(Lasso(alpha=0.005, random_state=RANDOM_SEED))\n",
    "\n",
    "# train Lasso model and select features\n",
    "sel_.fit(X_train, y_train)"
   ]
  },
  {
   "cell_type": "code",
   "execution_count": 16,
   "metadata": {
    "ExecuteTime": {
     "end_time": "2020-06-01T03:09:21.500075Z",
     "start_time": "2020-06-01T03:09:21.331532Z"
    }
   },
   "outputs": [
    {
     "name": "stdout",
     "output_type": "stream",
     "text": [
      "total features: 39\n",
      "selected features: 36\n",
      "features with coefficients shrank to zero: 3\n"
     ]
    }
   ],
   "source": [
    "# let's print the number of total and selected features\n",
    "selected_feats = df_train_val.iloc[:, 1:40].columns[(sel_.get_support())]\n",
    "\n",
    "# store features\n",
    "feats = selected_feats.to_list()\n",
    "\n",
    "# let's print some stats\n",
    "print('total features: {}'.format((X_train.shape[1])))\n",
    "print('selected features: {}'.format(len(selected_feats)))\n",
    "print('features with coefficients shrank to zero: {}'.format(\n",
    "    np.sum(sel_.estimator_.coef_ == 0)))"
   ]
  },
  {
   "cell_type": "code",
   "execution_count": 17,
   "metadata": {
    "ExecuteTime": {
     "end_time": "2020-06-01T03:09:24.528175Z",
     "start_time": "2020-06-01T03:09:24.523220Z"
    }
   },
   "outputs": [
    {
     "data": {
      "text/plain": [
       "Index(['UniqueCarrierCode', 'OriginAirportID', 'OriginCityMarketID',\n",
       "       'OriginState', 'OBTDelay', 'OBTDel15', 'OBTDelayGroups', 'SOBTtoSIBT',\n",
       "       'Distance', 'DistanceGroup', 'Num_Arr_SIBT-30', 'Num_Arr_SIBT-25',\n",
       "       'Num_Arr_SIBT-20', 'Num_Arr_SIBT-15', 'Num_Arr_SIBT-10',\n",
       "       'Num_Arr_SIBT-0', 'Num_Arr_SIBT+5', 'Num_Arr_SIBT+10',\n",
       "       'Num_Arr_SIBT+20', 'Num_Arr_SIBT+25', 'Num_Dep_SIBT-30',\n",
       "       'Num_Dep_SIBT-25', 'Num_Dep_SIBT-20', 'Num_Dep_SIBT-15',\n",
       "       'Num_Dep_SIBT-10', 'Num_Dep_SIBT-0', 'Num_Dep_SIBT+5',\n",
       "       'Num_Dep_SIBT+10', 'Num_Dep_SIBT+15', 'Num_Dep_SIBT+20',\n",
       "       'Num_Dep_SIBT+25', 'SIBTQuarter', 'SIBTMonth', 'SIBTDayOfMonth',\n",
       "       'SIBTDayOfWeek', 'SIBTHour'],\n",
       "      dtype='object')"
      ]
     },
     "execution_count": 17,
     "metadata": {},
     "output_type": "execute_result"
    }
   ],
   "source": [
    "# print the selected features\n",
    "selected_feats"
   ]
  },
  {
   "cell_type": "code",
   "execution_count": 18,
   "metadata": {
    "ExecuteTime": {
     "end_time": "2020-05-29T06:40:30.784147Z",
     "start_time": "2020-05-29T06:40:30.628565Z"
    }
   },
   "outputs": [],
   "source": [
    "X_train = np.delete(X_train, [15, 19, 27], 1)\n",
    "X_val = np.delete(X_val, [15, 19, 27], 1)\n",
    "X_test = np.delete(X_test, [15, 19, 27], 1)"
   ]
  },
  {
   "cell_type": "markdown",
   "metadata": {},
   "source": [
    "Store the selected features in a csv file:"
   ]
  },
  {
   "cell_type": "code",
   "execution_count": 20,
   "metadata": {
    "ExecuteTime": {
     "end_time": "2020-06-01T03:29:46.339047Z",
     "start_time": "2020-06-01T03:29:46.331036Z"
    }
   },
   "outputs": [],
   "source": [
    "# create an empty csv file to be written\n",
    "dataset_path = '..\\\\data\\\\interim\\\\'\n",
    "dataset_name = 'selected_features.csv'\n",
    "\n",
    "with open(dataset_path + dataset_name, \"w\") as my_empty_csv:\n",
    "    pass\n",
    "\n",
    "pd.Series(selected_feats).to_csv(dataset_path + dataset_name, mode='w', header=True, index=False)"
   ]
  },
  {
   "cell_type": "markdown",
   "metadata": {},
   "source": [
    "# Model"
   ]
  },
  {
   "cell_type": "markdown",
   "metadata": {},
   "source": [
    "## Lasso Regression"
   ]
  },
  {
   "cell_type": "code",
   "execution_count": 19,
   "metadata": {
    "ExecuteTime": {
     "end_time": "2020-05-29T06:40:38.096516Z",
     "start_time": "2020-05-29T06:40:30.786141Z"
    }
   },
   "outputs": [
    {
     "data": {
      "text/plain": [
       "Lasso(alpha=0.005, copy_X=True, fit_intercept=True, max_iter=1000,\n",
       "      normalize=False, positive=False, precompute=False, random_state=42,\n",
       "      selection='cyclic', tol=0.0001, warm_start=False)"
      ]
     },
     "execution_count": 19,
     "metadata": {},
     "output_type": "execute_result"
    }
   ],
   "source": [
    "# set up the model\n",
    "lasso = Lasso(alpha=0.005, random_state=RANDOM_SEED)\n",
    "\n",
    "# train the model\n",
    "lasso.fit(X_train, y_train)"
   ]
  },
  {
   "cell_type": "markdown",
   "metadata": {},
   "source": [
    "### Evalutation of Lasso"
   ]
  },
  {
   "cell_type": "code",
   "execution_count": 20,
   "metadata": {
    "ExecuteTime": {
     "end_time": "2020-05-29T06:40:38.295981Z",
     "start_time": "2020-05-29T06:40:38.098512Z"
    }
   },
   "outputs": [
    {
     "name": "stdout",
     "output_type": "stream",
     "text": [
      "==========LASSO==========\n",
      "train rmse: 12.856\n",
      "train mae: 8.670\n",
      "train r2: 0.939\n",
      "train explained variance score: 0.939\n",
      "val max error: 419.609\n",
      "\n",
      "val rmse: 12.796\n",
      "val mae: 9.431\n",
      "val r2: 0.941\n",
      "val explained variance score: 0.941\n",
      "val max error: 121.377\n",
      "\n",
      "sch rmse: 14.623\n",
      "sch mae: 11.702\n",
      "sch r2: 0.923\n",
      "sch explained variance score: 0.936\n",
      "val max error: 123.000\n"
     ]
    }
   ],
   "source": [
    "# evaluate performance using the RMSE, MAE and R2\n",
    "print('==========LASSO==========')\n",
    "\n",
    "# make predictions for train set\n",
    "pred_train = lasso.predict(X_train)\n",
    "\n",
    "# determine metrics\n",
    "print('train rmse: {:.3f}'.format(sqrt(mean_squared_error(y_train, pred_train))))\n",
    "print('train mae: {:.3f}'.format(mean_absolute_error(y_train, pred_train)))\n",
    "print('train r2: {:.3f}'.format(r2_score(y_train, pred_train)))\n",
    "print('train explained variance score: {:.3f}'.format(\n",
    "    explained_variance_score(y_train, pred_train)))\n",
    "print('val max error: {:.3f}'.format(max_error(y_train, pred_train)))\n",
    "print()\n",
    "\n",
    "# make predictions for validation set\n",
    "pred_val = lasso.predict(X_val)\n",
    "\n",
    "# determine metrics\n",
    "print('val rmse: {:.3f}'.format(sqrt(mean_squared_error(y_val, pred_val))))\n",
    "print('val mae: {:.3f}'.format(mean_absolute_error(y_val, pred_val)))\n",
    "print('val r2: {:.3f}'.format(r2_score(y_val, pred_val)))\n",
    "print('val explained variance score: {:.3f}'.format(\n",
    "    explained_variance_score(y_val, pred_val)))\n",
    "print('val max error: {:.3f}'.format(max_error(y_val, pred_val)))\n",
    "print()\n",
    "\n",
    "sch_val = df_train_val['SOBTtoSIBT'][-10000:]\n",
    "# determine metrics\n",
    "print('sch rmse: {:.3f}'.format(sqrt(mean_squared_error(y_val, sch_val))))\n",
    "print('sch mae: {:.3f}'.format(mean_absolute_error(y_val, sch_val)))\n",
    "print('sch r2: {:.3f}'.format(r2_score(y_val, sch_val)))\n",
    "print('sch explained variance score: {:.3f}'.format(\n",
    "    explained_variance_score(y_val, sch_val)))\n",
    "print('val max error: {:.3f}'.format(max_error(y_val, sch_val)))"
   ]
  },
  {
   "cell_type": "code",
   "execution_count": 21,
   "metadata": {
    "ExecuteTime": {
     "end_time": "2020-05-29T06:40:38.568250Z",
     "start_time": "2020-05-29T06:40:38.297977Z"
    }
   },
   "outputs": [
    {
     "data": {
      "text/plain": [
       "Text(0.5, 1.0, 'Evaluation of Lasso Predictions')"
      ]
     },
     "execution_count": 21,
     "metadata": {},
     "output_type": "execute_result"
    },
    {
     "data": {
      "image/png": "[encoded data removed]",
      "text/plain": [
       "<Figure size 360x360 with 1 Axes>"
      ]
     },
     "metadata": {
      "needs_background": "light"
     },
     "output_type": "display_data"
    }
   ],
   "source": [
    "# evaluate our predictions respect to actual durations\n",
    "plt.figure(figsize=(5,5))\n",
    "plt.scatter(y_val, pred_val)\n",
    "plt.xlabel('AOBTtoAIBT')\n",
    "plt.ylabel('Predicted AOBTtoAIBT')\n",
    "plt.title('Evaluation of Lasso Predictions')"
   ]
  },
  {
   "cell_type": "code",
   "execution_count": 22,
   "metadata": {
    "ExecuteTime": {
     "end_time": "2020-05-29T06:40:38.890421Z",
     "start_time": "2020-05-29T06:40:38.575231Z"
    }
   },
   "outputs": [
    {
     "data": {
      "text/plain": [
       "<matplotlib.axes._subplots.AxesSubplot at 0x1b680285668>"
      ]
     },
     "execution_count": 22,
     "metadata": {},
     "output_type": "execute_result"
    },
    {
     "data": {
      "image/png": "[encoded data removed]",
      "text/plain": [
       "<Figure size 432x288 with 1 Axes>"
      ]
     },
     "metadata": {
      "needs_background": "light"
     },
     "output_type": "display_data"
    }
   ],
   "source": [
    "# let's evaluate the distribution of the errors:\n",
    "# they should be fairly normally distributed\n",
    "errors = y_val - lasso.predict(X_val)\n",
    "errors.hist(bins=30)"
   ]
  },
  {
   "cell_type": "markdown",
   "metadata": {},
   "source": [
    "The distribution of the errors follows a gaussian distribution. That suggests that our model is doing something useful."
   ]
  },
  {
   "cell_type": "code",
   "execution_count": 23,
   "metadata": {
    "ExecuteTime": {
     "end_time": "2020-05-29T06:40:39.429937Z",
     "start_time": "2020-05-29T06:40:38.892417Z"
    }
   },
   "outputs": [
    {
     "data": {
      "image/png": "[encoded data removed]",
      "text/plain": [
       "<Figure size 1008x576 with 1 Axes>"
      ]
     },
     "metadata": {
      "needs_background": "light"
     },
     "output_type": "display_data"
    }
   ],
   "source": [
    "y_val_series = y_val.reset_index(drop=True)\n",
    "# sch_val_series = sch_val.reset_index(drop=True)\n",
    "pred_val_series = pd.Series(pred_val)\n",
    "durations = pd.concat([y_val_series, pred_val_series], axis=1)\n",
    "# durations = pd.concat([durations, sch_val_series], axis=1)\n",
    "\n",
    "# durations = durations.rename(columns={'AOBTtoAIBT': 'Actual', 0: 'Predicted', 'SOBTtoSIBT': 'Scheduled'})\n",
    "durations = durations.rename(columns={'AOBTtoAIBT': 'Actual', 0: 'Predicted'})\n",
    "\n",
    "first_50 = durations.head(50)\n",
    "first_50.plot(kind='bar',figsize=(14,8))\n",
    "plt.grid(which='major', linestyle='-', linewidth='0.5', color='green')\n",
    "plt.grid(which='minor', linestyle=':', linewidth='0.5', color='black')\n",
    "plt.show()"
   ]
  },
  {
   "cell_type": "markdown",
   "metadata": {},
   "source": [
    "### Feature Importance"
   ]
  },
  {
   "cell_type": "code",
   "execution_count": 24,
   "metadata": {
    "ExecuteTime": {
     "end_time": "2020-05-29T06:40:39.757093Z",
     "start_time": "2020-05-29T06:40:39.430935Z"
    }
   },
   "outputs": [
    {
     "data": {
      "text/plain": [
       "Text(0.5, 1.0, 'Feature Importance')"
      ]
     },
     "execution_count": 24,
     "metadata": {},
     "output_type": "execute_result"
    },
    {
     "data": {
      "image/png": "[encoded data removed]",
      "text/plain": [
       "<Figure size 1296x432 with 1 Axes>"
      ]
     },
     "metadata": {
      "needs_background": "light"
     },
     "output_type": "display_data"
    }
   ],
   "source": [
    "# Finally, look at the feature importance\n",
    "importance = pd.Series(np.abs(lasso.coef_.ravel()))\n",
    "#importance.index = feats\n",
    "importance.sort_values(inplace=True, ascending=False)\n",
    "importance.plot.bar(figsize=(18, 6))\n",
    "plt.ylabel('Lasso Coefficients')\n",
    "plt.title('Feature Importance')"
   ]
  },
  {
   "cell_type": "markdown",
   "metadata": {},
   "source": [
    "## Ridge Regression"
   ]
  },
  {
   "cell_type": "markdown",
   "metadata": {},
   "source": [
    "### Evaluation of Ridge"
   ]
  },
  {
   "cell_type": "code",
   "execution_count": 25,
   "metadata": {
    "ExecuteTime": {
     "end_time": "2020-05-29T06:40:40.074207Z",
     "start_time": "2020-05-29T06:40:39.758057Z"
    }
   },
   "outputs": [
    {
     "data": {
      "text/plain": [
       "Ridge(alpha=0.005, copy_X=True, fit_intercept=True, max_iter=None,\n",
       "      normalize=False, random_state=42, solver='auto', tol=0.001)"
      ]
     },
     "execution_count": 25,
     "metadata": {},
     "output_type": "execute_result"
    }
   ],
   "source": [
    "# set up the model\n",
    "ridge = Ridge(alpha=0.005, random_state=RANDOM_SEED)\n",
    "\n",
    "# train the model\n",
    "ridge.fit(X_train, y_train)"
   ]
  },
  {
   "cell_type": "code",
   "execution_count": 26,
   "metadata": {
    "ExecuteTime": {
     "end_time": "2020-05-29T06:40:40.263698Z",
     "start_time": "2020-05-29T06:40:40.076202Z"
    }
   },
   "outputs": [
    {
     "name": "stdout",
     "output_type": "stream",
     "text": [
      "==========RIDGE==========\n",
      "train rmse: 12.856\n",
      "train mae: 8.669\n",
      "train r2: 0.939\n",
      "train explained variance score: 0.939\n",
      "val max error: 419.717\n",
      "\n",
      "val rmse: 12.795\n",
      "val mae: 9.432\n",
      "val r2: 0.941\n",
      "val explained variance score: 0.941\n",
      "val max error: 121.338\n",
      "\n",
      "sch rmse: 14.623\n",
      "sch mae: 11.702\n",
      "sch r2: 0.923\n",
      "sch explained variance score: 0.936\n",
      "val max error: 123.000\n"
     ]
    }
   ],
   "source": [
    "# evaluate performance using the RMSE, MAE and R2\n",
    "print('==========RIDGE==========')\n",
    "\n",
    "# make predictions for train set\n",
    "pred_train = ridge.predict(X_train)\n",
    "\n",
    "# determine metrics\n",
    "print('train rmse: {:.3f}'.format(sqrt(mean_squared_error(y_train, pred_train))))\n",
    "print('train mae: {:.3f}'.format(mean_absolute_error(y_train, pred_train)))\n",
    "print('train r2: {:.3f}'.format(r2_score(y_train, pred_train)))\n",
    "print('train explained variance score: {:.3f}'.format(\n",
    "    explained_variance_score(y_train, pred_train)))\n",
    "print('val max error: {:.3f}'.format(max_error(y_train, pred_train)))\n",
    "print()\n",
    "\n",
    "# make predictions for validation set\n",
    "pred_val = ridge.predict(X_val)\n",
    "\n",
    "# determine metrics\n",
    "print('val rmse: {:.3f}'.format(sqrt(mean_squared_error(y_val, pred_val))))\n",
    "print('val mae: {:.3f}'.format(mean_absolute_error(y_val, pred_val)))\n",
    "print('val r2: {:.3f}'.format(r2_score(y_val, pred_val)))\n",
    "print('val explained variance score: {:.3f}'.format(\n",
    "    explained_variance_score(y_val, pred_val)))\n",
    "print('val max error: {:.3f}'.format(max_error(y_val, pred_val)))\n",
    "print()\n",
    "\n",
    "# determine metrics\n",
    "print('sch rmse: {:.3f}'.format(sqrt(mean_squared_error(y_val, sch_val))))\n",
    "print('sch mae: {:.3f}'.format(mean_absolute_error(y_val, sch_val)))\n",
    "print('sch r2: {:.3f}'.format(r2_score(y_val, sch_val)))\n",
    "print('sch explained variance score: {:.3f}'.format(\n",
    "    explained_variance_score(y_val, sch_val)))\n",
    "print('val max error: {:.3f}'.format(max_error(y_val, sch_val)))"
   ]
  },
  {
   "cell_type": "markdown",
   "metadata": {},
   "source": [
    "### Feature Importance"
   ]
  },
  {
   "cell_type": "code",
   "execution_count": 27,
   "metadata": {
    "ExecuteTime": {
     "end_time": "2020-05-29T06:40:40.695575Z",
     "start_time": "2020-05-29T06:40:40.265694Z"
    }
   },
   "outputs": [
    {
     "data": {
      "text/plain": [
       "Text(0.5, 1.0, 'Feature Importance')"
      ]
     },
     "execution_count": 27,
     "metadata": {},
     "output_type": "execute_result"
    },
    {
     "data": {
      "image/png": "[encoded data removed]",
      "text/plain": [
       "<Figure size 1296x432 with 1 Axes>"
      ]
     },
     "metadata": {
      "needs_background": "light"
     },
     "output_type": "display_data"
    }
   ],
   "source": [
    "# Finally, look at the feature importance\n",
    "importance = pd.Series(np.abs(ridge.coef_.ravel()))\n",
    "importance.index = feats\n",
    "importance.sort_values(inplace=True, ascending=False)\n",
    "importance.plot.bar(figsize=(18, 6))\n",
    "plt.ylabel('Ridge Coefficients')\n",
    "plt.title('Feature Importance')"
   ]
  },
  {
   "cell_type": "markdown",
   "metadata": {},
   "source": [
    "# Ridge Regressor on Test Set"
   ]
  },
  {
   "cell_type": "code",
   "execution_count": 28,
   "metadata": {
    "ExecuteTime": {
     "end_time": "2020-05-29T06:40:40.715486Z",
     "start_time": "2020-05-29T06:40:40.696540Z"
    }
   },
   "outputs": [
    {
     "name": "stdout",
     "output_type": "stream",
     "text": [
      "==========RIDGE==========\n",
      "test rmse: 12.794\n",
      "test mae: 8.826\n",
      "test r2: 0.941\n",
      "test explained variance score: 0.941\n",
      "test max error: 180.320\n",
      "\n",
      "sch rmse: 14.384\n",
      "sch mae: 11.147\n",
      "sch r2: 0.925\n",
      "sch explained variance score: 0.939\n",
      "val max error: 175.000\n"
     ]
    }
   ],
   "source": [
    "# evaluate performance using the RMSE, MAE and R2\n",
    "print('==========RIDGE==========')\n",
    "\n",
    "pred_test = ridge.predict(X_test)\n",
    "\n",
    "# determine metrics\n",
    "print('test rmse: {:.3f}'.format(sqrt(mean_squared_error(y_test, pred_test))))\n",
    "print('test mae: {:.3f}'.format(mean_absolute_error(y_test, pred_test)))\n",
    "print('test r2: {:.3f}'.format(r2_score(y_test, pred_test)))\n",
    "print('test explained variance score: {:.3f}'.format(\n",
    "    explained_variance_score(y_test, pred_test)))\n",
    "print('test max error: {:.3f}'.format(max_error(y_test, pred_test)))\n",
    "print()\n",
    "\n",
    "sch_test = df_test['SOBTtoSIBT']\n",
    "# determine metrics\n",
    "print('sch rmse: {:.3f}'.format(sqrt(mean_squared_error(y_test, sch_test))))\n",
    "print('sch mae: {:.3f}'.format(mean_absolute_error(y_test, sch_test)))\n",
    "print('sch r2: {:.3f}'.format(r2_score(y_test, sch_test)))\n",
    "print('sch explained variance score: {:.3f}'.format(\n",
    "    explained_variance_score(y_test, sch_test)))\n",
    "print('val max error: {:.3f}'.format(max_error(y_test, sch_test)))"
   ]
  },
  {
   "cell_type": "code",
   "execution_count": 29,
   "metadata": {
    "ExecuteTime": {
     "end_time": "2020-05-29T06:40:41.278012Z",
     "start_time": "2020-05-29T06:40:40.717484Z"
    }
   },
   "outputs": [
    {
     "data": {
      "image/png": "[encoded data removed]",
      "text/plain": [
       "<Figure size 1008x576 with 1 Axes>"
      ]
     },
     "metadata": {
      "needs_background": "light"
     },
     "output_type": "display_data"
    }
   ],
   "source": [
    "y_test_series = y_test.reset_index(drop=True)\n",
    "pred_test_series = pd.Series(pred_test)\n",
    "durations = pd.concat([y_test_series, pred_test_series], axis=1)\n",
    "\n",
    "durations = durations.rename(columns={'AOBTtoAIBT': 'Actual', 0: 'Predicted'})\n",
    "\n",
    "first_50 = durations.head(50)\n",
    "first_50.plot(kind='bar',figsize=(14,8))\n",
    "plt.grid(which='major', linestyle='-', linewidth='0.5', color='green')\n",
    "plt.grid(which='minor', linestyle=':', linewidth='0.5', color='black')\n",
    "plt.show()"
   ]
  }
 ],
 "metadata": {
  "kernelspec": {
   "display_name": "Python 3",
   "language": "python",
   "name": "python3"
  },
  "language_info": {
   "codemirror_mode": {
    "name": "ipython",
    "version": 3
   },
   "file_extension": ".py",
   "mimetype": "text/x-python",
   "name": "python",
   "nbconvert_exporter": "python",
   "pygments_lexer": "ipython3",
   "version": "3.7.3"
  },
  "notify_time": "30",
  "toc": {
   "base_numbering": 1,
   "nav_menu": {},
   "number_sections": true,
   "sideBar": true,
   "skip_h1_title": false,
   "title_cell": "Table of Contents",
   "title_sidebar": "Contents",
   "toc_cell": false,
   "toc_position": {
    "height": "calc(100% - 180px)",
    "left": "10px",
    "top": "150px",
    "width": "256px"
   },
   "toc_section_display": true,
   "toc_window_display": true
  },
  "varInspector": {
   "cols": {
    "lenName": 16,
    "lenType": 16,
    "lenVar": 40
   },
   "kernels_config": {
    "python": {
     "delete_cmd_postfix": "",
     "delete_cmd_prefix": "del ",
     "library": "var_list.py",
     "varRefreshCmd": "print(var_dic_list())"
    },
    "r": {
     "delete_cmd_postfix": ") ",
     "delete_cmd_prefix": "rm(",
     "library": "var_list.r",
     "varRefreshCmd": "cat(var_dic_list()) "
    }
   },
   "types_to_exclude": [
    "module",
    "function",
    "builtin_function_or_method",
    "instance",
    "_Feature"
   ],
   "window_display": false
  }
 },
 "nbformat": 4,
 "nbformat_minor": 2
}
