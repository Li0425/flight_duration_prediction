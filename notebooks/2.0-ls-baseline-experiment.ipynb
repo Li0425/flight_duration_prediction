{
 "cells": [
  {
   "cell_type": "markdown",
   "metadata": {},
   "source": [
    "# Introduction"
   ]
  },
  {
   "cell_type": "markdown",
   "metadata": {},
   "source": [
    "Baseline experiment"
   ]
  },
  {
   "cell_type": "markdown",
   "metadata": {
    "hide_input": true
   },
   "source": [
    "# Set up Environment"
   ]
  },
  {
   "cell_type": "code",
   "execution_count": 1,
   "metadata": {
    "ExecuteTime": {
     "end_time": "2020-05-27T02:01:23.101764Z",
     "start_time": "2020-05-27T02:01:20.464638Z"
    },
    "hide_input": false,
    "init_cell": true
   },
   "outputs": [],
   "source": [
    "import pandas as pd\n",
    "import matplotlib.pyplot as plt\n",
    "import warnings\n",
    "from sklearn.model_selection import train_test_split\n",
    "from sklearn.preprocessing import StandardScaler\n",
    "from sklearn.linear_model import Lasso\n",
    "from sklearn.feature_selection import SelectFromModel\n",
    "from math import sqrt\n",
    "from sklearn.metrics import (mean_squared_error, mean_absolute_error, r2_score,\n",
    "                             explained_variance_score)\n",
    "\n",
    "# display all columns of dataframes in the notebook\n",
    "pd.options.display.max_columns = None\n",
    "\n",
    "# ignore warnings\n",
    "warnings.filterwarnings('ignore')\n",
    "\n",
    "# set up random seed for reproducibility\n",
    "RANDOM_SEED = 42"
   ]
  },
  {
   "cell_type": "markdown",
   "metadata": {},
   "source": [
    "# Load Data"
   ]
  },
  {
   "cell_type": "code",
   "execution_count": 3,
   "metadata": {
    "ExecuteTime": {
     "end_time": "2020-05-27T02:01:48.678661Z",
     "start_time": "2020-05-27T02:01:42.227867Z"
    },
    "init_cell": true
   },
   "outputs": [],
   "source": [
    "file_path = '../data/raw/training_data/'\n",
    "file_name = 'training_data_ATL.zip'\n",
    "df = pd.read_csv(file_path + file_name)"
   ]
  },
  {
   "cell_type": "markdown",
   "metadata": {},
   "source": [
    "# Pre-process"
   ]
  },
  {
   "cell_type": "markdown",
   "metadata": {
    "heading_collapsed": true
   },
   "source": [
    "## Remove Irrelevant Columns"
   ]
  },
  {
   "cell_type": "code",
   "execution_count": 4,
   "metadata": {
    "ExecuteTime": {
     "end_time": "2020-05-27T02:01:49.068714Z",
     "start_time": "2020-05-27T02:01:48.680607Z"
    },
    "hidden": true
   },
   "outputs": [],
   "source": [
    "# remove the Unnamed column\n",
    "df.drop(df.columns[df.columns.str.contains(\n",
    "    'unnamed', case=False)], axis=1, inplace=True)"
   ]
  },
  {
   "cell_type": "code",
   "execution_count": 5,
   "metadata": {
    "ExecuteTime": {
     "end_time": "2020-05-27T02:01:49.117441Z",
     "start_time": "2020-05-27T02:01:49.070565Z"
    },
    "hidden": true
   },
   "outputs": [
    {
     "data": {
      "text/html": [
       "<div>\n",
       "<style scoped>\n",
       "    .dataframe tbody tr th:only-of-type {\n",
       "        vertical-align: middle;\n",
       "    }\n",
       "\n",
       "    .dataframe tbody tr th {\n",
       "        vertical-align: top;\n",
       "    }\n",
       "\n",
       "    .dataframe thead th {\n",
       "        text-align: right;\n",
       "    }\n",
       "</style>\n",
       "<table border=\"1\" class=\"dataframe\">\n",
       "  <thead>\n",
       "    <tr style=\"text-align: right;\">\n",
       "      <th></th>\n",
       "      <th>Year</th>\n",
       "      <th>Quarter</th>\n",
       "      <th>Month</th>\n",
       "      <th>DayofMonth</th>\n",
       "      <th>DayOfWeek</th>\n",
       "      <th>FlightDate</th>\n",
       "      <th>Reporting_Airline</th>\n",
       "      <th>DOT_ID_Reporting_Airline</th>\n",
       "      <th>IATA_CODE_Reporting_Airline</th>\n",
       "      <th>Tail_Number</th>\n",
       "      <th>Flight_Number_Reporting_Airline</th>\n",
       "      <th>OriginAirportID</th>\n",
       "      <th>OriginAirportSeqID</th>\n",
       "      <th>OriginCityMarketID</th>\n",
       "      <th>Origin</th>\n",
       "      <th>OriginCityName</th>\n",
       "      <th>OriginState</th>\n",
       "      <th>OriginStateFips</th>\n",
       "      <th>OriginStateName</th>\n",
       "      <th>OriginWac</th>\n",
       "      <th>DestAirportID</th>\n",
       "      <th>DestAirportSeqID</th>\n",
       "      <th>DestCityMarketID</th>\n",
       "      <th>Dest</th>\n",
       "      <th>DestCityName</th>\n",
       "      <th>DestState</th>\n",
       "      <th>DestStateFips</th>\n",
       "      <th>DestStateName</th>\n",
       "      <th>DestWac</th>\n",
       "      <th>CRSDepTime</th>\n",
       "      <th>DepTime</th>\n",
       "      <th>DepDelay</th>\n",
       "      <th>DepDelayMinutes</th>\n",
       "      <th>DepDel15</th>\n",
       "      <th>DepartureDelayGroups</th>\n",
       "      <th>DepTimeBlk</th>\n",
       "      <th>TaxiOut</th>\n",
       "      <th>WheelsOff</th>\n",
       "      <th>WheelsOn</th>\n",
       "      <th>TaxiIn</th>\n",
       "      <th>CRSArrTime</th>\n",
       "      <th>ArrTime</th>\n",
       "      <th>ArrDelay</th>\n",
       "      <th>ArrDelayMinutes</th>\n",
       "      <th>ArrDel15</th>\n",
       "      <th>ArrivalDelayGroups</th>\n",
       "      <th>ArrTimeBlk</th>\n",
       "      <th>CRSElapsedTime</th>\n",
       "      <th>ActualElapsedTime</th>\n",
       "      <th>AirTime</th>\n",
       "      <th>Flights</th>\n",
       "      <th>Distance</th>\n",
       "      <th>DistanceGroup</th>\n",
       "      <th>CarrierDelay</th>\n",
       "      <th>WeatherDelay</th>\n",
       "      <th>NASDelay</th>\n",
       "      <th>SecurityDelay</th>\n",
       "      <th>LateAircraftDelay</th>\n",
       "      <th>ArrivalDate</th>\n",
       "      <th>ARR_Flight_SLDT</th>\n",
       "      <th>Num_Arr_SLDT-30</th>\n",
       "      <th>Num_Arr_SLDT-25</th>\n",
       "      <th>Num_Arr_SLDT-20</th>\n",
       "      <th>Num_Arr_SLDT-15</th>\n",
       "      <th>Num_Arr_SLDT-10</th>\n",
       "      <th>Num_Arr_SLDT-5</th>\n",
       "      <th>Num_Arr_SLDT-0</th>\n",
       "      <th>Num_Arr_SLDT+5</th>\n",
       "      <th>Num_Arr_SLDT+10</th>\n",
       "      <th>Num_Arr_SLDT+15</th>\n",
       "      <th>Num_Arr_SLDT+20</th>\n",
       "      <th>Num_Arr_SLDT+25</th>\n",
       "      <th>Num_Dep_SLDT-30</th>\n",
       "      <th>Num_Dep_SLDT-25</th>\n",
       "      <th>Num_Dep_SLDT-20</th>\n",
       "      <th>Num_Dep_SLDT-15</th>\n",
       "      <th>Num_Dep_SLDT-10</th>\n",
       "      <th>Num_Dep_SLDT-5</th>\n",
       "      <th>Num_Dep_SLDT-0</th>\n",
       "      <th>Num_Dep_SLDT+5</th>\n",
       "      <th>Num_Dep_SLDT+10</th>\n",
       "      <th>Num_Dep_SLDT+15</th>\n",
       "      <th>Num_Dep_SLDT+20</th>\n",
       "      <th>Num_Dep_SLDT+25</th>\n",
       "    </tr>\n",
       "  </thead>\n",
       "  <tbody>\n",
       "    <tr>\n",
       "      <th>0</th>\n",
       "      <td>2017</td>\n",
       "      <td>1</td>\n",
       "      <td>1</td>\n",
       "      <td>1</td>\n",
       "      <td>7</td>\n",
       "      <td>2017-01-01 00:00:00</td>\n",
       "      <td>AA</td>\n",
       "      <td>19805</td>\n",
       "      <td>AA</td>\n",
       "      <td>N869AA</td>\n",
       "      <td>232</td>\n",
       "      <td>11298</td>\n",
       "      <td>1129804</td>\n",
       "      <td>30194</td>\n",
       "      <td>DFW</td>\n",
       "      <td>Dallas/Fort Worth, TX</td>\n",
       "      <td>TX</td>\n",
       "      <td>48</td>\n",
       "      <td>Texas</td>\n",
       "      <td>74</td>\n",
       "      <td>10397</td>\n",
       "      <td>1039705</td>\n",
       "      <td>30397</td>\n",
       "      <td>ATL</td>\n",
       "      <td>Atlanta, GA</td>\n",
       "      <td>GA</td>\n",
       "      <td>13</td>\n",
       "      <td>Georgia</td>\n",
       "      <td>34</td>\n",
       "      <td>14:25:00</td>\n",
       "      <td>1430.0</td>\n",
       "      <td>5.0</td>\n",
       "      <td>5.0</td>\n",
       "      <td>0.0</td>\n",
       "      <td>0.0</td>\n",
       "      <td>1400-1459</td>\n",
       "      <td>12.0</td>\n",
       "      <td>1442.0</td>\n",
       "      <td>1717.0</td>\n",
       "      <td>10.0</td>\n",
       "      <td>17:26:00</td>\n",
       "      <td>1727.0</td>\n",
       "      <td>1.0</td>\n",
       "      <td>1.0</td>\n",
       "      <td>0.0</td>\n",
       "      <td>0.0</td>\n",
       "      <td>1700-1759</td>\n",
       "      <td>121.0</td>\n",
       "      <td>117.0</td>\n",
       "      <td>95.0</td>\n",
       "      <td>1.0</td>\n",
       "      <td>731.0</td>\n",
       "      <td>3</td>\n",
       "      <td>NaN</td>\n",
       "      <td>NaN</td>\n",
       "      <td>NaN</td>\n",
       "      <td>NaN</td>\n",
       "      <td>NaN</td>\n",
       "      <td>2017-01-01 00:00:00</td>\n",
       "      <td>2017-01-01 17:26:00</td>\n",
       "      <td>9</td>\n",
       "      <td>9</td>\n",
       "      <td>12</td>\n",
       "      <td>3</td>\n",
       "      <td>7</td>\n",
       "      <td>0</td>\n",
       "      <td>2</td>\n",
       "      <td>3</td>\n",
       "      <td>2</td>\n",
       "      <td>5</td>\n",
       "      <td>1</td>\n",
       "      <td>3</td>\n",
       "      <td>3</td>\n",
       "      <td>2</td>\n",
       "      <td>0</td>\n",
       "      <td>3</td>\n",
       "      <td>7</td>\n",
       "      <td>0</td>\n",
       "      <td>3</td>\n",
       "      <td>2</td>\n",
       "      <td>1</td>\n",
       "      <td>9</td>\n",
       "      <td>3</td>\n",
       "      <td>5</td>\n",
       "    </tr>\n",
       "    <tr>\n",
       "      <th>1</th>\n",
       "      <td>2017</td>\n",
       "      <td>1</td>\n",
       "      <td>1</td>\n",
       "      <td>2</td>\n",
       "      <td>1</td>\n",
       "      <td>2017-01-02 00:00:00</td>\n",
       "      <td>AA</td>\n",
       "      <td>19805</td>\n",
       "      <td>AA</td>\n",
       "      <td>N866AA</td>\n",
       "      <td>232</td>\n",
       "      <td>11298</td>\n",
       "      <td>1129804</td>\n",
       "      <td>30194</td>\n",
       "      <td>DFW</td>\n",
       "      <td>Dallas/Fort Worth, TX</td>\n",
       "      <td>TX</td>\n",
       "      <td>48</td>\n",
       "      <td>Texas</td>\n",
       "      <td>74</td>\n",
       "      <td>10397</td>\n",
       "      <td>1039705</td>\n",
       "      <td>30397</td>\n",
       "      <td>ATL</td>\n",
       "      <td>Atlanta, GA</td>\n",
       "      <td>GA</td>\n",
       "      <td>13</td>\n",
       "      <td>Georgia</td>\n",
       "      <td>34</td>\n",
       "      <td>14:25:00</td>\n",
       "      <td>1420.0</td>\n",
       "      <td>-5.0</td>\n",
       "      <td>0.0</td>\n",
       "      <td>0.0</td>\n",
       "      <td>-1.0</td>\n",
       "      <td>1400-1459</td>\n",
       "      <td>13.0</td>\n",
       "      <td>1433.0</td>\n",
       "      <td>1723.0</td>\n",
       "      <td>11.0</td>\n",
       "      <td>17:26:00</td>\n",
       "      <td>1734.0</td>\n",
       "      <td>8.0</td>\n",
       "      <td>8.0</td>\n",
       "      <td>0.0</td>\n",
       "      <td>0.0</td>\n",
       "      <td>1700-1759</td>\n",
       "      <td>121.0</td>\n",
       "      <td>134.0</td>\n",
       "      <td>110.0</td>\n",
       "      <td>1.0</td>\n",
       "      <td>731.0</td>\n",
       "      <td>3</td>\n",
       "      <td>NaN</td>\n",
       "      <td>NaN</td>\n",
       "      <td>NaN</td>\n",
       "      <td>NaN</td>\n",
       "      <td>NaN</td>\n",
       "      <td>2017-01-02 00:00:00</td>\n",
       "      <td>2017-01-02 17:26:00</td>\n",
       "      <td>6</td>\n",
       "      <td>8</td>\n",
       "      <td>9</td>\n",
       "      <td>4</td>\n",
       "      <td>10</td>\n",
       "      <td>0</td>\n",
       "      <td>2</td>\n",
       "      <td>1</td>\n",
       "      <td>5</td>\n",
       "      <td>4</td>\n",
       "      <td>2</td>\n",
       "      <td>2</td>\n",
       "      <td>6</td>\n",
       "      <td>3</td>\n",
       "      <td>1</td>\n",
       "      <td>4</td>\n",
       "      <td>8</td>\n",
       "      <td>0</td>\n",
       "      <td>3</td>\n",
       "      <td>2</td>\n",
       "      <td>4</td>\n",
       "      <td>11</td>\n",
       "      <td>6</td>\n",
       "      <td>3</td>\n",
       "    </tr>\n",
       "    <tr>\n",
       "      <th>2</th>\n",
       "      <td>2017</td>\n",
       "      <td>1</td>\n",
       "      <td>1</td>\n",
       "      <td>3</td>\n",
       "      <td>2</td>\n",
       "      <td>2017-01-03 00:00:00</td>\n",
       "      <td>AA</td>\n",
       "      <td>19805</td>\n",
       "      <td>AA</td>\n",
       "      <td>N897AA</td>\n",
       "      <td>232</td>\n",
       "      <td>11298</td>\n",
       "      <td>1129804</td>\n",
       "      <td>30194</td>\n",
       "      <td>DFW</td>\n",
       "      <td>Dallas/Fort Worth, TX</td>\n",
       "      <td>TX</td>\n",
       "      <td>48</td>\n",
       "      <td>Texas</td>\n",
       "      <td>74</td>\n",
       "      <td>10397</td>\n",
       "      <td>1039705</td>\n",
       "      <td>30397</td>\n",
       "      <td>ATL</td>\n",
       "      <td>Atlanta, GA</td>\n",
       "      <td>GA</td>\n",
       "      <td>13</td>\n",
       "      <td>Georgia</td>\n",
       "      <td>34</td>\n",
       "      <td>14:25:00</td>\n",
       "      <td>1426.0</td>\n",
       "      <td>1.0</td>\n",
       "      <td>1.0</td>\n",
       "      <td>0.0</td>\n",
       "      <td>0.0</td>\n",
       "      <td>1400-1459</td>\n",
       "      <td>14.0</td>\n",
       "      <td>1440.0</td>\n",
       "      <td>1718.0</td>\n",
       "      <td>5.0</td>\n",
       "      <td>17:26:00</td>\n",
       "      <td>1723.0</td>\n",
       "      <td>-3.0</td>\n",
       "      <td>0.0</td>\n",
       "      <td>0.0</td>\n",
       "      <td>-1.0</td>\n",
       "      <td>1700-1759</td>\n",
       "      <td>121.0</td>\n",
       "      <td>117.0</td>\n",
       "      <td>98.0</td>\n",
       "      <td>1.0</td>\n",
       "      <td>731.0</td>\n",
       "      <td>3</td>\n",
       "      <td>NaN</td>\n",
       "      <td>NaN</td>\n",
       "      <td>NaN</td>\n",
       "      <td>NaN</td>\n",
       "      <td>NaN</td>\n",
       "      <td>2017-01-03 00:00:00</td>\n",
       "      <td>2017-01-03 17:26:00</td>\n",
       "      <td>6</td>\n",
       "      <td>10</td>\n",
       "      <td>9</td>\n",
       "      <td>3</td>\n",
       "      <td>8</td>\n",
       "      <td>0</td>\n",
       "      <td>2</td>\n",
       "      <td>1</td>\n",
       "      <td>4</td>\n",
       "      <td>4</td>\n",
       "      <td>4</td>\n",
       "      <td>2</td>\n",
       "      <td>5</td>\n",
       "      <td>2</td>\n",
       "      <td>0</td>\n",
       "      <td>4</td>\n",
       "      <td>5</td>\n",
       "      <td>0</td>\n",
       "      <td>3</td>\n",
       "      <td>2</td>\n",
       "      <td>4</td>\n",
       "      <td>14</td>\n",
       "      <td>7</td>\n",
       "      <td>4</td>\n",
       "    </tr>\n",
       "  </tbody>\n",
       "</table>\n",
       "</div>"
      ],
      "text/plain": [
       "   Year  Quarter  Month  DayofMonth  DayOfWeek           FlightDate  \\\n",
       "0  2017        1      1           1          7  2017-01-01 00:00:00   \n",
       "1  2017        1      1           2          1  2017-01-02 00:00:00   \n",
       "2  2017        1      1           3          2  2017-01-03 00:00:00   \n",
       "\n",
       "  Reporting_Airline  DOT_ID_Reporting_Airline IATA_CODE_Reporting_Airline  \\\n",
       "0                AA                     19805                          AA   \n",
       "1                AA                     19805                          AA   \n",
       "2                AA                     19805                          AA   \n",
       "\n",
       "  Tail_Number  Flight_Number_Reporting_Airline  OriginAirportID  \\\n",
       "0      N869AA                              232            11298   \n",
       "1      N866AA                              232            11298   \n",
       "2      N897AA                              232            11298   \n",
       "\n",
       "   OriginAirportSeqID  OriginCityMarketID Origin         OriginCityName  \\\n",
       "0             1129804               30194    DFW  Dallas/Fort Worth, TX   \n",
       "1             1129804               30194    DFW  Dallas/Fort Worth, TX   \n",
       "2             1129804               30194    DFW  Dallas/Fort Worth, TX   \n",
       "\n",
       "  OriginState  OriginStateFips OriginStateName  OriginWac  DestAirportID  \\\n",
       "0          TX               48           Texas         74          10397   \n",
       "1          TX               48           Texas         74          10397   \n",
       "2          TX               48           Texas         74          10397   \n",
       "\n",
       "   DestAirportSeqID  DestCityMarketID Dest DestCityName DestState  \\\n",
       "0           1039705             30397  ATL  Atlanta, GA        GA   \n",
       "1           1039705             30397  ATL  Atlanta, GA        GA   \n",
       "2           1039705             30397  ATL  Atlanta, GA        GA   \n",
       "\n",
       "   DestStateFips DestStateName  DestWac CRSDepTime  DepTime  DepDelay  \\\n",
       "0             13       Georgia       34   14:25:00   1430.0       5.0   \n",
       "1             13       Georgia       34   14:25:00   1420.0      -5.0   \n",
       "2             13       Georgia       34   14:25:00   1426.0       1.0   \n",
       "\n",
       "   DepDelayMinutes  DepDel15  DepartureDelayGroups DepTimeBlk  TaxiOut  \\\n",
       "0              5.0       0.0                   0.0  1400-1459     12.0   \n",
       "1              0.0       0.0                  -1.0  1400-1459     13.0   \n",
       "2              1.0       0.0                   0.0  1400-1459     14.0   \n",
       "\n",
       "   WheelsOff  WheelsOn  TaxiIn CRSArrTime  ArrTime  ArrDelay  ArrDelayMinutes  \\\n",
       "0     1442.0    1717.0    10.0   17:26:00   1727.0       1.0              1.0   \n",
       "1     1433.0    1723.0    11.0   17:26:00   1734.0       8.0              8.0   \n",
       "2     1440.0    1718.0     5.0   17:26:00   1723.0      -3.0              0.0   \n",
       "\n",
       "   ArrDel15  ArrivalDelayGroups ArrTimeBlk  CRSElapsedTime  ActualElapsedTime  \\\n",
       "0       0.0                 0.0  1700-1759           121.0              117.0   \n",
       "1       0.0                 0.0  1700-1759           121.0              134.0   \n",
       "2       0.0                -1.0  1700-1759           121.0              117.0   \n",
       "\n",
       "   AirTime  Flights  Distance  DistanceGroup  CarrierDelay  WeatherDelay  \\\n",
       "0     95.0      1.0     731.0              3           NaN           NaN   \n",
       "1    110.0      1.0     731.0              3           NaN           NaN   \n",
       "2     98.0      1.0     731.0              3           NaN           NaN   \n",
       "\n",
       "   NASDelay  SecurityDelay  LateAircraftDelay          ArrivalDate  \\\n",
       "0       NaN            NaN                NaN  2017-01-01 00:00:00   \n",
       "1       NaN            NaN                NaN  2017-01-02 00:00:00   \n",
       "2       NaN            NaN                NaN  2017-01-03 00:00:00   \n",
       "\n",
       "       ARR_Flight_SLDT  Num_Arr_SLDT-30  Num_Arr_SLDT-25  Num_Arr_SLDT-20  \\\n",
       "0  2017-01-01 17:26:00                9                9               12   \n",
       "1  2017-01-02 17:26:00                6                8                9   \n",
       "2  2017-01-03 17:26:00                6               10                9   \n",
       "\n",
       "   Num_Arr_SLDT-15  Num_Arr_SLDT-10  Num_Arr_SLDT-5  Num_Arr_SLDT-0  \\\n",
       "0                3                7               0               2   \n",
       "1                4               10               0               2   \n",
       "2                3                8               0               2   \n",
       "\n",
       "   Num_Arr_SLDT+5  Num_Arr_SLDT+10  Num_Arr_SLDT+15  Num_Arr_SLDT+20  \\\n",
       "0               3                2                5                1   \n",
       "1               1                5                4                2   \n",
       "2               1                4                4                4   \n",
       "\n",
       "   Num_Arr_SLDT+25  Num_Dep_SLDT-30  Num_Dep_SLDT-25  Num_Dep_SLDT-20  \\\n",
       "0                3                3                2                0   \n",
       "1                2                6                3                1   \n",
       "2                2                5                2                0   \n",
       "\n",
       "   Num_Dep_SLDT-15  Num_Dep_SLDT-10  Num_Dep_SLDT-5  Num_Dep_SLDT-0  \\\n",
       "0                3                7               0               3   \n",
       "1                4                8               0               3   \n",
       "2                4                5               0               3   \n",
       "\n",
       "   Num_Dep_SLDT+5  Num_Dep_SLDT+10  Num_Dep_SLDT+15  Num_Dep_SLDT+20  \\\n",
       "0               2                1                9                3   \n",
       "1               2                4               11                6   \n",
       "2               2                4               14                7   \n",
       "\n",
       "   Num_Dep_SLDT+25  \n",
       "0                5  \n",
       "1                3  \n",
       "2                4  "
      ]
     },
     "execution_count": 5,
     "metadata": {},
     "output_type": "execute_result"
    }
   ],
   "source": [
    "df.head(3)"
   ]
  },
  {
   "cell_type": "code",
   "execution_count": 6,
   "metadata": {
    "ExecuteTime": {
     "end_time": "2020-05-27T02:01:49.124448Z",
     "start_time": "2020-05-27T02:01:49.120430Z"
    },
    "hidden": true
   },
   "outputs": [
    {
     "data": {
      "text/plain": [
       "(744979, 84)"
      ]
     },
     "execution_count": 6,
     "metadata": {},
     "output_type": "execute_result"
    }
   ],
   "source": [
    "df.shape"
   ]
  },
  {
   "cell_type": "markdown",
   "metadata": {
    "hidden": true
   },
   "source": [
    "Airport traffic data are stored in the last 24 columns of df. We want to select only the first 60 columns for EDA."
   ]
  },
  {
   "cell_type": "code",
   "execution_count": 7,
   "metadata": {
    "ExecuteTime": {
     "end_time": "2020-05-27T02:01:49.605133Z",
     "start_time": "2020-05-27T02:01:49.126415Z"
    },
    "hidden": true
   },
   "outputs": [],
   "source": [
    "arrivals = df.iloc[:, 0:60].copy()"
   ]
  },
  {
   "cell_type": "code",
   "execution_count": 8,
   "metadata": {
    "ExecuteTime": {
     "end_time": "2020-05-27T02:01:50.137741Z",
     "start_time": "2020-05-27T02:01:49.607128Z"
    },
    "hidden": true
   },
   "outputs": [
    {
     "name": "stdout",
     "output_type": "stream",
     "text": [
      "<class 'pandas.core.frame.DataFrame'>\n",
      "RangeIndex: 744979 entries, 0 to 744978\n",
      "Data columns (total 60 columns):\n",
      "Year                               744979 non-null int64\n",
      "Quarter                            744979 non-null int64\n",
      "Month                              744979 non-null int64\n",
      "DayofMonth                         744979 non-null int64\n",
      "DayOfWeek                          744979 non-null int64\n",
      "FlightDate                         744979 non-null object\n",
      "Reporting_Airline                  744979 non-null object\n",
      "DOT_ID_Reporting_Airline           744979 non-null int64\n",
      "IATA_CODE_Reporting_Airline        744979 non-null object\n",
      "Tail_Number                        744979 non-null object\n",
      "Flight_Number_Reporting_Airline    744979 non-null int64\n",
      "OriginAirportID                    744979 non-null int64\n",
      "OriginAirportSeqID                 744979 non-null int64\n",
      "OriginCityMarketID                 744979 non-null int64\n",
      "Origin                             744979 non-null object\n",
      "OriginCityName                     744979 non-null object\n",
      "OriginState                        744979 non-null object\n",
      "OriginStateFips                    744979 non-null int64\n",
      "OriginStateName                    744979 non-null object\n",
      "OriginWac                          744979 non-null int64\n",
      "DestAirportID                      744979 non-null int64\n",
      "DestAirportSeqID                   744979 non-null int64\n",
      "DestCityMarketID                   744979 non-null int64\n",
      "Dest                               744979 non-null object\n",
      "DestCityName                       744979 non-null object\n",
      "DestState                          744979 non-null object\n",
      "DestStateFips                      744979 non-null int64\n",
      "DestStateName                      744979 non-null object\n",
      "DestWac                            744979 non-null int64\n",
      "CRSDepTime                         744979 non-null object\n",
      "DepTime                            744979 non-null float64\n",
      "DepDelay                           744519 non-null float64\n",
      "DepDelayMinutes                    744519 non-null float64\n",
      "DepDel15                           744519 non-null float64\n",
      "DepartureDelayGroups               744519 non-null float64\n",
      "DepTimeBlk                         744979 non-null object\n",
      "TaxiOut                            744979 non-null float64\n",
      "WheelsOff                          744979 non-null float64\n",
      "WheelsOn                           744979 non-null float64\n",
      "TaxiIn                             744979 non-null float64\n",
      "CRSArrTime                         744979 non-null object\n",
      "ArrTime                            744979 non-null float64\n",
      "ArrDelay                           744653 non-null float64\n",
      "ArrDelayMinutes                    744653 non-null float64\n",
      "ArrDel15                           744653 non-null float64\n",
      "ArrivalDelayGroups                 744653 non-null float64\n",
      "ArrTimeBlk                         744979 non-null object\n",
      "CRSElapsedTime                     744979 non-null float64\n",
      "ActualElapsedTime                  744979 non-null float64\n",
      "AirTime                            744979 non-null float64\n",
      "Flights                            744979 non-null float64\n",
      "Distance                           744979 non-null float64\n",
      "DistanceGroup                      744979 non-null int64\n",
      "CarrierDelay                       110716 non-null float64\n",
      "WeatherDelay                       110716 non-null float64\n",
      "NASDelay                           110716 non-null float64\n",
      "SecurityDelay                      110716 non-null float64\n",
      "LateAircraftDelay                  110716 non-null float64\n",
      "ArrivalDate                        744979 non-null object\n",
      "ARR_Flight_SLDT                    744979 non-null object\n",
      "dtypes: float64(24), int64(18), object(18)\n",
      "memory usage: 341.0+ MB\n"
     ]
    }
   ],
   "source": [
    "arrivals.info()"
   ]
  },
  {
   "cell_type": "code",
   "execution_count": 9,
   "metadata": {
    "ExecuteTime": {
     "end_time": "2020-05-27T02:01:50.197551Z",
     "start_time": "2020-05-27T02:01:50.138707Z"
    },
    "code_folding": [],
    "hidden": true
   },
   "outputs": [],
   "source": [
    "# obtain a segment of arrivals (intersted columns)\n",
    "segment = arrivals[['ActualElapsedTime', 'FlightDate', 'ArrivalDate', 'Reporting_Airline', 'CRSDepTime',\n",
    "                    'DepTime', 'DepDelay', 'DepDel15', 'DepartureDelayGroups', 'CRSArrTime',\n",
    "                    'CRSElapsedTime', 'Distance', 'DistanceGroup']]"
   ]
  },
  {
   "cell_type": "code",
   "execution_count": 10,
   "metadata": {
    "ExecuteTime": {
     "end_time": "2020-05-27T02:01:50.320254Z",
     "start_time": "2020-05-27T02:01:50.199544Z"
    },
    "code_folding": [],
    "hidden": true
   },
   "outputs": [],
   "source": [
    "# rename some column names\n",
    "segment = segment.rename(columns={'ActualElapsedTime': 'AOBTtoAIBT',\n",
    "                                  'FlightDate': 'SOBTDate',\n",
    "                                  'ArrivalDate': 'SIBTDate',\n",
    "                                  'Reporting_Airline': 'UniqueCarrierCode',\n",
    "                                  'CRSDepTime': 'SOBTTime',\n",
    "                                  'DepTime': 'AOBTTime',\n",
    "                                  'DepDelay': 'OBTDelay',\n",
    "                                  'DepDel15': 'OBTDel15',\n",
    "                                  'DepartureDelayGroups': 'OBTDelayGroups',\n",
    "                                  'CRSArrTime': 'SIBTTime',\n",
    "                                  'CRSElapsedTime': 'SOBTtoSIBT',\n",
    "                                  })"
   ]
  },
  {
   "cell_type": "markdown",
   "metadata": {
    "heading_collapsed": true
   },
   "source": [
    "## Format Datetime Objects"
   ]
  },
  {
   "cell_type": "code",
   "execution_count": 11,
   "metadata": {
    "ExecuteTime": {
     "end_time": "2020-05-27T02:01:51.528163Z",
     "start_time": "2020-05-27T02:01:50.322217Z"
    },
    "hidden": true
   },
   "outputs": [],
   "source": [
    "segment['SOBTDate'] = pd.to_datetime(segment['SOBTDate']).dt.date\n",
    "segment['SIBTDate'] = pd.to_datetime(segment['SIBTDate']).dt.date\n",
    "segment['SOBTTime'] = pd.to_datetime(\n",
    "    segment['SOBTTime'], format='%H:%M:%S').dt.time\n",
    "segment['SIBTTime'] = pd.to_datetime(\n",
    "    segment['SIBTTime'], format='%H:%M:%S').dt.time"
   ]
  },
  {
   "cell_type": "code",
   "execution_count": 12,
   "metadata": {
    "ExecuteTime": {
     "end_time": "2020-05-27T02:01:51.956846Z",
     "start_time": "2020-05-27T02:01:51.530022Z"
    },
    "hidden": true
   },
   "outputs": [],
   "source": [
    "# format AOBTTime\n",
    "segment['AOBTTime'] = segment['AOBTTime'].apply(lambda x: str(int(x)).zfill(4))\n",
    "\n",
    "# for actual timings, '2400' would be produced when the date changed to the next day\n",
    "# for e.g., 2400 1 Jan is actually equivalent to 0000 2 Jan"
   ]
  },
  {
   "cell_type": "code",
   "execution_count": 13,
   "metadata": {
    "ExecuteTime": {
     "end_time": "2020-05-27T02:01:52.112472Z",
     "start_time": "2020-05-27T02:01:51.958874Z"
    },
    "hidden": true
   },
   "outputs": [
    {
     "name": "stdout",
     "output_type": "stream",
     "text": [
      "Number of AOBTTime being \"2400\": 60\n"
     ]
    }
   ],
   "source": [
    "print('Number of AOBTTime being \"2400\":',\n",
    "      segment[segment['AOBTTime'] == '2400'].shape[0])"
   ]
  },
  {
   "cell_type": "code",
   "execution_count": 14,
   "metadata": {
    "ExecuteTime": {
     "end_time": "2020-05-27T02:01:53.893699Z",
     "start_time": "2020-05-27T02:01:52.114425Z"
    },
    "hidden": true
   },
   "outputs": [],
   "source": [
    "one_day = pd.Timedelta('1 days')\n",
    "\n",
    "# Initialize AOBTDate\n",
    "segment['AOBTDate'] = segment['SOBTDate']\n",
    "\n",
    "# if 2400 occurs, add 1 day to AOBTDate\n",
    "segment.loc[segment.AOBTTime == '2400',\n",
    "            \"AOBTDate\"] = segment['AOBTDate'] + one_day\n",
    "\n",
    "# update AOBTTime from '2400' to '0000'\n",
    "segment.loc[segment.AOBTTime == '2400', \"AOBTTime\"] = '0000'"
   ]
  },
  {
   "cell_type": "code",
   "execution_count": 15,
   "metadata": {
    "ExecuteTime": {
     "end_time": "2020-05-27T02:01:55.376871Z",
     "start_time": "2020-05-27T02:01:53.895660Z"
    },
    "hidden": true
   },
   "outputs": [],
   "source": [
    "# now the issue of '2400' is resolved\n",
    "# update AOBTTime to time object\n",
    "segment['AOBTTime'] = pd.to_datetime(\n",
    "    segment['AOBTTime'], format='%H%M').dt.time"
   ]
  },
  {
   "cell_type": "code",
   "execution_count": 16,
   "metadata": {
    "ExecuteTime": {
     "end_time": "2020-05-27T02:02:01.798553Z",
     "start_time": "2020-05-27T02:01:55.378725Z"
    },
    "hidden": true
   },
   "outputs": [],
   "source": [
    "# merge date & time, and only keep datetime objects\n",
    "list_1 = ['SOBTDate', 'SIBTDate', 'AOBTDate']\n",
    "list_2 = ['SOBTTime', 'SIBTTime', 'AOBTTime']\n",
    "list_3 = ['SOBT', 'SIBT', 'AOBT']\n",
    "\n",
    "for i in range(3):\n",
    "    segment[list_1[i]] = segment[list_1[i]].apply(lambda x: str(x))\n",
    "    segment[list_2[i]] = segment[list_2[i]].apply(lambda x: str(x))\n",
    "    segment[list_3[i]] = pd.to_datetime(\n",
    "        segment[list_1[i]] + ' ' + segment[list_2[i]])\n",
    "    segment = segment.drop(labels=[list_1[i], list_2[i]], axis=1)"
   ]
  },
  {
   "cell_type": "code",
   "execution_count": 17,
   "metadata": {
    "ExecuteTime": {
     "end_time": "2020-05-27T02:02:01.815477Z",
     "start_time": "2020-05-27T02:02:01.799550Z"
    },
    "hidden": true
   },
   "outputs": [
    {
     "data": {
      "text/html": [
       "<div>\n",
       "<style scoped>\n",
       "    .dataframe tbody tr th:only-of-type {\n",
       "        vertical-align: middle;\n",
       "    }\n",
       "\n",
       "    .dataframe tbody tr th {\n",
       "        vertical-align: top;\n",
       "    }\n",
       "\n",
       "    .dataframe thead th {\n",
       "        text-align: right;\n",
       "    }\n",
       "</style>\n",
       "<table border=\"1\" class=\"dataframe\">\n",
       "  <thead>\n",
       "    <tr style=\"text-align: right;\">\n",
       "      <th></th>\n",
       "      <th>AOBTtoAIBT</th>\n",
       "      <th>UniqueCarrierCode</th>\n",
       "      <th>OBTDelay</th>\n",
       "      <th>OBTDel15</th>\n",
       "      <th>OBTDelayGroups</th>\n",
       "      <th>SOBTtoSIBT</th>\n",
       "      <th>Distance</th>\n",
       "      <th>DistanceGroup</th>\n",
       "      <th>SOBT</th>\n",
       "      <th>SIBT</th>\n",
       "      <th>AOBT</th>\n",
       "    </tr>\n",
       "  </thead>\n",
       "  <tbody>\n",
       "    <tr>\n",
       "      <th>0</th>\n",
       "      <td>117.0</td>\n",
       "      <td>AA</td>\n",
       "      <td>5.0</td>\n",
       "      <td>0.0</td>\n",
       "      <td>0.0</td>\n",
       "      <td>121.0</td>\n",
       "      <td>731.0</td>\n",
       "      <td>3</td>\n",
       "      <td>2017-01-01 14:25:00</td>\n",
       "      <td>2017-01-01 17:26:00</td>\n",
       "      <td>2017-01-01 14:30:00</td>\n",
       "    </tr>\n",
       "    <tr>\n",
       "      <th>1</th>\n",
       "      <td>134.0</td>\n",
       "      <td>AA</td>\n",
       "      <td>-5.0</td>\n",
       "      <td>0.0</td>\n",
       "      <td>-1.0</td>\n",
       "      <td>121.0</td>\n",
       "      <td>731.0</td>\n",
       "      <td>3</td>\n",
       "      <td>2017-01-02 14:25:00</td>\n",
       "      <td>2017-01-02 17:26:00</td>\n",
       "      <td>2017-01-02 14:20:00</td>\n",
       "    </tr>\n",
       "    <tr>\n",
       "      <th>2</th>\n",
       "      <td>117.0</td>\n",
       "      <td>AA</td>\n",
       "      <td>1.0</td>\n",
       "      <td>0.0</td>\n",
       "      <td>0.0</td>\n",
       "      <td>121.0</td>\n",
       "      <td>731.0</td>\n",
       "      <td>3</td>\n",
       "      <td>2017-01-03 14:25:00</td>\n",
       "      <td>2017-01-03 17:26:00</td>\n",
       "      <td>2017-01-03 14:26:00</td>\n",
       "    </tr>\n",
       "  </tbody>\n",
       "</table>\n",
       "</div>"
      ],
      "text/plain": [
       "   AOBTtoAIBT UniqueCarrierCode  OBTDelay  OBTDel15  OBTDelayGroups  \\\n",
       "0       117.0                AA       5.0       0.0             0.0   \n",
       "1       134.0                AA      -5.0       0.0            -1.0   \n",
       "2       117.0                AA       1.0       0.0             0.0   \n",
       "\n",
       "   SOBTtoSIBT  Distance  DistanceGroup                SOBT  \\\n",
       "0       121.0     731.0              3 2017-01-01 14:25:00   \n",
       "1       121.0     731.0              3 2017-01-02 14:25:00   \n",
       "2       121.0     731.0              3 2017-01-03 14:25:00   \n",
       "\n",
       "                 SIBT                AOBT  \n",
       "0 2017-01-01 17:26:00 2017-01-01 14:30:00  \n",
       "1 2017-01-02 17:26:00 2017-01-02 14:20:00  \n",
       "2 2017-01-03 17:26:00 2017-01-03 14:26:00  "
      ]
     },
     "execution_count": 17,
     "metadata": {},
     "output_type": "execute_result"
    }
   ],
   "source": [
    "segment.head(3)"
   ]
  },
  {
   "cell_type": "markdown",
   "metadata": {
    "heading_collapsed": true
   },
   "source": [
    "## Create Time-related Features"
   ]
  },
  {
   "cell_type": "code",
   "execution_count": 18,
   "metadata": {
    "ExecuteTime": {
     "end_time": "2020-05-27T02:02:02.096792Z",
     "start_time": "2020-05-27T02:02:01.816474Z"
    },
    "hidden": true
   },
   "outputs": [],
   "source": [
    "# create Year, Quarter, Month, DayOfMonth, DayOfWeek based on SIBT (previously, SOBT)\n",
    "segment['SIBTQuarter'] = segment['SIBT'].dt.quarter\n",
    "segment['SIBTMonth'] = segment['SIBT'].dt.month\n",
    "segment['SIBTDayOfMonth'] = segment['SIBT'].dt.day\n",
    "segment['SIBTDayOfWeek'] = segment['SIBT'].dt.weekday + 1\n",
    "segment['SIBTHour'] = segment['SIBT'].dt.hour"
   ]
  },
  {
   "cell_type": "code",
   "execution_count": 19,
   "metadata": {
    "ExecuteTime": {
     "end_time": "2020-05-27T02:02:02.325149Z",
     "start_time": "2020-05-27T02:02:02.100758Z"
    },
    "hidden": true
   },
   "outputs": [],
   "source": [
    "# there are 14 flights (from EDA) scheduled to arrive at ATL in 2019\n",
    "# remove them as only arrival flights scheduled in 2017 and 2018 are of concern\n",
    "segment = segment[segment['SIBT'].dt.year != 2019].reset_index(drop=True)"
   ]
  },
  {
   "cell_type": "markdown",
   "metadata": {
    "heading_collapsed": true
   },
   "source": [
    "## Impute Missing Values"
   ]
  },
  {
   "cell_type": "code",
   "execution_count": 20,
   "metadata": {
    "ExecuteTime": {
     "end_time": "2020-05-27T02:02:02.417902Z",
     "start_time": "2020-05-27T02:02:02.327110Z"
    },
    "hidden": true
   },
   "outputs": [
    {
     "data": {
      "text/html": [
       "<div>\n",
       "<style scoped>\n",
       "    .dataframe tbody tr th:only-of-type {\n",
       "        vertical-align: middle;\n",
       "    }\n",
       "\n",
       "    .dataframe tbody tr th {\n",
       "        vertical-align: top;\n",
       "    }\n",
       "\n",
       "    .dataframe thead th {\n",
       "        text-align: right;\n",
       "    }\n",
       "</style>\n",
       "<table border=\"1\" class=\"dataframe\">\n",
       "  <thead>\n",
       "    <tr style=\"text-align: right;\">\n",
       "      <th></th>\n",
       "      <th>Count</th>\n",
       "      <th>Percentage</th>\n",
       "    </tr>\n",
       "  </thead>\n",
       "  <tbody>\n",
       "    <tr>\n",
       "      <th>OBTDelay</th>\n",
       "      <td>460</td>\n",
       "      <td>0.062</td>\n",
       "    </tr>\n",
       "    <tr>\n",
       "      <th>OBTDel15</th>\n",
       "      <td>460</td>\n",
       "      <td>0.062</td>\n",
       "    </tr>\n",
       "    <tr>\n",
       "      <th>OBTDelayGroups</th>\n",
       "      <td>460</td>\n",
       "      <td>0.062</td>\n",
       "    </tr>\n",
       "  </tbody>\n",
       "</table>\n",
       "</div>"
      ],
      "text/plain": [
       "                Count  Percentage\n",
       "OBTDelay          460       0.062\n",
       "OBTDel15          460       0.062\n",
       "OBTDelayGroups    460       0.062"
      ]
     },
     "execution_count": 20,
     "metadata": {},
     "output_type": "execute_result"
    }
   ],
   "source": [
    "# find columns that contain null values\n",
    "null_col = segment.columns[segment.isna().any()].tolist()\n",
    "\n",
    "# find how many values are missing in each column\n",
    "missing_count = pd.Series(segment[null_col].isna().sum(), name='Count')\n",
    "\n",
    "# determine percentage of missing values\n",
    "missing_percentage = pd.Series(\n",
    "    np.round(segment[null_col].isnull().mean()*100, 3), name='Percentage')\n",
    "\n",
    "missing_var_summary = pd.concat([missing_count, missing_percentage], axis=1)\n",
    "missing_var_summary"
   ]
  },
  {
   "cell_type": "code",
   "execution_count": 21,
   "metadata": {
    "ExecuteTime": {
     "end_time": "2020-05-27T02:02:02.842761Z",
     "start_time": "2020-05-27T02:02:02.418862Z"
    },
    "hidden": true
   },
   "outputs": [],
   "source": [
    "# handle missing OBTDelay\n",
    "segment.loc[segment.OBTDelay.isnull(), \"OBTDelay\"] = (\n",
    "    segment.AOBT - segment.SOBT).astype('timedelta64[m]')\n",
    "\n",
    "\n",
    "def delayed_more_than_15(x):\n",
    "    # handle missing OBTDel15\n",
    "    if x >= 15:\n",
    "        a = 1\n",
    "    else:\n",
    "        a = 0\n",
    "    return a\n",
    "\n",
    "\n",
    "segment['OBTDel15'] = segment['OBTDelay'].apply(\n",
    "    lambda x: delayed_more_than_15(x))\n",
    "\n",
    "# for all 460 entries, the OBTDelay is 0. Proved by:\n",
    "# segment[segment['OBTDelayGroups'].isnull()]['OBTDelay'].unique()\n",
    "# Hence, update missing OBTDelayGroups to be 0\n",
    "segment.loc[segment.OBTDelayGroups.isnull(), \"OBTDelayGroups\"] = 0"
   ]
  },
  {
   "cell_type": "code",
   "execution_count": 22,
   "metadata": {
    "ExecuteTime": {
     "end_time": "2020-05-27T02:02:02.857690Z",
     "start_time": "2020-05-27T02:02:02.843727Z"
    },
    "hidden": true
   },
   "outputs": [
    {
     "data": {
      "text/html": [
       "<div>\n",
       "<style scoped>\n",
       "    .dataframe tbody tr th:only-of-type {\n",
       "        vertical-align: middle;\n",
       "    }\n",
       "\n",
       "    .dataframe tbody tr th {\n",
       "        vertical-align: top;\n",
       "    }\n",
       "\n",
       "    .dataframe thead th {\n",
       "        text-align: right;\n",
       "    }\n",
       "</style>\n",
       "<table border=\"1\" class=\"dataframe\">\n",
       "  <thead>\n",
       "    <tr style=\"text-align: right;\">\n",
       "      <th></th>\n",
       "      <th>AOBTtoAIBT</th>\n",
       "      <th>UniqueCarrierCode</th>\n",
       "      <th>OBTDelay</th>\n",
       "      <th>OBTDel15</th>\n",
       "      <th>OBTDelayGroups</th>\n",
       "      <th>SOBTtoSIBT</th>\n",
       "      <th>Distance</th>\n",
       "      <th>DistanceGroup</th>\n",
       "      <th>SOBT</th>\n",
       "      <th>SIBT</th>\n",
       "      <th>AOBT</th>\n",
       "      <th>SIBTQuarter</th>\n",
       "      <th>SIBTMonth</th>\n",
       "      <th>SIBTDayOfMonth</th>\n",
       "      <th>SIBTDayOfWeek</th>\n",
       "      <th>SIBTHour</th>\n",
       "    </tr>\n",
       "  </thead>\n",
       "  <tbody>\n",
       "    <tr>\n",
       "      <th>0</th>\n",
       "      <td>117.0</td>\n",
       "      <td>AA</td>\n",
       "      <td>5.0</td>\n",
       "      <td>0</td>\n",
       "      <td>0.0</td>\n",
       "      <td>121.0</td>\n",
       "      <td>731.0</td>\n",
       "      <td>3</td>\n",
       "      <td>2017-01-01 14:25:00</td>\n",
       "      <td>2017-01-01 17:26:00</td>\n",
       "      <td>2017-01-01 14:30:00</td>\n",
       "      <td>1</td>\n",
       "      <td>1</td>\n",
       "      <td>1</td>\n",
       "      <td>7</td>\n",
       "      <td>17</td>\n",
       "    </tr>\n",
       "    <tr>\n",
       "      <th>1</th>\n",
       "      <td>134.0</td>\n",
       "      <td>AA</td>\n",
       "      <td>-5.0</td>\n",
       "      <td>0</td>\n",
       "      <td>-1.0</td>\n",
       "      <td>121.0</td>\n",
       "      <td>731.0</td>\n",
       "      <td>3</td>\n",
       "      <td>2017-01-02 14:25:00</td>\n",
       "      <td>2017-01-02 17:26:00</td>\n",
       "      <td>2017-01-02 14:20:00</td>\n",
       "      <td>1</td>\n",
       "      <td>1</td>\n",
       "      <td>2</td>\n",
       "      <td>1</td>\n",
       "      <td>17</td>\n",
       "    </tr>\n",
       "    <tr>\n",
       "      <th>2</th>\n",
       "      <td>117.0</td>\n",
       "      <td>AA</td>\n",
       "      <td>1.0</td>\n",
       "      <td>0</td>\n",
       "      <td>0.0</td>\n",
       "      <td>121.0</td>\n",
       "      <td>731.0</td>\n",
       "      <td>3</td>\n",
       "      <td>2017-01-03 14:25:00</td>\n",
       "      <td>2017-01-03 17:26:00</td>\n",
       "      <td>2017-01-03 14:26:00</td>\n",
       "      <td>1</td>\n",
       "      <td>1</td>\n",
       "      <td>3</td>\n",
       "      <td>2</td>\n",
       "      <td>17</td>\n",
       "    </tr>\n",
       "  </tbody>\n",
       "</table>\n",
       "</div>"
      ],
      "text/plain": [
       "   AOBTtoAIBT UniqueCarrierCode  OBTDelay  OBTDel15  OBTDelayGroups  \\\n",
       "0       117.0                AA       5.0         0             0.0   \n",
       "1       134.0                AA      -5.0         0            -1.0   \n",
       "2       117.0                AA       1.0         0             0.0   \n",
       "\n",
       "   SOBTtoSIBT  Distance  DistanceGroup                SOBT  \\\n",
       "0       121.0     731.0              3 2017-01-01 14:25:00   \n",
       "1       121.0     731.0              3 2017-01-02 14:25:00   \n",
       "2       121.0     731.0              3 2017-01-03 14:25:00   \n",
       "\n",
       "                 SIBT                AOBT  SIBTQuarter  SIBTMonth  \\\n",
       "0 2017-01-01 17:26:00 2017-01-01 14:30:00            1          1   \n",
       "1 2017-01-02 17:26:00 2017-01-02 14:20:00            1          1   \n",
       "2 2017-01-03 17:26:00 2017-01-03 14:26:00            1          1   \n",
       "\n",
       "   SIBTDayOfMonth  SIBTDayOfWeek  SIBTHour  \n",
       "0               1              7        17  \n",
       "1               2              1        17  \n",
       "2               3              2        17  "
      ]
     },
     "execution_count": 22,
     "metadata": {},
     "output_type": "execute_result"
    }
   ],
   "source": [
    "segment.head(3)"
   ]
  },
  {
   "cell_type": "code",
   "execution_count": 23,
   "metadata": {
    "ExecuteTime": {
     "end_time": "2020-05-27T02:02:02.941465Z",
     "start_time": "2020-05-27T02:02:02.858686Z"
    },
    "hidden": true
   },
   "outputs": [],
   "source": [
    "# format float to int\n",
    "to_int = ['AOBTtoAIBT', 'OBTDelay', 'OBTDelayGroups',\n",
    "          'SOBTtoSIBT', 'Distance', 'DistanceGroup']\n",
    "\n",
    "for item in to_int:\n",
    "    segment[item] = segment[item].astype(int)"
   ]
  },
  {
   "cell_type": "code",
   "execution_count": 24,
   "metadata": {
    "ExecuteTime": {
     "end_time": "2020-05-27T02:02:03.030259Z",
     "start_time": "2020-05-27T02:02:02.942463Z"
    },
    "hidden": true
   },
   "outputs": [
    {
     "name": "stdout",
     "output_type": "stream",
     "text": [
      "<class 'pandas.core.frame.DataFrame'>\n",
      "RangeIndex: 744965 entries, 0 to 744964\n",
      "Data columns (total 16 columns):\n",
      "AOBTtoAIBT           744965 non-null int32\n",
      "UniqueCarrierCode    744965 non-null object\n",
      "OBTDelay             744965 non-null int32\n",
      "OBTDel15             744965 non-null int64\n",
      "OBTDelayGroups       744965 non-null int32\n",
      "SOBTtoSIBT           744965 non-null int32\n",
      "Distance             744965 non-null int32\n",
      "DistanceGroup        744965 non-null int32\n",
      "SOBT                 744965 non-null datetime64[ns]\n",
      "SIBT                 744965 non-null datetime64[ns]\n",
      "AOBT                 744965 non-null datetime64[ns]\n",
      "SIBTQuarter          744965 non-null int64\n",
      "SIBTMonth            744965 non-null int64\n",
      "SIBTDayOfMonth       744965 non-null int64\n",
      "SIBTDayOfWeek        744965 non-null int64\n",
      "SIBTHour             744965 non-null int64\n",
      "dtypes: datetime64[ns](3), int32(6), int64(6), object(1)\n",
      "memory usage: 73.9+ MB\n"
     ]
    }
   ],
   "source": [
    "segment.info()"
   ]
  },
  {
   "cell_type": "markdown",
   "metadata": {
    "heading_collapsed": true
   },
   "source": [
    "# Feature Engineering"
   ]
  },
  {
   "cell_type": "code",
   "execution_count": 25,
   "metadata": {
    "ExecuteTime": {
     "end_time": "2020-05-27T02:02:03.247645Z",
     "start_time": "2020-05-27T02:02:03.034250Z"
    },
    "hidden": true
   },
   "outputs": [],
   "source": [
    "flights = segment.copy()\n",
    "\n",
    "# sort flights by SIBT\n",
    "flights.sort_values('SIBT', inplace=True, ascending=True)\n",
    "flights = flights.reset_index(drop=True)"
   ]
  },
  {
   "cell_type": "code",
   "execution_count": 26,
   "metadata": {
    "ExecuteTime": {
     "end_time": "2020-05-27T02:02:03.262608Z",
     "start_time": "2020-05-27T02:02:03.249641Z"
    },
    "hidden": true
   },
   "outputs": [
    {
     "data": {
      "text/html": [
       "<div>\n",
       "<style scoped>\n",
       "    .dataframe tbody tr th:only-of-type {\n",
       "        vertical-align: middle;\n",
       "    }\n",
       "\n",
       "    .dataframe tbody tr th {\n",
       "        vertical-align: top;\n",
       "    }\n",
       "\n",
       "    .dataframe thead th {\n",
       "        text-align: right;\n",
       "    }\n",
       "</style>\n",
       "<table border=\"1\" class=\"dataframe\">\n",
       "  <thead>\n",
       "    <tr style=\"text-align: right;\">\n",
       "      <th></th>\n",
       "      <th>AOBTtoAIBT</th>\n",
       "      <th>UniqueCarrierCode</th>\n",
       "      <th>OBTDelay</th>\n",
       "      <th>OBTDel15</th>\n",
       "      <th>OBTDelayGroups</th>\n",
       "      <th>SOBTtoSIBT</th>\n",
       "      <th>Distance</th>\n",
       "      <th>DistanceGroup</th>\n",
       "      <th>SOBT</th>\n",
       "      <th>SIBT</th>\n",
       "      <th>AOBT</th>\n",
       "      <th>SIBTQuarter</th>\n",
       "      <th>SIBTMonth</th>\n",
       "      <th>SIBTDayOfMonth</th>\n",
       "      <th>SIBTDayOfWeek</th>\n",
       "      <th>SIBTHour</th>\n",
       "    </tr>\n",
       "  </thead>\n",
       "  <tbody>\n",
       "    <tr>\n",
       "      <th>0</th>\n",
       "      <td>218</td>\n",
       "      <td>DL</td>\n",
       "      <td>-2</td>\n",
       "      <td>0</td>\n",
       "      <td>-1</td>\n",
       "      <td>223</td>\n",
       "      <td>1590</td>\n",
       "      <td>7</td>\n",
       "      <td>2017-01-01 00:55:00</td>\n",
       "      <td>2017-01-01 06:38:00</td>\n",
       "      <td>2017-01-01 00:53:00</td>\n",
       "      <td>1</td>\n",
       "      <td>1</td>\n",
       "      <td>1</td>\n",
       "      <td>7</td>\n",
       "      <td>6</td>\n",
       "    </tr>\n",
       "    <tr>\n",
       "      <th>1</th>\n",
       "      <td>81</td>\n",
       "      <td>F9</td>\n",
       "      <td>-4</td>\n",
       "      <td>0</td>\n",
       "      <td>-1</td>\n",
       "      <td>88</td>\n",
       "      <td>404</td>\n",
       "      <td>2</td>\n",
       "      <td>2017-01-01 05:15:00</td>\n",
       "      <td>2017-01-01 06:43:00</td>\n",
       "      <td>2017-01-01 05:11:00</td>\n",
       "      <td>1</td>\n",
       "      <td>1</td>\n",
       "      <td>1</td>\n",
       "      <td>7</td>\n",
       "      <td>6</td>\n",
       "    </tr>\n",
       "    <tr>\n",
       "      <th>2</th>\n",
       "      <td>88</td>\n",
       "      <td>EV</td>\n",
       "      <td>302</td>\n",
       "      <td>1</td>\n",
       "      <td>12</td>\n",
       "      <td>57</td>\n",
       "      <td>106</td>\n",
       "      <td>1</td>\n",
       "      <td>2017-01-01 05:49:00</td>\n",
       "      <td>2017-01-01 06:46:00</td>\n",
       "      <td>2017-01-01 10:51:00</td>\n",
       "      <td>1</td>\n",
       "      <td>1</td>\n",
       "      <td>1</td>\n",
       "      <td>7</td>\n",
       "      <td>6</td>\n",
       "    </tr>\n",
       "  </tbody>\n",
       "</table>\n",
       "</div>"
      ],
      "text/plain": [
       "   AOBTtoAIBT UniqueCarrierCode  OBTDelay  OBTDel15  OBTDelayGroups  \\\n",
       "0         218                DL        -2         0              -1   \n",
       "1          81                F9        -4         0              -1   \n",
       "2          88                EV       302         1              12   \n",
       "\n",
       "   SOBTtoSIBT  Distance  DistanceGroup                SOBT  \\\n",
       "0         223      1590              7 2017-01-01 00:55:00   \n",
       "1          88       404              2 2017-01-01 05:15:00   \n",
       "2          57       106              1 2017-01-01 05:49:00   \n",
       "\n",
       "                 SIBT                AOBT  SIBTQuarter  SIBTMonth  \\\n",
       "0 2017-01-01 06:38:00 2017-01-01 00:53:00            1          1   \n",
       "1 2017-01-01 06:43:00 2017-01-01 05:11:00            1          1   \n",
       "2 2017-01-01 06:46:00 2017-01-01 10:51:00            1          1   \n",
       "\n",
       "   SIBTDayOfMonth  SIBTDayOfWeek  SIBTHour  \n",
       "0               1              7         6  \n",
       "1               1              7         6  \n",
       "2               1              7         6  "
      ]
     },
     "execution_count": 26,
     "metadata": {},
     "output_type": "execute_result"
    }
   ],
   "source": [
    "flights.head(3)"
   ]
  },
  {
   "cell_type": "code",
   "execution_count": 27,
   "metadata": {
    "ExecuteTime": {
     "end_time": "2020-05-27T02:02:03.301502Z",
     "start_time": "2020-05-27T02:02:03.265607Z"
    },
    "hidden": true
   },
   "outputs": [],
   "source": [
    "flights = flights[['AOBTtoAIBT', 'UniqueCarrierCode', 'OBTDelay', 'OBTDel15', 'OBTDelayGroups', 'SOBTtoSIBT',\n",
    "                   'Distance', 'DistanceGroup', 'SIBTQuarter', 'SIBTMonth', 'SIBTDayOfMonth', 'SIBTDayOfWeek',\n",
    "                   'SIBTHour']]"
   ]
  },
  {
   "cell_type": "code",
   "execution_count": 28,
   "metadata": {
    "ExecuteTime": {
     "end_time": "2020-05-27T02:02:03.313469Z",
     "start_time": "2020-05-27T02:02:03.302498Z"
    },
    "hidden": true
   },
   "outputs": [
    {
     "data": {
      "text/html": [
       "<div>\n",
       "<style scoped>\n",
       "    .dataframe tbody tr th:only-of-type {\n",
       "        vertical-align: middle;\n",
       "    }\n",
       "\n",
       "    .dataframe tbody tr th {\n",
       "        vertical-align: top;\n",
       "    }\n",
       "\n",
       "    .dataframe thead th {\n",
       "        text-align: right;\n",
       "    }\n",
       "</style>\n",
       "<table border=\"1\" class=\"dataframe\">\n",
       "  <thead>\n",
       "    <tr style=\"text-align: right;\">\n",
       "      <th></th>\n",
       "      <th>AOBTtoAIBT</th>\n",
       "      <th>UniqueCarrierCode</th>\n",
       "      <th>OBTDelay</th>\n",
       "      <th>OBTDel15</th>\n",
       "      <th>OBTDelayGroups</th>\n",
       "      <th>SOBTtoSIBT</th>\n",
       "      <th>Distance</th>\n",
       "      <th>DistanceGroup</th>\n",
       "      <th>SIBTQuarter</th>\n",
       "      <th>SIBTMonth</th>\n",
       "      <th>SIBTDayOfMonth</th>\n",
       "      <th>SIBTDayOfWeek</th>\n",
       "      <th>SIBTHour</th>\n",
       "    </tr>\n",
       "  </thead>\n",
       "  <tbody>\n",
       "    <tr>\n",
       "      <th>0</th>\n",
       "      <td>218</td>\n",
       "      <td>DL</td>\n",
       "      <td>-2</td>\n",
       "      <td>0</td>\n",
       "      <td>-1</td>\n",
       "      <td>223</td>\n",
       "      <td>1590</td>\n",
       "      <td>7</td>\n",
       "      <td>1</td>\n",
       "      <td>1</td>\n",
       "      <td>1</td>\n",
       "      <td>7</td>\n",
       "      <td>6</td>\n",
       "    </tr>\n",
       "    <tr>\n",
       "      <th>1</th>\n",
       "      <td>81</td>\n",
       "      <td>F9</td>\n",
       "      <td>-4</td>\n",
       "      <td>0</td>\n",
       "      <td>-1</td>\n",
       "      <td>88</td>\n",
       "      <td>404</td>\n",
       "      <td>2</td>\n",
       "      <td>1</td>\n",
       "      <td>1</td>\n",
       "      <td>1</td>\n",
       "      <td>7</td>\n",
       "      <td>6</td>\n",
       "    </tr>\n",
       "    <tr>\n",
       "      <th>2</th>\n",
       "      <td>88</td>\n",
       "      <td>EV</td>\n",
       "      <td>302</td>\n",
       "      <td>1</td>\n",
       "      <td>12</td>\n",
       "      <td>57</td>\n",
       "      <td>106</td>\n",
       "      <td>1</td>\n",
       "      <td>1</td>\n",
       "      <td>1</td>\n",
       "      <td>1</td>\n",
       "      <td>7</td>\n",
       "      <td>6</td>\n",
       "    </tr>\n",
       "    <tr>\n",
       "      <th>3</th>\n",
       "      <td>111</td>\n",
       "      <td>DL</td>\n",
       "      <td>-2</td>\n",
       "      <td>0</td>\n",
       "      <td>-1</td>\n",
       "      <td>98</td>\n",
       "      <td>447</td>\n",
       "      <td>2</td>\n",
       "      <td>1</td>\n",
       "      <td>1</td>\n",
       "      <td>1</td>\n",
       "      <td>7</td>\n",
       "      <td>7</td>\n",
       "    </tr>\n",
       "    <tr>\n",
       "      <th>4</th>\n",
       "      <td>72</td>\n",
       "      <td>DL</td>\n",
       "      <td>-4</td>\n",
       "      <td>0</td>\n",
       "      <td>-1</td>\n",
       "      <td>76</td>\n",
       "      <td>226</td>\n",
       "      <td>1</td>\n",
       "      <td>1</td>\n",
       "      <td>1</td>\n",
       "      <td>1</td>\n",
       "      <td>7</td>\n",
       "      <td>7</td>\n",
       "    </tr>\n",
       "  </tbody>\n",
       "</table>\n",
       "</div>"
      ],
      "text/plain": [
       "   AOBTtoAIBT UniqueCarrierCode  OBTDelay  OBTDel15  OBTDelayGroups  \\\n",
       "0         218                DL        -2         0              -1   \n",
       "1          81                F9        -4         0              -1   \n",
       "2          88                EV       302         1              12   \n",
       "3         111                DL        -2         0              -1   \n",
       "4          72                DL        -4         0              -1   \n",
       "\n",
       "   SOBTtoSIBT  Distance  DistanceGroup  SIBTQuarter  SIBTMonth  \\\n",
       "0         223      1590              7            1          1   \n",
       "1          88       404              2            1          1   \n",
       "2          57       106              1            1          1   \n",
       "3          98       447              2            1          1   \n",
       "4          76       226              1            1          1   \n",
       "\n",
       "   SIBTDayOfMonth  SIBTDayOfWeek  SIBTHour  \n",
       "0               1              7         6  \n",
       "1               1              7         6  \n",
       "2               1              7         6  \n",
       "3               1              7         7  \n",
       "4               1              7         7  "
      ]
     },
     "execution_count": 28,
     "metadata": {},
     "output_type": "execute_result"
    }
   ],
   "source": [
    "flights.head()"
   ]
  },
  {
   "cell_type": "markdown",
   "metadata": {
    "hidden": true
   },
   "source": [
    "## Separate Train and Validation Datasets"
   ]
  },
  {
   "cell_type": "code",
   "execution_count": 29,
   "metadata": {
    "ExecuteTime": {
     "end_time": "2020-05-27T02:02:03.421183Z",
     "start_time": "2020-05-27T02:02:03.315467Z"
    },
    "hidden": true
   },
   "outputs": [
    {
     "data": {
      "text/plain": [
       "((734965, 12), (10000, 12))"
      ]
     },
     "execution_count": 29,
     "metadata": {},
     "output_type": "execute_result"
    }
   ],
   "source": [
    "# the last 10000 flights are set as validation dataset\n",
    "X_train, X_val, y_train, y_val = train_test_split(flights.iloc[:, 1:13],\n",
    "                                                  flights['AOBTtoAIBT'],\n",
    "                                                  shuffle=False,\n",
    "                                                  test_size=10000)\n",
    "\n",
    "X_train.shape, X_val.shape"
   ]
  },
  {
   "cell_type": "code",
   "execution_count": 30,
   "metadata": {
    "ExecuteTime": {
     "end_time": "2020-05-27T02:02:03.432154Z",
     "start_time": "2020-05-27T02:02:03.422180Z"
    },
    "hidden": true
   },
   "outputs": [
    {
     "data": {
      "text/html": [
       "<div>\n",
       "<style scoped>\n",
       "    .dataframe tbody tr th:only-of-type {\n",
       "        vertical-align: middle;\n",
       "    }\n",
       "\n",
       "    .dataframe tbody tr th {\n",
       "        vertical-align: top;\n",
       "    }\n",
       "\n",
       "    .dataframe thead th {\n",
       "        text-align: right;\n",
       "    }\n",
       "</style>\n",
       "<table border=\"1\" class=\"dataframe\">\n",
       "  <thead>\n",
       "    <tr style=\"text-align: right;\">\n",
       "      <th></th>\n",
       "      <th>UniqueCarrierCode</th>\n",
       "      <th>OBTDelay</th>\n",
       "      <th>OBTDel15</th>\n",
       "      <th>OBTDelayGroups</th>\n",
       "      <th>SOBTtoSIBT</th>\n",
       "      <th>Distance</th>\n",
       "      <th>DistanceGroup</th>\n",
       "      <th>SIBTQuarter</th>\n",
       "      <th>SIBTMonth</th>\n",
       "      <th>SIBTDayOfMonth</th>\n",
       "      <th>SIBTDayOfWeek</th>\n",
       "      <th>SIBTHour</th>\n",
       "    </tr>\n",
       "  </thead>\n",
       "  <tbody>\n",
       "    <tr>\n",
       "      <th>734965</th>\n",
       "      <td>DL</td>\n",
       "      <td>12</td>\n",
       "      <td>0</td>\n",
       "      <td>0</td>\n",
       "      <td>116</td>\n",
       "      <td>545</td>\n",
       "      <td>3</td>\n",
       "      <td>4</td>\n",
       "      <td>12</td>\n",
       "      <td>21</td>\n",
       "      <td>5</td>\n",
       "      <td>19</td>\n",
       "    </tr>\n",
       "    <tr>\n",
       "      <th>734966</th>\n",
       "      <td>DL</td>\n",
       "      <td>53</td>\n",
       "      <td>1</td>\n",
       "      <td>3</td>\n",
       "      <td>119</td>\n",
       "      <td>581</td>\n",
       "      <td>3</td>\n",
       "      <td>4</td>\n",
       "      <td>12</td>\n",
       "      <td>21</td>\n",
       "      <td>5</td>\n",
       "      <td>19</td>\n",
       "    </tr>\n",
       "    <tr>\n",
       "      <th>734967</th>\n",
       "      <td>9E</td>\n",
       "      <td>26</td>\n",
       "      <td>1</td>\n",
       "      <td>1</td>\n",
       "      <td>105</td>\n",
       "      <td>377</td>\n",
       "      <td>2</td>\n",
       "      <td>4</td>\n",
       "      <td>12</td>\n",
       "      <td>21</td>\n",
       "      <td>5</td>\n",
       "      <td>20</td>\n",
       "    </tr>\n",
       "  </tbody>\n",
       "</table>\n",
       "</div>"
      ],
      "text/plain": [
       "       UniqueCarrierCode  OBTDelay  OBTDel15  OBTDelayGroups  SOBTtoSIBT  \\\n",
       "734965                DL        12         0               0         116   \n",
       "734966                DL        53         1               3         119   \n",
       "734967                9E        26         1               1         105   \n",
       "\n",
       "        Distance  DistanceGroup  SIBTQuarter  SIBTMonth  SIBTDayOfMonth  \\\n",
       "734965       545              3            4         12              21   \n",
       "734966       581              3            4         12              21   \n",
       "734967       377              2            4         12              21   \n",
       "\n",
       "        SIBTDayOfWeek  SIBTHour  \n",
       "734965              5        19  \n",
       "734966              5        19  \n",
       "734967              5        20  "
      ]
     },
     "execution_count": 30,
     "metadata": {},
     "output_type": "execute_result"
    }
   ],
   "source": [
    "X_val.head(3)"
   ]
  },
  {
   "cell_type": "markdown",
   "metadata": {
    "hidden": true
   },
   "source": [
    "The validation set are flights after 2018-12-21 6pm."
   ]
  },
  {
   "cell_type": "markdown",
   "metadata": {
    "hidden": true
   },
   "source": [
    "## Temporal Variables"
   ]
  },
  {
   "cell_type": "code",
   "execution_count": 31,
   "metadata": {
    "ExecuteTime": {
     "end_time": "2020-05-27T02:02:04.542211Z",
     "start_time": "2020-05-27T02:02:03.434147Z"
    },
    "hidden": true
   },
   "outputs": [
    {
     "data": {
      "image/png": "[encoded data removed]",
      "text/plain": [
       "<Figure size 432x288 with 1 Axes>"
      ]
     },
     "metadata": {
      "needs_background": "light"
     },
     "output_type": "display_data"
    },
    {
     "data": {
      "image/png": "[encoded data removed]",
      "text/plain": [
       "<Figure size 432x288 with 1 Axes>"
      ]
     },
     "metadata": {
      "needs_background": "light"
     },
     "output_type": "display_data"
    },
    {
     "data": {
      "image/png": "[encoded data removed]",
      "text/plain": [
       "<Figure size 432x288 with 1 Axes>"
      ]
     },
     "metadata": {
      "needs_background": "light"
     },
     "output_type": "display_data"
    },
    {
     "data": {
      "image/png": "[encoded data removed]",
      "text/plain": [
       "<Figure size 432x288 with 1 Axes>"
      ]
     },
     "metadata": {
      "needs_background": "light"
     },
     "output_type": "display_data"
    },
    {
     "data": {
      "image/png": "[encoded data removed]",
      "text/plain": [
       "<Figure size 432x288 with 1 Axes>"
      ]
     },
     "metadata": {
      "needs_background": "light"
     },
     "output_type": "display_data"
    }
   ],
   "source": [
    "temporal_var = ['SIBTQuarter', 'SIBTMonth',\n",
    "                'SIBTDayOfMonth', 'SIBTDayOfWeek', 'SIBTHour']\n",
    "\n",
    "\n",
    "def analyse_temporal_var(df, var):\n",
    "\n",
    "    # function plots median house sale price per encoded\n",
    "    # category\n",
    "\n",
    "    temp = df.copy()\n",
    "    temp.groupby(var)['SOBTtoSIBT'].median().plot.bar()\n",
    "    plt.title(var)\n",
    "    plt.ylabel('SOBTtoSIBT')\n",
    "    plt.show()\n",
    "\n",
    "\n",
    "for var in temporal_var:\n",
    "    analyse_temporal_var(X_train, var)"
   ]
  },
  {
   "cell_type": "markdown",
   "metadata": {
    "hidden": true
   },
   "source": [
    "## Categorical Variables"
   ]
  },
  {
   "cell_type": "code",
   "execution_count": 32,
   "metadata": {
    "ExecuteTime": {
     "end_time": "2020-05-27T02:02:04.548168Z",
     "start_time": "2020-05-27T02:02:04.543187Z"
    },
    "hidden": true
   },
   "outputs": [
    {
     "name": "stdout",
     "output_type": "stream",
     "text": [
      "Number of categorical variables:  1\n",
      "['UniqueCarrierCode']\n"
     ]
    }
   ],
   "source": [
    "# capture categorical variables in a list\n",
    "cat_vars = [var for var in X_train.columns if X_train[var].dtypes == 'O']\n",
    "\n",
    "print('Number of categorical variables: ', len(cat_vars))\n",
    "print(cat_vars)"
   ]
  },
  {
   "cell_type": "markdown",
   "metadata": {
    "hidden": true
   },
   "source": [
    "### Cardinality"
   ]
  },
  {
   "cell_type": "code",
   "execution_count": 33,
   "metadata": {
    "ExecuteTime": {
     "end_time": "2020-05-27T02:02:04.604060Z",
     "start_time": "2020-05-27T02:02:04.550163Z"
    },
    "hidden": true
   },
   "outputs": [
    {
     "data": {
      "text/plain": [
       "UniqueCarrierCode    15\n",
       "dtype: int64"
      ]
     },
     "execution_count": 33,
     "metadata": {},
     "output_type": "execute_result"
    }
   ],
   "source": [
    "# cardinality\n",
    "X_train[cat_vars].nunique()"
   ]
  },
  {
   "cell_type": "markdown",
   "metadata": {
    "hidden": true
   },
   "source": [
    "UniqueCarrierCode shows low cardinality."
   ]
  },
  {
   "cell_type": "markdown",
   "metadata": {
    "hidden": true
   },
   "source": [
    "### Rare Labels"
   ]
  },
  {
   "cell_type": "code",
   "execution_count": 34,
   "metadata": {
    "ExecuteTime": {
     "end_time": "2020-05-27T02:02:04.677821Z",
     "start_time": "2020-05-27T02:02:04.605016Z"
    },
    "hidden": true
   },
   "outputs": [
    {
     "name": "stdout",
     "output_type": "stream",
     "text": [
      "UniqueCarrierCode\n",
      "AS    0.001952\n",
      "B6    0.005856\n",
      "F9    0.008972\n",
      "MQ    0.000834\n",
      "OH    0.001497\n",
      "YV    0.002991\n",
      "YX    0.006464\n",
      "Name: UniqueCarrierCode, dtype: float64\n"
     ]
    }
   ],
   "source": [
    "def analyse_rare_labels(df, var, rare_perc):\n",
    "\n",
    "    # determine the % of observations per category\n",
    "    tmp = df.groupby(var)['UniqueCarrierCode'].count() / len(df)\n",
    "\n",
    "    # return categories that are rare\n",
    "    return tmp[tmp < rare_perc]\n",
    "\n",
    "\n",
    "# print categories that are present in less than\n",
    "# 1 % of the observations\n",
    "rare_perc = 0.01\n",
    "for var in cat_vars:\n",
    "    print(analyse_rare_labels(X_train, var, rare_perc))"
   ]
  },
  {
   "cell_type": "markdown",
   "metadata": {
    "hidden": true
   },
   "source": [
    "These airlines are present in less than 1% of flights in ATL in 2017 and 2018. Labels that are under-represented in the dataset tend to cause over-fitting of models. They will be removed."
   ]
  },
  {
   "cell_type": "code",
   "execution_count": 35,
   "metadata": {
    "ExecuteTime": {
     "end_time": "2020-05-27T02:02:04.782540Z",
     "start_time": "2020-05-27T02:02:04.678818Z"
    },
    "code_folding": [],
    "hidden": true
   },
   "outputs": [],
   "source": [
    "def find_frequent_labels(df, var, rare_perc):\n",
    "    # function finds the labels that are shared by more than\n",
    "    # a certain % of the houses in the dataset\n",
    "    tmp = df.groupby(var)['UniqueCarrierCode'].count() / len(df)\n",
    "    return tmp[tmp >= rare_perc].index\n",
    "\n",
    "\n",
    "for var in cat_vars:\n",
    "\n",
    "    # find the frequent categories\n",
    "    frequent_ls = find_frequent_labels(X_train, var, rare_perc)\n",
    "\n",
    "    # replace rare categories by the string \"Rare\"\n",
    "    X_train[var] = np.where(X_train[var].isin(\n",
    "        frequent_ls), X_train[var], 'Rare')\n",
    "    X_val[var] = np.where(X_val[var].isin(\n",
    "        frequent_ls), X_val[var], 'Rare')"
   ]
  },
  {
   "cell_type": "markdown",
   "metadata": {
    "hidden": true
   },
   "source": [
    "### Encode"
   ]
  },
  {
   "cell_type": "markdown",
   "metadata": {
    "hidden": true
   },
   "source": [
    "Next, transform the strings of the categorical variables into numbers, so that we capture the monotonic relationship between the label and the target."
   ]
  },
  {
   "cell_type": "code",
   "execution_count": 36,
   "metadata": {
    "ExecuteTime": {
     "end_time": "2020-05-27T02:02:04.881444Z",
     "start_time": "2020-05-27T02:02:04.783539Z"
    },
    "hidden": true
   },
   "outputs": [],
   "source": [
    "# this function will assign discrete values to the strings of the variables,\n",
    "# so that the smaller value corresponds to the category that shows the smaller\n",
    "# mean AOBTtoAIBT\n",
    "\n",
    "\n",
    "def replace_categories(train, val, var, target):\n",
    "\n",
    "    # order the categories in a variable from that with the lowest\n",
    "    # house sale price, to that with the highest\n",
    "    ordered_labels = train.groupby([var])[target].mean().sort_values().index\n",
    "\n",
    "    # create a dictionary of ordered categories to integer values\n",
    "    ordinal_label = {k: i for i, k in enumerate(ordered_labels, 0)}\n",
    "\n",
    "    # use the dictionary to replace the categorical strings by integers\n",
    "    train[var] = train[var].map(ordinal_label)\n",
    "    val[var] = val[var].map(ordinal_label)\n",
    "\n",
    "\n",
    "for var in cat_vars:\n",
    "    replace_categories(X_train, X_val, var, 'SIBTQuarter')"
   ]
  },
  {
   "cell_type": "markdown",
   "metadata": {
    "hidden": true
   },
   "source": [
    "## Feature Scaling"
   ]
  },
  {
   "cell_type": "markdown",
   "metadata": {
    "hidden": true
   },
   "source": [
    "For use in linear models, features need to be either scaled or normalised. In the next section, I will scale features to the minimum and maximum values:"
   ]
  },
  {
   "cell_type": "code",
   "execution_count": 37,
   "metadata": {
    "ExecuteTime": {
     "end_time": "2020-05-27T02:02:05.379957Z",
     "start_time": "2020-05-27T02:02:04.883271Z"
    },
    "hidden": true
   },
   "outputs": [],
   "source": [
    "scaler = StandardScaler()\n",
    "scaler.fit(X_train)\n",
    "X_train = scaler.transform(X_train)\n",
    "X_val = scaler.transform(X_val)"
   ]
  },
  {
   "cell_type": "markdown",
   "metadata": {
    "heading_collapsed": true
   },
   "source": [
    "# Feature Selection"
   ]
  },
  {
   "cell_type": "code",
   "execution_count": 38,
   "metadata": {
    "ExecuteTime": {
     "end_time": "2020-05-27T02:02:07.724672Z",
     "start_time": "2020-05-27T02:02:05.380943Z"
    },
    "hidden": true
   },
   "outputs": [
    {
     "data": {
      "text/plain": [
       "SelectFromModel(estimator=Lasso(alpha=0.005, copy_X=True, fit_intercept=True,\n",
       "                                max_iter=1000, normalize=False, positive=False,\n",
       "                                precompute=False, random_state=42,\n",
       "                                selection='cyclic', tol=0.0001,\n",
       "                                warm_start=False),\n",
       "                max_features=None, norm_order=1, prefit=False, threshold=None)"
      ]
     },
     "execution_count": 38,
     "metadata": {},
     "output_type": "execute_result"
    }
   ],
   "source": [
    "# remember to set the seed, the random state in this function\n",
    "sel_ = SelectFromModel(Lasso(alpha=0.005, random_state=RANDOM_SEED))\n",
    "\n",
    "# train Lasso model and select features\n",
    "sel_.fit(X_train, y_train)"
   ]
  },
  {
   "cell_type": "code",
   "execution_count": 39,
   "metadata": {
    "ExecuteTime": {
     "end_time": "2020-05-27T02:02:07.781521Z",
     "start_time": "2020-05-27T02:02:07.727665Z"
    },
    "hidden": true
   },
   "outputs": [
    {
     "name": "stdout",
     "output_type": "stream",
     "text": [
      "total features: 12\n",
      "selected features: 11\n",
      "features with coefficients shrank to zero: 1\n"
     ]
    }
   ],
   "source": [
    "# let's print the number of total and selected features\n",
    "\n",
    "# this is how we can make a list of the selected features\n",
    "selected_feats = flights.iloc[:, 1:13].columns[(sel_.get_support())]\n",
    "\n",
    "# let's print some stats\n",
    "print('total features: {}'.format((X_train.shape[1])))\n",
    "print('selected features: {}'.format(len(selected_feats)))\n",
    "print('features with coefficients shrank to zero: {}'.format(\n",
    "    np.sum(sel_.estimator_.coef_ == 0)))"
   ]
  },
  {
   "cell_type": "code",
   "execution_count": 40,
   "metadata": {
    "ExecuteTime": {
     "end_time": "2020-05-27T02:02:07.793487Z",
     "start_time": "2020-05-27T02:02:07.784513Z"
    },
    "hidden": true
   },
   "outputs": [
    {
     "data": {
      "text/plain": [
       "Index(['UniqueCarrierCode', 'OBTDelay', 'OBTDel15', 'OBTDelayGroups',\n",
       "       'SOBTtoSIBT', 'Distance', 'DistanceGroup', 'SIBTQuarter',\n",
       "       'SIBTDayOfMonth', 'SIBTDayOfWeek', 'SIBTHour'],\n",
       "      dtype='object')"
      ]
     },
     "execution_count": 40,
     "metadata": {},
     "output_type": "execute_result"
    }
   ],
   "source": [
    "# print the selected features\n",
    "selected_feats"
   ]
  },
  {
   "cell_type": "code",
   "execution_count": 41,
   "metadata": {
    "ExecuteTime": {
     "end_time": "2020-05-27T02:02:07.802464Z",
     "start_time": "2020-05-27T02:02:07.796479Z"
    },
    "hidden": true
   },
   "outputs": [],
   "source": [
    "feats = selected_feats.to_list()"
   ]
  },
  {
   "cell_type": "code",
   "execution_count": 42,
   "metadata": {
    "ExecuteTime": {
     "end_time": "2020-05-27T02:02:07.867289Z",
     "start_time": "2020-05-27T02:02:07.805456Z"
    },
    "hidden": true
   },
   "outputs": [],
   "source": [
    "X_train = np.delete(X_train, 8, 1)\n",
    "X_val = np.delete(X_val, 8, 1)"
   ]
  },
  {
   "cell_type": "markdown",
   "metadata": {},
   "source": [
    "# Model"
   ]
  },
  {
   "cell_type": "markdown",
   "metadata": {},
   "source": [
    "## Regularized Linear Regression: Lasso"
   ]
  },
  {
   "cell_type": "code",
   "execution_count": 43,
   "metadata": {
    "ExecuteTime": {
     "end_time": "2020-05-27T02:02:10.374584Z",
     "start_time": "2020-05-27T02:02:07.868287Z"
    }
   },
   "outputs": [
    {
     "data": {
      "text/plain": [
       "Lasso(alpha=0.005, copy_X=True, fit_intercept=True, max_iter=1000,\n",
       "      normalize=False, positive=False, precompute=False, random_state=42,\n",
       "      selection='cyclic', tol=0.0001, warm_start=False)"
      ]
     },
     "execution_count": 43,
     "metadata": {},
     "output_type": "execute_result"
    }
   ],
   "source": [
    "# set up the model\n",
    "lin_model = Lasso(alpha=0.005, random_state=RANDOM_SEED)\n",
    "\n",
    "# train the model\n",
    "lin_model.fit(X_train, y_train)"
   ]
  },
  {
   "cell_type": "markdown",
   "metadata": {},
   "source": [
    "### Evalutation of Lasso"
   ]
  },
  {
   "cell_type": "code",
   "execution_count": 83,
   "metadata": {
    "ExecuteTime": {
     "end_time": "2020-05-27T02:25:59.493762Z",
     "start_time": "2020-05-27T02:25:59.377123Z"
    }
   },
   "outputs": [
    {
     "name": "stdout",
     "output_type": "stream",
     "text": [
      "train rmse: 12.889\n",
      "train mae: 8.705\n",
      "train r2: 0.9390123946803438\n",
      "train explained variance score: 0.9390123946803438\n",
      "\n",
      "val rmse: 12.920\n",
      "val mae: 9.625\n",
      "val r2: 0.9395198988153375\n",
      "val explained variance score: 0.939729794001195\n",
      "\n",
      "sch rmse: 14.623\n",
      "sch mae: 11.702\n",
      "sch r2: 0.9225337031137874\n",
      "sch explained variance score: 0.9364205737152322\n"
     ]
    }
   ],
   "source": [
    "# evaluate performance using the RMSE, MAE and R2\n",
    "\n",
    "# make predictions for train set\n",
    "pred_train = lin_model.predict(X_train)\n",
    "\n",
    "# determine metrics\n",
    "print('train rmse: {:.3f}'.format(sqrt(mean_squared_error(y_train, pred_train))))\n",
    "print('train mae: {:.3f}'.format(mean_absolute_error(y_train, pred_train)))\n",
    "print('train r2: {}'.format(r2_score(y_train, pred_train)))\n",
    "print('train explained variance score: {}'.format(\n",
    "    explained_variance_score(y_train, pred_train)))\n",
    "print()\n",
    "\n",
    "# make predictions for validation set\n",
    "pred_val = lin_model.predict(X_val)\n",
    "\n",
    "# determine metrics\n",
    "print('val rmse: {:.3f}'.format(sqrt(mean_squared_error(y_val, pred_val))))\n",
    "print('val mae: {:.3f}'.format(mean_absolute_error(y_val, pred_val)))\n",
    "print('val r2: {}'.format(r2_score(y_val, pred_val)))\n",
    "print('val explained variance score: {}'.format(\n",
    "    explained_variance_score(y_val, pred_val)))\n",
    "print()\n",
    "\n",
    "sch_val = flights['SOBTtoSIBT'][-10000:]\n",
    "# determine metrics\n",
    "print('sch rmse: {:.3f}'.format(sqrt(mean_squared_error(y_val, sch_val))))\n",
    "print('sch mae: {:.3f}'.format(mean_absolute_error(y_val, sch_val)))\n",
    "print('sch r2: {}'.format(r2_score(y_val, sch_val)))\n",
    "print('sch explained variance score: {}'.format(\n",
    "    explained_variance_score(y_val, sch_val)))"
   ]
  },
  {
   "cell_type": "code",
   "execution_count": 53,
   "metadata": {
    "ExecuteTime": {
     "end_time": "2020-05-27T02:15:24.555640Z",
     "start_time": "2020-05-27T02:15:24.327207Z"
    }
   },
   "outputs": [
    {
     "data": {
      "text/plain": [
       "Text(0.5, 1.0, 'Evaluation of Lasso Predictions')"
      ]
     },
     "execution_count": 53,
     "metadata": {},
     "output_type": "execute_result"
    },
    {
     "data": {
      "image/png": "[encoded data removed]",
      "text/plain": [
       "<Figure size 360x360 with 1 Axes>"
      ]
     },
     "metadata": {
      "needs_background": "light"
     },
     "output_type": "display_data"
    }
   ],
   "source": [
    "# let's evaluate our predictions respect to the real sale price\n",
    "plt.figure(figsize=(5,5))\n",
    "plt.scatter(y_val, pred_val)\n",
    "plt.xlabel('AOBTtoAIBT')\n",
    "plt.ylabel('Predicted AOBTtoAIBT')\n",
    "plt.title('Evaluation of Lasso Predictions')"
   ]
  },
  {
   "cell_type": "code",
   "execution_count": 46,
   "metadata": {
    "ExecuteTime": {
     "end_time": "2020-05-27T02:02:11.073594Z",
     "start_time": "2020-05-27T02:02:10.789473Z"
    }
   },
   "outputs": [
    {
     "data": {
      "text/plain": [
       "<matplotlib.axes._subplots.AxesSubplot at 0x268f6a0e278>"
      ]
     },
     "execution_count": 46,
     "metadata": {},
     "output_type": "execute_result"
    },
    {
     "data": {
      "image/png": "[encoded data removed]",
      "text/plain": [
       "<Figure size 432x288 with 1 Axes>"
      ]
     },
     "metadata": {
      "needs_background": "light"
     },
     "output_type": "display_data"
    }
   ],
   "source": [
    "# let's evaluate the distribution of the errors:\n",
    "# they should be fairly normally distributed\n",
    "errors = y_val - lin_model.predict(X_val)\n",
    "errors.hist(bins=30)"
   ]
  },
  {
   "cell_type": "markdown",
   "metadata": {},
   "source": [
    "The distribution of the errors follows a gaussian distribution. That suggests that our model is doing something useful."
   ]
  },
  {
   "cell_type": "code",
   "execution_count": 113,
   "metadata": {
    "ExecuteTime": {
     "end_time": "2020-05-27T02:35:40.668023Z",
     "start_time": "2020-05-27T02:35:40.223217Z"
    }
   },
   "outputs": [
    {
     "data": {
      "image/png": "[encoded data removed]",
      "text/plain": [
       "<Figure size 1008x576 with 1 Axes>"
      ]
     },
     "metadata": {
      "needs_background": "light"
     },
     "output_type": "display_data"
    }
   ],
   "source": [
    "y_val_series = y_val.reset_index(drop=True)\n",
    "# sch_val_series = sch_val.reset_index(drop=True)\n",
    "pred_val_series = pd.Series(pred_val)\n",
    "durations = pd.concat([y_val_series, pred_val_series], axis=1)\n",
    "# durations = pd.concat([durations, sch_val_series], axis=1)\n",
    "\n",
    "# durations = durations.rename(columns={'AOBTtoAIBT': 'Actual', 0: 'Predicted', 'SOBTtoSIBT': 'Scheduled'})\n",
    "durations = durations.rename(columns={'AOBTtoAIBT': 'Actual', 0: 'Predicted'})\n",
    "\n",
    "first_50 = durations.head(50)\n",
    "first_50.plot(kind='bar',figsize=(14,8))\n",
    "plt.grid(which='major', linestyle='-', linewidth='0.5', color='green')\n",
    "plt.grid(which='minor', linestyle=':', linewidth='0.5', color='black')\n",
    "plt.show()"
   ]
  },
  {
   "cell_type": "markdown",
   "metadata": {},
   "source": [
    "### Feature Importance"
   ]
  },
  {
   "cell_type": "code",
   "execution_count": 47,
   "metadata": {
    "ExecuteTime": {
     "end_time": "2020-05-27T02:02:11.298173Z",
     "start_time": "2020-05-27T02:02:11.075589Z"
    }
   },
   "outputs": [
    {
     "data": {
      "text/plain": [
       "Text(0.5, 1.0, 'Feature Importance')"
      ]
     },
     "execution_count": 47,
     "metadata": {},
     "output_type": "execute_result"
    },
    {
     "data": {
      "image/png": "[encoded data removed]",
      "text/plain": [
       "<Figure size 1296x432 with 1 Axes>"
      ]
     },
     "metadata": {
      "needs_background": "light"
     },
     "output_type": "display_data"
    }
   ],
   "source": [
    "# Finally, just for fun, let's look at the feature importance\n",
    "importance = pd.Series(np.abs(lin_model.coef_.ravel()))\n",
    "importance.index = feats\n",
    "importance.sort_values(inplace=True, ascending=False)\n",
    "importance.plot.bar(figsize=(18, 6))\n",
    "plt.ylabel('Lasso Coefficients')\n",
    "plt.title('Feature Importance')"
   ]
  }
 ],
 "metadata": {
  "kernelspec": {
   "display_name": "Python 3",
   "language": "python",
   "name": "python3"
  },
  "language_info": {
   "codemirror_mode": {
    "name": "ipython",
    "version": 3
   },
   "file_extension": ".py",
   "mimetype": "text/x-python",
   "name": "python",
   "nbconvert_exporter": "python",
   "pygments_lexer": "ipython3",
   "version": "3.7.3"
  },
  "notify_time": "30",
  "toc": {
   "base_numbering": 1,
   "nav_menu": {},
   "number_sections": true,
   "sideBar": true,
   "skip_h1_title": false,
   "title_cell": "Table of Contents",
   "title_sidebar": "Contents",
   "toc_cell": false,
   "toc_position": {
    "height": "calc(100% - 180px)",
    "left": "10px",
    "top": "150px",
    "width": "256px"
   },
   "toc_section_display": true,
   "toc_window_display": false
  },
  "varInspector": {
   "cols": {
    "lenName": 16,
    "lenType": 16,
    "lenVar": 40
   },
   "kernels_config": {
    "python": {
     "delete_cmd_postfix": "",
     "delete_cmd_prefix": "del ",
     "library": "var_list.py",
     "varRefreshCmd": "print(var_dic_list())"
    },
    "r": {
     "delete_cmd_postfix": ") ",
     "delete_cmd_prefix": "rm(",
     "library": "var_list.r",
     "varRefreshCmd": "cat(var_dic_list()) "
    }
   },
   "types_to_exclude": [
    "module",
    "function",
    "builtin_function_or_method",
    "instance",
    "_Feature"
   ],
   "window_display": false
  }
 },
 "nbformat": 4,
 "nbformat_minor": 2
}
