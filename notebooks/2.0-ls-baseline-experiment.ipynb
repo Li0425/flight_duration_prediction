{
 "cells": [
  {
   "cell_type": "markdown",
   "metadata": {},
   "source": [
    "# Introduction"
   ]
  },
  {
   "cell_type": "markdown",
   "metadata": {},
   "source": [
    "Baseline experiment"
   ]
  },
  {
   "cell_type": "markdown",
   "metadata": {
    "hide_input": true
   },
   "source": [
    "# Set up Environment"
   ]
  },
  {
   "cell_type": "code",
   "execution_count": 36,
   "metadata": {
    "ExecuteTime": {
     "end_time": "2020-05-28T11:42:10.833403Z",
     "start_time": "2020-05-28T11:42:10.828414Z"
    },
    "hide_input": false,
    "init_cell": true
   },
   "outputs": [],
   "source": [
    "import pandas as pd\n",
    "import matplotlib.pyplot as plt\n",
    "import warnings\n",
    "from sklearn.model_selection import train_test_split\n",
    "from sklearn.preprocessing import StandardScaler\n",
    "from sklearn.linear_model import Lasso, Ridge\n",
    "from sklearn.feature_selection import SelectFromModel\n",
    "from math import sqrt\n",
    "from sklearn.metrics import (mean_squared_error, mean_absolute_error, r2_score,\n",
    "                             explained_variance_score, max_error)\n",
    "\n",
    "# display all columns of dataframes in the notebook\n",
    "pd.options.display.max_columns = None\n",
    "\n",
    "# ignore warnings\n",
    "warnings.filterwarnings('ignore')\n",
    "\n",
    "# set up random seed for reproducibility\n",
    "RANDOM_SEED = 42"
   ]
  },
  {
   "cell_type": "markdown",
   "metadata": {},
   "source": [
    "# Load Data"
   ]
  },
  {
   "cell_type": "code",
   "execution_count": 38,
   "metadata": {
    "ExecuteTime": {
     "end_time": "2020-05-28T11:42:49.502056Z",
     "start_time": "2020-05-28T11:42:48.000045Z"
    },
    "init_cell": true
   },
   "outputs": [],
   "source": [
    "file_path = '../data/interim/'\n",
    "file_name = 'train_val_data.csv'\n",
    "flights = pd.read_csv(file_path + file_name)"
   ]
  },
  {
   "cell_type": "markdown",
   "metadata": {},
   "source": [
    "# Feature Engineering"
   ]
  },
  {
   "cell_type": "code",
   "execution_count": 39,
   "metadata": {
    "ExecuteTime": {
     "end_time": "2020-05-28T11:43:55.531248Z",
     "start_time": "2020-05-28T11:43:55.511336Z"
    }
   },
   "outputs": [
    {
     "data": {
      "text/html": [
       "<div>\n",
       "<style scoped>\n",
       "    .dataframe tbody tr th:only-of-type {\n",
       "        vertical-align: middle;\n",
       "    }\n",
       "\n",
       "    .dataframe tbody tr th {\n",
       "        vertical-align: top;\n",
       "    }\n",
       "\n",
       "    .dataframe thead th {\n",
       "        text-align: right;\n",
       "    }\n",
       "</style>\n",
       "<table border=\"1\" class=\"dataframe\">\n",
       "  <thead>\n",
       "    <tr style=\"text-align: right;\">\n",
       "      <th></th>\n",
       "      <th>AOBTtoAIBT</th>\n",
       "      <th>UniqueCarrierCode</th>\n",
       "      <th>OriginAirportID</th>\n",
       "      <th>OriginCityMarketID</th>\n",
       "      <th>OriginState</th>\n",
       "      <th>OBTDelay</th>\n",
       "      <th>OBTDel15</th>\n",
       "      <th>OBTDelayGroups</th>\n",
       "      <th>SOBTtoSIBT</th>\n",
       "      <th>Distance</th>\n",
       "      <th>DistanceGroup</th>\n",
       "      <th>Num_Arr_SIBT-30</th>\n",
       "      <th>Num_Arr_SIBT-25</th>\n",
       "      <th>Num_Arr_SIBT-20</th>\n",
       "      <th>Num_Arr_SIBT-15</th>\n",
       "      <th>Num_Arr_SIBT-10</th>\n",
       "      <th>Num_Arr_SIBT-5</th>\n",
       "      <th>Num_Arr_SIBT-0</th>\n",
       "      <th>Num_Arr_SIBT+5</th>\n",
       "      <th>Num_Arr_SIBT+10</th>\n",
       "      <th>Num_Arr_SIBT+15</th>\n",
       "      <th>Num_Arr_SIBT+20</th>\n",
       "      <th>Num_Arr_SIBT+25</th>\n",
       "      <th>Num_Dep_SIBT-30</th>\n",
       "      <th>Num_Dep_SIBT-25</th>\n",
       "      <th>Num_Dep_SIBT-20</th>\n",
       "      <th>Num_Dep_SIBT-15</th>\n",
       "      <th>Num_Dep_SIBT-10</th>\n",
       "      <th>Num_Dep_SIBT-5</th>\n",
       "      <th>Num_Dep_SIBT-0</th>\n",
       "      <th>Num_Dep_SIBT+5</th>\n",
       "      <th>Num_Dep_SIBT+10</th>\n",
       "      <th>Num_Dep_SIBT+15</th>\n",
       "      <th>Num_Dep_SIBT+20</th>\n",
       "      <th>Num_Dep_SIBT+25</th>\n",
       "      <th>SIBTQuarter</th>\n",
       "      <th>SIBTMonth</th>\n",
       "      <th>SIBTDayOfMonth</th>\n",
       "      <th>SIBTDayOfWeek</th>\n",
       "      <th>SIBTHour</th>\n",
       "    </tr>\n",
       "  </thead>\n",
       "  <tbody>\n",
       "    <tr>\n",
       "      <th>0</th>\n",
       "      <td>218</td>\n",
       "      <td>DL</td>\n",
       "      <td>14869</td>\n",
       "      <td>34614</td>\n",
       "      <td>UT</td>\n",
       "      <td>-2</td>\n",
       "      <td>0</td>\n",
       "      <td>-1</td>\n",
       "      <td>223</td>\n",
       "      <td>1590</td>\n",
       "      <td>7</td>\n",
       "      <td>0</td>\n",
       "      <td>0</td>\n",
       "      <td>0</td>\n",
       "      <td>0</td>\n",
       "      <td>1</td>\n",
       "      <td>0</td>\n",
       "      <td>0</td>\n",
       "      <td>2</td>\n",
       "      <td>0</td>\n",
       "      <td>0</td>\n",
       "      <td>0</td>\n",
       "      <td>0</td>\n",
       "      <td>2</td>\n",
       "      <td>1</td>\n",
       "      <td>1</td>\n",
       "      <td>0</td>\n",
       "      <td>1</td>\n",
       "      <td>0</td>\n",
       "      <td>0</td>\n",
       "      <td>3</td>\n",
       "      <td>1</td>\n",
       "      <td>0</td>\n",
       "      <td>3</td>\n",
       "      <td>1</td>\n",
       "      <td>1</td>\n",
       "      <td>1</td>\n",
       "      <td>1</td>\n",
       "      <td>7</td>\n",
       "      <td>6</td>\n",
       "    </tr>\n",
       "    <tr>\n",
       "      <th>1</th>\n",
       "      <td>81</td>\n",
       "      <td>F9</td>\n",
       "      <td>13204</td>\n",
       "      <td>31454</td>\n",
       "      <td>FL</td>\n",
       "      <td>-4</td>\n",
       "      <td>0</td>\n",
       "      <td>-1</td>\n",
       "      <td>88</td>\n",
       "      <td>404</td>\n",
       "      <td>2</td>\n",
       "      <td>0</td>\n",
       "      <td>0</td>\n",
       "      <td>0</td>\n",
       "      <td>0</td>\n",
       "      <td>3</td>\n",
       "      <td>0</td>\n",
       "      <td>1</td>\n",
       "      <td>0</td>\n",
       "      <td>0</td>\n",
       "      <td>0</td>\n",
       "      <td>0</td>\n",
       "      <td>1</td>\n",
       "      <td>1</td>\n",
       "      <td>1</td>\n",
       "      <td>0</td>\n",
       "      <td>1</td>\n",
       "      <td>3</td>\n",
       "      <td>0</td>\n",
       "      <td>3</td>\n",
       "      <td>1</td>\n",
       "      <td>0</td>\n",
       "      <td>3</td>\n",
       "      <td>1</td>\n",
       "      <td>0</td>\n",
       "      <td>1</td>\n",
       "      <td>1</td>\n",
       "      <td>1</td>\n",
       "      <td>7</td>\n",
       "      <td>6</td>\n",
       "    </tr>\n",
       "    <tr>\n",
       "      <th>2</th>\n",
       "      <td>88</td>\n",
       "      <td>EV</td>\n",
       "      <td>10980</td>\n",
       "      <td>30980</td>\n",
       "      <td>TN</td>\n",
       "      <td>302</td>\n",
       "      <td>1</td>\n",
       "      <td>12</td>\n",
       "      <td>57</td>\n",
       "      <td>106</td>\n",
       "      <td>1</td>\n",
       "      <td>0</td>\n",
       "      <td>0</td>\n",
       "      <td>0</td>\n",
       "      <td>0</td>\n",
       "      <td>3</td>\n",
       "      <td>0</td>\n",
       "      <td>0</td>\n",
       "      <td>0</td>\n",
       "      <td>0</td>\n",
       "      <td>0</td>\n",
       "      <td>1</td>\n",
       "      <td>0</td>\n",
       "      <td>1</td>\n",
       "      <td>0</td>\n",
       "      <td>1</td>\n",
       "      <td>0</td>\n",
       "      <td>4</td>\n",
       "      <td>0</td>\n",
       "      <td>2</td>\n",
       "      <td>0</td>\n",
       "      <td>3</td>\n",
       "      <td>1</td>\n",
       "      <td>0</td>\n",
       "      <td>0</td>\n",
       "      <td>1</td>\n",
       "      <td>1</td>\n",
       "      <td>1</td>\n",
       "      <td>7</td>\n",
       "      <td>6</td>\n",
       "    </tr>\n",
       "  </tbody>\n",
       "</table>\n",
       "</div>"
      ],
      "text/plain": [
       "   AOBTtoAIBT UniqueCarrierCode  OriginAirportID  OriginCityMarketID  \\\n",
       "0         218                DL            14869               34614   \n",
       "1          81                F9            13204               31454   \n",
       "2          88                EV            10980               30980   \n",
       "\n",
       "  OriginState  OBTDelay  OBTDel15  OBTDelayGroups  SOBTtoSIBT  Distance  \\\n",
       "0          UT        -2         0              -1         223      1590   \n",
       "1          FL        -4         0              -1          88       404   \n",
       "2          TN       302         1              12          57       106   \n",
       "\n",
       "   DistanceGroup  Num_Arr_SIBT-30  Num_Arr_SIBT-25  Num_Arr_SIBT-20  \\\n",
       "0              7                0                0                0   \n",
       "1              2                0                0                0   \n",
       "2              1                0                0                0   \n",
       "\n",
       "   Num_Arr_SIBT-15  Num_Arr_SIBT-10  Num_Arr_SIBT-5  Num_Arr_SIBT-0  \\\n",
       "0                0                1               0               0   \n",
       "1                0                3               0               1   \n",
       "2                0                3               0               0   \n",
       "\n",
       "   Num_Arr_SIBT+5  Num_Arr_SIBT+10  Num_Arr_SIBT+15  Num_Arr_SIBT+20  \\\n",
       "0               2                0                0                0   \n",
       "1               0                0                0                0   \n",
       "2               0                0                0                1   \n",
       "\n",
       "   Num_Arr_SIBT+25  Num_Dep_SIBT-30  Num_Dep_SIBT-25  Num_Dep_SIBT-20  \\\n",
       "0                0                2                1                1   \n",
       "1                1                1                1                0   \n",
       "2                0                1                0                1   \n",
       "\n",
       "   Num_Dep_SIBT-15  Num_Dep_SIBT-10  Num_Dep_SIBT-5  Num_Dep_SIBT-0  \\\n",
       "0                0                1               0               0   \n",
       "1                1                3               0               3   \n",
       "2                0                4               0               2   \n",
       "\n",
       "   Num_Dep_SIBT+5  Num_Dep_SIBT+10  Num_Dep_SIBT+15  Num_Dep_SIBT+20  \\\n",
       "0               3                1                0                3   \n",
       "1               1                0                3                1   \n",
       "2               0                3                1                0   \n",
       "\n",
       "   Num_Dep_SIBT+25  SIBTQuarter  SIBTMonth  SIBTDayOfMonth  SIBTDayOfWeek  \\\n",
       "0                1            1          1               1              7   \n",
       "1                0            1          1               1              7   \n",
       "2                0            1          1               1              7   \n",
       "\n",
       "   SIBTHour  \n",
       "0         6  \n",
       "1         6  \n",
       "2         6  "
      ]
     },
     "execution_count": 39,
     "metadata": {},
     "output_type": "execute_result"
    }
   ],
   "source": [
    "flights.head(3)"
   ]
  },
  {
   "cell_type": "markdown",
   "metadata": {
    "heading_collapsed": true
   },
   "source": [
    "## Separate Train and Validation Datasets"
   ]
  },
  {
   "cell_type": "code",
   "execution_count": null,
   "metadata": {
    "ExecuteTime": {
     "end_time": "2020-05-28T03:16:26.340740Z",
     "start_time": "2020-05-28T03:16:25.929808Z"
    },
    "hidden": true
   },
   "outputs": [],
   "source": [
    "# the last 10000 flights are set as validation dataset\n",
    "X_train, X_val, y_train, y_val = train_test_split(flights,\n",
    "                                                  flights['AOBTtoAIBT'],\n",
    "                                                  shuffle=False,\n",
    "                                                  test_size=10000)\n",
    "\n",
    "X_train.shape, X_val.shape"
   ]
  },
  {
   "cell_type": "code",
   "execution_count": null,
   "metadata": {
    "ExecuteTime": {
     "end_time": "2020-05-28T03:16:27.894551Z",
     "start_time": "2020-05-28T03:16:27.859644Z"
    },
    "hidden": true
   },
   "outputs": [],
   "source": [
    "X_val.head(3)"
   ]
  },
  {
   "cell_type": "markdown",
   "metadata": {
    "hidden": true
   },
   "source": [
    "The validation set are flights after 2018-12-21 6pm."
   ]
  },
  {
   "cell_type": "markdown",
   "metadata": {
    "heading_collapsed": true
   },
   "source": [
    "## Temporal Variables"
   ]
  },
  {
   "cell_type": "code",
   "execution_count": null,
   "metadata": {
    "ExecuteTime": {
     "end_time": "2020-05-28T03:16:33.537454Z",
     "start_time": "2020-05-28T03:16:31.755224Z"
    },
    "hidden": true
   },
   "outputs": [],
   "source": [
    "temporal_var = ['SIBTQuarter', 'SIBTMonth',\n",
    "                'SIBTDayOfMonth', 'SIBTDayOfWeek', 'SIBTHour']\n",
    "\n",
    "\n",
    "def analyse_temporal_var(df, var):\n",
    "\n",
    "    # function plots median actual flight duration by every temporal var\n",
    "\n",
    "    temp = df.copy()\n",
    "    temp.groupby(var)['AOBTtoAIBT'].median().plot.bar()\n",
    "    plt.title(var)\n",
    "    plt.ylabel('AOBTtoAIBT')\n",
    "    plt.show()\n",
    "\n",
    "\n",
    "for var in temporal_var:\n",
    "    analyse_temporal_var(X_train, var)"
   ]
  },
  {
   "cell_type": "markdown",
   "metadata": {
    "heading_collapsed": true
   },
   "source": [
    "## Categorical Variables"
   ]
  },
  {
   "cell_type": "code",
   "execution_count": null,
   "metadata": {
    "ExecuteTime": {
     "end_time": "2020-05-28T03:16:37.506837Z",
     "start_time": "2020-05-28T03:16:37.501849Z"
    },
    "hidden": true
   },
   "outputs": [],
   "source": [
    "# capture categorical variables in a list\n",
    "cat_vars = [var for var in X_train.columns if X_train[var].dtypes == 'O']\n",
    "\n",
    "print('Number of categorical variables: ', len(cat_vars))\n",
    "print(cat_vars)"
   ]
  },
  {
   "cell_type": "markdown",
   "metadata": {
    "hidden": true
   },
   "source": [
    "### Cardinality"
   ]
  },
  {
   "cell_type": "code",
   "execution_count": null,
   "metadata": {
    "ExecuteTime": {
     "end_time": "2020-05-28T03:16:38.911081Z",
     "start_time": "2020-05-28T03:16:38.856228Z"
    },
    "hidden": true
   },
   "outputs": [],
   "source": [
    "# cardinality\n",
    "X_train[cat_vars].nunique()"
   ]
  },
  {
   "cell_type": "markdown",
   "metadata": {
    "hidden": true
   },
   "source": [
    "UniqueCarrierCode shows low cardinality."
   ]
  },
  {
   "cell_type": "markdown",
   "metadata": {
    "hidden": true
   },
   "source": [
    "### Rare Labels"
   ]
  },
  {
   "cell_type": "code",
   "execution_count": null,
   "metadata": {
    "ExecuteTime": {
     "end_time": "2020-05-28T03:16:39.906417Z",
     "start_time": "2020-05-28T03:16:39.828663Z"
    },
    "hidden": true
   },
   "outputs": [],
   "source": [
    "def analyse_rare_labels(df, var, rare_perc):\n",
    "\n",
    "    # determine the % of observations per category\n",
    "    tmp = df.groupby(var)['UniqueCarrierCode'].count() / len(df)\n",
    "\n",
    "    # return categories that are rare\n",
    "    return tmp[tmp < rare_perc]\n",
    "\n",
    "\n",
    "# print categories that are present in less than\n",
    "# 1 % of the observations\n",
    "rare_perc = 0.01\n",
    "for var in cat_vars:\n",
    "    print(analyse_rare_labels(X_train, var, rare_perc))"
   ]
  },
  {
   "cell_type": "markdown",
   "metadata": {
    "hidden": true
   },
   "source": [
    "These airlines are present in less than 1% of flights in ATL in 2017 and 2018. Labels that are under-represented in the dataset tend to cause over-fitting of models. They will be removed."
   ]
  },
  {
   "cell_type": "code",
   "execution_count": null,
   "metadata": {
    "ExecuteTime": {
     "end_time": "2020-05-28T03:16:41.726548Z",
     "start_time": "2020-05-28T03:16:41.619834Z"
    },
    "code_folding": [],
    "hidden": true
   },
   "outputs": [],
   "source": [
    "def find_frequent_labels(df, var, rare_perc):\n",
    "    # function finds the labels that are shared by more than\n",
    "    # a certain % of the houses in the dataset\n",
    "    tmp = df.groupby(var)['UniqueCarrierCode'].count() / len(df)\n",
    "    return tmp[tmp >= rare_perc].index\n",
    "\n",
    "\n",
    "for var in cat_vars:\n",
    "\n",
    "    # find the frequent categories\n",
    "    frequent_ls = find_frequent_labels(X_train, var, rare_perc)\n",
    "\n",
    "    # replace rare categories by the string \"Rare\"\n",
    "    X_train[var] = np.where(X_train[var].isin(\n",
    "        frequent_ls), X_train[var], 'Rare')\n",
    "    X_val[var] = np.where(X_val[var].isin(\n",
    "        frequent_ls), X_val[var], 'Rare')"
   ]
  },
  {
   "cell_type": "markdown",
   "metadata": {
    "hidden": true
   },
   "source": [
    "### Encode"
   ]
  },
  {
   "cell_type": "markdown",
   "metadata": {
    "hidden": true
   },
   "source": [
    "Next, transform the strings of the categorical variables into numbers, so that we capture the monotonic relationship between the label and the target."
   ]
  },
  {
   "cell_type": "code",
   "execution_count": null,
   "metadata": {
    "ExecuteTime": {
     "end_time": "2020-05-28T03:16:43.338268Z",
     "start_time": "2020-05-28T03:16:43.230526Z"
    },
    "hidden": true
   },
   "outputs": [],
   "source": [
    "# this function will assign discrete values to the strings of the variables,\n",
    "# so that the smaller value corresponds to the category that shows the smaller\n",
    "# mean AOBTtoAIBT\n",
    "\n",
    "\n",
    "def replace_categories(train, val, var, target):\n",
    "\n",
    "    # order the categories in a variable from that with the lowest\n",
    "    # house sale price, to that with the highest\n",
    "    ordered_labels = train.groupby([var])[target].mean().sort_values().index\n",
    "\n",
    "    # create a dictionary of ordered categories to integer values\n",
    "    ordinal_label = {k: i for i, k in enumerate(ordered_labels, 0)}\n",
    "\n",
    "    # use the dictionary to replace the categorical strings by integers\n",
    "    train[var] = train[var].map(ordinal_label)\n",
    "    val[var] = val[var].map(ordinal_label)\n",
    "\n",
    "\n",
    "for var in cat_vars:\n",
    "    replace_categories(X_train, X_val, var, 'AOBTtoAIBT')"
   ]
  },
  {
   "cell_type": "markdown",
   "metadata": {
    "heading_collapsed": true
   },
   "source": [
    "## Feature Scaling"
   ]
  },
  {
   "cell_type": "markdown",
   "metadata": {
    "hidden": true
   },
   "source": [
    "For use in linear models, features need to be either scaled or normalised. In the next section, I will scale features to the minimum and maximum values:"
   ]
  },
  {
   "cell_type": "code",
   "execution_count": null,
   "metadata": {
    "ExecuteTime": {
     "end_time": "2020-05-28T03:16:46.337291Z",
     "start_time": "2020-05-28T03:16:45.986232Z"
    },
    "hidden": true
   },
   "outputs": [],
   "source": [
    "X_train = X_train[X_train.columns[1:37]]\n",
    "X_val = X_val[X_val.columns[1:37]]"
   ]
  },
  {
   "cell_type": "code",
   "execution_count": null,
   "metadata": {
    "ExecuteTime": {
     "end_time": "2020-05-28T03:16:49.156716Z",
     "start_time": "2020-05-28T03:16:47.796358Z"
    },
    "hidden": true
   },
   "outputs": [],
   "source": [
    "scaler = StandardScaler()\n",
    "scaler.fit(X_train)\n",
    "X_train = scaler.transform(X_train)\n",
    "X_val = scaler.transform(X_val)"
   ]
  },
  {
   "cell_type": "markdown",
   "metadata": {
    "heading_collapsed": true
   },
   "source": [
    "# Feature Selection"
   ]
  },
  {
   "cell_type": "code",
   "execution_count": null,
   "metadata": {
    "ExecuteTime": {
     "end_time": "2020-05-28T03:17:45.112779Z",
     "start_time": "2020-05-28T03:17:37.880125Z"
    },
    "hidden": true
   },
   "outputs": [],
   "source": [
    "# remember to set the seed, the random state in this function\n",
    "sel_ = SelectFromModel(Lasso(alpha=0.005, random_state=RANDOM_SEED))\n",
    "\n",
    "# train Lasso model and select features\n",
    "sel_.fit(X_train, y_train)"
   ]
  },
  {
   "cell_type": "code",
   "execution_count": null,
   "metadata": {
    "ExecuteTime": {
     "end_time": "2020-05-28T03:17:45.464839Z",
     "start_time": "2020-05-28T03:17:45.336182Z"
    },
    "hidden": true
   },
   "outputs": [],
   "source": [
    "# let's print the number of total and selected features\n",
    "\n",
    "# this is how we can make a list of the selected features\n",
    "selected_feats = flights.iloc[:, 1:37].columns[(sel_.get_support())]\n",
    "\n",
    "# let's print some stats\n",
    "print('total features: {}'.format((X_train.shape[1])))\n",
    "print('selected features: {}'.format(len(selected_feats)))\n",
    "print('features with coefficients shrank to zero: {}'.format(\n",
    "    np.sum(sel_.estimator_.coef_ == 0)))"
   ]
  },
  {
   "cell_type": "code",
   "execution_count": null,
   "metadata": {
    "ExecuteTime": {
     "end_time": "2020-05-28T03:17:45.656325Z",
     "start_time": "2020-05-28T03:17:45.651339Z"
    },
    "hidden": true
   },
   "outputs": [],
   "source": [
    "# print the selected features\n",
    "selected_feats"
   ]
  },
  {
   "cell_type": "code",
   "execution_count": null,
   "metadata": {
    "ExecuteTime": {
     "end_time": "2020-05-28T03:17:45.836844Z",
     "start_time": "2020-05-28T03:17:45.832854Z"
    },
    "hidden": true
   },
   "outputs": [],
   "source": [
    "feats = selected_feats.to_list()"
   ]
  },
  {
   "cell_type": "code",
   "execution_count": null,
   "metadata": {
    "ExecuteTime": {
     "end_time": "2020-05-28T03:23:54.143998Z",
     "start_time": "2020-05-28T03:23:54.025282Z"
    },
    "hidden": true
   },
   "outputs": [],
   "source": [
    "X_train = np.delete(X_train, [17, 21, 29], 1)\n",
    "X_val = np.delete(X_val, [17, 21, 29], 1)"
   ]
  },
  {
   "cell_type": "markdown",
   "metadata": {},
   "source": [
    "# Model"
   ]
  },
  {
   "cell_type": "markdown",
   "metadata": {},
   "source": [
    "## Lasso Regression"
   ]
  },
  {
   "cell_type": "code",
   "execution_count": null,
   "metadata": {
    "ExecuteTime": {
     "end_time": "2020-05-28T04:36:20.099987Z",
     "start_time": "2020-05-28T04:36:13.315140Z"
    }
   },
   "outputs": [],
   "source": [
    "# set up the model\n",
    "lasso = Lasso(alpha=0.005, random_state=RANDOM_SEED)\n",
    "\n",
    "# train the model\n",
    "lasso.fit(X_train, y_train)"
   ]
  },
  {
   "cell_type": "markdown",
   "metadata": {},
   "source": [
    "### Evalutation of Lasso"
   ]
  },
  {
   "cell_type": "code",
   "execution_count": null,
   "metadata": {
    "ExecuteTime": {
     "end_time": "2020-05-28T04:37:48.776319Z",
     "start_time": "2020-05-28T04:37:48.600788Z"
    }
   },
   "outputs": [],
   "source": [
    "# evaluate performance using the RMSE, MAE and R2\n",
    "\n",
    "# make predictions for train set\n",
    "pred_train = lasso.predict(X_train)\n",
    "\n",
    "# determine metrics\n",
    "print('train rmse: {:.3f}'.format(sqrt(mean_squared_error(y_train, pred_train))))\n",
    "print('train mae: {:.3f}'.format(mean_absolute_error(y_train, pred_train)))\n",
    "print('train r2: {:.3f}'.format(r2_score(y_train, pred_train)))\n",
    "print('train explained variance score: {:.3f}'.format(\n",
    "    explained_variance_score(y_train, pred_train)))\n",
    "print('val max error: {:.3f}'.format(max_error(y_train, pred_train)))\n",
    "print()\n",
    "\n",
    "# make predictions for validation set\n",
    "pred_val = lasso.predict(X_val)\n",
    "\n",
    "# determine metrics\n",
    "print('val rmse: {:.3f}'.format(sqrt(mean_squared_error(y_val, pred_val))))\n",
    "print('val mae: {:.3f}'.format(mean_absolute_error(y_val, pred_val)))\n",
    "print('val r2: {:.3f}'.format(r2_score(y_val, pred_val)))\n",
    "print('val explained variance score: {:.3f}'.format(\n",
    "    explained_variance_score(y_val, pred_val)))\n",
    "print('val max error: {:.3f}'.format(max_error(y_val, pred_val)))\n",
    "print()\n",
    "\n",
    "sch_val = flights['SOBTtoSIBT'][-10000:]\n",
    "# determine metrics\n",
    "print('sch rmse: {:.3f}'.format(sqrt(mean_squared_error(y_val, sch_val))))\n",
    "print('sch mae: {:.3f}'.format(mean_absolute_error(y_val, sch_val)))\n",
    "print('sch r2: {:.3f}'.format(r2_score(y_val, sch_val)))\n",
    "print('sch explained variance score: {:.3f}'.format(\n",
    "    explained_variance_score(y_val, sch_val)))\n",
    "print('val max error: {:.3f}'.format(max_error(y_val, sch_val)))"
   ]
  },
  {
   "cell_type": "code",
   "execution_count": null,
   "metadata": {
    "ExecuteTime": {
     "end_time": "2020-05-28T03:27:25.065968Z",
     "start_time": "2020-05-28T03:27:24.844558Z"
    }
   },
   "outputs": [],
   "source": [
    "# evaluate our predictions respect to actual durations\n",
    "plt.figure(figsize=(5,5))\n",
    "plt.scatter(y_val, pred_val)\n",
    "plt.xlabel('AOBTtoAIBT')\n",
    "plt.ylabel('Predicted AOBTtoAIBT')\n",
    "plt.title('Evaluation of Lasso Predictions')"
   ]
  },
  {
   "cell_type": "code",
   "execution_count": null,
   "metadata": {
    "ExecuteTime": {
     "end_time": "2020-05-28T03:27:28.139190Z",
     "start_time": "2020-05-28T03:27:27.901824Z"
    }
   },
   "outputs": [],
   "source": [
    "# let's evaluate the distribution of the errors:\n",
    "# they should be fairly normally distributed\n",
    "errors = y_val - lasso.predict(X_val)\n",
    "errors.hist(bins=30)"
   ]
  },
  {
   "cell_type": "markdown",
   "metadata": {},
   "source": [
    "The distribution of the errors follows a gaussian distribution. That suggests that our model is doing something useful."
   ]
  },
  {
   "cell_type": "code",
   "execution_count": null,
   "metadata": {
    "ExecuteTime": {
     "end_time": "2020-05-28T03:27:32.355599Z",
     "start_time": "2020-05-28T03:27:31.881836Z"
    }
   },
   "outputs": [],
   "source": [
    "y_val_series = y_val.reset_index(drop=True)\n",
    "# sch_val_series = sch_val.reset_index(drop=True)\n",
    "pred_val_series = pd.Series(pred_val)\n",
    "durations = pd.concat([y_val_series, pred_val_series], axis=1)\n",
    "# durations = pd.concat([durations, sch_val_series], axis=1)\n",
    "\n",
    "# durations = durations.rename(columns={'AOBTtoAIBT': 'Actual', 0: 'Predicted', 'SOBTtoSIBT': 'Scheduled'})\n",
    "durations = durations.rename(columns={'AOBTtoAIBT': 'Actual', 0: 'Predicted'})\n",
    "\n",
    "first_50 = durations.head(50)\n",
    "first_50.plot(kind='bar',figsize=(14,8))\n",
    "plt.grid(which='major', linestyle='-', linewidth='0.5', color='green')\n",
    "plt.grid(which='minor', linestyle=':', linewidth='0.5', color='black')\n",
    "plt.show()"
   ]
  },
  {
   "cell_type": "markdown",
   "metadata": {},
   "source": [
    "### Feature Importance"
   ]
  },
  {
   "cell_type": "code",
   "execution_count": null,
   "metadata": {
    "ExecuteTime": {
     "end_time": "2020-05-28T09:23:47.454925Z",
     "start_time": "2020-05-28T09:23:47.113820Z"
    }
   },
   "outputs": [],
   "source": [
    "# Finally, look at the feature importance\n",
    "importance = pd.Series(np.abs(lasso.coef_.ravel()))\n",
    "importance.index = feats\n",
    "importance.sort_values(inplace=True, ascending=False)\n",
    "importance.plot.bar(figsize=(18, 6))\n",
    "plt.ylabel('Lasso Coefficients')\n",
    "plt.title('Feature Importance')"
   ]
  },
  {
   "cell_type": "markdown",
   "metadata": {
    "heading_collapsed": true
   },
   "source": [
    "## Ridge Regression"
   ]
  },
  {
   "cell_type": "markdown",
   "metadata": {
    "heading_collapsed": true,
    "hidden": true
   },
   "source": [
    "### Evaluation of Ridge"
   ]
  },
  {
   "cell_type": "code",
   "execution_count": null,
   "metadata": {
    "ExecuteTime": {
     "end_time": "2020-05-28T09:21:47.021357Z",
     "start_time": "2020-05-28T09:21:46.757838Z"
    },
    "hidden": true
   },
   "outputs": [],
   "source": [
    "# set up the model\n",
    "ridge = Ridge(alpha=0.005, random_state=RANDOM_SEED)\n",
    "\n",
    "# train the model\n",
    "ridge.fit(X_train, y_train)"
   ]
  },
  {
   "cell_type": "code",
   "execution_count": null,
   "metadata": {
    "ExecuteTime": {
     "end_time": "2020-05-28T09:28:38.950958Z",
     "start_time": "2020-05-28T09:28:38.787396Z"
    },
    "hidden": true
   },
   "outputs": [],
   "source": [
    "# evaluate performance using the RMSE, MAE and R2\n",
    "\n",
    "# make predictions for train set\n",
    "pred_train = ridge.predict(X_train)\n",
    "\n",
    "# determine metrics\n",
    "print('train rmse: {:.3f}'.format(sqrt(mean_squared_error(y_train, pred_train))))\n",
    "print('train mae: {:.3f}'.format(mean_absolute_error(y_train, pred_train)))\n",
    "print('train r2: {:.3f}'.format(r2_score(y_train, pred_train)))\n",
    "print('train explained variance score: {:.3f}'.format(\n",
    "    explained_variance_score(y_train, pred_train)))\n",
    "print('val max error: {:.3f}'.format(max_error(y_train, pred_train)))\n",
    "print()\n",
    "\n",
    "# make predictions for validation set\n",
    "pred_val = ridge.predict(X_val)\n",
    "\n",
    "# determine metrics\n",
    "print('val rmse: {:.3f}'.format(sqrt(mean_squared_error(y_val, pred_val))))\n",
    "print('val mae: {:.3f}'.format(mean_absolute_error(y_val, pred_val)))\n",
    "print('val r2: {:.3f}'.format(r2_score(y_val, pred_val)))\n",
    "print('val explained variance score: {:.3f}'.format(\n",
    "    explained_variance_score(y_val, pred_val)))\n",
    "print('val max error: {:.3f}'.format(max_error(y_val, pred_val)))\n",
    "print()\n",
    "\n",
    "sch_val = flights['SOBTtoSIBT'][-10000:]\n",
    "# determine metrics\n",
    "print('sch rmse: {:.3f}'.format(sqrt(mean_squared_error(y_val, sch_val))))\n",
    "print('sch mae: {:.3f}'.format(mean_absolute_error(y_val, sch_val)))\n",
    "print('sch r2: {:.3f}'.format(r2_score(y_val, sch_val)))\n",
    "print('sch explained variance score: {:.3f}'.format(\n",
    "    explained_variance_score(y_val, sch_val)))\n",
    "print('val max error: {:.3f}'.format(max_error(y_val, sch_val)))"
   ]
  },
  {
   "cell_type": "markdown",
   "metadata": {
    "heading_collapsed": true,
    "hidden": true
   },
   "source": [
    "### Feature Importance"
   ]
  },
  {
   "cell_type": "code",
   "execution_count": null,
   "metadata": {
    "ExecuteTime": {
     "end_time": "2020-05-28T09:23:58.900189Z",
     "start_time": "2020-05-28T09:23:58.486264Z"
    },
    "hidden": true
   },
   "outputs": [],
   "source": [
    "# Finally, look at the feature importance\n",
    "importance = pd.Series(np.abs(ridge.coef_.ravel()))\n",
    "importance.index = feats\n",
    "importance.sort_values(inplace=True, ascending=False)\n",
    "importance.plot.bar(figsize=(18, 6))\n",
    "plt.ylabel('Ridge Coefficients')\n",
    "plt.title('Feature Importance')"
   ]
  }
 ],
 "metadata": {
  "kernelspec": {
   "display_name": "Python 3",
   "language": "python",
   "name": "python3"
  },
  "language_info": {
   "codemirror_mode": {
    "name": "ipython",
    "version": 3
   },
   "file_extension": ".py",
   "mimetype": "text/x-python",
   "name": "python",
   "nbconvert_exporter": "python",
   "pygments_lexer": "ipython3",
   "version": "3.7.3"
  },
  "notify_time": "30",
  "toc": {
   "base_numbering": 1,
   "nav_menu": {},
   "number_sections": true,
   "sideBar": true,
   "skip_h1_title": false,
   "title_cell": "Table of Contents",
   "title_sidebar": "Contents",
   "toc_cell": false,
   "toc_position": {
    "height": "calc(100% - 180px)",
    "left": "10px",
    "top": "150px",
    "width": "256px"
   },
   "toc_section_display": true,
   "toc_window_display": false
  },
  "varInspector": {
   "cols": {
    "lenName": 16,
    "lenType": 16,
    "lenVar": 40
   },
   "kernels_config": {
    "python": {
     "delete_cmd_postfix": "",
     "delete_cmd_prefix": "del ",
     "library": "var_list.py",
     "varRefreshCmd": "print(var_dic_list())"
    },
    "r": {
     "delete_cmd_postfix": ") ",
     "delete_cmd_prefix": "rm(",
     "library": "var_list.r",
     "varRefreshCmd": "cat(var_dic_list()) "
    }
   },
   "types_to_exclude": [
    "module",
    "function",
    "builtin_function_or_method",
    "instance",
    "_Feature"
   ],
   "window_display": false
  }
 },
 "nbformat": 4,
 "nbformat_minor": 2
}
