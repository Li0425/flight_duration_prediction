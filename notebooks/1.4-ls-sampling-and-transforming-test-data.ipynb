{
 "cells": [
  {
   "cell_type": "markdown",
   "metadata": {},
   "source": [
    "# Introduction"
   ]
  },
  {
   "cell_type": "markdown",
   "metadata": {},
   "source": [
    "Baseline experiment"
   ]
  },
  {
   "cell_type": "markdown",
   "metadata": {
    "hide_input": true
   },
   "source": [
    "# Set up Environment"
   ]
  },
  {
   "cell_type": "code",
   "execution_count": 149,
   "metadata": {
    "ExecuteTime": {
     "end_time": "2020-05-28T08:37:27.562371Z",
     "start_time": "2020-05-28T08:37:27.554395Z"
    },
    "hide_input": false,
    "init_cell": true
   },
   "outputs": [],
   "source": [
    "import pandas as pd\n",
    "import matplotlib.pyplot as plt\n",
    "import warnings\n",
    "from sklearn.model_selection import train_test_split\n",
    "from sklearn.preprocessing import StandardScaler\n",
    "from sklearn.linear_model import Lasso, Ridge\n",
    "from sklearn.feature_selection import SelectFromModel\n",
    "from math import sqrt\n",
    "from sklearn.metrics import (mean_squared_error, mean_absolute_error, r2_score,\n",
    "                             explained_variance_score, max_error)\n",
    "\n",
    "# display all columns of dataframes in the notebook\n",
    "pd.options.display.max_columns = None\n",
    "\n",
    "# ignore warnings\n",
    "warnings.filterwarnings('ignore')\n",
    "\n",
    "# set up random seed for reproducibility\n",
    "RANDOM_SEED = 42"
   ]
  },
  {
   "cell_type": "markdown",
   "metadata": {},
   "source": [
    "# Load Data"
   ]
  },
  {
   "cell_type": "code",
   "execution_count": 2,
   "metadata": {
    "ExecuteTime": {
     "end_time": "2020-05-28T02:42:43.956808Z",
     "start_time": "2020-05-28T02:42:37.200878Z"
    },
    "init_cell": true
   },
   "outputs": [],
   "source": [
    "file_path = '../data/raw/training_data/'\n",
    "file_name = 'training_data_ATL.zip'\n",
    "df = pd.read_csv(file_path + file_name)"
   ]
  },
  {
   "cell_type": "markdown",
   "metadata": {},
   "source": [
    "# Pre-process"
   ]
  },
  {
   "cell_type": "markdown",
   "metadata": {
    "heading_collapsed": true
   },
   "source": [
    "## Remove Irrelevant Columns"
   ]
  },
  {
   "cell_type": "code",
   "execution_count": 3,
   "metadata": {
    "ExecuteTime": {
     "end_time": "2020-05-28T02:44:28.179502Z",
     "start_time": "2020-05-28T02:44:27.824447Z"
    },
    "hidden": true
   },
   "outputs": [],
   "source": [
    "# remove the Unnamed column\n",
    "df.drop(df.columns[df.columns.str.contains(\n",
    "    'unnamed', case=False)], axis=1, inplace=True)"
   ]
  },
  {
   "cell_type": "code",
   "execution_count": 4,
   "metadata": {
    "ExecuteTime": {
     "end_time": "2020-05-28T02:44:31.612496Z",
     "start_time": "2020-05-28T02:44:31.569615Z"
    },
    "hidden": true
   },
   "outputs": [
    {
     "data": {
      "text/html": [
       "<div>\n",
       "<style scoped>\n",
       "    .dataframe tbody tr th:only-of-type {\n",
       "        vertical-align: middle;\n",
       "    }\n",
       "\n",
       "    .dataframe tbody tr th {\n",
       "        vertical-align: top;\n",
       "    }\n",
       "\n",
       "    .dataframe thead th {\n",
       "        text-align: right;\n",
       "    }\n",
       "</style>\n",
       "<table border=\"1\" class=\"dataframe\">\n",
       "  <thead>\n",
       "    <tr style=\"text-align: right;\">\n",
       "      <th></th>\n",
       "      <th>Year</th>\n",
       "      <th>Quarter</th>\n",
       "      <th>Month</th>\n",
       "      <th>DayofMonth</th>\n",
       "      <th>DayOfWeek</th>\n",
       "      <th>FlightDate</th>\n",
       "      <th>Reporting_Airline</th>\n",
       "      <th>DOT_ID_Reporting_Airline</th>\n",
       "      <th>IATA_CODE_Reporting_Airline</th>\n",
       "      <th>Tail_Number</th>\n",
       "      <th>Flight_Number_Reporting_Airline</th>\n",
       "      <th>OriginAirportID</th>\n",
       "      <th>OriginAirportSeqID</th>\n",
       "      <th>OriginCityMarketID</th>\n",
       "      <th>Origin</th>\n",
       "      <th>OriginCityName</th>\n",
       "      <th>OriginState</th>\n",
       "      <th>OriginStateFips</th>\n",
       "      <th>OriginStateName</th>\n",
       "      <th>OriginWac</th>\n",
       "      <th>DestAirportID</th>\n",
       "      <th>DestAirportSeqID</th>\n",
       "      <th>DestCityMarketID</th>\n",
       "      <th>Dest</th>\n",
       "      <th>DestCityName</th>\n",
       "      <th>DestState</th>\n",
       "      <th>DestStateFips</th>\n",
       "      <th>DestStateName</th>\n",
       "      <th>DestWac</th>\n",
       "      <th>CRSDepTime</th>\n",
       "      <th>DepTime</th>\n",
       "      <th>DepDelay</th>\n",
       "      <th>DepDelayMinutes</th>\n",
       "      <th>DepDel15</th>\n",
       "      <th>DepartureDelayGroups</th>\n",
       "      <th>DepTimeBlk</th>\n",
       "      <th>TaxiOut</th>\n",
       "      <th>WheelsOff</th>\n",
       "      <th>WheelsOn</th>\n",
       "      <th>TaxiIn</th>\n",
       "      <th>CRSArrTime</th>\n",
       "      <th>ArrTime</th>\n",
       "      <th>ArrDelay</th>\n",
       "      <th>ArrDelayMinutes</th>\n",
       "      <th>ArrDel15</th>\n",
       "      <th>ArrivalDelayGroups</th>\n",
       "      <th>ArrTimeBlk</th>\n",
       "      <th>CRSElapsedTime</th>\n",
       "      <th>ActualElapsedTime</th>\n",
       "      <th>AirTime</th>\n",
       "      <th>Flights</th>\n",
       "      <th>Distance</th>\n",
       "      <th>DistanceGroup</th>\n",
       "      <th>CarrierDelay</th>\n",
       "      <th>WeatherDelay</th>\n",
       "      <th>NASDelay</th>\n",
       "      <th>SecurityDelay</th>\n",
       "      <th>LateAircraftDelay</th>\n",
       "      <th>ArrivalDate</th>\n",
       "      <th>ARR_Flight_SLDT</th>\n",
       "      <th>Num_Arr_SLDT-30</th>\n",
       "      <th>Num_Arr_SLDT-25</th>\n",
       "      <th>Num_Arr_SLDT-20</th>\n",
       "      <th>Num_Arr_SLDT-15</th>\n",
       "      <th>Num_Arr_SLDT-10</th>\n",
       "      <th>Num_Arr_SLDT-5</th>\n",
       "      <th>Num_Arr_SLDT-0</th>\n",
       "      <th>Num_Arr_SLDT+5</th>\n",
       "      <th>Num_Arr_SLDT+10</th>\n",
       "      <th>Num_Arr_SLDT+15</th>\n",
       "      <th>Num_Arr_SLDT+20</th>\n",
       "      <th>Num_Arr_SLDT+25</th>\n",
       "      <th>Num_Dep_SLDT-30</th>\n",
       "      <th>Num_Dep_SLDT-25</th>\n",
       "      <th>Num_Dep_SLDT-20</th>\n",
       "      <th>Num_Dep_SLDT-15</th>\n",
       "      <th>Num_Dep_SLDT-10</th>\n",
       "      <th>Num_Dep_SLDT-5</th>\n",
       "      <th>Num_Dep_SLDT-0</th>\n",
       "      <th>Num_Dep_SLDT+5</th>\n",
       "      <th>Num_Dep_SLDT+10</th>\n",
       "      <th>Num_Dep_SLDT+15</th>\n",
       "      <th>Num_Dep_SLDT+20</th>\n",
       "      <th>Num_Dep_SLDT+25</th>\n",
       "    </tr>\n",
       "  </thead>\n",
       "  <tbody>\n",
       "    <tr>\n",
       "      <th>0</th>\n",
       "      <td>2017</td>\n",
       "      <td>1</td>\n",
       "      <td>1</td>\n",
       "      <td>1</td>\n",
       "      <td>7</td>\n",
       "      <td>2017-01-01 00:00:00</td>\n",
       "      <td>AA</td>\n",
       "      <td>19805</td>\n",
       "      <td>AA</td>\n",
       "      <td>N869AA</td>\n",
       "      <td>232</td>\n",
       "      <td>11298</td>\n",
       "      <td>1129804</td>\n",
       "      <td>30194</td>\n",
       "      <td>DFW</td>\n",
       "      <td>Dallas/Fort Worth, TX</td>\n",
       "      <td>TX</td>\n",
       "      <td>48</td>\n",
       "      <td>Texas</td>\n",
       "      <td>74</td>\n",
       "      <td>10397</td>\n",
       "      <td>1039705</td>\n",
       "      <td>30397</td>\n",
       "      <td>ATL</td>\n",
       "      <td>Atlanta, GA</td>\n",
       "      <td>GA</td>\n",
       "      <td>13</td>\n",
       "      <td>Georgia</td>\n",
       "      <td>34</td>\n",
       "      <td>14:25:00</td>\n",
       "      <td>1430.0</td>\n",
       "      <td>5.0</td>\n",
       "      <td>5.0</td>\n",
       "      <td>0.0</td>\n",
       "      <td>0.0</td>\n",
       "      <td>1400-1459</td>\n",
       "      <td>12.0</td>\n",
       "      <td>1442.0</td>\n",
       "      <td>1717.0</td>\n",
       "      <td>10.0</td>\n",
       "      <td>17:26:00</td>\n",
       "      <td>1727.0</td>\n",
       "      <td>1.0</td>\n",
       "      <td>1.0</td>\n",
       "      <td>0.0</td>\n",
       "      <td>0.0</td>\n",
       "      <td>1700-1759</td>\n",
       "      <td>121.0</td>\n",
       "      <td>117.0</td>\n",
       "      <td>95.0</td>\n",
       "      <td>1.0</td>\n",
       "      <td>731.0</td>\n",
       "      <td>3</td>\n",
       "      <td>NaN</td>\n",
       "      <td>NaN</td>\n",
       "      <td>NaN</td>\n",
       "      <td>NaN</td>\n",
       "      <td>NaN</td>\n",
       "      <td>2017-01-01 00:00:00</td>\n",
       "      <td>2017-01-01 17:26:00</td>\n",
       "      <td>9</td>\n",
       "      <td>9</td>\n",
       "      <td>12</td>\n",
       "      <td>3</td>\n",
       "      <td>7</td>\n",
       "      <td>0</td>\n",
       "      <td>2</td>\n",
       "      <td>3</td>\n",
       "      <td>2</td>\n",
       "      <td>5</td>\n",
       "      <td>1</td>\n",
       "      <td>3</td>\n",
       "      <td>3</td>\n",
       "      <td>2</td>\n",
       "      <td>0</td>\n",
       "      <td>3</td>\n",
       "      <td>7</td>\n",
       "      <td>0</td>\n",
       "      <td>3</td>\n",
       "      <td>2</td>\n",
       "      <td>1</td>\n",
       "      <td>9</td>\n",
       "      <td>3</td>\n",
       "      <td>5</td>\n",
       "    </tr>\n",
       "    <tr>\n",
       "      <th>1</th>\n",
       "      <td>2017</td>\n",
       "      <td>1</td>\n",
       "      <td>1</td>\n",
       "      <td>2</td>\n",
       "      <td>1</td>\n",
       "      <td>2017-01-02 00:00:00</td>\n",
       "      <td>AA</td>\n",
       "      <td>19805</td>\n",
       "      <td>AA</td>\n",
       "      <td>N866AA</td>\n",
       "      <td>232</td>\n",
       "      <td>11298</td>\n",
       "      <td>1129804</td>\n",
       "      <td>30194</td>\n",
       "      <td>DFW</td>\n",
       "      <td>Dallas/Fort Worth, TX</td>\n",
       "      <td>TX</td>\n",
       "      <td>48</td>\n",
       "      <td>Texas</td>\n",
       "      <td>74</td>\n",
       "      <td>10397</td>\n",
       "      <td>1039705</td>\n",
       "      <td>30397</td>\n",
       "      <td>ATL</td>\n",
       "      <td>Atlanta, GA</td>\n",
       "      <td>GA</td>\n",
       "      <td>13</td>\n",
       "      <td>Georgia</td>\n",
       "      <td>34</td>\n",
       "      <td>14:25:00</td>\n",
       "      <td>1420.0</td>\n",
       "      <td>-5.0</td>\n",
       "      <td>0.0</td>\n",
       "      <td>0.0</td>\n",
       "      <td>-1.0</td>\n",
       "      <td>1400-1459</td>\n",
       "      <td>13.0</td>\n",
       "      <td>1433.0</td>\n",
       "      <td>1723.0</td>\n",
       "      <td>11.0</td>\n",
       "      <td>17:26:00</td>\n",
       "      <td>1734.0</td>\n",
       "      <td>8.0</td>\n",
       "      <td>8.0</td>\n",
       "      <td>0.0</td>\n",
       "      <td>0.0</td>\n",
       "      <td>1700-1759</td>\n",
       "      <td>121.0</td>\n",
       "      <td>134.0</td>\n",
       "      <td>110.0</td>\n",
       "      <td>1.0</td>\n",
       "      <td>731.0</td>\n",
       "      <td>3</td>\n",
       "      <td>NaN</td>\n",
       "      <td>NaN</td>\n",
       "      <td>NaN</td>\n",
       "      <td>NaN</td>\n",
       "      <td>NaN</td>\n",
       "      <td>2017-01-02 00:00:00</td>\n",
       "      <td>2017-01-02 17:26:00</td>\n",
       "      <td>6</td>\n",
       "      <td>8</td>\n",
       "      <td>9</td>\n",
       "      <td>4</td>\n",
       "      <td>10</td>\n",
       "      <td>0</td>\n",
       "      <td>2</td>\n",
       "      <td>1</td>\n",
       "      <td>5</td>\n",
       "      <td>4</td>\n",
       "      <td>2</td>\n",
       "      <td>2</td>\n",
       "      <td>6</td>\n",
       "      <td>3</td>\n",
       "      <td>1</td>\n",
       "      <td>4</td>\n",
       "      <td>8</td>\n",
       "      <td>0</td>\n",
       "      <td>3</td>\n",
       "      <td>2</td>\n",
       "      <td>4</td>\n",
       "      <td>11</td>\n",
       "      <td>6</td>\n",
       "      <td>3</td>\n",
       "    </tr>\n",
       "    <tr>\n",
       "      <th>2</th>\n",
       "      <td>2017</td>\n",
       "      <td>1</td>\n",
       "      <td>1</td>\n",
       "      <td>3</td>\n",
       "      <td>2</td>\n",
       "      <td>2017-01-03 00:00:00</td>\n",
       "      <td>AA</td>\n",
       "      <td>19805</td>\n",
       "      <td>AA</td>\n",
       "      <td>N897AA</td>\n",
       "      <td>232</td>\n",
       "      <td>11298</td>\n",
       "      <td>1129804</td>\n",
       "      <td>30194</td>\n",
       "      <td>DFW</td>\n",
       "      <td>Dallas/Fort Worth, TX</td>\n",
       "      <td>TX</td>\n",
       "      <td>48</td>\n",
       "      <td>Texas</td>\n",
       "      <td>74</td>\n",
       "      <td>10397</td>\n",
       "      <td>1039705</td>\n",
       "      <td>30397</td>\n",
       "      <td>ATL</td>\n",
       "      <td>Atlanta, GA</td>\n",
       "      <td>GA</td>\n",
       "      <td>13</td>\n",
       "      <td>Georgia</td>\n",
       "      <td>34</td>\n",
       "      <td>14:25:00</td>\n",
       "      <td>1426.0</td>\n",
       "      <td>1.0</td>\n",
       "      <td>1.0</td>\n",
       "      <td>0.0</td>\n",
       "      <td>0.0</td>\n",
       "      <td>1400-1459</td>\n",
       "      <td>14.0</td>\n",
       "      <td>1440.0</td>\n",
       "      <td>1718.0</td>\n",
       "      <td>5.0</td>\n",
       "      <td>17:26:00</td>\n",
       "      <td>1723.0</td>\n",
       "      <td>-3.0</td>\n",
       "      <td>0.0</td>\n",
       "      <td>0.0</td>\n",
       "      <td>-1.0</td>\n",
       "      <td>1700-1759</td>\n",
       "      <td>121.0</td>\n",
       "      <td>117.0</td>\n",
       "      <td>98.0</td>\n",
       "      <td>1.0</td>\n",
       "      <td>731.0</td>\n",
       "      <td>3</td>\n",
       "      <td>NaN</td>\n",
       "      <td>NaN</td>\n",
       "      <td>NaN</td>\n",
       "      <td>NaN</td>\n",
       "      <td>NaN</td>\n",
       "      <td>2017-01-03 00:00:00</td>\n",
       "      <td>2017-01-03 17:26:00</td>\n",
       "      <td>6</td>\n",
       "      <td>10</td>\n",
       "      <td>9</td>\n",
       "      <td>3</td>\n",
       "      <td>8</td>\n",
       "      <td>0</td>\n",
       "      <td>2</td>\n",
       "      <td>1</td>\n",
       "      <td>4</td>\n",
       "      <td>4</td>\n",
       "      <td>4</td>\n",
       "      <td>2</td>\n",
       "      <td>5</td>\n",
       "      <td>2</td>\n",
       "      <td>0</td>\n",
       "      <td>4</td>\n",
       "      <td>5</td>\n",
       "      <td>0</td>\n",
       "      <td>3</td>\n",
       "      <td>2</td>\n",
       "      <td>4</td>\n",
       "      <td>14</td>\n",
       "      <td>7</td>\n",
       "      <td>4</td>\n",
       "    </tr>\n",
       "  </tbody>\n",
       "</table>\n",
       "</div>"
      ],
      "text/plain": [
       "   Year  Quarter  Month  DayofMonth  DayOfWeek           FlightDate  \\\n",
       "0  2017        1      1           1          7  2017-01-01 00:00:00   \n",
       "1  2017        1      1           2          1  2017-01-02 00:00:00   \n",
       "2  2017        1      1           3          2  2017-01-03 00:00:00   \n",
       "\n",
       "  Reporting_Airline  DOT_ID_Reporting_Airline IATA_CODE_Reporting_Airline  \\\n",
       "0                AA                     19805                          AA   \n",
       "1                AA                     19805                          AA   \n",
       "2                AA                     19805                          AA   \n",
       "\n",
       "  Tail_Number  Flight_Number_Reporting_Airline  OriginAirportID  \\\n",
       "0      N869AA                              232            11298   \n",
       "1      N866AA                              232            11298   \n",
       "2      N897AA                              232            11298   \n",
       "\n",
       "   OriginAirportSeqID  OriginCityMarketID Origin         OriginCityName  \\\n",
       "0             1129804               30194    DFW  Dallas/Fort Worth, TX   \n",
       "1             1129804               30194    DFW  Dallas/Fort Worth, TX   \n",
       "2             1129804               30194    DFW  Dallas/Fort Worth, TX   \n",
       "\n",
       "  OriginState  OriginStateFips OriginStateName  OriginWac  DestAirportID  \\\n",
       "0          TX               48           Texas         74          10397   \n",
       "1          TX               48           Texas         74          10397   \n",
       "2          TX               48           Texas         74          10397   \n",
       "\n",
       "   DestAirportSeqID  DestCityMarketID Dest DestCityName DestState  \\\n",
       "0           1039705             30397  ATL  Atlanta, GA        GA   \n",
       "1           1039705             30397  ATL  Atlanta, GA        GA   \n",
       "2           1039705             30397  ATL  Atlanta, GA        GA   \n",
       "\n",
       "   DestStateFips DestStateName  DestWac CRSDepTime  DepTime  DepDelay  \\\n",
       "0             13       Georgia       34   14:25:00   1430.0       5.0   \n",
       "1             13       Georgia       34   14:25:00   1420.0      -5.0   \n",
       "2             13       Georgia       34   14:25:00   1426.0       1.0   \n",
       "\n",
       "   DepDelayMinutes  DepDel15  DepartureDelayGroups DepTimeBlk  TaxiOut  \\\n",
       "0              5.0       0.0                   0.0  1400-1459     12.0   \n",
       "1              0.0       0.0                  -1.0  1400-1459     13.0   \n",
       "2              1.0       0.0                   0.0  1400-1459     14.0   \n",
       "\n",
       "   WheelsOff  WheelsOn  TaxiIn CRSArrTime  ArrTime  ArrDelay  ArrDelayMinutes  \\\n",
       "0     1442.0    1717.0    10.0   17:26:00   1727.0       1.0              1.0   \n",
       "1     1433.0    1723.0    11.0   17:26:00   1734.0       8.0              8.0   \n",
       "2     1440.0    1718.0     5.0   17:26:00   1723.0      -3.0              0.0   \n",
       "\n",
       "   ArrDel15  ArrivalDelayGroups ArrTimeBlk  CRSElapsedTime  ActualElapsedTime  \\\n",
       "0       0.0                 0.0  1700-1759           121.0              117.0   \n",
       "1       0.0                 0.0  1700-1759           121.0              134.0   \n",
       "2       0.0                -1.0  1700-1759           121.0              117.0   \n",
       "\n",
       "   AirTime  Flights  Distance  DistanceGroup  CarrierDelay  WeatherDelay  \\\n",
       "0     95.0      1.0     731.0              3           NaN           NaN   \n",
       "1    110.0      1.0     731.0              3           NaN           NaN   \n",
       "2     98.0      1.0     731.0              3           NaN           NaN   \n",
       "\n",
       "   NASDelay  SecurityDelay  LateAircraftDelay          ArrivalDate  \\\n",
       "0       NaN            NaN                NaN  2017-01-01 00:00:00   \n",
       "1       NaN            NaN                NaN  2017-01-02 00:00:00   \n",
       "2       NaN            NaN                NaN  2017-01-03 00:00:00   \n",
       "\n",
       "       ARR_Flight_SLDT  Num_Arr_SLDT-30  Num_Arr_SLDT-25  Num_Arr_SLDT-20  \\\n",
       "0  2017-01-01 17:26:00                9                9               12   \n",
       "1  2017-01-02 17:26:00                6                8                9   \n",
       "2  2017-01-03 17:26:00                6               10                9   \n",
       "\n",
       "   Num_Arr_SLDT-15  Num_Arr_SLDT-10  Num_Arr_SLDT-5  Num_Arr_SLDT-0  \\\n",
       "0                3                7               0               2   \n",
       "1                4               10               0               2   \n",
       "2                3                8               0               2   \n",
       "\n",
       "   Num_Arr_SLDT+5  Num_Arr_SLDT+10  Num_Arr_SLDT+15  Num_Arr_SLDT+20  \\\n",
       "0               3                2                5                1   \n",
       "1               1                5                4                2   \n",
       "2               1                4                4                4   \n",
       "\n",
       "   Num_Arr_SLDT+25  Num_Dep_SLDT-30  Num_Dep_SLDT-25  Num_Dep_SLDT-20  \\\n",
       "0                3                3                2                0   \n",
       "1                2                6                3                1   \n",
       "2                2                5                2                0   \n",
       "\n",
       "   Num_Dep_SLDT-15  Num_Dep_SLDT-10  Num_Dep_SLDT-5  Num_Dep_SLDT-0  \\\n",
       "0                3                7               0               3   \n",
       "1                4                8               0               3   \n",
       "2                4                5               0               3   \n",
       "\n",
       "   Num_Dep_SLDT+5  Num_Dep_SLDT+10  Num_Dep_SLDT+15  Num_Dep_SLDT+20  \\\n",
       "0               2                1                9                3   \n",
       "1               2                4               11                6   \n",
       "2               2                4               14                7   \n",
       "\n",
       "   Num_Dep_SLDT+25  \n",
       "0                5  \n",
       "1                3  \n",
       "2                4  "
      ]
     },
     "execution_count": 4,
     "metadata": {},
     "output_type": "execute_result"
    }
   ],
   "source": [
    "df.head(3)"
   ]
  },
  {
   "cell_type": "code",
   "execution_count": 5,
   "metadata": {
    "ExecuteTime": {
     "end_time": "2020-05-28T02:46:12.954676Z",
     "start_time": "2020-05-28T02:46:12.948692Z"
    },
    "hidden": true
   },
   "outputs": [
    {
     "data": {
      "text/plain": [
       "(744979, 84)"
      ]
     },
     "execution_count": 5,
     "metadata": {},
     "output_type": "execute_result"
    }
   ],
   "source": [
    "df.shape"
   ]
  },
  {
   "cell_type": "code",
   "execution_count": 12,
   "metadata": {
    "ExecuteTime": {
     "end_time": "2020-05-28T02:53:35.012040Z",
     "start_time": "2020-05-28T02:53:34.928259Z"
    },
    "hidden": true
   },
   "outputs": [
    {
     "data": {
      "text/html": [
       "<div>\n",
       "<style scoped>\n",
       "    .dataframe tbody tr th:only-of-type {\n",
       "        vertical-align: middle;\n",
       "    }\n",
       "\n",
       "    .dataframe tbody tr th {\n",
       "        vertical-align: top;\n",
       "    }\n",
       "\n",
       "    .dataframe thead th {\n",
       "        text-align: right;\n",
       "    }\n",
       "</style>\n",
       "<table border=\"1\" class=\"dataframe\">\n",
       "  <thead>\n",
       "    <tr style=\"text-align: right;\">\n",
       "      <th></th>\n",
       "      <th>Num_Arr_SIBT-30</th>\n",
       "      <th>Num_Arr_SIBT-25</th>\n",
       "      <th>Num_Arr_SIBT-20</th>\n",
       "      <th>Num_Arr_SIBT-15</th>\n",
       "      <th>Num_Arr_SIBT-10</th>\n",
       "      <th>Num_Arr_SIBT-5</th>\n",
       "      <th>Num_Arr_SIBT-0</th>\n",
       "      <th>Num_Arr_SIBT+5</th>\n",
       "      <th>Num_Arr_SIBT+10</th>\n",
       "      <th>Num_Arr_SIBT+15</th>\n",
       "      <th>Num_Arr_SIBT+20</th>\n",
       "      <th>Num_Arr_SIBT+25</th>\n",
       "      <th>Num_Dep_SIBT-30</th>\n",
       "      <th>Num_Dep_SIBT-25</th>\n",
       "      <th>Num_Dep_SIBT-20</th>\n",
       "      <th>Num_Dep_SIBT-15</th>\n",
       "      <th>Num_Dep_SIBT-10</th>\n",
       "      <th>Num_Dep_SIBT-5</th>\n",
       "      <th>Num_Dep_SIBT-0</th>\n",
       "      <th>Num_Dep_SIBT+5</th>\n",
       "      <th>Num_Dep_SIBT+10</th>\n",
       "      <th>Num_Dep_SIBT+15</th>\n",
       "      <th>Num_Dep_SIBT+20</th>\n",
       "      <th>Num_Dep_SIBT+25</th>\n",
       "    </tr>\n",
       "  </thead>\n",
       "  <tbody>\n",
       "    <tr>\n",
       "      <th>0</th>\n",
       "      <td>9</td>\n",
       "      <td>9</td>\n",
       "      <td>12</td>\n",
       "      <td>3</td>\n",
       "      <td>7</td>\n",
       "      <td>0</td>\n",
       "      <td>2</td>\n",
       "      <td>3</td>\n",
       "      <td>2</td>\n",
       "      <td>5</td>\n",
       "      <td>1</td>\n",
       "      <td>3</td>\n",
       "      <td>3</td>\n",
       "      <td>2</td>\n",
       "      <td>0</td>\n",
       "      <td>3</td>\n",
       "      <td>7</td>\n",
       "      <td>0</td>\n",
       "      <td>3</td>\n",
       "      <td>2</td>\n",
       "      <td>1</td>\n",
       "      <td>9</td>\n",
       "      <td>3</td>\n",
       "      <td>5</td>\n",
       "    </tr>\n",
       "    <tr>\n",
       "      <th>1</th>\n",
       "      <td>6</td>\n",
       "      <td>8</td>\n",
       "      <td>9</td>\n",
       "      <td>4</td>\n",
       "      <td>10</td>\n",
       "      <td>0</td>\n",
       "      <td>2</td>\n",
       "      <td>1</td>\n",
       "      <td>5</td>\n",
       "      <td>4</td>\n",
       "      <td>2</td>\n",
       "      <td>2</td>\n",
       "      <td>6</td>\n",
       "      <td>3</td>\n",
       "      <td>1</td>\n",
       "      <td>4</td>\n",
       "      <td>8</td>\n",
       "      <td>0</td>\n",
       "      <td>3</td>\n",
       "      <td>2</td>\n",
       "      <td>4</td>\n",
       "      <td>11</td>\n",
       "      <td>6</td>\n",
       "      <td>3</td>\n",
       "    </tr>\n",
       "    <tr>\n",
       "      <th>2</th>\n",
       "      <td>6</td>\n",
       "      <td>10</td>\n",
       "      <td>9</td>\n",
       "      <td>3</td>\n",
       "      <td>8</td>\n",
       "      <td>0</td>\n",
       "      <td>2</td>\n",
       "      <td>1</td>\n",
       "      <td>4</td>\n",
       "      <td>4</td>\n",
       "      <td>4</td>\n",
       "      <td>2</td>\n",
       "      <td>5</td>\n",
       "      <td>2</td>\n",
       "      <td>0</td>\n",
       "      <td>4</td>\n",
       "      <td>5</td>\n",
       "      <td>0</td>\n",
       "      <td>3</td>\n",
       "      <td>2</td>\n",
       "      <td>4</td>\n",
       "      <td>14</td>\n",
       "      <td>7</td>\n",
       "      <td>4</td>\n",
       "    </tr>\n",
       "    <tr>\n",
       "      <th>3</th>\n",
       "      <td>7</td>\n",
       "      <td>10</td>\n",
       "      <td>11</td>\n",
       "      <td>4</td>\n",
       "      <td>9</td>\n",
       "      <td>0</td>\n",
       "      <td>3</td>\n",
       "      <td>1</td>\n",
       "      <td>5</td>\n",
       "      <td>5</td>\n",
       "      <td>3</td>\n",
       "      <td>1</td>\n",
       "      <td>5</td>\n",
       "      <td>2</td>\n",
       "      <td>0</td>\n",
       "      <td>5</td>\n",
       "      <td>5</td>\n",
       "      <td>0</td>\n",
       "      <td>3</td>\n",
       "      <td>2</td>\n",
       "      <td>4</td>\n",
       "      <td>14</td>\n",
       "      <td>7</td>\n",
       "      <td>4</td>\n",
       "    </tr>\n",
       "    <tr>\n",
       "      <th>4</th>\n",
       "      <td>5</td>\n",
       "      <td>8</td>\n",
       "      <td>10</td>\n",
       "      <td>4</td>\n",
       "      <td>7</td>\n",
       "      <td>0</td>\n",
       "      <td>2</td>\n",
       "      <td>1</td>\n",
       "      <td>4</td>\n",
       "      <td>5</td>\n",
       "      <td>3</td>\n",
       "      <td>2</td>\n",
       "      <td>5</td>\n",
       "      <td>2</td>\n",
       "      <td>0</td>\n",
       "      <td>5</td>\n",
       "      <td>6</td>\n",
       "      <td>0</td>\n",
       "      <td>3</td>\n",
       "      <td>3</td>\n",
       "      <td>3</td>\n",
       "      <td>14</td>\n",
       "      <td>5</td>\n",
       "      <td>4</td>\n",
       "    </tr>\n",
       "  </tbody>\n",
       "</table>\n",
       "</div>"
      ],
      "text/plain": [
       "   Num_Arr_SIBT-30  Num_Arr_SIBT-25  Num_Arr_SIBT-20  Num_Arr_SIBT-15  \\\n",
       "0                9                9               12                3   \n",
       "1                6                8                9                4   \n",
       "2                6               10                9                3   \n",
       "3                7               10               11                4   \n",
       "4                5                8               10                4   \n",
       "\n",
       "   Num_Arr_SIBT-10  Num_Arr_SIBT-5  Num_Arr_SIBT-0  Num_Arr_SIBT+5  \\\n",
       "0                7               0               2               3   \n",
       "1               10               0               2               1   \n",
       "2                8               0               2               1   \n",
       "3                9               0               3               1   \n",
       "4                7               0               2               1   \n",
       "\n",
       "   Num_Arr_SIBT+10  Num_Arr_SIBT+15  Num_Arr_SIBT+20  Num_Arr_SIBT+25  \\\n",
       "0                2                5                1                3   \n",
       "1                5                4                2                2   \n",
       "2                4                4                4                2   \n",
       "3                5                5                3                1   \n",
       "4                4                5                3                2   \n",
       "\n",
       "   Num_Dep_SIBT-30  Num_Dep_SIBT-25  Num_Dep_SIBT-20  Num_Dep_SIBT-15  \\\n",
       "0                3                2                0                3   \n",
       "1                6                3                1                4   \n",
       "2                5                2                0                4   \n",
       "3                5                2                0                5   \n",
       "4                5                2                0                5   \n",
       "\n",
       "   Num_Dep_SIBT-10  Num_Dep_SIBT-5  Num_Dep_SIBT-0  Num_Dep_SIBT+5  \\\n",
       "0                7               0               3               2   \n",
       "1                8               0               3               2   \n",
       "2                5               0               3               2   \n",
       "3                5               0               3               2   \n",
       "4                6               0               3               3   \n",
       "\n",
       "   Num_Dep_SIBT+10  Num_Dep_SIBT+15  Num_Dep_SIBT+20  Num_Dep_SIBT+25  \n",
       "0                1                9                3                5  \n",
       "1                4               11                6                3  \n",
       "2                4               14                7                4  \n",
       "3                4               14                7                4  \n",
       "4                3               14                5                4  "
      ]
     },
     "execution_count": 12,
     "metadata": {},
     "output_type": "execute_result"
    }
   ],
   "source": [
    "traffic = df[df.columns[-24:]]\n",
    "traffic.columns = traffic.columns.str.replace('SLDT', 'SIBT')\n",
    "traffic.head()"
   ]
  },
  {
   "cell_type": "code",
   "execution_count": 18,
   "metadata": {
    "ExecuteTime": {
     "end_time": "2020-05-28T02:55:51.739595Z",
     "start_time": "2020-05-28T02:55:51.678730Z"
    },
    "code_folding": [],
    "hidden": true
   },
   "outputs": [],
   "source": [
    "# obtain a segment of arrivals (intersted columns)\n",
    "segment = df[['ActualElapsedTime', 'FlightDate', 'ArrivalDate', 'Reporting_Airline', 'CRSDepTime',\n",
    "                    'DepTime', 'DepDelay', 'DepDel15', 'DepartureDelayGroups', 'CRSArrTime',\n",
    "                    'CRSElapsedTime', 'Distance', 'DistanceGroup']]"
   ]
  },
  {
   "cell_type": "code",
   "execution_count": 19,
   "metadata": {
    "ExecuteTime": {
     "end_time": "2020-05-28T02:55:52.944974Z",
     "start_time": "2020-05-28T02:55:52.829285Z"
    },
    "code_folding": [],
    "hidden": true
   },
   "outputs": [],
   "source": [
    "# rename some column names\n",
    "segment = segment.rename(columns={'ActualElapsedTime': 'AOBTtoAIBT',\n",
    "                                  'FlightDate': 'SOBTDate',\n",
    "                                  'ArrivalDate': 'SIBTDate',\n",
    "                                  'Reporting_Airline': 'UniqueCarrierCode',\n",
    "                                  'CRSDepTime': 'SOBTTime',\n",
    "                                  'DepTime': 'AOBTTime',\n",
    "                                  'DepDelay': 'OBTDelay',\n",
    "                                  'DepDel15': 'OBTDel15',\n",
    "                                  'DepartureDelayGroups': 'OBTDelayGroups',\n",
    "                                  'CRSArrTime': 'SIBTTime',\n",
    "                                  'CRSElapsedTime': 'SOBTtoSIBT',\n",
    "                                  })"
   ]
  },
  {
   "cell_type": "code",
   "execution_count": 20,
   "metadata": {
    "ExecuteTime": {
     "end_time": "2020-05-28T02:55:54.022703Z",
     "start_time": "2020-05-28T02:55:53.863135Z"
    },
    "hidden": true
   },
   "outputs": [
    {
     "data": {
      "text/html": [
       "<div>\n",
       "<style scoped>\n",
       "    .dataframe tbody tr th:only-of-type {\n",
       "        vertical-align: middle;\n",
       "    }\n",
       "\n",
       "    .dataframe tbody tr th {\n",
       "        vertical-align: top;\n",
       "    }\n",
       "\n",
       "    .dataframe thead th {\n",
       "        text-align: right;\n",
       "    }\n",
       "</style>\n",
       "<table border=\"1\" class=\"dataframe\">\n",
       "  <thead>\n",
       "    <tr style=\"text-align: right;\">\n",
       "      <th></th>\n",
       "      <th>AOBTtoAIBT</th>\n",
       "      <th>SOBTDate</th>\n",
       "      <th>SIBTDate</th>\n",
       "      <th>UniqueCarrierCode</th>\n",
       "      <th>SOBTTime</th>\n",
       "      <th>AOBTTime</th>\n",
       "      <th>OBTDelay</th>\n",
       "      <th>OBTDel15</th>\n",
       "      <th>OBTDelayGroups</th>\n",
       "      <th>SIBTTime</th>\n",
       "      <th>SOBTtoSIBT</th>\n",
       "      <th>Distance</th>\n",
       "      <th>DistanceGroup</th>\n",
       "      <th>Num_Arr_SIBT-30</th>\n",
       "      <th>Num_Arr_SIBT-25</th>\n",
       "      <th>Num_Arr_SIBT-20</th>\n",
       "      <th>Num_Arr_SIBT-15</th>\n",
       "      <th>Num_Arr_SIBT-10</th>\n",
       "      <th>Num_Arr_SIBT-5</th>\n",
       "      <th>Num_Arr_SIBT-0</th>\n",
       "      <th>Num_Arr_SIBT+5</th>\n",
       "      <th>Num_Arr_SIBT+10</th>\n",
       "      <th>Num_Arr_SIBT+15</th>\n",
       "      <th>Num_Arr_SIBT+20</th>\n",
       "      <th>Num_Arr_SIBT+25</th>\n",
       "      <th>Num_Dep_SIBT-30</th>\n",
       "      <th>Num_Dep_SIBT-25</th>\n",
       "      <th>Num_Dep_SIBT-20</th>\n",
       "      <th>Num_Dep_SIBT-15</th>\n",
       "      <th>Num_Dep_SIBT-10</th>\n",
       "      <th>Num_Dep_SIBT-5</th>\n",
       "      <th>Num_Dep_SIBT-0</th>\n",
       "      <th>Num_Dep_SIBT+5</th>\n",
       "      <th>Num_Dep_SIBT+10</th>\n",
       "      <th>Num_Dep_SIBT+15</th>\n",
       "      <th>Num_Dep_SIBT+20</th>\n",
       "      <th>Num_Dep_SIBT+25</th>\n",
       "    </tr>\n",
       "  </thead>\n",
       "  <tbody>\n",
       "    <tr>\n",
       "      <th>0</th>\n",
       "      <td>117.0</td>\n",
       "      <td>2017-01-01 00:00:00</td>\n",
       "      <td>2017-01-01 00:00:00</td>\n",
       "      <td>AA</td>\n",
       "      <td>14:25:00</td>\n",
       "      <td>1430.0</td>\n",
       "      <td>5.0</td>\n",
       "      <td>0.0</td>\n",
       "      <td>0.0</td>\n",
       "      <td>17:26:00</td>\n",
       "      <td>121.0</td>\n",
       "      <td>731.0</td>\n",
       "      <td>3</td>\n",
       "      <td>9</td>\n",
       "      <td>9</td>\n",
       "      <td>12</td>\n",
       "      <td>3</td>\n",
       "      <td>7</td>\n",
       "      <td>0</td>\n",
       "      <td>2</td>\n",
       "      <td>3</td>\n",
       "      <td>2</td>\n",
       "      <td>5</td>\n",
       "      <td>1</td>\n",
       "      <td>3</td>\n",
       "      <td>3</td>\n",
       "      <td>2</td>\n",
       "      <td>0</td>\n",
       "      <td>3</td>\n",
       "      <td>7</td>\n",
       "      <td>0</td>\n",
       "      <td>3</td>\n",
       "      <td>2</td>\n",
       "      <td>1</td>\n",
       "      <td>9</td>\n",
       "      <td>3</td>\n",
       "      <td>5</td>\n",
       "    </tr>\n",
       "    <tr>\n",
       "      <th>1</th>\n",
       "      <td>134.0</td>\n",
       "      <td>2017-01-02 00:00:00</td>\n",
       "      <td>2017-01-02 00:00:00</td>\n",
       "      <td>AA</td>\n",
       "      <td>14:25:00</td>\n",
       "      <td>1420.0</td>\n",
       "      <td>-5.0</td>\n",
       "      <td>0.0</td>\n",
       "      <td>-1.0</td>\n",
       "      <td>17:26:00</td>\n",
       "      <td>121.0</td>\n",
       "      <td>731.0</td>\n",
       "      <td>3</td>\n",
       "      <td>6</td>\n",
       "      <td>8</td>\n",
       "      <td>9</td>\n",
       "      <td>4</td>\n",
       "      <td>10</td>\n",
       "      <td>0</td>\n",
       "      <td>2</td>\n",
       "      <td>1</td>\n",
       "      <td>5</td>\n",
       "      <td>4</td>\n",
       "      <td>2</td>\n",
       "      <td>2</td>\n",
       "      <td>6</td>\n",
       "      <td>3</td>\n",
       "      <td>1</td>\n",
       "      <td>4</td>\n",
       "      <td>8</td>\n",
       "      <td>0</td>\n",
       "      <td>3</td>\n",
       "      <td>2</td>\n",
       "      <td>4</td>\n",
       "      <td>11</td>\n",
       "      <td>6</td>\n",
       "      <td>3</td>\n",
       "    </tr>\n",
       "    <tr>\n",
       "      <th>2</th>\n",
       "      <td>117.0</td>\n",
       "      <td>2017-01-03 00:00:00</td>\n",
       "      <td>2017-01-03 00:00:00</td>\n",
       "      <td>AA</td>\n",
       "      <td>14:25:00</td>\n",
       "      <td>1426.0</td>\n",
       "      <td>1.0</td>\n",
       "      <td>0.0</td>\n",
       "      <td>0.0</td>\n",
       "      <td>17:26:00</td>\n",
       "      <td>121.0</td>\n",
       "      <td>731.0</td>\n",
       "      <td>3</td>\n",
       "      <td>6</td>\n",
       "      <td>10</td>\n",
       "      <td>9</td>\n",
       "      <td>3</td>\n",
       "      <td>8</td>\n",
       "      <td>0</td>\n",
       "      <td>2</td>\n",
       "      <td>1</td>\n",
       "      <td>4</td>\n",
       "      <td>4</td>\n",
       "      <td>4</td>\n",
       "      <td>2</td>\n",
       "      <td>5</td>\n",
       "      <td>2</td>\n",
       "      <td>0</td>\n",
       "      <td>4</td>\n",
       "      <td>5</td>\n",
       "      <td>0</td>\n",
       "      <td>3</td>\n",
       "      <td>2</td>\n",
       "      <td>4</td>\n",
       "      <td>14</td>\n",
       "      <td>7</td>\n",
       "      <td>4</td>\n",
       "    </tr>\n",
       "    <tr>\n",
       "      <th>3</th>\n",
       "      <td>103.0</td>\n",
       "      <td>2017-01-04 00:00:00</td>\n",
       "      <td>2017-01-04 00:00:00</td>\n",
       "      <td>AA</td>\n",
       "      <td>14:25:00</td>\n",
       "      <td>1421.0</td>\n",
       "      <td>-4.0</td>\n",
       "      <td>0.0</td>\n",
       "      <td>-1.0</td>\n",
       "      <td>17:26:00</td>\n",
       "      <td>121.0</td>\n",
       "      <td>731.0</td>\n",
       "      <td>3</td>\n",
       "      <td>7</td>\n",
       "      <td>10</td>\n",
       "      <td>11</td>\n",
       "      <td>4</td>\n",
       "      <td>9</td>\n",
       "      <td>0</td>\n",
       "      <td>3</td>\n",
       "      <td>1</td>\n",
       "      <td>5</td>\n",
       "      <td>5</td>\n",
       "      <td>3</td>\n",
       "      <td>1</td>\n",
       "      <td>5</td>\n",
       "      <td>2</td>\n",
       "      <td>0</td>\n",
       "      <td>5</td>\n",
       "      <td>5</td>\n",
       "      <td>0</td>\n",
       "      <td>3</td>\n",
       "      <td>2</td>\n",
       "      <td>4</td>\n",
       "      <td>14</td>\n",
       "      <td>7</td>\n",
       "      <td>4</td>\n",
       "    </tr>\n",
       "    <tr>\n",
       "      <th>4</th>\n",
       "      <td>105.0</td>\n",
       "      <td>2017-01-05 00:00:00</td>\n",
       "      <td>2017-01-05 00:00:00</td>\n",
       "      <td>AA</td>\n",
       "      <td>14:25:00</td>\n",
       "      <td>1424.0</td>\n",
       "      <td>-1.0</td>\n",
       "      <td>0.0</td>\n",
       "      <td>-1.0</td>\n",
       "      <td>17:26:00</td>\n",
       "      <td>121.0</td>\n",
       "      <td>731.0</td>\n",
       "      <td>3</td>\n",
       "      <td>5</td>\n",
       "      <td>8</td>\n",
       "      <td>10</td>\n",
       "      <td>4</td>\n",
       "      <td>7</td>\n",
       "      <td>0</td>\n",
       "      <td>2</td>\n",
       "      <td>1</td>\n",
       "      <td>4</td>\n",
       "      <td>5</td>\n",
       "      <td>3</td>\n",
       "      <td>2</td>\n",
       "      <td>5</td>\n",
       "      <td>2</td>\n",
       "      <td>0</td>\n",
       "      <td>5</td>\n",
       "      <td>6</td>\n",
       "      <td>0</td>\n",
       "      <td>3</td>\n",
       "      <td>3</td>\n",
       "      <td>3</td>\n",
       "      <td>14</td>\n",
       "      <td>5</td>\n",
       "      <td>4</td>\n",
       "    </tr>\n",
       "  </tbody>\n",
       "</table>\n",
       "</div>"
      ],
      "text/plain": [
       "   AOBTtoAIBT             SOBTDate             SIBTDate UniqueCarrierCode  \\\n",
       "0       117.0  2017-01-01 00:00:00  2017-01-01 00:00:00                AA   \n",
       "1       134.0  2017-01-02 00:00:00  2017-01-02 00:00:00                AA   \n",
       "2       117.0  2017-01-03 00:00:00  2017-01-03 00:00:00                AA   \n",
       "3       103.0  2017-01-04 00:00:00  2017-01-04 00:00:00                AA   \n",
       "4       105.0  2017-01-05 00:00:00  2017-01-05 00:00:00                AA   \n",
       "\n",
       "   SOBTTime  AOBTTime  OBTDelay  OBTDel15  OBTDelayGroups  SIBTTime  \\\n",
       "0  14:25:00    1430.0       5.0       0.0             0.0  17:26:00   \n",
       "1  14:25:00    1420.0      -5.0       0.0            -1.0  17:26:00   \n",
       "2  14:25:00    1426.0       1.0       0.0             0.0  17:26:00   \n",
       "3  14:25:00    1421.0      -4.0       0.0            -1.0  17:26:00   \n",
       "4  14:25:00    1424.0      -1.0       0.0            -1.0  17:26:00   \n",
       "\n",
       "   SOBTtoSIBT  Distance  DistanceGroup  Num_Arr_SIBT-30  Num_Arr_SIBT-25  \\\n",
       "0       121.0     731.0              3                9                9   \n",
       "1       121.0     731.0              3                6                8   \n",
       "2       121.0     731.0              3                6               10   \n",
       "3       121.0     731.0              3                7               10   \n",
       "4       121.0     731.0              3                5                8   \n",
       "\n",
       "   Num_Arr_SIBT-20  Num_Arr_SIBT-15  Num_Arr_SIBT-10  Num_Arr_SIBT-5  \\\n",
       "0               12                3                7               0   \n",
       "1                9                4               10               0   \n",
       "2                9                3                8               0   \n",
       "3               11                4                9               0   \n",
       "4               10                4                7               0   \n",
       "\n",
       "   Num_Arr_SIBT-0  Num_Arr_SIBT+5  Num_Arr_SIBT+10  Num_Arr_SIBT+15  \\\n",
       "0               2               3                2                5   \n",
       "1               2               1                5                4   \n",
       "2               2               1                4                4   \n",
       "3               3               1                5                5   \n",
       "4               2               1                4                5   \n",
       "\n",
       "   Num_Arr_SIBT+20  Num_Arr_SIBT+25  Num_Dep_SIBT-30  Num_Dep_SIBT-25  \\\n",
       "0                1                3                3                2   \n",
       "1                2                2                6                3   \n",
       "2                4                2                5                2   \n",
       "3                3                1                5                2   \n",
       "4                3                2                5                2   \n",
       "\n",
       "   Num_Dep_SIBT-20  Num_Dep_SIBT-15  Num_Dep_SIBT-10  Num_Dep_SIBT-5  \\\n",
       "0                0                3                7               0   \n",
       "1                1                4                8               0   \n",
       "2                0                4                5               0   \n",
       "3                0                5                5               0   \n",
       "4                0                5                6               0   \n",
       "\n",
       "   Num_Dep_SIBT-0  Num_Dep_SIBT+5  Num_Dep_SIBT+10  Num_Dep_SIBT+15  \\\n",
       "0               3               2                1                9   \n",
       "1               3               2                4               11   \n",
       "2               3               2                4               14   \n",
       "3               3               2                4               14   \n",
       "4               3               3                3               14   \n",
       "\n",
       "   Num_Dep_SIBT+20  Num_Dep_SIBT+25  \n",
       "0                3                5  \n",
       "1                6                3  \n",
       "2                7                4  \n",
       "3                7                4  \n",
       "4                5                4  "
      ]
     },
     "execution_count": 20,
     "metadata": {},
     "output_type": "execute_result"
    }
   ],
   "source": [
    "segment = pd.concat([segment, traffic], axis=1)\n",
    "segment.head()"
   ]
  },
  {
   "cell_type": "markdown",
   "metadata": {
    "heading_collapsed": true
   },
   "source": [
    "## Format Datetime Objects"
   ]
  },
  {
   "cell_type": "code",
   "execution_count": 23,
   "metadata": {
    "ExecuteTime": {
     "end_time": "2020-05-28T02:57:24.474765Z",
     "start_time": "2020-05-28T02:57:23.104469Z"
    },
    "hidden": true
   },
   "outputs": [],
   "source": [
    "segment['SOBTDate'] = pd.to_datetime(segment['SOBTDate']).dt.date\n",
    "segment['SIBTDate'] = pd.to_datetime(segment['SIBTDate']).dt.date\n",
    "segment['SOBTTime'] = pd.to_datetime(\n",
    "    segment['SOBTTime'], format='%H:%M:%S').dt.time\n",
    "segment['SIBTTime'] = pd.to_datetime(\n",
    "    segment['SIBTTime'], format='%H:%M:%S').dt.time"
   ]
  },
  {
   "cell_type": "code",
   "execution_count": 24,
   "metadata": {
    "ExecuteTime": {
     "end_time": "2020-05-28T02:57:25.151950Z",
     "start_time": "2020-05-28T02:57:24.618379Z"
    },
    "hidden": true
   },
   "outputs": [],
   "source": [
    "# format AOBTTime\n",
    "segment['AOBTTime'] = segment['AOBTTime'].apply(lambda x: str(int(x)).zfill(4))\n",
    "\n",
    "# for actual timings, '2400' would be produced when the date changed to the next day\n",
    "# for e.g., 2400 1 Jan is actually equivalent to 0000 2 Jan"
   ]
  },
  {
   "cell_type": "code",
   "execution_count": 25,
   "metadata": {
    "ExecuteTime": {
     "end_time": "2020-05-28T02:57:31.393129Z",
     "start_time": "2020-05-28T02:57:31.272420Z"
    },
    "hidden": true
   },
   "outputs": [
    {
     "name": "stdout",
     "output_type": "stream",
     "text": [
      "Number of AOBTTime being \"2400\": 60\n"
     ]
    }
   ],
   "source": [
    "print('Number of AOBTTime being \"2400\":',\n",
    "      segment[segment['AOBTTime'] == '2400'].shape[0])"
   ]
  },
  {
   "cell_type": "code",
   "execution_count": 26,
   "metadata": {
    "ExecuteTime": {
     "end_time": "2020-05-28T02:57:34.609328Z",
     "start_time": "2020-05-28T02:57:32.826963Z"
    },
    "hidden": true
   },
   "outputs": [],
   "source": [
    "one_day = pd.Timedelta('1 days')\n",
    "\n",
    "# Initialize AOBTDate\n",
    "segment['AOBTDate'] = segment['SOBTDate']\n",
    "\n",
    "# if 2400 occurs, add 1 day to AOBTDate\n",
    "segment.loc[segment.AOBTTime == '2400',\n",
    "            \"AOBTDate\"] = segment['AOBTDate'] + one_day\n",
    "\n",
    "# update AOBTTime from '2400' to '0000'\n",
    "segment.loc[segment.AOBTTime == '2400', \"AOBTTime\"] = '0000'"
   ]
  },
  {
   "cell_type": "code",
   "execution_count": 27,
   "metadata": {
    "ExecuteTime": {
     "end_time": "2020-05-28T02:57:36.221121Z",
     "start_time": "2020-05-28T02:57:34.726847Z"
    },
    "hidden": true
   },
   "outputs": [],
   "source": [
    "# now the issue of '2400' is resolved\n",
    "# update AOBTTime to time object\n",
    "segment['AOBTTime'] = pd.to_datetime(\n",
    "    segment['AOBTTime'], format='%H%M').dt.time"
   ]
  },
  {
   "cell_type": "code",
   "execution_count": 28,
   "metadata": {
    "ExecuteTime": {
     "end_time": "2020-05-28T02:57:42.991731Z",
     "start_time": "2020-05-28T02:57:36.343514Z"
    },
    "hidden": true
   },
   "outputs": [],
   "source": [
    "# merge date & time, and only keep datetime objects\n",
    "list_1 = ['SOBTDate', 'SIBTDate', 'AOBTDate']\n",
    "list_2 = ['SOBTTime', 'SIBTTime', 'AOBTTime']\n",
    "list_3 = ['SOBT', 'SIBT', 'AOBT']\n",
    "\n",
    "for i in range(3):\n",
    "    segment[list_1[i]] = segment[list_1[i]].apply(lambda x: str(x))\n",
    "    segment[list_2[i]] = segment[list_2[i]].apply(lambda x: str(x))\n",
    "    segment[list_3[i]] = pd.to_datetime(\n",
    "        segment[list_1[i]] + ' ' + segment[list_2[i]])\n",
    "    segment = segment.drop(labels=[list_1[i], list_2[i]], axis=1)"
   ]
  },
  {
   "cell_type": "code",
   "execution_count": 29,
   "metadata": {
    "ExecuteTime": {
     "end_time": "2020-05-28T02:57:43.132326Z",
     "start_time": "2020-05-28T02:57:43.111380Z"
    },
    "hidden": true
   },
   "outputs": [
    {
     "data": {
      "text/html": [
       "<div>\n",
       "<style scoped>\n",
       "    .dataframe tbody tr th:only-of-type {\n",
       "        vertical-align: middle;\n",
       "    }\n",
       "\n",
       "    .dataframe tbody tr th {\n",
       "        vertical-align: top;\n",
       "    }\n",
       "\n",
       "    .dataframe thead th {\n",
       "        text-align: right;\n",
       "    }\n",
       "</style>\n",
       "<table border=\"1\" class=\"dataframe\">\n",
       "  <thead>\n",
       "    <tr style=\"text-align: right;\">\n",
       "      <th></th>\n",
       "      <th>AOBTtoAIBT</th>\n",
       "      <th>UniqueCarrierCode</th>\n",
       "      <th>OBTDelay</th>\n",
       "      <th>OBTDel15</th>\n",
       "      <th>OBTDelayGroups</th>\n",
       "      <th>SOBTtoSIBT</th>\n",
       "      <th>Distance</th>\n",
       "      <th>DistanceGroup</th>\n",
       "      <th>Num_Arr_SIBT-30</th>\n",
       "      <th>Num_Arr_SIBT-25</th>\n",
       "      <th>Num_Arr_SIBT-20</th>\n",
       "      <th>Num_Arr_SIBT-15</th>\n",
       "      <th>Num_Arr_SIBT-10</th>\n",
       "      <th>Num_Arr_SIBT-5</th>\n",
       "      <th>Num_Arr_SIBT-0</th>\n",
       "      <th>Num_Arr_SIBT+5</th>\n",
       "      <th>Num_Arr_SIBT+10</th>\n",
       "      <th>Num_Arr_SIBT+15</th>\n",
       "      <th>Num_Arr_SIBT+20</th>\n",
       "      <th>Num_Arr_SIBT+25</th>\n",
       "      <th>Num_Dep_SIBT-30</th>\n",
       "      <th>Num_Dep_SIBT-25</th>\n",
       "      <th>Num_Dep_SIBT-20</th>\n",
       "      <th>Num_Dep_SIBT-15</th>\n",
       "      <th>Num_Dep_SIBT-10</th>\n",
       "      <th>Num_Dep_SIBT-5</th>\n",
       "      <th>Num_Dep_SIBT-0</th>\n",
       "      <th>Num_Dep_SIBT+5</th>\n",
       "      <th>Num_Dep_SIBT+10</th>\n",
       "      <th>Num_Dep_SIBT+15</th>\n",
       "      <th>Num_Dep_SIBT+20</th>\n",
       "      <th>Num_Dep_SIBT+25</th>\n",
       "      <th>SOBT</th>\n",
       "      <th>SIBT</th>\n",
       "      <th>AOBT</th>\n",
       "    </tr>\n",
       "  </thead>\n",
       "  <tbody>\n",
       "    <tr>\n",
       "      <th>0</th>\n",
       "      <td>117.0</td>\n",
       "      <td>AA</td>\n",
       "      <td>5.0</td>\n",
       "      <td>0.0</td>\n",
       "      <td>0.0</td>\n",
       "      <td>121.0</td>\n",
       "      <td>731.0</td>\n",
       "      <td>3</td>\n",
       "      <td>9</td>\n",
       "      <td>9</td>\n",
       "      <td>12</td>\n",
       "      <td>3</td>\n",
       "      <td>7</td>\n",
       "      <td>0</td>\n",
       "      <td>2</td>\n",
       "      <td>3</td>\n",
       "      <td>2</td>\n",
       "      <td>5</td>\n",
       "      <td>1</td>\n",
       "      <td>3</td>\n",
       "      <td>3</td>\n",
       "      <td>2</td>\n",
       "      <td>0</td>\n",
       "      <td>3</td>\n",
       "      <td>7</td>\n",
       "      <td>0</td>\n",
       "      <td>3</td>\n",
       "      <td>2</td>\n",
       "      <td>1</td>\n",
       "      <td>9</td>\n",
       "      <td>3</td>\n",
       "      <td>5</td>\n",
       "      <td>2017-01-01 14:25:00</td>\n",
       "      <td>2017-01-01 17:26:00</td>\n",
       "      <td>2017-01-01 14:30:00</td>\n",
       "    </tr>\n",
       "    <tr>\n",
       "      <th>1</th>\n",
       "      <td>134.0</td>\n",
       "      <td>AA</td>\n",
       "      <td>-5.0</td>\n",
       "      <td>0.0</td>\n",
       "      <td>-1.0</td>\n",
       "      <td>121.0</td>\n",
       "      <td>731.0</td>\n",
       "      <td>3</td>\n",
       "      <td>6</td>\n",
       "      <td>8</td>\n",
       "      <td>9</td>\n",
       "      <td>4</td>\n",
       "      <td>10</td>\n",
       "      <td>0</td>\n",
       "      <td>2</td>\n",
       "      <td>1</td>\n",
       "      <td>5</td>\n",
       "      <td>4</td>\n",
       "      <td>2</td>\n",
       "      <td>2</td>\n",
       "      <td>6</td>\n",
       "      <td>3</td>\n",
       "      <td>1</td>\n",
       "      <td>4</td>\n",
       "      <td>8</td>\n",
       "      <td>0</td>\n",
       "      <td>3</td>\n",
       "      <td>2</td>\n",
       "      <td>4</td>\n",
       "      <td>11</td>\n",
       "      <td>6</td>\n",
       "      <td>3</td>\n",
       "      <td>2017-01-02 14:25:00</td>\n",
       "      <td>2017-01-02 17:26:00</td>\n",
       "      <td>2017-01-02 14:20:00</td>\n",
       "    </tr>\n",
       "    <tr>\n",
       "      <th>2</th>\n",
       "      <td>117.0</td>\n",
       "      <td>AA</td>\n",
       "      <td>1.0</td>\n",
       "      <td>0.0</td>\n",
       "      <td>0.0</td>\n",
       "      <td>121.0</td>\n",
       "      <td>731.0</td>\n",
       "      <td>3</td>\n",
       "      <td>6</td>\n",
       "      <td>10</td>\n",
       "      <td>9</td>\n",
       "      <td>3</td>\n",
       "      <td>8</td>\n",
       "      <td>0</td>\n",
       "      <td>2</td>\n",
       "      <td>1</td>\n",
       "      <td>4</td>\n",
       "      <td>4</td>\n",
       "      <td>4</td>\n",
       "      <td>2</td>\n",
       "      <td>5</td>\n",
       "      <td>2</td>\n",
       "      <td>0</td>\n",
       "      <td>4</td>\n",
       "      <td>5</td>\n",
       "      <td>0</td>\n",
       "      <td>3</td>\n",
       "      <td>2</td>\n",
       "      <td>4</td>\n",
       "      <td>14</td>\n",
       "      <td>7</td>\n",
       "      <td>4</td>\n",
       "      <td>2017-01-03 14:25:00</td>\n",
       "      <td>2017-01-03 17:26:00</td>\n",
       "      <td>2017-01-03 14:26:00</td>\n",
       "    </tr>\n",
       "  </tbody>\n",
       "</table>\n",
       "</div>"
      ],
      "text/plain": [
       "   AOBTtoAIBT UniqueCarrierCode  OBTDelay  OBTDel15  OBTDelayGroups  \\\n",
       "0       117.0                AA       5.0       0.0             0.0   \n",
       "1       134.0                AA      -5.0       0.0            -1.0   \n",
       "2       117.0                AA       1.0       0.0             0.0   \n",
       "\n",
       "   SOBTtoSIBT  Distance  DistanceGroup  Num_Arr_SIBT-30  Num_Arr_SIBT-25  \\\n",
       "0       121.0     731.0              3                9                9   \n",
       "1       121.0     731.0              3                6                8   \n",
       "2       121.0     731.0              3                6               10   \n",
       "\n",
       "   Num_Arr_SIBT-20  Num_Arr_SIBT-15  Num_Arr_SIBT-10  Num_Arr_SIBT-5  \\\n",
       "0               12                3                7               0   \n",
       "1                9                4               10               0   \n",
       "2                9                3                8               0   \n",
       "\n",
       "   Num_Arr_SIBT-0  Num_Arr_SIBT+5  Num_Arr_SIBT+10  Num_Arr_SIBT+15  \\\n",
       "0               2               3                2                5   \n",
       "1               2               1                5                4   \n",
       "2               2               1                4                4   \n",
       "\n",
       "   Num_Arr_SIBT+20  Num_Arr_SIBT+25  Num_Dep_SIBT-30  Num_Dep_SIBT-25  \\\n",
       "0                1                3                3                2   \n",
       "1                2                2                6                3   \n",
       "2                4                2                5                2   \n",
       "\n",
       "   Num_Dep_SIBT-20  Num_Dep_SIBT-15  Num_Dep_SIBT-10  Num_Dep_SIBT-5  \\\n",
       "0                0                3                7               0   \n",
       "1                1                4                8               0   \n",
       "2                0                4                5               0   \n",
       "\n",
       "   Num_Dep_SIBT-0  Num_Dep_SIBT+5  Num_Dep_SIBT+10  Num_Dep_SIBT+15  \\\n",
       "0               3               2                1                9   \n",
       "1               3               2                4               11   \n",
       "2               3               2                4               14   \n",
       "\n",
       "   Num_Dep_SIBT+20  Num_Dep_SIBT+25                SOBT                SIBT  \\\n",
       "0                3                5 2017-01-01 14:25:00 2017-01-01 17:26:00   \n",
       "1                6                3 2017-01-02 14:25:00 2017-01-02 17:26:00   \n",
       "2                7                4 2017-01-03 14:25:00 2017-01-03 17:26:00   \n",
       "\n",
       "                 AOBT  \n",
       "0 2017-01-01 14:30:00  \n",
       "1 2017-01-02 14:20:00  \n",
       "2 2017-01-03 14:26:00  "
      ]
     },
     "execution_count": 29,
     "metadata": {},
     "output_type": "execute_result"
    }
   ],
   "source": [
    "segment.head(3)"
   ]
  },
  {
   "cell_type": "markdown",
   "metadata": {
    "heading_collapsed": true
   },
   "source": [
    "## Create Time-related Features"
   ]
  },
  {
   "cell_type": "code",
   "execution_count": 30,
   "metadata": {
    "ExecuteTime": {
     "end_time": "2020-05-28T02:57:55.086666Z",
     "start_time": "2020-05-28T02:57:54.804423Z"
    },
    "hidden": true
   },
   "outputs": [],
   "source": [
    "# create Quarter, Month, DayOfMonth, DayOfWeek based on SIBT (previously, SOBT)\n",
    "segment['SIBTQuarter'] = segment['SIBT'].dt.quarter\n",
    "segment['SIBTMonth'] = segment['SIBT'].dt.month\n",
    "segment['SIBTDayOfMonth'] = segment['SIBT'].dt.day\n",
    "segment['SIBTDayOfWeek'] = segment['SIBT'].dt.weekday + 1\n",
    "segment['SIBTHour'] = segment['SIBT'].dt.hour"
   ]
  },
  {
   "cell_type": "code",
   "execution_count": 31,
   "metadata": {
    "ExecuteTime": {
     "end_time": "2020-05-28T02:57:57.708915Z",
     "start_time": "2020-05-28T02:57:57.183337Z"
    },
    "hidden": true
   },
   "outputs": [],
   "source": [
    "# there are 14 flights (from EDA) scheduled to arrive at ATL in 2019\n",
    "# remove them as only arrival flights scheduled in 2017 and 2018 are of concern\n",
    "segment = segment[segment['SIBT'].dt.year != 2019].reset_index(drop=True)"
   ]
  },
  {
   "cell_type": "markdown",
   "metadata": {
    "heading_collapsed": true
   },
   "source": [
    "## Impute Missing Values"
   ]
  },
  {
   "cell_type": "code",
   "execution_count": 32,
   "metadata": {
    "ExecuteTime": {
     "end_time": "2020-05-28T02:58:24.717080Z",
     "start_time": "2020-05-28T02:58:24.595364Z"
    },
    "hidden": true
   },
   "outputs": [
    {
     "data": {
      "text/html": [
       "<div>\n",
       "<style scoped>\n",
       "    .dataframe tbody tr th:only-of-type {\n",
       "        vertical-align: middle;\n",
       "    }\n",
       "\n",
       "    .dataframe tbody tr th {\n",
       "        vertical-align: top;\n",
       "    }\n",
       "\n",
       "    .dataframe thead th {\n",
       "        text-align: right;\n",
       "    }\n",
       "</style>\n",
       "<table border=\"1\" class=\"dataframe\">\n",
       "  <thead>\n",
       "    <tr style=\"text-align: right;\">\n",
       "      <th></th>\n",
       "      <th>Count</th>\n",
       "      <th>Percentage</th>\n",
       "    </tr>\n",
       "  </thead>\n",
       "  <tbody>\n",
       "    <tr>\n",
       "      <th>OBTDelay</th>\n",
       "      <td>460</td>\n",
       "      <td>0.062</td>\n",
       "    </tr>\n",
       "    <tr>\n",
       "      <th>OBTDel15</th>\n",
       "      <td>460</td>\n",
       "      <td>0.062</td>\n",
       "    </tr>\n",
       "    <tr>\n",
       "      <th>OBTDelayGroups</th>\n",
       "      <td>460</td>\n",
       "      <td>0.062</td>\n",
       "    </tr>\n",
       "  </tbody>\n",
       "</table>\n",
       "</div>"
      ],
      "text/plain": [
       "                Count  Percentage\n",
       "OBTDelay          460       0.062\n",
       "OBTDel15          460       0.062\n",
       "OBTDelayGroups    460       0.062"
      ]
     },
     "execution_count": 32,
     "metadata": {},
     "output_type": "execute_result"
    }
   ],
   "source": [
    "# find columns that contain null values\n",
    "null_col = segment.columns[segment.isna().any()].tolist()\n",
    "\n",
    "# find how many values are missing in each column\n",
    "missing_count = pd.Series(segment[null_col].isna().sum(), name='Count')\n",
    "\n",
    "# determine percentage of missing values\n",
    "missing_percentage = pd.Series(\n",
    "    np.round(segment[null_col].isnull().mean()*100, 3), name='Percentage')\n",
    "\n",
    "missing_var_summary = pd.concat([missing_count, missing_percentage], axis=1)\n",
    "missing_var_summary"
   ]
  },
  {
   "cell_type": "code",
   "execution_count": 33,
   "metadata": {
    "ExecuteTime": {
     "end_time": "2020-05-28T02:58:27.482894Z",
     "start_time": "2020-05-28T02:58:26.888456Z"
    },
    "hidden": true
   },
   "outputs": [],
   "source": [
    "# handle missing OBTDelay\n",
    "segment.loc[segment.OBTDelay.isnull(), \"OBTDelay\"] = (\n",
    "    segment.AOBT - segment.SOBT).astype('timedelta64[m]')\n",
    "\n",
    "\n",
    "def delayed_more_than_15(x):\n",
    "    # handle missing OBTDel15\n",
    "    if x >= 15:\n",
    "        a = 1\n",
    "    else:\n",
    "        a = 0\n",
    "    return a\n",
    "\n",
    "\n",
    "segment['OBTDel15'] = segment['OBTDelay'].apply(\n",
    "    lambda x: delayed_more_than_15(x))\n",
    "\n",
    "# for all 460 entries, the OBTDelay is 0. Proved by:\n",
    "# segment[segment['OBTDelayGroups'].isnull()]['OBTDelay'].unique()\n",
    "# Hence, update missing OBTDelayGroups to be 0\n",
    "segment.loc[segment.OBTDelayGroups.isnull(), \"OBTDelayGroups\"] = 0"
   ]
  },
  {
   "cell_type": "code",
   "execution_count": 34,
   "metadata": {
    "ExecuteTime": {
     "end_time": "2020-05-28T02:58:29.753488Z",
     "start_time": "2020-05-28T02:58:29.733542Z"
    },
    "hidden": true
   },
   "outputs": [
    {
     "data": {
      "text/html": [
       "<div>\n",
       "<style scoped>\n",
       "    .dataframe tbody tr th:only-of-type {\n",
       "        vertical-align: middle;\n",
       "    }\n",
       "\n",
       "    .dataframe tbody tr th {\n",
       "        vertical-align: top;\n",
       "    }\n",
       "\n",
       "    .dataframe thead th {\n",
       "        text-align: right;\n",
       "    }\n",
       "</style>\n",
       "<table border=\"1\" class=\"dataframe\">\n",
       "  <thead>\n",
       "    <tr style=\"text-align: right;\">\n",
       "      <th></th>\n",
       "      <th>AOBTtoAIBT</th>\n",
       "      <th>UniqueCarrierCode</th>\n",
       "      <th>OBTDelay</th>\n",
       "      <th>OBTDel15</th>\n",
       "      <th>OBTDelayGroups</th>\n",
       "      <th>SOBTtoSIBT</th>\n",
       "      <th>Distance</th>\n",
       "      <th>DistanceGroup</th>\n",
       "      <th>Num_Arr_SIBT-30</th>\n",
       "      <th>Num_Arr_SIBT-25</th>\n",
       "      <th>Num_Arr_SIBT-20</th>\n",
       "      <th>Num_Arr_SIBT-15</th>\n",
       "      <th>Num_Arr_SIBT-10</th>\n",
       "      <th>Num_Arr_SIBT-5</th>\n",
       "      <th>Num_Arr_SIBT-0</th>\n",
       "      <th>Num_Arr_SIBT+5</th>\n",
       "      <th>Num_Arr_SIBT+10</th>\n",
       "      <th>Num_Arr_SIBT+15</th>\n",
       "      <th>Num_Arr_SIBT+20</th>\n",
       "      <th>Num_Arr_SIBT+25</th>\n",
       "      <th>Num_Dep_SIBT-30</th>\n",
       "      <th>Num_Dep_SIBT-25</th>\n",
       "      <th>Num_Dep_SIBT-20</th>\n",
       "      <th>Num_Dep_SIBT-15</th>\n",
       "      <th>Num_Dep_SIBT-10</th>\n",
       "      <th>Num_Dep_SIBT-5</th>\n",
       "      <th>Num_Dep_SIBT-0</th>\n",
       "      <th>Num_Dep_SIBT+5</th>\n",
       "      <th>Num_Dep_SIBT+10</th>\n",
       "      <th>Num_Dep_SIBT+15</th>\n",
       "      <th>Num_Dep_SIBT+20</th>\n",
       "      <th>Num_Dep_SIBT+25</th>\n",
       "      <th>SOBT</th>\n",
       "      <th>SIBT</th>\n",
       "      <th>AOBT</th>\n",
       "      <th>SIBTQuarter</th>\n",
       "      <th>SIBTMonth</th>\n",
       "      <th>SIBTDayOfMonth</th>\n",
       "      <th>SIBTDayOfWeek</th>\n",
       "      <th>SIBTHour</th>\n",
       "    </tr>\n",
       "  </thead>\n",
       "  <tbody>\n",
       "    <tr>\n",
       "      <th>0</th>\n",
       "      <td>117.0</td>\n",
       "      <td>AA</td>\n",
       "      <td>5.0</td>\n",
       "      <td>0</td>\n",
       "      <td>0.0</td>\n",
       "      <td>121.0</td>\n",
       "      <td>731.0</td>\n",
       "      <td>3</td>\n",
       "      <td>9</td>\n",
       "      <td>9</td>\n",
       "      <td>12</td>\n",
       "      <td>3</td>\n",
       "      <td>7</td>\n",
       "      <td>0</td>\n",
       "      <td>2</td>\n",
       "      <td>3</td>\n",
       "      <td>2</td>\n",
       "      <td>5</td>\n",
       "      <td>1</td>\n",
       "      <td>3</td>\n",
       "      <td>3</td>\n",
       "      <td>2</td>\n",
       "      <td>0</td>\n",
       "      <td>3</td>\n",
       "      <td>7</td>\n",
       "      <td>0</td>\n",
       "      <td>3</td>\n",
       "      <td>2</td>\n",
       "      <td>1</td>\n",
       "      <td>9</td>\n",
       "      <td>3</td>\n",
       "      <td>5</td>\n",
       "      <td>2017-01-01 14:25:00</td>\n",
       "      <td>2017-01-01 17:26:00</td>\n",
       "      <td>2017-01-01 14:30:00</td>\n",
       "      <td>1</td>\n",
       "      <td>1</td>\n",
       "      <td>1</td>\n",
       "      <td>7</td>\n",
       "      <td>17</td>\n",
       "    </tr>\n",
       "    <tr>\n",
       "      <th>1</th>\n",
       "      <td>134.0</td>\n",
       "      <td>AA</td>\n",
       "      <td>-5.0</td>\n",
       "      <td>0</td>\n",
       "      <td>-1.0</td>\n",
       "      <td>121.0</td>\n",
       "      <td>731.0</td>\n",
       "      <td>3</td>\n",
       "      <td>6</td>\n",
       "      <td>8</td>\n",
       "      <td>9</td>\n",
       "      <td>4</td>\n",
       "      <td>10</td>\n",
       "      <td>0</td>\n",
       "      <td>2</td>\n",
       "      <td>1</td>\n",
       "      <td>5</td>\n",
       "      <td>4</td>\n",
       "      <td>2</td>\n",
       "      <td>2</td>\n",
       "      <td>6</td>\n",
       "      <td>3</td>\n",
       "      <td>1</td>\n",
       "      <td>4</td>\n",
       "      <td>8</td>\n",
       "      <td>0</td>\n",
       "      <td>3</td>\n",
       "      <td>2</td>\n",
       "      <td>4</td>\n",
       "      <td>11</td>\n",
       "      <td>6</td>\n",
       "      <td>3</td>\n",
       "      <td>2017-01-02 14:25:00</td>\n",
       "      <td>2017-01-02 17:26:00</td>\n",
       "      <td>2017-01-02 14:20:00</td>\n",
       "      <td>1</td>\n",
       "      <td>1</td>\n",
       "      <td>2</td>\n",
       "      <td>1</td>\n",
       "      <td>17</td>\n",
       "    </tr>\n",
       "    <tr>\n",
       "      <th>2</th>\n",
       "      <td>117.0</td>\n",
       "      <td>AA</td>\n",
       "      <td>1.0</td>\n",
       "      <td>0</td>\n",
       "      <td>0.0</td>\n",
       "      <td>121.0</td>\n",
       "      <td>731.0</td>\n",
       "      <td>3</td>\n",
       "      <td>6</td>\n",
       "      <td>10</td>\n",
       "      <td>9</td>\n",
       "      <td>3</td>\n",
       "      <td>8</td>\n",
       "      <td>0</td>\n",
       "      <td>2</td>\n",
       "      <td>1</td>\n",
       "      <td>4</td>\n",
       "      <td>4</td>\n",
       "      <td>4</td>\n",
       "      <td>2</td>\n",
       "      <td>5</td>\n",
       "      <td>2</td>\n",
       "      <td>0</td>\n",
       "      <td>4</td>\n",
       "      <td>5</td>\n",
       "      <td>0</td>\n",
       "      <td>3</td>\n",
       "      <td>2</td>\n",
       "      <td>4</td>\n",
       "      <td>14</td>\n",
       "      <td>7</td>\n",
       "      <td>4</td>\n",
       "      <td>2017-01-03 14:25:00</td>\n",
       "      <td>2017-01-03 17:26:00</td>\n",
       "      <td>2017-01-03 14:26:00</td>\n",
       "      <td>1</td>\n",
       "      <td>1</td>\n",
       "      <td>3</td>\n",
       "      <td>2</td>\n",
       "      <td>17</td>\n",
       "    </tr>\n",
       "  </tbody>\n",
       "</table>\n",
       "</div>"
      ],
      "text/plain": [
       "   AOBTtoAIBT UniqueCarrierCode  OBTDelay  OBTDel15  OBTDelayGroups  \\\n",
       "0       117.0                AA       5.0         0             0.0   \n",
       "1       134.0                AA      -5.0         0            -1.0   \n",
       "2       117.0                AA       1.0         0             0.0   \n",
       "\n",
       "   SOBTtoSIBT  Distance  DistanceGroup  Num_Arr_SIBT-30  Num_Arr_SIBT-25  \\\n",
       "0       121.0     731.0              3                9                9   \n",
       "1       121.0     731.0              3                6                8   \n",
       "2       121.0     731.0              3                6               10   \n",
       "\n",
       "   Num_Arr_SIBT-20  Num_Arr_SIBT-15  Num_Arr_SIBT-10  Num_Arr_SIBT-5  \\\n",
       "0               12                3                7               0   \n",
       "1                9                4               10               0   \n",
       "2                9                3                8               0   \n",
       "\n",
       "   Num_Arr_SIBT-0  Num_Arr_SIBT+5  Num_Arr_SIBT+10  Num_Arr_SIBT+15  \\\n",
       "0               2               3                2                5   \n",
       "1               2               1                5                4   \n",
       "2               2               1                4                4   \n",
       "\n",
       "   Num_Arr_SIBT+20  Num_Arr_SIBT+25  Num_Dep_SIBT-30  Num_Dep_SIBT-25  \\\n",
       "0                1                3                3                2   \n",
       "1                2                2                6                3   \n",
       "2                4                2                5                2   \n",
       "\n",
       "   Num_Dep_SIBT-20  Num_Dep_SIBT-15  Num_Dep_SIBT-10  Num_Dep_SIBT-5  \\\n",
       "0                0                3                7               0   \n",
       "1                1                4                8               0   \n",
       "2                0                4                5               0   \n",
       "\n",
       "   Num_Dep_SIBT-0  Num_Dep_SIBT+5  Num_Dep_SIBT+10  Num_Dep_SIBT+15  \\\n",
       "0               3               2                1                9   \n",
       "1               3               2                4               11   \n",
       "2               3               2                4               14   \n",
       "\n",
       "   Num_Dep_SIBT+20  Num_Dep_SIBT+25                SOBT                SIBT  \\\n",
       "0                3                5 2017-01-01 14:25:00 2017-01-01 17:26:00   \n",
       "1                6                3 2017-01-02 14:25:00 2017-01-02 17:26:00   \n",
       "2                7                4 2017-01-03 14:25:00 2017-01-03 17:26:00   \n",
       "\n",
       "                 AOBT  SIBTQuarter  SIBTMonth  SIBTDayOfMonth  SIBTDayOfWeek  \\\n",
       "0 2017-01-01 14:30:00            1          1               1              7   \n",
       "1 2017-01-02 14:20:00            1          1               2              1   \n",
       "2 2017-01-03 14:26:00            1          1               3              2   \n",
       "\n",
       "   SIBTHour  \n",
       "0        17  \n",
       "1        17  \n",
       "2        17  "
      ]
     },
     "execution_count": 34,
     "metadata": {},
     "output_type": "execute_result"
    }
   ],
   "source": [
    "segment.head(3)"
   ]
  },
  {
   "cell_type": "code",
   "execution_count": 35,
   "metadata": {
    "ExecuteTime": {
     "end_time": "2020-05-28T02:58:37.668368Z",
     "start_time": "2020-05-28T02:58:37.521630Z"
    },
    "hidden": true
   },
   "outputs": [],
   "source": [
    "# format float to int\n",
    "to_int = ['AOBTtoAIBT', 'OBTDelay', 'OBTDelayGroups',\n",
    "          'SOBTtoSIBT', 'Distance', 'DistanceGroup']\n",
    "\n",
    "for item in to_int:\n",
    "    segment[item] = segment[item].astype(int)"
   ]
  },
  {
   "cell_type": "code",
   "execution_count": 36,
   "metadata": {
    "ExecuteTime": {
     "end_time": "2020-05-28T02:58:39.200580Z",
     "start_time": "2020-05-28T02:58:39.050982Z"
    },
    "hidden": true
   },
   "outputs": [
    {
     "name": "stdout",
     "output_type": "stream",
     "text": [
      "<class 'pandas.core.frame.DataFrame'>\n",
      "RangeIndex: 744965 entries, 0 to 744964\n",
      "Data columns (total 40 columns):\n",
      "AOBTtoAIBT           744965 non-null int32\n",
      "UniqueCarrierCode    744965 non-null object\n",
      "OBTDelay             744965 non-null int32\n",
      "OBTDel15             744965 non-null int64\n",
      "OBTDelayGroups       744965 non-null int32\n",
      "SOBTtoSIBT           744965 non-null int32\n",
      "Distance             744965 non-null int32\n",
      "DistanceGroup        744965 non-null int32\n",
      "Num_Arr_SIBT-30      744965 non-null int64\n",
      "Num_Arr_SIBT-25      744965 non-null int64\n",
      "Num_Arr_SIBT-20      744965 non-null int64\n",
      "Num_Arr_SIBT-15      744965 non-null int64\n",
      "Num_Arr_SIBT-10      744965 non-null int64\n",
      "Num_Arr_SIBT-5       744965 non-null int64\n",
      "Num_Arr_SIBT-0       744965 non-null int64\n",
      "Num_Arr_SIBT+5       744965 non-null int64\n",
      "Num_Arr_SIBT+10      744965 non-null int64\n",
      "Num_Arr_SIBT+15      744965 non-null int64\n",
      "Num_Arr_SIBT+20      744965 non-null int64\n",
      "Num_Arr_SIBT+25      744965 non-null int64\n",
      "Num_Dep_SIBT-30      744965 non-null int64\n",
      "Num_Dep_SIBT-25      744965 non-null int64\n",
      "Num_Dep_SIBT-20      744965 non-null int64\n",
      "Num_Dep_SIBT-15      744965 non-null int64\n",
      "Num_Dep_SIBT-10      744965 non-null int64\n",
      "Num_Dep_SIBT-5       744965 non-null int64\n",
      "Num_Dep_SIBT-0       744965 non-null int64\n",
      "Num_Dep_SIBT+5       744965 non-null int64\n",
      "Num_Dep_SIBT+10      744965 non-null int64\n",
      "Num_Dep_SIBT+15      744965 non-null int64\n",
      "Num_Dep_SIBT+20      744965 non-null int64\n",
      "Num_Dep_SIBT+25      744965 non-null int64\n",
      "SOBT                 744965 non-null datetime64[ns]\n",
      "SIBT                 744965 non-null datetime64[ns]\n",
      "AOBT                 744965 non-null datetime64[ns]\n",
      "SIBTQuarter          744965 non-null int64\n",
      "SIBTMonth            744965 non-null int64\n",
      "SIBTDayOfMonth       744965 non-null int64\n",
      "SIBTDayOfWeek        744965 non-null int64\n",
      "SIBTHour             744965 non-null int64\n",
      "dtypes: datetime64[ns](3), int32(6), int64(30), object(1)\n",
      "memory usage: 210.3+ MB\n"
     ]
    }
   ],
   "source": [
    "segment.info()"
   ]
  },
  {
   "cell_type": "markdown",
   "metadata": {
    "heading_collapsed": true
   },
   "source": [
    "# Feature Engineering"
   ]
  },
  {
   "cell_type": "code",
   "execution_count": 104,
   "metadata": {
    "ExecuteTime": {
     "end_time": "2020-05-28T03:16:17.961123Z",
     "start_time": "2020-05-28T03:16:17.432539Z"
    },
    "hidden": true
   },
   "outputs": [],
   "source": [
    "flights = segment.copy()\n",
    "\n",
    "# sort flights by SIBT\n",
    "flights.sort_values('SIBT', inplace=True, ascending=True)\n",
    "flights = flights.reset_index(drop=True)"
   ]
  },
  {
   "cell_type": "code",
   "execution_count": 105,
   "metadata": {
    "ExecuteTime": {
     "end_time": "2020-05-28T03:16:18.352078Z",
     "start_time": "2020-05-28T03:16:18.325151Z"
    },
    "hidden": true
   },
   "outputs": [
    {
     "data": {
      "text/html": [
       "<div>\n",
       "<style scoped>\n",
       "    .dataframe tbody tr th:only-of-type {\n",
       "        vertical-align: middle;\n",
       "    }\n",
       "\n",
       "    .dataframe tbody tr th {\n",
       "        vertical-align: top;\n",
       "    }\n",
       "\n",
       "    .dataframe thead th {\n",
       "        text-align: right;\n",
       "    }\n",
       "</style>\n",
       "<table border=\"1\" class=\"dataframe\">\n",
       "  <thead>\n",
       "    <tr style=\"text-align: right;\">\n",
       "      <th></th>\n",
       "      <th>AOBTtoAIBT</th>\n",
       "      <th>UniqueCarrierCode</th>\n",
       "      <th>OBTDelay</th>\n",
       "      <th>OBTDel15</th>\n",
       "      <th>OBTDelayGroups</th>\n",
       "      <th>SOBTtoSIBT</th>\n",
       "      <th>Distance</th>\n",
       "      <th>DistanceGroup</th>\n",
       "      <th>Num_Arr_SIBT-30</th>\n",
       "      <th>Num_Arr_SIBT-25</th>\n",
       "      <th>Num_Arr_SIBT-20</th>\n",
       "      <th>Num_Arr_SIBT-15</th>\n",
       "      <th>Num_Arr_SIBT-10</th>\n",
       "      <th>Num_Arr_SIBT-5</th>\n",
       "      <th>Num_Arr_SIBT-0</th>\n",
       "      <th>Num_Arr_SIBT+5</th>\n",
       "      <th>Num_Arr_SIBT+10</th>\n",
       "      <th>Num_Arr_SIBT+15</th>\n",
       "      <th>Num_Arr_SIBT+20</th>\n",
       "      <th>Num_Arr_SIBT+25</th>\n",
       "      <th>Num_Dep_SIBT-30</th>\n",
       "      <th>Num_Dep_SIBT-25</th>\n",
       "      <th>Num_Dep_SIBT-20</th>\n",
       "      <th>Num_Dep_SIBT-15</th>\n",
       "      <th>Num_Dep_SIBT-10</th>\n",
       "      <th>Num_Dep_SIBT-5</th>\n",
       "      <th>Num_Dep_SIBT-0</th>\n",
       "      <th>Num_Dep_SIBT+5</th>\n",
       "      <th>Num_Dep_SIBT+10</th>\n",
       "      <th>Num_Dep_SIBT+15</th>\n",
       "      <th>Num_Dep_SIBT+20</th>\n",
       "      <th>Num_Dep_SIBT+25</th>\n",
       "      <th>SOBT</th>\n",
       "      <th>SIBT</th>\n",
       "      <th>AOBT</th>\n",
       "      <th>SIBTQuarter</th>\n",
       "      <th>SIBTMonth</th>\n",
       "      <th>SIBTDayOfMonth</th>\n",
       "      <th>SIBTDayOfWeek</th>\n",
       "      <th>SIBTHour</th>\n",
       "    </tr>\n",
       "  </thead>\n",
       "  <tbody>\n",
       "    <tr>\n",
       "      <th>0</th>\n",
       "      <td>218</td>\n",
       "      <td>DL</td>\n",
       "      <td>-2</td>\n",
       "      <td>0</td>\n",
       "      <td>-1</td>\n",
       "      <td>223</td>\n",
       "      <td>1590</td>\n",
       "      <td>7</td>\n",
       "      <td>0</td>\n",
       "      <td>0</td>\n",
       "      <td>0</td>\n",
       "      <td>0</td>\n",
       "      <td>1</td>\n",
       "      <td>0</td>\n",
       "      <td>0</td>\n",
       "      <td>2</td>\n",
       "      <td>0</td>\n",
       "      <td>0</td>\n",
       "      <td>0</td>\n",
       "      <td>0</td>\n",
       "      <td>2</td>\n",
       "      <td>1</td>\n",
       "      <td>1</td>\n",
       "      <td>0</td>\n",
       "      <td>1</td>\n",
       "      <td>0</td>\n",
       "      <td>0</td>\n",
       "      <td>3</td>\n",
       "      <td>1</td>\n",
       "      <td>0</td>\n",
       "      <td>3</td>\n",
       "      <td>1</td>\n",
       "      <td>2017-01-01 00:55:00</td>\n",
       "      <td>2017-01-01 06:38:00</td>\n",
       "      <td>2017-01-01 00:53:00</td>\n",
       "      <td>1</td>\n",
       "      <td>1</td>\n",
       "      <td>1</td>\n",
       "      <td>7</td>\n",
       "      <td>6</td>\n",
       "    </tr>\n",
       "    <tr>\n",
       "      <th>1</th>\n",
       "      <td>81</td>\n",
       "      <td>F9</td>\n",
       "      <td>-4</td>\n",
       "      <td>0</td>\n",
       "      <td>-1</td>\n",
       "      <td>88</td>\n",
       "      <td>404</td>\n",
       "      <td>2</td>\n",
       "      <td>0</td>\n",
       "      <td>0</td>\n",
       "      <td>0</td>\n",
       "      <td>0</td>\n",
       "      <td>3</td>\n",
       "      <td>0</td>\n",
       "      <td>1</td>\n",
       "      <td>0</td>\n",
       "      <td>0</td>\n",
       "      <td>0</td>\n",
       "      <td>0</td>\n",
       "      <td>1</td>\n",
       "      <td>1</td>\n",
       "      <td>1</td>\n",
       "      <td>0</td>\n",
       "      <td>1</td>\n",
       "      <td>3</td>\n",
       "      <td>0</td>\n",
       "      <td>3</td>\n",
       "      <td>1</td>\n",
       "      <td>0</td>\n",
       "      <td>3</td>\n",
       "      <td>1</td>\n",
       "      <td>0</td>\n",
       "      <td>2017-01-01 05:15:00</td>\n",
       "      <td>2017-01-01 06:43:00</td>\n",
       "      <td>2017-01-01 05:11:00</td>\n",
       "      <td>1</td>\n",
       "      <td>1</td>\n",
       "      <td>1</td>\n",
       "      <td>7</td>\n",
       "      <td>6</td>\n",
       "    </tr>\n",
       "    <tr>\n",
       "      <th>2</th>\n",
       "      <td>88</td>\n",
       "      <td>EV</td>\n",
       "      <td>302</td>\n",
       "      <td>1</td>\n",
       "      <td>12</td>\n",
       "      <td>57</td>\n",
       "      <td>106</td>\n",
       "      <td>1</td>\n",
       "      <td>0</td>\n",
       "      <td>0</td>\n",
       "      <td>0</td>\n",
       "      <td>0</td>\n",
       "      <td>3</td>\n",
       "      <td>0</td>\n",
       "      <td>0</td>\n",
       "      <td>0</td>\n",
       "      <td>0</td>\n",
       "      <td>0</td>\n",
       "      <td>1</td>\n",
       "      <td>0</td>\n",
       "      <td>1</td>\n",
       "      <td>0</td>\n",
       "      <td>1</td>\n",
       "      <td>0</td>\n",
       "      <td>4</td>\n",
       "      <td>0</td>\n",
       "      <td>2</td>\n",
       "      <td>0</td>\n",
       "      <td>3</td>\n",
       "      <td>1</td>\n",
       "      <td>0</td>\n",
       "      <td>0</td>\n",
       "      <td>2017-01-01 05:49:00</td>\n",
       "      <td>2017-01-01 06:46:00</td>\n",
       "      <td>2017-01-01 10:51:00</td>\n",
       "      <td>1</td>\n",
       "      <td>1</td>\n",
       "      <td>1</td>\n",
       "      <td>7</td>\n",
       "      <td>6</td>\n",
       "    </tr>\n",
       "  </tbody>\n",
       "</table>\n",
       "</div>"
      ],
      "text/plain": [
       "   AOBTtoAIBT UniqueCarrierCode  OBTDelay  OBTDel15  OBTDelayGroups  \\\n",
       "0         218                DL        -2         0              -1   \n",
       "1          81                F9        -4         0              -1   \n",
       "2          88                EV       302         1              12   \n",
       "\n",
       "   SOBTtoSIBT  Distance  DistanceGroup  Num_Arr_SIBT-30  Num_Arr_SIBT-25  \\\n",
       "0         223      1590              7                0                0   \n",
       "1          88       404              2                0                0   \n",
       "2          57       106              1                0                0   \n",
       "\n",
       "   Num_Arr_SIBT-20  Num_Arr_SIBT-15  Num_Arr_SIBT-10  Num_Arr_SIBT-5  \\\n",
       "0                0                0                1               0   \n",
       "1                0                0                3               0   \n",
       "2                0                0                3               0   \n",
       "\n",
       "   Num_Arr_SIBT-0  Num_Arr_SIBT+5  Num_Arr_SIBT+10  Num_Arr_SIBT+15  \\\n",
       "0               0               2                0                0   \n",
       "1               1               0                0                0   \n",
       "2               0               0                0                0   \n",
       "\n",
       "   Num_Arr_SIBT+20  Num_Arr_SIBT+25  Num_Dep_SIBT-30  Num_Dep_SIBT-25  \\\n",
       "0                0                0                2                1   \n",
       "1                0                1                1                1   \n",
       "2                1                0                1                0   \n",
       "\n",
       "   Num_Dep_SIBT-20  Num_Dep_SIBT-15  Num_Dep_SIBT-10  Num_Dep_SIBT-5  \\\n",
       "0                1                0                1               0   \n",
       "1                0                1                3               0   \n",
       "2                1                0                4               0   \n",
       "\n",
       "   Num_Dep_SIBT-0  Num_Dep_SIBT+5  Num_Dep_SIBT+10  Num_Dep_SIBT+15  \\\n",
       "0               0               3                1                0   \n",
       "1               3               1                0                3   \n",
       "2               2               0                3                1   \n",
       "\n",
       "   Num_Dep_SIBT+20  Num_Dep_SIBT+25                SOBT                SIBT  \\\n",
       "0                3                1 2017-01-01 00:55:00 2017-01-01 06:38:00   \n",
       "1                1                0 2017-01-01 05:15:00 2017-01-01 06:43:00   \n",
       "2                0                0 2017-01-01 05:49:00 2017-01-01 06:46:00   \n",
       "\n",
       "                 AOBT  SIBTQuarter  SIBTMonth  SIBTDayOfMonth  SIBTDayOfWeek  \\\n",
       "0 2017-01-01 00:53:00            1          1               1              7   \n",
       "1 2017-01-01 05:11:00            1          1               1              7   \n",
       "2 2017-01-01 10:51:00            1          1               1              7   \n",
       "\n",
       "   SIBTHour  \n",
       "0         6  \n",
       "1         6  \n",
       "2         6  "
      ]
     },
     "execution_count": 105,
     "metadata": {},
     "output_type": "execute_result"
    }
   ],
   "source": [
    "flights.head(3)"
   ]
  },
  {
   "cell_type": "code",
   "execution_count": 106,
   "metadata": {
    "ExecuteTime": {
     "end_time": "2020-05-28T03:16:20.084444Z",
     "start_time": "2020-05-28T03:16:20.003660Z"
    },
    "hidden": true
   },
   "outputs": [
    {
     "data": {
      "text/html": [
       "<div>\n",
       "<style scoped>\n",
       "    .dataframe tbody tr th:only-of-type {\n",
       "        vertical-align: middle;\n",
       "    }\n",
       "\n",
       "    .dataframe tbody tr th {\n",
       "        vertical-align: top;\n",
       "    }\n",
       "\n",
       "    .dataframe thead th {\n",
       "        text-align: right;\n",
       "    }\n",
       "</style>\n",
       "<table border=\"1\" class=\"dataframe\">\n",
       "  <thead>\n",
       "    <tr style=\"text-align: right;\">\n",
       "      <th></th>\n",
       "      <th>Num_Arr_SIBT-30</th>\n",
       "      <th>Num_Arr_SIBT-25</th>\n",
       "      <th>Num_Arr_SIBT-20</th>\n",
       "      <th>Num_Arr_SIBT-15</th>\n",
       "      <th>Num_Arr_SIBT-10</th>\n",
       "      <th>Num_Arr_SIBT-5</th>\n",
       "      <th>Num_Arr_SIBT-0</th>\n",
       "      <th>Num_Arr_SIBT+5</th>\n",
       "      <th>Num_Arr_SIBT+10</th>\n",
       "      <th>Num_Arr_SIBT+15</th>\n",
       "      <th>Num_Arr_SIBT+20</th>\n",
       "      <th>Num_Arr_SIBT+25</th>\n",
       "      <th>Num_Dep_SIBT-30</th>\n",
       "      <th>Num_Dep_SIBT-25</th>\n",
       "      <th>Num_Dep_SIBT-20</th>\n",
       "      <th>Num_Dep_SIBT-15</th>\n",
       "      <th>Num_Dep_SIBT-10</th>\n",
       "      <th>Num_Dep_SIBT-5</th>\n",
       "      <th>Num_Dep_SIBT-0</th>\n",
       "      <th>Num_Dep_SIBT+5</th>\n",
       "      <th>Num_Dep_SIBT+10</th>\n",
       "      <th>Num_Dep_SIBT+15</th>\n",
       "      <th>Num_Dep_SIBT+20</th>\n",
       "      <th>Num_Dep_SIBT+25</th>\n",
       "    </tr>\n",
       "  </thead>\n",
       "  <tbody>\n",
       "    <tr>\n",
       "      <th>0</th>\n",
       "      <td>0</td>\n",
       "      <td>0</td>\n",
       "      <td>0</td>\n",
       "      <td>0</td>\n",
       "      <td>1</td>\n",
       "      <td>0</td>\n",
       "      <td>0</td>\n",
       "      <td>2</td>\n",
       "      <td>0</td>\n",
       "      <td>0</td>\n",
       "      <td>0</td>\n",
       "      <td>0</td>\n",
       "      <td>2</td>\n",
       "      <td>1</td>\n",
       "      <td>1</td>\n",
       "      <td>0</td>\n",
       "      <td>1</td>\n",
       "      <td>0</td>\n",
       "      <td>0</td>\n",
       "      <td>3</td>\n",
       "      <td>1</td>\n",
       "      <td>0</td>\n",
       "      <td>3</td>\n",
       "      <td>1</td>\n",
       "    </tr>\n",
       "    <tr>\n",
       "      <th>1</th>\n",
       "      <td>0</td>\n",
       "      <td>0</td>\n",
       "      <td>0</td>\n",
       "      <td>0</td>\n",
       "      <td>3</td>\n",
       "      <td>0</td>\n",
       "      <td>1</td>\n",
       "      <td>0</td>\n",
       "      <td>0</td>\n",
       "      <td>0</td>\n",
       "      <td>0</td>\n",
       "      <td>1</td>\n",
       "      <td>1</td>\n",
       "      <td>1</td>\n",
       "      <td>0</td>\n",
       "      <td>1</td>\n",
       "      <td>3</td>\n",
       "      <td>0</td>\n",
       "      <td>3</td>\n",
       "      <td>1</td>\n",
       "      <td>0</td>\n",
       "      <td>3</td>\n",
       "      <td>1</td>\n",
       "      <td>0</td>\n",
       "    </tr>\n",
       "    <tr>\n",
       "      <th>2</th>\n",
       "      <td>0</td>\n",
       "      <td>0</td>\n",
       "      <td>0</td>\n",
       "      <td>0</td>\n",
       "      <td>3</td>\n",
       "      <td>0</td>\n",
       "      <td>0</td>\n",
       "      <td>0</td>\n",
       "      <td>0</td>\n",
       "      <td>0</td>\n",
       "      <td>1</td>\n",
       "      <td>0</td>\n",
       "      <td>1</td>\n",
       "      <td>0</td>\n",
       "      <td>1</td>\n",
       "      <td>0</td>\n",
       "      <td>4</td>\n",
       "      <td>0</td>\n",
       "      <td>2</td>\n",
       "      <td>0</td>\n",
       "      <td>3</td>\n",
       "      <td>1</td>\n",
       "      <td>0</td>\n",
       "      <td>0</td>\n",
       "    </tr>\n",
       "    <tr>\n",
       "      <th>3</th>\n",
       "      <td>1</td>\n",
       "      <td>2</td>\n",
       "      <td>0</td>\n",
       "      <td>0</td>\n",
       "      <td>1</td>\n",
       "      <td>0</td>\n",
       "      <td>0</td>\n",
       "      <td>1</td>\n",
       "      <td>3</td>\n",
       "      <td>7</td>\n",
       "      <td>8</td>\n",
       "      <td>2</td>\n",
       "      <td>0</td>\n",
       "      <td>3</td>\n",
       "      <td>1</td>\n",
       "      <td>0</td>\n",
       "      <td>4</td>\n",
       "      <td>0</td>\n",
       "      <td>0</td>\n",
       "      <td>0</td>\n",
       "      <td>0</td>\n",
       "      <td>1</td>\n",
       "      <td>0</td>\n",
       "      <td>1</td>\n",
       "    </tr>\n",
       "    <tr>\n",
       "      <th>4</th>\n",
       "      <td>1</td>\n",
       "      <td>0</td>\n",
       "      <td>0</td>\n",
       "      <td>0</td>\n",
       "      <td>3</td>\n",
       "      <td>0</td>\n",
       "      <td>1</td>\n",
       "      <td>7</td>\n",
       "      <td>5</td>\n",
       "      <td>7</td>\n",
       "      <td>1</td>\n",
       "      <td>6</td>\n",
       "      <td>2</td>\n",
       "      <td>0</td>\n",
       "      <td>3</td>\n",
       "      <td>1</td>\n",
       "      <td>0</td>\n",
       "      <td>0</td>\n",
       "      <td>0</td>\n",
       "      <td>0</td>\n",
       "      <td>1</td>\n",
       "      <td>1</td>\n",
       "      <td>1</td>\n",
       "      <td>1</td>\n",
       "    </tr>\n",
       "  </tbody>\n",
       "</table>\n",
       "</div>"
      ],
      "text/plain": [
       "   Num_Arr_SIBT-30  Num_Arr_SIBT-25  Num_Arr_SIBT-20  Num_Arr_SIBT-15  \\\n",
       "0                0                0                0                0   \n",
       "1                0                0                0                0   \n",
       "2                0                0                0                0   \n",
       "3                1                2                0                0   \n",
       "4                1                0                0                0   \n",
       "\n",
       "   Num_Arr_SIBT-10  Num_Arr_SIBT-5  Num_Arr_SIBT-0  Num_Arr_SIBT+5  \\\n",
       "0                1               0               0               2   \n",
       "1                3               0               1               0   \n",
       "2                3               0               0               0   \n",
       "3                1               0               0               1   \n",
       "4                3               0               1               7   \n",
       "\n",
       "   Num_Arr_SIBT+10  Num_Arr_SIBT+15  Num_Arr_SIBT+20  Num_Arr_SIBT+25  \\\n",
       "0                0                0                0                0   \n",
       "1                0                0                0                1   \n",
       "2                0                0                1                0   \n",
       "3                3                7                8                2   \n",
       "4                5                7                1                6   \n",
       "\n",
       "   Num_Dep_SIBT-30  Num_Dep_SIBT-25  Num_Dep_SIBT-20  Num_Dep_SIBT-15  \\\n",
       "0                2                1                1                0   \n",
       "1                1                1                0                1   \n",
       "2                1                0                1                0   \n",
       "3                0                3                1                0   \n",
       "4                2                0                3                1   \n",
       "\n",
       "   Num_Dep_SIBT-10  Num_Dep_SIBT-5  Num_Dep_SIBT-0  Num_Dep_SIBT+5  \\\n",
       "0                1               0               0               3   \n",
       "1                3               0               3               1   \n",
       "2                4               0               2               0   \n",
       "3                4               0               0               0   \n",
       "4                0               0               0               0   \n",
       "\n",
       "   Num_Dep_SIBT+10  Num_Dep_SIBT+15  Num_Dep_SIBT+20  Num_Dep_SIBT+25  \n",
       "0                1                0                3                1  \n",
       "1                0                3                1                0  \n",
       "2                3                1                0                0  \n",
       "3                0                1                0                1  \n",
       "4                1                1                1                1  "
      ]
     },
     "execution_count": 106,
     "metadata": {},
     "output_type": "execute_result"
    }
   ],
   "source": [
    "traffic_new = flights[flights.columns[8:32]]\n",
    "traffic_new.head()"
   ]
  },
  {
   "cell_type": "code",
   "execution_count": 107,
   "metadata": {
    "ExecuteTime": {
     "end_time": "2020-05-28T03:16:21.402919Z",
     "start_time": "2020-05-28T03:16:21.365018Z"
    },
    "hidden": true
   },
   "outputs": [],
   "source": [
    "flights = flights[['AOBTtoAIBT', 'UniqueCarrierCode', 'OBTDelay', 'OBTDel15', 'OBTDelayGroups', 'SOBTtoSIBT',\n",
    "                   'Distance', 'DistanceGroup', 'SIBTQuarter', 'SIBTMonth', 'SIBTDayOfMonth', 'SIBTDayOfWeek',\n",
    "                   'SIBTHour']]"
   ]
  },
  {
   "cell_type": "code",
   "execution_count": 108,
   "metadata": {
    "ExecuteTime": {
     "end_time": "2020-05-28T03:16:22.239680Z",
     "start_time": "2020-05-28T03:16:22.105039Z"
    },
    "hidden": true
   },
   "outputs": [
    {
     "data": {
      "text/html": [
       "<div>\n",
       "<style scoped>\n",
       "    .dataframe tbody tr th:only-of-type {\n",
       "        vertical-align: middle;\n",
       "    }\n",
       "\n",
       "    .dataframe tbody tr th {\n",
       "        vertical-align: top;\n",
       "    }\n",
       "\n",
       "    .dataframe thead th {\n",
       "        text-align: right;\n",
       "    }\n",
       "</style>\n",
       "<table border=\"1\" class=\"dataframe\">\n",
       "  <thead>\n",
       "    <tr style=\"text-align: right;\">\n",
       "      <th></th>\n",
       "      <th>AOBTtoAIBT</th>\n",
       "      <th>UniqueCarrierCode</th>\n",
       "      <th>OBTDelay</th>\n",
       "      <th>OBTDel15</th>\n",
       "      <th>OBTDelayGroups</th>\n",
       "      <th>SOBTtoSIBT</th>\n",
       "      <th>Distance</th>\n",
       "      <th>DistanceGroup</th>\n",
       "      <th>SIBTQuarter</th>\n",
       "      <th>SIBTMonth</th>\n",
       "      <th>SIBTDayOfMonth</th>\n",
       "      <th>SIBTDayOfWeek</th>\n",
       "      <th>SIBTHour</th>\n",
       "      <th>Num_Arr_SIBT-30</th>\n",
       "      <th>Num_Arr_SIBT-25</th>\n",
       "      <th>Num_Arr_SIBT-20</th>\n",
       "      <th>Num_Arr_SIBT-15</th>\n",
       "      <th>Num_Arr_SIBT-10</th>\n",
       "      <th>Num_Arr_SIBT-5</th>\n",
       "      <th>Num_Arr_SIBT-0</th>\n",
       "      <th>Num_Arr_SIBT+5</th>\n",
       "      <th>Num_Arr_SIBT+10</th>\n",
       "      <th>Num_Arr_SIBT+15</th>\n",
       "      <th>Num_Arr_SIBT+20</th>\n",
       "      <th>Num_Arr_SIBT+25</th>\n",
       "      <th>Num_Dep_SIBT-30</th>\n",
       "      <th>Num_Dep_SIBT-25</th>\n",
       "      <th>Num_Dep_SIBT-20</th>\n",
       "      <th>Num_Dep_SIBT-15</th>\n",
       "      <th>Num_Dep_SIBT-10</th>\n",
       "      <th>Num_Dep_SIBT-5</th>\n",
       "      <th>Num_Dep_SIBT-0</th>\n",
       "      <th>Num_Dep_SIBT+5</th>\n",
       "      <th>Num_Dep_SIBT+10</th>\n",
       "      <th>Num_Dep_SIBT+15</th>\n",
       "      <th>Num_Dep_SIBT+20</th>\n",
       "      <th>Num_Dep_SIBT+25</th>\n",
       "    </tr>\n",
       "  </thead>\n",
       "  <tbody>\n",
       "    <tr>\n",
       "      <th>0</th>\n",
       "      <td>218</td>\n",
       "      <td>DL</td>\n",
       "      <td>-2</td>\n",
       "      <td>0</td>\n",
       "      <td>-1</td>\n",
       "      <td>223</td>\n",
       "      <td>1590</td>\n",
       "      <td>7</td>\n",
       "      <td>1</td>\n",
       "      <td>1</td>\n",
       "      <td>1</td>\n",
       "      <td>7</td>\n",
       "      <td>6</td>\n",
       "      <td>0</td>\n",
       "      <td>0</td>\n",
       "      <td>0</td>\n",
       "      <td>0</td>\n",
       "      <td>1</td>\n",
       "      <td>0</td>\n",
       "      <td>0</td>\n",
       "      <td>2</td>\n",
       "      <td>0</td>\n",
       "      <td>0</td>\n",
       "      <td>0</td>\n",
       "      <td>0</td>\n",
       "      <td>2</td>\n",
       "      <td>1</td>\n",
       "      <td>1</td>\n",
       "      <td>0</td>\n",
       "      <td>1</td>\n",
       "      <td>0</td>\n",
       "      <td>0</td>\n",
       "      <td>3</td>\n",
       "      <td>1</td>\n",
       "      <td>0</td>\n",
       "      <td>3</td>\n",
       "      <td>1</td>\n",
       "    </tr>\n",
       "    <tr>\n",
       "      <th>1</th>\n",
       "      <td>81</td>\n",
       "      <td>F9</td>\n",
       "      <td>-4</td>\n",
       "      <td>0</td>\n",
       "      <td>-1</td>\n",
       "      <td>88</td>\n",
       "      <td>404</td>\n",
       "      <td>2</td>\n",
       "      <td>1</td>\n",
       "      <td>1</td>\n",
       "      <td>1</td>\n",
       "      <td>7</td>\n",
       "      <td>6</td>\n",
       "      <td>0</td>\n",
       "      <td>0</td>\n",
       "      <td>0</td>\n",
       "      <td>0</td>\n",
       "      <td>3</td>\n",
       "      <td>0</td>\n",
       "      <td>1</td>\n",
       "      <td>0</td>\n",
       "      <td>0</td>\n",
       "      <td>0</td>\n",
       "      <td>0</td>\n",
       "      <td>1</td>\n",
       "      <td>1</td>\n",
       "      <td>1</td>\n",
       "      <td>0</td>\n",
       "      <td>1</td>\n",
       "      <td>3</td>\n",
       "      <td>0</td>\n",
       "      <td>3</td>\n",
       "      <td>1</td>\n",
       "      <td>0</td>\n",
       "      <td>3</td>\n",
       "      <td>1</td>\n",
       "      <td>0</td>\n",
       "    </tr>\n",
       "    <tr>\n",
       "      <th>2</th>\n",
       "      <td>88</td>\n",
       "      <td>EV</td>\n",
       "      <td>302</td>\n",
       "      <td>1</td>\n",
       "      <td>12</td>\n",
       "      <td>57</td>\n",
       "      <td>106</td>\n",
       "      <td>1</td>\n",
       "      <td>1</td>\n",
       "      <td>1</td>\n",
       "      <td>1</td>\n",
       "      <td>7</td>\n",
       "      <td>6</td>\n",
       "      <td>0</td>\n",
       "      <td>0</td>\n",
       "      <td>0</td>\n",
       "      <td>0</td>\n",
       "      <td>3</td>\n",
       "      <td>0</td>\n",
       "      <td>0</td>\n",
       "      <td>0</td>\n",
       "      <td>0</td>\n",
       "      <td>0</td>\n",
       "      <td>1</td>\n",
       "      <td>0</td>\n",
       "      <td>1</td>\n",
       "      <td>0</td>\n",
       "      <td>1</td>\n",
       "      <td>0</td>\n",
       "      <td>4</td>\n",
       "      <td>0</td>\n",
       "      <td>2</td>\n",
       "      <td>0</td>\n",
       "      <td>3</td>\n",
       "      <td>1</td>\n",
       "      <td>0</td>\n",
       "      <td>0</td>\n",
       "    </tr>\n",
       "    <tr>\n",
       "      <th>3</th>\n",
       "      <td>111</td>\n",
       "      <td>DL</td>\n",
       "      <td>-2</td>\n",
       "      <td>0</td>\n",
       "      <td>-1</td>\n",
       "      <td>98</td>\n",
       "      <td>447</td>\n",
       "      <td>2</td>\n",
       "      <td>1</td>\n",
       "      <td>1</td>\n",
       "      <td>1</td>\n",
       "      <td>7</td>\n",
       "      <td>7</td>\n",
       "      <td>1</td>\n",
       "      <td>2</td>\n",
       "      <td>0</td>\n",
       "      <td>0</td>\n",
       "      <td>1</td>\n",
       "      <td>0</td>\n",
       "      <td>0</td>\n",
       "      <td>1</td>\n",
       "      <td>3</td>\n",
       "      <td>7</td>\n",
       "      <td>8</td>\n",
       "      <td>2</td>\n",
       "      <td>0</td>\n",
       "      <td>3</td>\n",
       "      <td>1</td>\n",
       "      <td>0</td>\n",
       "      <td>4</td>\n",
       "      <td>0</td>\n",
       "      <td>0</td>\n",
       "      <td>0</td>\n",
       "      <td>0</td>\n",
       "      <td>1</td>\n",
       "      <td>0</td>\n",
       "      <td>1</td>\n",
       "    </tr>\n",
       "    <tr>\n",
       "      <th>4</th>\n",
       "      <td>72</td>\n",
       "      <td>DL</td>\n",
       "      <td>-4</td>\n",
       "      <td>0</td>\n",
       "      <td>-1</td>\n",
       "      <td>76</td>\n",
       "      <td>226</td>\n",
       "      <td>1</td>\n",
       "      <td>1</td>\n",
       "      <td>1</td>\n",
       "      <td>1</td>\n",
       "      <td>7</td>\n",
       "      <td>7</td>\n",
       "      <td>1</td>\n",
       "      <td>0</td>\n",
       "      <td>0</td>\n",
       "      <td>0</td>\n",
       "      <td>3</td>\n",
       "      <td>0</td>\n",
       "      <td>1</td>\n",
       "      <td>7</td>\n",
       "      <td>5</td>\n",
       "      <td>7</td>\n",
       "      <td>1</td>\n",
       "      <td>6</td>\n",
       "      <td>2</td>\n",
       "      <td>0</td>\n",
       "      <td>3</td>\n",
       "      <td>1</td>\n",
       "      <td>0</td>\n",
       "      <td>0</td>\n",
       "      <td>0</td>\n",
       "      <td>0</td>\n",
       "      <td>1</td>\n",
       "      <td>1</td>\n",
       "      <td>1</td>\n",
       "      <td>1</td>\n",
       "    </tr>\n",
       "  </tbody>\n",
       "</table>\n",
       "</div>"
      ],
      "text/plain": [
       "   AOBTtoAIBT UniqueCarrierCode  OBTDelay  OBTDel15  OBTDelayGroups  \\\n",
       "0         218                DL        -2         0              -1   \n",
       "1          81                F9        -4         0              -1   \n",
       "2          88                EV       302         1              12   \n",
       "3         111                DL        -2         0              -1   \n",
       "4          72                DL        -4         0              -1   \n",
       "\n",
       "   SOBTtoSIBT  Distance  DistanceGroup  SIBTQuarter  SIBTMonth  \\\n",
       "0         223      1590              7            1          1   \n",
       "1          88       404              2            1          1   \n",
       "2          57       106              1            1          1   \n",
       "3          98       447              2            1          1   \n",
       "4          76       226              1            1          1   \n",
       "\n",
       "   SIBTDayOfMonth  SIBTDayOfWeek  SIBTHour  Num_Arr_SIBT-30  Num_Arr_SIBT-25  \\\n",
       "0               1              7         6                0                0   \n",
       "1               1              7         6                0                0   \n",
       "2               1              7         6                0                0   \n",
       "3               1              7         7                1                2   \n",
       "4               1              7         7                1                0   \n",
       "\n",
       "   Num_Arr_SIBT-20  Num_Arr_SIBT-15  Num_Arr_SIBT-10  Num_Arr_SIBT-5  \\\n",
       "0                0                0                1               0   \n",
       "1                0                0                3               0   \n",
       "2                0                0                3               0   \n",
       "3                0                0                1               0   \n",
       "4                0                0                3               0   \n",
       "\n",
       "   Num_Arr_SIBT-0  Num_Arr_SIBT+5  Num_Arr_SIBT+10  Num_Arr_SIBT+15  \\\n",
       "0               0               2                0                0   \n",
       "1               1               0                0                0   \n",
       "2               0               0                0                0   \n",
       "3               0               1                3                7   \n",
       "4               1               7                5                7   \n",
       "\n",
       "   Num_Arr_SIBT+20  Num_Arr_SIBT+25  Num_Dep_SIBT-30  Num_Dep_SIBT-25  \\\n",
       "0                0                0                2                1   \n",
       "1                0                1                1                1   \n",
       "2                1                0                1                0   \n",
       "3                8                2                0                3   \n",
       "4                1                6                2                0   \n",
       "\n",
       "   Num_Dep_SIBT-20  Num_Dep_SIBT-15  Num_Dep_SIBT-10  Num_Dep_SIBT-5  \\\n",
       "0                1                0                1               0   \n",
       "1                0                1                3               0   \n",
       "2                1                0                4               0   \n",
       "3                1                0                4               0   \n",
       "4                3                1                0               0   \n",
       "\n",
       "   Num_Dep_SIBT-0  Num_Dep_SIBT+5  Num_Dep_SIBT+10  Num_Dep_SIBT+15  \\\n",
       "0               0               3                1                0   \n",
       "1               3               1                0                3   \n",
       "2               2               0                3                1   \n",
       "3               0               0                0                1   \n",
       "4               0               0                1                1   \n",
       "\n",
       "   Num_Dep_SIBT+20  Num_Dep_SIBT+25  \n",
       "0                3                1  \n",
       "1                1                0  \n",
       "2                0                0  \n",
       "3                0                1  \n",
       "4                1                1  "
      ]
     },
     "execution_count": 108,
     "metadata": {},
     "output_type": "execute_result"
    }
   ],
   "source": [
    "flights = pd.concat([flights, traffic_new], axis=1)\n",
    "flights.head()"
   ]
  },
  {
   "cell_type": "code",
   "execution_count": 72,
   "metadata": {
    "ExecuteTime": {
     "end_time": "2020-05-28T03:09:06.230569Z",
     "start_time": "2020-05-28T03:09:06.224586Z"
    },
    "hidden": true
   },
   "outputs": [
    {
     "data": {
      "text/plain": [
       "(744965, 37)"
      ]
     },
     "execution_count": 72,
     "metadata": {},
     "output_type": "execute_result"
    }
   ],
   "source": [
    "flights.shape"
   ]
  },
  {
   "cell_type": "markdown",
   "metadata": {
    "heading_collapsed": true,
    "hidden": true
   },
   "source": [
    "## Separate Train and Validation Datasets"
   ]
  },
  {
   "cell_type": "code",
   "execution_count": 109,
   "metadata": {
    "ExecuteTime": {
     "end_time": "2020-05-28T03:16:26.340740Z",
     "start_time": "2020-05-28T03:16:25.929808Z"
    },
    "hidden": true
   },
   "outputs": [
    {
     "data": {
      "text/plain": [
       "((734965, 37), (10000, 37))"
      ]
     },
     "execution_count": 109,
     "metadata": {},
     "output_type": "execute_result"
    }
   ],
   "source": [
    "# the last 10000 flights are set as validation dataset\n",
    "X_train, X_val, y_train, y_val = train_test_split(flights,\n",
    "                                                  flights['AOBTtoAIBT'],\n",
    "                                                  shuffle=False,\n",
    "                                                  test_size=10000)\n",
    "\n",
    "X_train.shape, X_val.shape"
   ]
  },
  {
   "cell_type": "code",
   "execution_count": 110,
   "metadata": {
    "ExecuteTime": {
     "end_time": "2020-05-28T03:16:27.894551Z",
     "start_time": "2020-05-28T03:16:27.859644Z"
    },
    "hidden": true
   },
   "outputs": [
    {
     "data": {
      "text/html": [
       "<div>\n",
       "<style scoped>\n",
       "    .dataframe tbody tr th:only-of-type {\n",
       "        vertical-align: middle;\n",
       "    }\n",
       "\n",
       "    .dataframe tbody tr th {\n",
       "        vertical-align: top;\n",
       "    }\n",
       "\n",
       "    .dataframe thead th {\n",
       "        text-align: right;\n",
       "    }\n",
       "</style>\n",
       "<table border=\"1\" class=\"dataframe\">\n",
       "  <thead>\n",
       "    <tr style=\"text-align: right;\">\n",
       "      <th></th>\n",
       "      <th>AOBTtoAIBT</th>\n",
       "      <th>UniqueCarrierCode</th>\n",
       "      <th>OBTDelay</th>\n",
       "      <th>OBTDel15</th>\n",
       "      <th>OBTDelayGroups</th>\n",
       "      <th>SOBTtoSIBT</th>\n",
       "      <th>Distance</th>\n",
       "      <th>DistanceGroup</th>\n",
       "      <th>SIBTQuarter</th>\n",
       "      <th>SIBTMonth</th>\n",
       "      <th>SIBTDayOfMonth</th>\n",
       "      <th>SIBTDayOfWeek</th>\n",
       "      <th>SIBTHour</th>\n",
       "      <th>Num_Arr_SIBT-30</th>\n",
       "      <th>Num_Arr_SIBT-25</th>\n",
       "      <th>Num_Arr_SIBT-20</th>\n",
       "      <th>Num_Arr_SIBT-15</th>\n",
       "      <th>Num_Arr_SIBT-10</th>\n",
       "      <th>Num_Arr_SIBT-5</th>\n",
       "      <th>Num_Arr_SIBT-0</th>\n",
       "      <th>Num_Arr_SIBT+5</th>\n",
       "      <th>Num_Arr_SIBT+10</th>\n",
       "      <th>Num_Arr_SIBT+15</th>\n",
       "      <th>Num_Arr_SIBT+20</th>\n",
       "      <th>Num_Arr_SIBT+25</th>\n",
       "      <th>Num_Dep_SIBT-30</th>\n",
       "      <th>Num_Dep_SIBT-25</th>\n",
       "      <th>Num_Dep_SIBT-20</th>\n",
       "      <th>Num_Dep_SIBT-15</th>\n",
       "      <th>Num_Dep_SIBT-10</th>\n",
       "      <th>Num_Dep_SIBT-5</th>\n",
       "      <th>Num_Dep_SIBT-0</th>\n",
       "      <th>Num_Dep_SIBT+5</th>\n",
       "      <th>Num_Dep_SIBT+10</th>\n",
       "      <th>Num_Dep_SIBT+15</th>\n",
       "      <th>Num_Dep_SIBT+20</th>\n",
       "      <th>Num_Dep_SIBT+25</th>\n",
       "    </tr>\n",
       "  </thead>\n",
       "  <tbody>\n",
       "    <tr>\n",
       "      <th>734965</th>\n",
       "      <td>106</td>\n",
       "      <td>DL</td>\n",
       "      <td>12</td>\n",
       "      <td>0</td>\n",
       "      <td>0</td>\n",
       "      <td>116</td>\n",
       "      <td>545</td>\n",
       "      <td>3</td>\n",
       "      <td>4</td>\n",
       "      <td>12</td>\n",
       "      <td>21</td>\n",
       "      <td>5</td>\n",
       "      <td>19</td>\n",
       "      <td>4</td>\n",
       "      <td>4</td>\n",
       "      <td>8</td>\n",
       "      <td>6</td>\n",
       "      <td>16</td>\n",
       "      <td>0</td>\n",
       "      <td>5</td>\n",
       "      <td>9</td>\n",
       "      <td>3</td>\n",
       "      <td>7</td>\n",
       "      <td>12</td>\n",
       "      <td>10</td>\n",
       "      <td>8</td>\n",
       "      <td>5</td>\n",
       "      <td>7</td>\n",
       "      <td>3</td>\n",
       "      <td>29</td>\n",
       "      <td>0</td>\n",
       "      <td>10</td>\n",
       "      <td>8</td>\n",
       "      <td>4</td>\n",
       "      <td>4</td>\n",
       "      <td>3</td>\n",
       "      <td>3</td>\n",
       "    </tr>\n",
       "    <tr>\n",
       "      <th>734966</th>\n",
       "      <td>110</td>\n",
       "      <td>DL</td>\n",
       "      <td>53</td>\n",
       "      <td>1</td>\n",
       "      <td>3</td>\n",
       "      <td>119</td>\n",
       "      <td>581</td>\n",
       "      <td>3</td>\n",
       "      <td>4</td>\n",
       "      <td>12</td>\n",
       "      <td>21</td>\n",
       "      <td>5</td>\n",
       "      <td>19</td>\n",
       "      <td>4</td>\n",
       "      <td>4</td>\n",
       "      <td>8</td>\n",
       "      <td>6</td>\n",
       "      <td>17</td>\n",
       "      <td>0</td>\n",
       "      <td>5</td>\n",
       "      <td>9</td>\n",
       "      <td>4</td>\n",
       "      <td>6</td>\n",
       "      <td>11</td>\n",
       "      <td>11</td>\n",
       "      <td>9</td>\n",
       "      <td>5</td>\n",
       "      <td>6</td>\n",
       "      <td>3</td>\n",
       "      <td>30</td>\n",
       "      <td>0</td>\n",
       "      <td>10</td>\n",
       "      <td>7</td>\n",
       "      <td>4</td>\n",
       "      <td>4</td>\n",
       "      <td>3</td>\n",
       "      <td>4</td>\n",
       "    </tr>\n",
       "    <tr>\n",
       "      <th>734967</th>\n",
       "      <td>99</td>\n",
       "      <td>9E</td>\n",
       "      <td>26</td>\n",
       "      <td>1</td>\n",
       "      <td>1</td>\n",
       "      <td>105</td>\n",
       "      <td>377</td>\n",
       "      <td>2</td>\n",
       "      <td>4</td>\n",
       "      <td>12</td>\n",
       "      <td>21</td>\n",
       "      <td>5</td>\n",
       "      <td>20</td>\n",
       "      <td>2</td>\n",
       "      <td>6</td>\n",
       "      <td>6</td>\n",
       "      <td>7</td>\n",
       "      <td>17</td>\n",
       "      <td>0</td>\n",
       "      <td>5</td>\n",
       "      <td>8</td>\n",
       "      <td>7</td>\n",
       "      <td>11</td>\n",
       "      <td>11</td>\n",
       "      <td>12</td>\n",
       "      <td>8</td>\n",
       "      <td>8</td>\n",
       "      <td>2</td>\n",
       "      <td>4</td>\n",
       "      <td>31</td>\n",
       "      <td>0</td>\n",
       "      <td>8</td>\n",
       "      <td>5</td>\n",
       "      <td>6</td>\n",
       "      <td>2</td>\n",
       "      <td>4</td>\n",
       "      <td>4</td>\n",
       "    </tr>\n",
       "  </tbody>\n",
       "</table>\n",
       "</div>"
      ],
      "text/plain": [
       "        AOBTtoAIBT UniqueCarrierCode  OBTDelay  OBTDel15  OBTDelayGroups  \\\n",
       "734965         106                DL        12         0               0   \n",
       "734966         110                DL        53         1               3   \n",
       "734967          99                9E        26         1               1   \n",
       "\n",
       "        SOBTtoSIBT  Distance  DistanceGroup  SIBTQuarter  SIBTMonth  \\\n",
       "734965         116       545              3            4         12   \n",
       "734966         119       581              3            4         12   \n",
       "734967         105       377              2            4         12   \n",
       "\n",
       "        SIBTDayOfMonth  SIBTDayOfWeek  SIBTHour  Num_Arr_SIBT-30  \\\n",
       "734965              21              5        19                4   \n",
       "734966              21              5        19                4   \n",
       "734967              21              5        20                2   \n",
       "\n",
       "        Num_Arr_SIBT-25  Num_Arr_SIBT-20  Num_Arr_SIBT-15  Num_Arr_SIBT-10  \\\n",
       "734965                4                8                6               16   \n",
       "734966                4                8                6               17   \n",
       "734967                6                6                7               17   \n",
       "\n",
       "        Num_Arr_SIBT-5  Num_Arr_SIBT-0  Num_Arr_SIBT+5  Num_Arr_SIBT+10  \\\n",
       "734965               0               5               9                3   \n",
       "734966               0               5               9                4   \n",
       "734967               0               5               8                7   \n",
       "\n",
       "        Num_Arr_SIBT+15  Num_Arr_SIBT+20  Num_Arr_SIBT+25  Num_Dep_SIBT-30  \\\n",
       "734965                7               12               10                8   \n",
       "734966                6               11               11                9   \n",
       "734967               11               11               12                8   \n",
       "\n",
       "        Num_Dep_SIBT-25  Num_Dep_SIBT-20  Num_Dep_SIBT-15  Num_Dep_SIBT-10  \\\n",
       "734965                5                7                3               29   \n",
       "734966                5                6                3               30   \n",
       "734967                8                2                4               31   \n",
       "\n",
       "        Num_Dep_SIBT-5  Num_Dep_SIBT-0  Num_Dep_SIBT+5  Num_Dep_SIBT+10  \\\n",
       "734965               0              10               8                4   \n",
       "734966               0              10               7                4   \n",
       "734967               0               8               5                6   \n",
       "\n",
       "        Num_Dep_SIBT+15  Num_Dep_SIBT+20  Num_Dep_SIBT+25  \n",
       "734965                4                3                3  \n",
       "734966                4                3                4  \n",
       "734967                2                4                4  "
      ]
     },
     "execution_count": 110,
     "metadata": {},
     "output_type": "execute_result"
    }
   ],
   "source": [
    "X_val.head(3)"
   ]
  },
  {
   "cell_type": "markdown",
   "metadata": {
    "hidden": true
   },
   "source": [
    "The validation set are flights after 2018-12-21 6pm."
   ]
  },
  {
   "cell_type": "markdown",
   "metadata": {
    "heading_collapsed": true,
    "hidden": true
   },
   "source": [
    "## Temporal Variables"
   ]
  },
  {
   "cell_type": "code",
   "execution_count": 111,
   "metadata": {
    "ExecuteTime": {
     "end_time": "2020-05-28T03:16:33.537454Z",
     "start_time": "2020-05-28T03:16:31.755224Z"
    },
    "hidden": true
   },
   "outputs": [
    {
     "data": {
      "image/png": "[encoded data removed]",
      "text/plain": [
       "<Figure size 432x288 with 1 Axes>"
      ]
     },
     "metadata": {
      "needs_background": "light"
     },
     "output_type": "display_data"
    },
    {
     "data": {
      "image/png": "[encoded data removed]",
      "text/plain": [
       "<Figure size 432x288 with 1 Axes>"
      ]
     },
     "metadata": {
      "needs_background": "light"
     },
     "output_type": "display_data"
    },
    {
     "data": {
      "image/png": "[encoded data removed]",
      "text/plain": [
       "<Figure size 432x288 with 1 Axes>"
      ]
     },
     "metadata": {
      "needs_background": "light"
     },
     "output_type": "display_data"
    },
    {
     "data": {
      "image/png": "[encoded data removed]",
      "text/plain": [
       "<Figure size 432x288 with 1 Axes>"
      ]
     },
     "metadata": {
      "needs_background": "light"
     },
     "output_type": "display_data"
    },
    {
     "data": {
      "image/png": "[encoded data removed]",
      "text/plain": [
       "<Figure size 432x288 with 1 Axes>"
      ]
     },
     "metadata": {
      "needs_background": "light"
     },
     "output_type": "display_data"
    }
   ],
   "source": [
    "temporal_var = ['SIBTQuarter', 'SIBTMonth',\n",
    "                'SIBTDayOfMonth', 'SIBTDayOfWeek', 'SIBTHour']\n",
    "\n",
    "\n",
    "def analyse_temporal_var(df, var):\n",
    "\n",
    "    # function plots median actual flight duration by every temporal var\n",
    "\n",
    "    temp = df.copy()\n",
    "    temp.groupby(var)['AOBTtoAIBT'].median().plot.bar()\n",
    "    plt.title(var)\n",
    "    plt.ylabel('AOBTtoAIBT')\n",
    "    plt.show()\n",
    "\n",
    "\n",
    "for var in temporal_var:\n",
    "    analyse_temporal_var(X_train, var)"
   ]
  },
  {
   "cell_type": "markdown",
   "metadata": {
    "heading_collapsed": true,
    "hidden": true
   },
   "source": [
    "## Categorical Variables"
   ]
  },
  {
   "cell_type": "code",
   "execution_count": 112,
   "metadata": {
    "ExecuteTime": {
     "end_time": "2020-05-28T03:16:37.506837Z",
     "start_time": "2020-05-28T03:16:37.501849Z"
    },
    "hidden": true
   },
   "outputs": [
    {
     "name": "stdout",
     "output_type": "stream",
     "text": [
      "Number of categorical variables:  1\n",
      "['UniqueCarrierCode']\n"
     ]
    }
   ],
   "source": [
    "# capture categorical variables in a list\n",
    "cat_vars = [var for var in X_train.columns if X_train[var].dtypes == 'O']\n",
    "\n",
    "print('Number of categorical variables: ', len(cat_vars))\n",
    "print(cat_vars)"
   ]
  },
  {
   "cell_type": "markdown",
   "metadata": {
    "hidden": true
   },
   "source": [
    "### Cardinality"
   ]
  },
  {
   "cell_type": "code",
   "execution_count": 113,
   "metadata": {
    "ExecuteTime": {
     "end_time": "2020-05-28T03:16:38.911081Z",
     "start_time": "2020-05-28T03:16:38.856228Z"
    },
    "hidden": true
   },
   "outputs": [
    {
     "data": {
      "text/plain": [
       "UniqueCarrierCode    15\n",
       "dtype: int64"
      ]
     },
     "execution_count": 113,
     "metadata": {},
     "output_type": "execute_result"
    }
   ],
   "source": [
    "# cardinality\n",
    "X_train[cat_vars].nunique()"
   ]
  },
  {
   "cell_type": "markdown",
   "metadata": {
    "hidden": true
   },
   "source": [
    "UniqueCarrierCode shows low cardinality."
   ]
  },
  {
   "cell_type": "markdown",
   "metadata": {
    "hidden": true
   },
   "source": [
    "### Rare Labels"
   ]
  },
  {
   "cell_type": "code",
   "execution_count": 114,
   "metadata": {
    "ExecuteTime": {
     "end_time": "2020-05-28T03:16:39.906417Z",
     "start_time": "2020-05-28T03:16:39.828663Z"
    },
    "hidden": true
   },
   "outputs": [
    {
     "name": "stdout",
     "output_type": "stream",
     "text": [
      "UniqueCarrierCode\n",
      "AS    0.001952\n",
      "B6    0.005856\n",
      "F9    0.008972\n",
      "MQ    0.000834\n",
      "OH    0.001497\n",
      "YV    0.002991\n",
      "YX    0.006464\n",
      "Name: UniqueCarrierCode, dtype: float64\n"
     ]
    }
   ],
   "source": [
    "def analyse_rare_labels(df, var, rare_perc):\n",
    "\n",
    "    # determine the % of observations per category\n",
    "    tmp = df.groupby(var)['UniqueCarrierCode'].count() / len(df)\n",
    "\n",
    "    # return categories that are rare\n",
    "    return tmp[tmp < rare_perc]\n",
    "\n",
    "\n",
    "# print categories that are present in less than\n",
    "# 1 % of the observations\n",
    "rare_perc = 0.01\n",
    "for var in cat_vars:\n",
    "    print(analyse_rare_labels(X_train, var, rare_perc))"
   ]
  },
  {
   "cell_type": "markdown",
   "metadata": {
    "hidden": true
   },
   "source": [
    "These airlines are present in less than 1% of flights in ATL in 2017 and 2018. Labels that are under-represented in the dataset tend to cause over-fitting of models. They will be removed."
   ]
  },
  {
   "cell_type": "code",
   "execution_count": 115,
   "metadata": {
    "ExecuteTime": {
     "end_time": "2020-05-28T03:16:41.726548Z",
     "start_time": "2020-05-28T03:16:41.619834Z"
    },
    "code_folding": [],
    "hidden": true
   },
   "outputs": [],
   "source": [
    "def find_frequent_labels(df, var, rare_perc):\n",
    "    # function finds the labels that are shared by more than\n",
    "    # a certain % of the houses in the dataset\n",
    "    tmp = df.groupby(var)['UniqueCarrierCode'].count() / len(df)\n",
    "    return tmp[tmp >= rare_perc].index\n",
    "\n",
    "\n",
    "for var in cat_vars:\n",
    "\n",
    "    # find the frequent categories\n",
    "    frequent_ls = find_frequent_labels(X_train, var, rare_perc)\n",
    "\n",
    "    # replace rare categories by the string \"Rare\"\n",
    "    X_train[var] = np.where(X_train[var].isin(\n",
    "        frequent_ls), X_train[var], 'Rare')\n",
    "    X_val[var] = np.where(X_val[var].isin(\n",
    "        frequent_ls), X_val[var], 'Rare')"
   ]
  },
  {
   "cell_type": "markdown",
   "metadata": {
    "hidden": true
   },
   "source": [
    "### Encode"
   ]
  },
  {
   "cell_type": "markdown",
   "metadata": {
    "hidden": true
   },
   "source": [
    "Next, transform the strings of the categorical variables into numbers, so that we capture the monotonic relationship between the label and the target."
   ]
  },
  {
   "cell_type": "code",
   "execution_count": 116,
   "metadata": {
    "ExecuteTime": {
     "end_time": "2020-05-28T03:16:43.338268Z",
     "start_time": "2020-05-28T03:16:43.230526Z"
    },
    "hidden": true
   },
   "outputs": [],
   "source": [
    "# this function will assign discrete values to the strings of the variables,\n",
    "# so that the smaller value corresponds to the category that shows the smaller\n",
    "# mean AOBTtoAIBT\n",
    "\n",
    "\n",
    "def replace_categories(train, val, var, target):\n",
    "\n",
    "    # order the categories in a variable from that with the lowest\n",
    "    # house sale price, to that with the highest\n",
    "    ordered_labels = train.groupby([var])[target].mean().sort_values().index\n",
    "\n",
    "    # create a dictionary of ordered categories to integer values\n",
    "    ordinal_label = {k: i for i, k in enumerate(ordered_labels, 0)}\n",
    "\n",
    "    # use the dictionary to replace the categorical strings by integers\n",
    "    train[var] = train[var].map(ordinal_label)\n",
    "    val[var] = val[var].map(ordinal_label)\n",
    "\n",
    "\n",
    "for var in cat_vars:\n",
    "    replace_categories(X_train, X_val, var, 'AOBTtoAIBT')"
   ]
  },
  {
   "cell_type": "markdown",
   "metadata": {
    "heading_collapsed": true,
    "hidden": true
   },
   "source": [
    "## Feature Scaling"
   ]
  },
  {
   "cell_type": "markdown",
   "metadata": {
    "hidden": true
   },
   "source": [
    "For use in linear models, features need to be either scaled or normalised. In the next section, I will scale features to the minimum and maximum values:"
   ]
  },
  {
   "cell_type": "code",
   "execution_count": 117,
   "metadata": {
    "ExecuteTime": {
     "end_time": "2020-05-28T03:16:46.337291Z",
     "start_time": "2020-05-28T03:16:45.986232Z"
    },
    "hidden": true
   },
   "outputs": [],
   "source": [
    "X_train = X_train[X_train.columns[1:37]]\n",
    "X_val = X_val[X_val.columns[1:37]]"
   ]
  },
  {
   "cell_type": "code",
   "execution_count": 118,
   "metadata": {
    "ExecuteTime": {
     "end_time": "2020-05-28T03:16:49.156716Z",
     "start_time": "2020-05-28T03:16:47.796358Z"
    },
    "hidden": true
   },
   "outputs": [],
   "source": [
    "scaler = StandardScaler()\n",
    "scaler.fit(X_train)\n",
    "X_train = scaler.transform(X_train)\n",
    "X_val = scaler.transform(X_val)"
   ]
  },
  {
   "cell_type": "markdown",
   "metadata": {
    "heading_collapsed": true
   },
   "source": [
    "# Feature Selection"
   ]
  },
  {
   "cell_type": "code",
   "execution_count": 121,
   "metadata": {
    "ExecuteTime": {
     "end_time": "2020-05-28T03:17:45.112779Z",
     "start_time": "2020-05-28T03:17:37.880125Z"
    },
    "hidden": true
   },
   "outputs": [
    {
     "data": {
      "text/plain": [
       "SelectFromModel(estimator=Lasso(alpha=0.005, copy_X=True, fit_intercept=True,\n",
       "                                max_iter=1000, normalize=False, positive=False,\n",
       "                                precompute=False, random_state=42,\n",
       "                                selection='cyclic', tol=0.0001,\n",
       "                                warm_start=False),\n",
       "                max_features=None, norm_order=1, prefit=False, threshold=None)"
      ]
     },
     "execution_count": 121,
     "metadata": {},
     "output_type": "execute_result"
    }
   ],
   "source": [
    "# remember to set the seed, the random state in this function\n",
    "sel_ = SelectFromModel(Lasso(alpha=0.005, random_state=RANDOM_SEED))\n",
    "\n",
    "# train Lasso model and select features\n",
    "sel_.fit(X_train, y_train)"
   ]
  },
  {
   "cell_type": "code",
   "execution_count": 122,
   "metadata": {
    "ExecuteTime": {
     "end_time": "2020-05-28T03:17:45.464839Z",
     "start_time": "2020-05-28T03:17:45.336182Z"
    },
    "hidden": true
   },
   "outputs": [
    {
     "name": "stdout",
     "output_type": "stream",
     "text": [
      "total features: 36\n",
      "selected features: 33\n",
      "features with coefficients shrank to zero: 3\n"
     ]
    }
   ],
   "source": [
    "# let's print the number of total and selected features\n",
    "\n",
    "# this is how we can make a list of the selected features\n",
    "selected_feats = flights.iloc[:, 1:37].columns[(sel_.get_support())]\n",
    "\n",
    "# let's print some stats\n",
    "print('total features: {}'.format((X_train.shape[1])))\n",
    "print('selected features: {}'.format(len(selected_feats)))\n",
    "print('features with coefficients shrank to zero: {}'.format(\n",
    "    np.sum(sel_.estimator_.coef_ == 0)))"
   ]
  },
  {
   "cell_type": "code",
   "execution_count": 123,
   "metadata": {
    "ExecuteTime": {
     "end_time": "2020-05-28T03:17:45.656325Z",
     "start_time": "2020-05-28T03:17:45.651339Z"
    },
    "hidden": true
   },
   "outputs": [
    {
     "data": {
      "text/plain": [
       "Index(['UniqueCarrierCode', 'OBTDelay', 'OBTDel15', 'OBTDelayGroups',\n",
       "       'SOBTtoSIBT', 'Distance', 'DistanceGroup', 'SIBTQuarter', 'SIBTMonth',\n",
       "       'SIBTDayOfMonth', 'SIBTDayOfWeek', 'SIBTHour', 'Num_Arr_SIBT-30',\n",
       "       'Num_Arr_SIBT-25', 'Num_Arr_SIBT-20', 'Num_Arr_SIBT-15',\n",
       "       'Num_Arr_SIBT-10', 'Num_Arr_SIBT-0', 'Num_Arr_SIBT+5',\n",
       "       'Num_Arr_SIBT+10', 'Num_Arr_SIBT+20', 'Num_Arr_SIBT+25',\n",
       "       'Num_Dep_SIBT-30', 'Num_Dep_SIBT-25', 'Num_Dep_SIBT-20',\n",
       "       'Num_Dep_SIBT-15', 'Num_Dep_SIBT-10', 'Num_Dep_SIBT-0',\n",
       "       'Num_Dep_SIBT+5', 'Num_Dep_SIBT+10', 'Num_Dep_SIBT+15',\n",
       "       'Num_Dep_SIBT+20', 'Num_Dep_SIBT+25'],\n",
       "      dtype='object')"
      ]
     },
     "execution_count": 123,
     "metadata": {},
     "output_type": "execute_result"
    }
   ],
   "source": [
    "# print the selected features\n",
    "selected_feats"
   ]
  },
  {
   "cell_type": "code",
   "execution_count": 124,
   "metadata": {
    "ExecuteTime": {
     "end_time": "2020-05-28T03:17:45.836844Z",
     "start_time": "2020-05-28T03:17:45.832854Z"
    },
    "hidden": true
   },
   "outputs": [],
   "source": [
    "feats = selected_feats.to_list()"
   ]
  },
  {
   "cell_type": "code",
   "execution_count": 126,
   "metadata": {
    "ExecuteTime": {
     "end_time": "2020-05-28T03:23:54.143998Z",
     "start_time": "2020-05-28T03:23:54.025282Z"
    },
    "hidden": true
   },
   "outputs": [],
   "source": [
    "X_train = np.delete(X_train, [17, 21, 29], 1)\n",
    "X_val = np.delete(X_val, [17, 21, 29], 1)"
   ]
  },
  {
   "cell_type": "markdown",
   "metadata": {},
   "source": [
    "# Model"
   ]
  },
  {
   "cell_type": "markdown",
   "metadata": {},
   "source": [
    "## Lasso Regression"
   ]
  },
  {
   "cell_type": "code",
   "execution_count": 144,
   "metadata": {
    "ExecuteTime": {
     "end_time": "2020-05-28T04:36:20.099987Z",
     "start_time": "2020-05-28T04:36:13.315140Z"
    }
   },
   "outputs": [
    {
     "data": {
      "text/plain": [
       "Lasso(alpha=0.005, copy_X=True, fit_intercept=True, max_iter=1000,\n",
       "      normalize=False, positive=False, precompute=False, random_state=42,\n",
       "      selection='cyclic', tol=0.0001, warm_start=False)"
      ]
     },
     "execution_count": 144,
     "metadata": {},
     "output_type": "execute_result"
    }
   ],
   "source": [
    "# set up the model\n",
    "lasso = Lasso(alpha=0.005, random_state=RANDOM_SEED)\n",
    "\n",
    "# train the model\n",
    "lasso.fit(X_train, y_train)"
   ]
  },
  {
   "cell_type": "markdown",
   "metadata": {},
   "source": [
    "### Evalutation of Lasso"
   ]
  },
  {
   "cell_type": "code",
   "execution_count": 148,
   "metadata": {
    "ExecuteTime": {
     "end_time": "2020-05-28T04:37:48.776319Z",
     "start_time": "2020-05-28T04:37:48.600788Z"
    }
   },
   "outputs": [
    {
     "name": "stdout",
     "output_type": "stream",
     "text": [
      "train rmse: 12.864\n",
      "train mae: 8.676\n",
      "train r2: 0.939\n",
      "train explained variance score: 0.939\n",
      "val max error: 419.161\n",
      "\n",
      "val rmse: 12.795\n",
      "val mae: 9.444\n",
      "val r2: 0.941\n",
      "val explained variance score: 0.941\n",
      "val max error: 121.883\n",
      "\n",
      "sch rmse: 14.623\n",
      "sch mae: 11.702\n",
      "sch r2: 0.923\n",
      "sch explained variance score: 0.936\n",
      "val max error: 123.000\n"
     ]
    }
   ],
   "source": [
    "# evaluate performance using the RMSE, MAE and R2\n",
    "\n",
    "# make predictions for train set\n",
    "pred_train = lasso.predict(X_train)\n",
    "\n",
    "# determine metrics\n",
    "print('train rmse: {:.3f}'.format(sqrt(mean_squared_error(y_train, pred_train))))\n",
    "print('train mae: {:.3f}'.format(mean_absolute_error(y_train, pred_train)))\n",
    "print('train r2: {:.3f}'.format(r2_score(y_train, pred_train)))\n",
    "print('train explained variance score: {:.3f}'.format(\n",
    "    explained_variance_score(y_train, pred_train)))\n",
    "print('val max error: {:.3f}'.format(max_error(y_train, pred_train)))\n",
    "print()\n",
    "\n",
    "# make predictions for validation set\n",
    "pred_val = lasso.predict(X_val)\n",
    "\n",
    "# determine metrics\n",
    "print('val rmse: {:.3f}'.format(sqrt(mean_squared_error(y_val, pred_val))))\n",
    "print('val mae: {:.3f}'.format(mean_absolute_error(y_val, pred_val)))\n",
    "print('val r2: {:.3f}'.format(r2_score(y_val, pred_val)))\n",
    "print('val explained variance score: {:.3f}'.format(\n",
    "    explained_variance_score(y_val, pred_val)))\n",
    "print('val max error: {:.3f}'.format(max_error(y_val, pred_val)))\n",
    "print()\n",
    "\n",
    "sch_val = flights['SOBTtoSIBT'][-10000:]\n",
    "# determine metrics\n",
    "print('sch rmse: {:.3f}'.format(sqrt(mean_squared_error(y_val, sch_val))))\n",
    "print('sch mae: {:.3f}'.format(mean_absolute_error(y_val, sch_val)))\n",
    "print('sch r2: {:.3f}'.format(r2_score(y_val, sch_val)))\n",
    "print('sch explained variance score: {:.3f}'.format(\n",
    "    explained_variance_score(y_val, sch_val)))\n",
    "print('val max error: {:.3f}'.format(max_error(y_val, sch_val)))"
   ]
  },
  {
   "cell_type": "code",
   "execution_count": 131,
   "metadata": {
    "ExecuteTime": {
     "end_time": "2020-05-28T03:27:25.065968Z",
     "start_time": "2020-05-28T03:27:24.844558Z"
    }
   },
   "outputs": [
    {
     "data": {
      "text/plain": [
       "Text(0.5, 1.0, 'Evaluation of Lasso Predictions')"
      ]
     },
     "execution_count": 131,
     "metadata": {},
     "output_type": "execute_result"
    },
    {
     "data": {
      "image/png": "[encoded data removed]",
      "text/plain": [
       "<Figure size 360x360 with 1 Axes>"
      ]
     },
     "metadata": {
      "needs_background": "light"
     },
     "output_type": "display_data"
    }
   ],
   "source": [
    "# evaluate our predictions respect to actual durations\n",
    "plt.figure(figsize=(5,5))\n",
    "plt.scatter(y_val, pred_val)\n",
    "plt.xlabel('AOBTtoAIBT')\n",
    "plt.ylabel('Predicted AOBTtoAIBT')\n",
    "plt.title('Evaluation of Lasso Predictions')"
   ]
  },
  {
   "cell_type": "code",
   "execution_count": 132,
   "metadata": {
    "ExecuteTime": {
     "end_time": "2020-05-28T03:27:28.139190Z",
     "start_time": "2020-05-28T03:27:27.901824Z"
    }
   },
   "outputs": [
    {
     "data": {
      "text/plain": [
       "<matplotlib.axes._subplots.AxesSubplot at 0x1847c22ed68>"
      ]
     },
     "execution_count": 132,
     "metadata": {},
     "output_type": "execute_result"
    },
    {
     "data": {
      "image/png": "[encoded data removed]",
      "text/plain": [
       "<Figure size 432x288 with 1 Axes>"
      ]
     },
     "metadata": {
      "needs_background": "light"
     },
     "output_type": "display_data"
    }
   ],
   "source": [
    "# let's evaluate the distribution of the errors:\n",
    "# they should be fairly normally distributed\n",
    "errors = y_val - lasso.predict(X_val)\n",
    "errors.hist(bins=30)"
   ]
  },
  {
   "cell_type": "markdown",
   "metadata": {},
   "source": [
    "The distribution of the errors follows a gaussian distribution. That suggests that our model is doing something useful."
   ]
  },
  {
   "cell_type": "code",
   "execution_count": 133,
   "metadata": {
    "ExecuteTime": {
     "end_time": "2020-05-28T03:27:32.355599Z",
     "start_time": "2020-05-28T03:27:31.881836Z"
    }
   },
   "outputs": [
    {
     "data": {
      "image/png": "[encoded data removed]",
      "text/plain": [
       "<Figure size 1008x576 with 1 Axes>"
      ]
     },
     "metadata": {
      "needs_background": "light"
     },
     "output_type": "display_data"
    }
   ],
   "source": [
    "y_val_series = y_val.reset_index(drop=True)\n",
    "# sch_val_series = sch_val.reset_index(drop=True)\n",
    "pred_val_series = pd.Series(pred_val)\n",
    "durations = pd.concat([y_val_series, pred_val_series], axis=1)\n",
    "# durations = pd.concat([durations, sch_val_series], axis=1)\n",
    "\n",
    "# durations = durations.rename(columns={'AOBTtoAIBT': 'Actual', 0: 'Predicted', 'SOBTtoSIBT': 'Scheduled'})\n",
    "durations = durations.rename(columns={'AOBTtoAIBT': 'Actual', 0: 'Predicted'})\n",
    "\n",
    "first_50 = durations.head(50)\n",
    "first_50.plot(kind='bar',figsize=(14,8))\n",
    "plt.grid(which='major', linestyle='-', linewidth='0.5', color='green')\n",
    "plt.grid(which='minor', linestyle=':', linewidth='0.5', color='black')\n",
    "plt.show()"
   ]
  },
  {
   "cell_type": "markdown",
   "metadata": {},
   "source": [
    "### Feature Importance"
   ]
  },
  {
   "cell_type": "code",
   "execution_count": 154,
   "metadata": {
    "ExecuteTime": {
     "end_time": "2020-05-28T09:23:47.454925Z",
     "start_time": "2020-05-28T09:23:47.113820Z"
    }
   },
   "outputs": [
    {
     "data": {
      "text/plain": [
       "Text(0.5, 1.0, 'Feature Importance')"
      ]
     },
     "execution_count": 154,
     "metadata": {},
     "output_type": "execute_result"
    },
    {
     "data": {
      "image/png": "[encoded data removed]",
      "text/plain": [
       "<Figure size 1296x432 with 1 Axes>"
      ]
     },
     "metadata": {
      "needs_background": "light"
     },
     "output_type": "display_data"
    }
   ],
   "source": [
    "# Finally, look at the feature importance\n",
    "importance = pd.Series(np.abs(lasso.coef_.ravel()))\n",
    "importance.index = feats\n",
    "importance.sort_values(inplace=True, ascending=False)\n",
    "importance.plot.bar(figsize=(18, 6))\n",
    "plt.ylabel('Lasso Coefficients')\n",
    "plt.title('Feature Importance')"
   ]
  },
  {
   "cell_type": "markdown",
   "metadata": {
    "heading_collapsed": true
   },
   "source": [
    "## Ridge Regression"
   ]
  },
  {
   "cell_type": "markdown",
   "metadata": {
    "heading_collapsed": true,
    "hidden": true
   },
   "source": [
    "### Evaluation of Ridge"
   ]
  },
  {
   "cell_type": "code",
   "execution_count": 152,
   "metadata": {
    "ExecuteTime": {
     "end_time": "2020-05-28T09:21:47.021357Z",
     "start_time": "2020-05-28T09:21:46.757838Z"
    },
    "hidden": true
   },
   "outputs": [
    {
     "data": {
      "text/plain": [
       "Ridge(alpha=0.005, copy_X=True, fit_intercept=True, max_iter=None,\n",
       "      normalize=False, random_state=42, solver='auto', tol=0.001)"
      ]
     },
     "execution_count": 152,
     "metadata": {},
     "output_type": "execute_result"
    }
   ],
   "source": [
    "# set up the model\n",
    "ridge = Ridge(alpha=0.005, random_state=RANDOM_SEED)\n",
    "\n",
    "# train the model\n",
    "ridge.fit(X_train, y_train)"
   ]
  },
  {
   "cell_type": "code",
   "execution_count": 157,
   "metadata": {
    "ExecuteTime": {
     "end_time": "2020-05-28T09:28:38.950958Z",
     "start_time": "2020-05-28T09:28:38.787396Z"
    },
    "hidden": true
   },
   "outputs": [
    {
     "name": "stdout",
     "output_type": "stream",
     "text": [
      "train rmse: 12.864\n",
      "train mae: 8.676\n",
      "train r2: 0.939\n",
      "train explained variance score: 0.939\n",
      "val max error: 419.224\n",
      "\n",
      "val rmse: 12.795\n",
      "val mae: 9.446\n",
      "val r2: 0.941\n",
      "val explained variance score: 0.941\n",
      "val max error: 121.835\n",
      "\n",
      "sch rmse: 14.623\n",
      "sch mae: 11.702\n",
      "sch r2: 0.923\n",
      "sch explained variance score: 0.936\n",
      "val max error: 123.000\n"
     ]
    }
   ],
   "source": [
    "# evaluate performance using the RMSE, MAE and R2\n",
    "\n",
    "# make predictions for train set\n",
    "pred_train = ridge.predict(X_train)\n",
    "\n",
    "# determine metrics\n",
    "print('train rmse: {:.3f}'.format(sqrt(mean_squared_error(y_train, pred_train))))\n",
    "print('train mae: {:.3f}'.format(mean_absolute_error(y_train, pred_train)))\n",
    "print('train r2: {:.3f}'.format(r2_score(y_train, pred_train)))\n",
    "print('train explained variance score: {:.3f}'.format(\n",
    "    explained_variance_score(y_train, pred_train)))\n",
    "print('val max error: {:.3f}'.format(max_error(y_train, pred_train)))\n",
    "print()\n",
    "\n",
    "# make predictions for validation set\n",
    "pred_val = ridge.predict(X_val)\n",
    "\n",
    "# determine metrics\n",
    "print('val rmse: {:.3f}'.format(sqrt(mean_squared_error(y_val, pred_val))))\n",
    "print('val mae: {:.3f}'.format(mean_absolute_error(y_val, pred_val)))\n",
    "print('val r2: {:.3f}'.format(r2_score(y_val, pred_val)))\n",
    "print('val explained variance score: {:.3f}'.format(\n",
    "    explained_variance_score(y_val, pred_val)))\n",
    "print('val max error: {:.3f}'.format(max_error(y_val, pred_val)))\n",
    "print()\n",
    "\n",
    "sch_val = flights['SOBTtoSIBT'][-10000:]\n",
    "# determine metrics\n",
    "print('sch rmse: {:.3f}'.format(sqrt(mean_squared_error(y_val, sch_val))))\n",
    "print('sch mae: {:.3f}'.format(mean_absolute_error(y_val, sch_val)))\n",
    "print('sch r2: {:.3f}'.format(r2_score(y_val, sch_val)))\n",
    "print('sch explained variance score: {:.3f}'.format(\n",
    "    explained_variance_score(y_val, sch_val)))\n",
    "print('val max error: {:.3f}'.format(max_error(y_val, sch_val)))"
   ]
  },
  {
   "cell_type": "markdown",
   "metadata": {
    "heading_collapsed": true,
    "hidden": true
   },
   "source": [
    "### Feature Importance"
   ]
  },
  {
   "cell_type": "code",
   "execution_count": 156,
   "metadata": {
    "ExecuteTime": {
     "end_time": "2020-05-28T09:23:58.900189Z",
     "start_time": "2020-05-28T09:23:58.486264Z"
    },
    "hidden": true
   },
   "outputs": [
    {
     "data": {
      "text/plain": [
       "Text(0.5, 1.0, 'Feature Importance')"
      ]
     },
     "execution_count": 156,
     "metadata": {},
     "output_type": "execute_result"
    },
    {
     "data": {
      "image/png": "[encoded data removed]",
      "text/plain": [
       "<Figure size 1296x432 with 1 Axes>"
      ]
     },
     "metadata": {
      "needs_background": "light"
     },
     "output_type": "display_data"
    }
   ],
   "source": [
    "# Finally, look at the feature importance\n",
    "importance = pd.Series(np.abs(ridge.coef_.ravel()))\n",
    "importance.index = feats\n",
    "importance.sort_values(inplace=True, ascending=False)\n",
    "importance.plot.bar(figsize=(18, 6))\n",
    "plt.ylabel('Ridge Coefficients')\n",
    "plt.title('Feature Importance')"
   ]
  }
 ],
 "metadata": {
  "kernelspec": {
   "display_name": "Python 3",
   "language": "python",
   "name": "python3"
  },
  "language_info": {
   "codemirror_mode": {
    "name": "ipython",
    "version": 3
   },
   "file_extension": ".py",
   "mimetype": "text/x-python",
   "name": "python",
   "nbconvert_exporter": "python",
   "pygments_lexer": "ipython3",
   "version": "3.7.3"
  },
  "notify_time": "30",
  "toc": {
   "base_numbering": 1,
   "nav_menu": {},
   "number_sections": true,
   "sideBar": true,
   "skip_h1_title": false,
   "title_cell": "Table of Contents",
   "title_sidebar": "Contents",
   "toc_cell": false,
   "toc_position": {
    "height": "calc(100% - 180px)",
    "left": "10px",
    "top": "150px",
    "width": "256px"
   },
   "toc_section_display": true,
   "toc_window_display": true
  },
  "varInspector": {
   "cols": {
    "lenName": 16,
    "lenType": 16,
    "lenVar": 40
   },
   "kernels_config": {
    "python": {
     "delete_cmd_postfix": "",
     "delete_cmd_prefix": "del ",
     "library": "var_list.py",
     "varRefreshCmd": "print(var_dic_list())"
    },
    "r": {
     "delete_cmd_postfix": ") ",
     "delete_cmd_prefix": "rm(",
     "library": "var_list.r",
     "varRefreshCmd": "cat(var_dic_list()) "
    }
   },
   "types_to_exclude": [
    "module",
    "function",
    "builtin_function_or_method",
    "instance",
    "_Feature"
   ],
   "window_display": false
  }
 },
 "nbformat": 4,
 "nbformat_minor": 2
}
